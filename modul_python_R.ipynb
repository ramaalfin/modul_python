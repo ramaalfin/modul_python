{
  "nbformat": 4,
  "nbformat_minor": 0,
  "metadata": {
    "colab": {
      "name": "modul_python_R.ipynb",
      "provenance": [],
      "collapsed_sections": [],
      "authorship_tag": "ABX9TyNnsqWn7RbX1JYx6aNLM0J4",
      "include_colab_link": true
    },
    "kernelspec": {
      "name": "python3",
      "display_name": "Python 3"
    },
    "language_info": {
      "name": "python"
    }
  },
  "cells": [
    {
      "cell_type": "markdown",
      "metadata": {
        "id": "view-in-github",
        "colab_type": "text"
      },
      "source": [
        "<a href=\"https://colab.research.google.com/github/ramaalfin/modul_python/blob/master/modul_python_R.ipynb\" target=\"_parent\"><img src=\"https://colab.research.google.com/assets/colab-badge.svg\" alt=\"Open In Colab\"/></a>"
      ]
    },
    {
      "cell_type": "code",
      "execution_count": null,
      "metadata": {
        "colab": {
          "base_uri": "https://localhost:8080/"
        },
        "id": "fP0P5HFZomrF",
        "outputId": "5d57efe7-511c-4dc3-eaf8-e39ed31e9c14"
      },
      "outputs": [
        {
          "output_type": "stream",
          "name": "stdout",
          "text": [
            "contoh string yang dibuat menggunakan kutip satu\n"
          ]
        }
      ],
      "source": [
        "print('contoh string yang dibuat menggunakan kutip satu')"
      ]
    },
    {
      "cell_type": "code",
      "source": [
        "print(\"contoh string yang dibuat menggunakan kutip dua\")"
      ],
      "metadata": {
        "colab": {
          "base_uri": "https://localhost:8080/"
        },
        "id": "_SfhZ-4epEw8",
        "outputId": "21f05216-f049-414d-ffad-b8abb8b02153"
      },
      "execution_count": null,
      "outputs": [
        {
          "output_type": "stream",
          "name": "stdout",
          "text": [
            "contoh string yang dibuat menggunakan kutip dua\n"
          ]
        }
      ]
    },
    {
      "cell_type": "code",
      "source": [
        "'ini adalah string tanpa menggunakan print() - 1'"
      ],
      "metadata": {
        "colab": {
          "base_uri": "https://localhost:8080/",
          "height": 35
        },
        "id": "AuvE0_MipGw_",
        "outputId": "a6bca2b6-d65a-4ecf-ac21-474fd30d9990"
      },
      "execution_count": null,
      "outputs": [
        {
          "output_type": "execute_result",
          "data": {
            "text/plain": [
              "'ini adalah string tanpa menggunakan print() - 1'"
            ],
            "application/vnd.google.colaboratory.intrinsic+json": {
              "type": "string"
            }
          },
          "metadata": {},
          "execution_count": 281
        }
      ]
    },
    {
      "cell_type": "code",
      "source": [
        "\"ini adalah string tanpa menggunakan print() - 2\""
      ],
      "metadata": {
        "colab": {
          "base_uri": "https://localhost:8080/",
          "height": 35
        },
        "id": "qA9vdGXfpKUp",
        "outputId": "db808357-5165-405e-a553-a8113104a3ba"
      },
      "execution_count": null,
      "outputs": [
        {
          "output_type": "execute_result",
          "data": {
            "text/plain": [
              "'ini adalah string tanpa menggunakan print() - 2'"
            ],
            "application/vnd.google.colaboratory.intrinsic+json": {
              "type": "string"
            }
          },
          "metadata": {},
          "execution_count": 282
        }
      ]
    },
    {
      "cell_type": "code",
      "source": [
        "print(\"\")"
      ],
      "metadata": {
        "colab": {
          "base_uri": "https://localhost:8080/"
        },
        "id": "U9YRDpsppYHJ",
        "outputId": "fb3ee1fe-0887-4d0f-b12c-4b42472f10f0"
      },
      "execution_count": null,
      "outputs": [
        {
          "output_type": "stream",
          "name": "stdout",
          "text": [
            "\n"
          ]
        }
      ]
    },
    {
      "cell_type": "code",
      "source": [
        "print('')"
      ],
      "metadata": {
        "colab": {
          "base_uri": "https://localhost:8080/"
        },
        "id": "Rax4yAJ7pavV",
        "outputId": "c828baba-c736-4d0e-ccea-c62a713869bd"
      },
      "execution_count": null,
      "outputs": [
        {
          "output_type": "stream",
          "name": "stdout",
          "text": [
            "\n"
          ]
        }
      ]
    },
    {
      "cell_type": "code",
      "source": [
        "\"\"\n"
      ],
      "metadata": {
        "colab": {
          "base_uri": "https://localhost:8080/",
          "height": 35
        },
        "id": "5RUdrhs8pdro",
        "outputId": "e4aad6d2-5b6e-4db5-91d1-23f30d8cdf98"
      },
      "execution_count": null,
      "outputs": [
        {
          "output_type": "execute_result",
          "data": {
            "text/plain": [
              "''"
            ],
            "application/vnd.google.colaboratory.intrinsic+json": {
              "type": "string"
            }
          },
          "metadata": {},
          "execution_count": 285
        }
      ]
    },
    {
      "cell_type": "code",
      "source": [
        "''"
      ],
      "metadata": {
        "colab": {
          "base_uri": "https://localhost:8080/",
          "height": 35
        },
        "id": "QTRzF1b4pe_S",
        "outputId": "255f039f-edb3-4c99-dcf6-6baccc0c7017"
      },
      "execution_count": null,
      "outputs": [
        {
          "output_type": "execute_result",
          "data": {
            "text/plain": [
              "''"
            ],
            "application/vnd.google.colaboratory.intrinsic+json": {
              "type": "string"
            }
          },
          "metadata": {},
          "execution_count": 286
        }
      ]
    },
    {
      "cell_type": "code",
      "source": [
        "print('My father's clothes')"
      ],
      "metadata": {
        "colab": {
          "base_uri": "https://localhost:8080/",
          "height": 131
        },
        "id": "KCP-gy3tpgz_",
        "outputId": "246f5cad-5548-42b7-a115-fd19828845bc"
      },
      "execution_count": null,
      "outputs": [
        {
          "output_type": "error",
          "ename": "SyntaxError",
          "evalue": "ignored",
          "traceback": [
            "\u001b[0;36m  File \u001b[0;32m\"<ipython-input-287-f7e201236867>\"\u001b[0;36m, line \u001b[0;32m1\u001b[0m\n\u001b[0;31m    print('My father's clothes')\u001b[0m\n\u001b[0m                     ^\u001b[0m\n\u001b[0;31mSyntaxError\u001b[0m\u001b[0;31m:\u001b[0m invalid syntax\n"
          ]
        }
      ]
    },
    {
      "cell_type": "code",
      "source": [
        "print(\"I said, \"good bye!\" \")"
      ],
      "metadata": {
        "id": "5bQgEoCPpkXm"
      },
      "execution_count": null,
      "outputs": []
    },
    {
      "cell_type": "code",
      "source": [
        "print(\"My father's clothes\")"
      ],
      "metadata": {
        "id": "omc1utrkp2pb"
      },
      "execution_count": null,
      "outputs": []
    },
    {
      "cell_type": "code",
      "source": [
        "print('I said, \"welcome!\" ')"
      ],
      "metadata": {
        "id": "GyuVe5f2p4hU"
      },
      "execution_count": null,
      "outputs": []
    },
    {
      "cell_type": "code",
      "source": [
        "print('My father\\'s clothes')"
      ],
      "metadata": {
        "id": "-ngMfceip-ET"
      },
      "execution_count": null,
      "outputs": []
    },
    {
      "cell_type": "code",
      "source": [
        "print(\"I said, \\\"good morning!\\\" \")"
      ],
      "metadata": {
        "id": "XD0VbqPcqADB"
      },
      "execution_count": null,
      "outputs": []
    },
    {
      "cell_type": "code",
      "source": [
        "print(123)"
      ],
      "metadata": {
        "id": "CaZEOvcKqENe"
      },
      "execution_count": null,
      "outputs": []
    },
    {
      "cell_type": "code",
      "source": [
        "10"
      ],
      "metadata": {
        "id": "WIM-YGeCqFRd"
      },
      "execution_count": null,
      "outputs": []
    },
    {
      "cell_type": "code",
      "source": [
        "print(-27)"
      ],
      "metadata": {
        "id": "P4R-HvhWqIOB"
      },
      "execution_count": null,
      "outputs": []
    },
    {
      "cell_type": "code",
      "source": [
        "print(0.1)"
      ],
      "metadata": {
        "id": "vARHJWIlqKcs"
      },
      "execution_count": null,
      "outputs": []
    },
    {
      "cell_type": "code",
      "source": [
        "-1.2"
      ],
      "metadata": {
        "id": "Hz2OV_JDqMOQ"
      },
      "execution_count": null,
      "outputs": []
    },
    {
      "cell_type": "code",
      "source": [
        "print(.50)"
      ],
      "metadata": {
        "id": "kFqvz7XgqNb6"
      },
      "execution_count": null,
      "outputs": []
    },
    {
      "cell_type": "code",
      "source": [
        "print(.23)"
      ],
      "metadata": {
        "id": "hdiGnN9iqQC_"
      },
      "execution_count": null,
      "outputs": []
    },
    {
      "cell_type": "code",
      "source": [
        "print(.5)"
      ],
      "metadata": {
        "id": "Sbu2GbfXqSUz"
      },
      "execution_count": null,
      "outputs": []
    },
    {
      "cell_type": "code",
      "source": [
        "print(3.)"
      ],
      "metadata": {
        "id": "V8U434wWqXA2"
      },
      "execution_count": null,
      "outputs": []
    },
    {
      "cell_type": "code",
      "source": [
        "3."
      ],
      "metadata": {
        "id": "_p3RaFGzqZzG"
      },
      "execution_count": null,
      "outputs": []
    },
    {
      "cell_type": "code",
      "source": [
        "print(1 == 2)"
      ],
      "metadata": {
        "id": "hfOyzsSOqci4"
      },
      "execution_count": null,
      "outputs": []
    },
    {
      "cell_type": "code",
      "source": [
        "1 == 2"
      ],
      "metadata": {
        "id": "OcmNP2FSqe-Y"
      },
      "execution_count": null,
      "outputs": []
    },
    {
      "cell_type": "code",
      "source": [
        "print(2 == 2)"
      ],
      "metadata": {
        "id": "wlGReLoQqggv"
      },
      "execution_count": null,
      "outputs": []
    },
    {
      "cell_type": "code",
      "source": [
        "2 == 2"
      ],
      "metadata": {
        "id": "ms9QC_-Aqi5t"
      },
      "execution_count": null,
      "outputs": []
    },
    {
      "cell_type": "code",
      "source": [
        "print(\"Dia\" == 'dia')"
      ],
      "metadata": {
        "id": "R_ikul2kqkPQ"
      },
      "execution_count": null,
      "outputs": []
    },
    {
      "cell_type": "code",
      "source": [
        "\"Dia\" == 'dia'"
      ],
      "metadata": {
        "id": "9GZh6HaHqmME"
      },
      "execution_count": null,
      "outputs": []
    },
    {
      "cell_type": "code",
      "source": [
        "print('saya' == 'saya')"
      ],
      "metadata": {
        "id": "RDD9-vD3qps7"
      },
      "execution_count": null,
      "outputs": []
    },
    {
      "cell_type": "code",
      "source": [
        "'saya' == 'saya'"
      ],
      "metadata": {
        "id": "bGQKJlKFqry1"
      },
      "execution_count": null,
      "outputs": []
    },
    {
      "cell_type": "code",
      "source": [
        "type(1)"
      ],
      "metadata": {
        "id": "cRV-X8e_qvN9"
      },
      "execution_count": null,
      "outputs": []
    },
    {
      "cell_type": "code",
      "source": [
        "type(-1)"
      ],
      "metadata": {
        "id": "O6zX0ok4qwHJ"
      },
      "execution_count": null,
      "outputs": []
    },
    {
      "cell_type": "code",
      "source": [
        "type(0.1)"
      ],
      "metadata": {
        "id": "J7SMxAb1qx0p"
      },
      "execution_count": null,
      "outputs": []
    },
    {
      "cell_type": "code",
      "source": [
        "type('ini buku')"
      ],
      "metadata": {
        "id": "d3BP1TONqzoe"
      },
      "execution_count": null,
      "outputs": []
    },
    {
      "cell_type": "code",
      "source": [
        "type(1 == 2)"
      ],
      "metadata": {
        "id": "Fl9EIH_Nq1mq"
      },
      "execution_count": null,
      "outputs": []
    },
    {
      "cell_type": "code",
      "source": [
        "type(False)"
      ],
      "metadata": {
        "id": "Dn2Sirneq3KY"
      },
      "execution_count": null,
      "outputs": []
    },
    {
      "cell_type": "code",
      "source": [
        "type(1)"
      ],
      "metadata": {
        "id": "om8zD1zxrImf"
      },
      "execution_count": null,
      "outputs": []
    },
    {
      "cell_type": "code",
      "source": [
        "float(1)"
      ],
      "metadata": {
        "id": "F2R3F8Q2rJaq"
      },
      "execution_count": null,
      "outputs": []
    },
    {
      "cell_type": "code",
      "source": [
        "type(float(1))"
      ],
      "metadata": {
        "id": "QYApvOrUrL-n"
      },
      "execution_count": null,
      "outputs": []
    },
    {
      "cell_type": "code",
      "source": [
        "int(2.3)"
      ],
      "metadata": {
        "id": "gAb_3tC2sUN1"
      },
      "execution_count": null,
      "outputs": []
    },
    {
      "cell_type": "code",
      "source": [
        "int(-2.7)"
      ],
      "metadata": {
        "id": "fEfjB1XlsWcA"
      },
      "execution_count": null,
      "outputs": []
    },
    {
      "cell_type": "code",
      "source": [
        "int(76.75)"
      ],
      "metadata": {
        "id": "9uwAZ-GFsXvi"
      },
      "execution_count": null,
      "outputs": []
    },
    {
      "cell_type": "code",
      "source": [
        "int('12')"
      ],
      "metadata": {
        "id": "VcoOnZgjsZri"
      },
      "execution_count": null,
      "outputs": []
    },
    {
      "cell_type": "code",
      "source": [
        "int('-1')"
      ],
      "metadata": {
        "id": "WPefB2Z1sbAG"
      },
      "execution_count": null,
      "outputs": []
    },
    {
      "cell_type": "code",
      "source": [
        "float('11.2')"
      ],
      "metadata": {
        "id": "IxNjLS0fsc3d"
      },
      "execution_count": null,
      "outputs": []
    },
    {
      "cell_type": "code",
      "source": [
        "float('-11.2')"
      ],
      "metadata": {
        "id": "y5kGgLJmsd_h"
      },
      "execution_count": null,
      "outputs": []
    },
    {
      "cell_type": "code",
      "source": [
        "int('15 derajat')"
      ],
      "metadata": {
        "id": "8xE_8WvYsguU"
      },
      "execution_count": null,
      "outputs": []
    },
    {
      "cell_type": "code",
      "source": [
        "float('1.5 dan 2.5')"
      ],
      "metadata": {
        "id": "JCZmqoJIsiKg"
      },
      "execution_count": null,
      "outputs": []
    },
    {
      "cell_type": "code",
      "source": [
        "str(123)"
      ],
      "metadata": {
        "id": "QdVKKQeisjse"
      },
      "execution_count": null,
      "outputs": []
    },
    {
      "cell_type": "code",
      "source": [
        "str(-123)"
      ],
      "metadata": {
        "id": "cEHGmcqwsk2a"
      },
      "execution_count": null,
      "outputs": []
    },
    {
      "cell_type": "code",
      "source": [
        "str(12.34)"
      ],
      "metadata": {
        "id": "jqWc83PKsmbW"
      },
      "execution_count": null,
      "outputs": []
    },
    {
      "cell_type": "code",
      "source": [
        "int(True)"
      ],
      "metadata": {
        "id": "Z0LmugGmsnhq"
      },
      "execution_count": null,
      "outputs": []
    },
    {
      "cell_type": "code",
      "source": [
        "int(False)"
      ],
      "metadata": {
        "id": "aNrhIkKnsoK5"
      },
      "execution_count": null,
      "outputs": []
    },
    {
      "cell_type": "code",
      "source": [
        "float(True)"
      ],
      "metadata": {
        "id": "UMR0TTm7sqan"
      },
      "execution_count": null,
      "outputs": []
    },
    {
      "cell_type": "code",
      "source": [
        "float(False)"
      ],
      "metadata": {
        "id": "J-Stsd_Usq8X"
      },
      "execution_count": null,
      "outputs": []
    },
    {
      "cell_type": "code",
      "source": [
        "bool(1)"
      ],
      "metadata": {
        "id": "qCAPyYltstDN"
      },
      "execution_count": null,
      "outputs": []
    },
    {
      "cell_type": "code",
      "source": [
        "bool(0)"
      ],
      "metadata": {
        "id": "yIjBeI3Os4iI"
      },
      "execution_count": null,
      "outputs": []
    },
    {
      "cell_type": "code",
      "source": [
        "bool(1.0)"
      ],
      "metadata": {
        "id": "eJLgp8w3s6Rh"
      },
      "execution_count": null,
      "outputs": []
    },
    {
      "cell_type": "code",
      "source": [
        "bool(0.0)"
      ],
      "metadata": {
        "id": "3Ck3qU8ys8BO"
      },
      "execution_count": null,
      "outputs": []
    },
    {
      "cell_type": "markdown",
      "source": [
        "EKSPRESI"
      ],
      "metadata": {
        "id": "zg6OBMlrtDQx"
      }
    },
    {
      "cell_type": "code",
      "source": [
        "12 + 23"
      ],
      "metadata": {
        "id": "BFe_ghMktB3G"
      },
      "execution_count": null,
      "outputs": []
    },
    {
      "cell_type": "code",
      "source": [
        "12 + 34 + 45"
      ],
      "metadata": {
        "id": "ESU6XOSxufXQ"
      },
      "execution_count": null,
      "outputs": []
    },
    {
      "cell_type": "code",
      "source": [
        "x = 10"
      ],
      "metadata": {
        "id": "4YBOOgqhuiz_"
      },
      "execution_count": null,
      "outputs": []
    },
    {
      "cell_type": "code",
      "source": [
        "y = 20"
      ],
      "metadata": {
        "id": "yGdY5MTQutDz"
      },
      "execution_count": null,
      "outputs": []
    },
    {
      "cell_type": "code",
      "source": [
        "x + y # Ekspresi penjumlahan dengan operand berupa variabel"
      ],
      "metadata": {
        "colab": {
          "base_uri": "https://localhost:8080/",
          "height": 166
        },
        "id": "uLNJWve8uuuo",
        "outputId": "3bc3d4de-21a6-486c-c896-ea10b5087791"
      },
      "execution_count": null,
      "outputs": [
        {
          "output_type": "error",
          "ename": "TypeError",
          "evalue": "ignored",
          "traceback": [
            "\u001b[0;31m---------------------------------------------------------------------------\u001b[0m",
            "\u001b[0;31mTypeError\u001b[0m                                 Traceback (most recent call last)",
            "\u001b[0;32m<ipython-input-288-4b3fcf75fe3d>\u001b[0m in \u001b[0;36m<module>\u001b[0;34m()\u001b[0m\n\u001b[0;32m----> 1\u001b[0;31m \u001b[0mx\u001b[0m \u001b[0;34m+\u001b[0m \u001b[0my\u001b[0m \u001b[0;31m# Ekspresi penjumlahan dengan operand berupa variabel\u001b[0m\u001b[0;34m\u001b[0m\u001b[0;34m\u001b[0m\u001b[0m\n\u001b[0m",
            "\u001b[0;31mTypeError\u001b[0m: can only concatenate str (not \"list\") to str"
          ]
        }
      ]
    },
    {
      "cell_type": "code",
      "source": [
        "x + y + 25 # Ekspresi penjumlahan dengan operand berupa variabel dan angka "
      ],
      "metadata": {
        "id": "i-dE2Cs7u4cW"
      },
      "execution_count": null,
      "outputs": []
    },
    {
      "cell_type": "code",
      "source": [
        "10 - 5"
      ],
      "metadata": {
        "id": "_I4IsuU3u7es"
      },
      "execution_count": null,
      "outputs": []
    },
    {
      "cell_type": "code",
      "source": [
        "100 - 25 -10"
      ],
      "metadata": {
        "id": "4ply5X0yu8sr"
      },
      "execution_count": null,
      "outputs": []
    },
    {
      "cell_type": "code",
      "source": [
        "x = 20"
      ],
      "metadata": {
        "id": "hRpvFRE-u-7c"
      },
      "execution_count": null,
      "outputs": []
    },
    {
      "cell_type": "code",
      "source": [
        "y = 10"
      ],
      "metadata": {
        "id": "FedeFEGdvBYV"
      },
      "execution_count": null,
      "outputs": []
    },
    {
      "cell_type": "code",
      "source": [
        "x - y # Ekspresi pengurangan dengan operand berupa variabel"
      ],
      "metadata": {
        "id": "YwFvHlAkvDkG"
      },
      "execution_count": null,
      "outputs": []
    },
    {
      "cell_type": "code",
      "source": [
        "x - y - 2 # Ekspresi pengurangan dengan operand berupa variabel dan angka "
      ],
      "metadata": {
        "id": "FLNNlz7avJKY"
      },
      "execution_count": null,
      "outputs": []
    },
    {
      "cell_type": "code",
      "source": [
        "2 * 2"
      ],
      "metadata": {
        "id": "bptntu_6vKQi"
      },
      "execution_count": null,
      "outputs": []
    },
    {
      "cell_type": "code",
      "source": [
        "2 * 2 * 5"
      ],
      "metadata": {
        "id": "wa6TqZZ3vLnT"
      },
      "execution_count": null,
      "outputs": []
    },
    {
      "cell_type": "code",
      "source": [
        "x = 20\n",
        "y = 10\n",
        "x * y"
      ],
      "metadata": {
        "id": "iLTDfhZOvNwU"
      },
      "execution_count": null,
      "outputs": []
    },
    {
      "cell_type": "code",
      "source": [
        "x * 5 # Ekspresi perkalian dengan operand berupa variabel"
      ],
      "metadata": {
        "id": "V4QC4bd8vcsw"
      },
      "execution_count": null,
      "outputs": []
    },
    {
      "cell_type": "code",
      "source": [
        "10 / 2"
      ],
      "metadata": {
        "id": "Tz38n4MdvhPW"
      },
      "execution_count": null,
      "outputs": []
    },
    {
      "cell_type": "code",
      "source": [
        "10 / 2 /5"
      ],
      "metadata": {
        "id": "BT16pkcbviSv"
      },
      "execution_count": null,
      "outputs": []
    },
    {
      "cell_type": "code",
      "source": [
        "x = 20\n",
        "y = 10 \n",
        "x / y # Ekspresi modulo dengan operand berupa variabel dan angka "
      ],
      "metadata": {
        "id": "jw8jKjzavjuA"
      },
      "execution_count": null,
      "outputs": []
    },
    {
      "cell_type": "code",
      "source": [
        "x / 5 # Ekspresi pembagian dengan operand berupa variabel dan angka"
      ],
      "metadata": {
        "id": "PeD_jg-avqI_"
      },
      "execution_count": null,
      "outputs": []
    },
    {
      "cell_type": "code",
      "source": [
        "10 % 2"
      ],
      "metadata": {
        "id": "ks5Lx9d-vrmy"
      },
      "execution_count": null,
      "outputs": []
    },
    {
      "cell_type": "code",
      "source": [
        "10 % 4"
      ],
      "metadata": {
        "id": "__A3q6pCvsMx"
      },
      "execution_count": null,
      "outputs": []
    },
    {
      "cell_type": "code",
      "source": [
        "x = 20 \n",
        "y = 10 \n",
        "x % y # Ekspresi modulo dengan operand berupa variabel"
      ],
      "metadata": {
        "id": "Y74F-E8Wvzjq"
      },
      "execution_count": null,
      "outputs": []
    },
    {
      "cell_type": "code",
      "source": [
        "x % 3 # Ekspresi modulo dengan operand berupa variabel dan angka "
      ],
      "metadata": {
        "id": "Q4ZBWHW_v4Tm"
      },
      "execution_count": null,
      "outputs": []
    },
    {
      "cell_type": "code",
      "source": [
        "10 // 4"
      ],
      "metadata": {
        "id": "owoku5Cbv7L3"
      },
      "execution_count": null,
      "outputs": []
    },
    {
      "cell_type": "code",
      "source": [
        "20 // 5"
      ],
      "metadata": {
        "id": "C2hHitIQv7wA"
      },
      "execution_count": null,
      "outputs": []
    },
    {
      "cell_type": "code",
      "source": [
        "x = 20 \n",
        "y = 10 \n",
        "x // y"
      ],
      "metadata": {
        "id": "unR84wfUv-hl"
      },
      "execution_count": null,
      "outputs": []
    },
    {
      "cell_type": "code",
      "source": [
        "9 // 4"
      ],
      "metadata": {
        "id": "pEMYNUBiwA7-"
      },
      "execution_count": null,
      "outputs": []
    },
    {
      "cell_type": "code",
      "source": [
        "9 // -4"
      ],
      "metadata": {
        "id": "He8671k8wJB4"
      },
      "execution_count": null,
      "outputs": []
    },
    {
      "cell_type": "code",
      "source": [
        "2 ** 3 # Dua pangkat Tiga"
      ],
      "metadata": {
        "id": "bIue_5d5wKi3"
      },
      "execution_count": null,
      "outputs": []
    },
    {
      "cell_type": "code",
      "source": [
        "x = 10\n",
        "y = 2\n",
        "x ** y # x pangkat y"
      ],
      "metadata": {
        "id": "wldgj5FcwMn-"
      },
      "execution_count": null,
      "outputs": []
    },
    {
      "cell_type": "code",
      "source": [
        "x ** 3"
      ],
      "metadata": {
        "id": "-73ZBGtkwemq"
      },
      "execution_count": null,
      "outputs": []
    },
    {
      "cell_type": "code",
      "source": [
        "5 ** y"
      ],
      "metadata": {
        "id": "BTIhwQfGwfRs"
      },
      "execution_count": null,
      "outputs": []
    },
    {
      "cell_type": "code",
      "source": [
        "(10 + 15) * 8 / 4"
      ],
      "metadata": {
        "id": "Ry9Tjclawie_"
      },
      "execution_count": null,
      "outputs": []
    },
    {
      "cell_type": "code",
      "source": [
        "20 / (4 - 2)"
      ],
      "metadata": {
        "id": "wU0gNR28wjua"
      },
      "execution_count": null,
      "outputs": []
    },
    {
      "cell_type": "code",
      "source": [
        "20 / 4 - 2"
      ],
      "metadata": {
        "id": "HhFgJasEwk31"
      },
      "execution_count": null,
      "outputs": []
    },
    {
      "cell_type": "code",
      "source": [
        "a = 10 \n",
        "b = 2 \n",
        "c = 3 \n",
        "(a + b) * c"
      ],
      "metadata": {
        "id": "Zq5q2zbfwm4x"
      },
      "execution_count": null,
      "outputs": []
    },
    {
      "cell_type": "code",
      "source": [
        "a + b * c"
      ],
      "metadata": {
        "id": "YfZmsmaswrU9"
      },
      "execution_count": null,
      "outputs": []
    },
    {
      "cell_type": "markdown",
      "source": [
        "List"
      ],
      "metadata": {
        "id": "2ilxiiAfwuut"
      }
    },
    {
      "cell_type": "code",
      "source": [
        "x = [1, 2, 3] \n",
        "print(x)"
      ],
      "metadata": {
        "id": "h1W1yAWRwwqO"
      },
      "execution_count": null,
      "outputs": []
    },
    {
      "cell_type": "code",
      "source": [
        "vegetables = ['carrot', 'cucumber', 'potato']\n",
        "print(vegetables)"
      ],
      "metadata": {
        "id": "NuvyCXtTwzrY"
      },
      "execution_count": null,
      "outputs": []
    },
    {
      "cell_type": "code",
      "source": [
        "y = ['Doe', 21, False, 2.1]\n",
        "print(y)"
      ],
      "metadata": {
        "id": "DMUfWHfVw2lL"
      },
      "execution_count": null,
      "outputs": []
    },
    {
      "cell_type": "code",
      "source": [
        "vegetables = ['carrot', 'cucumber', 'potato'] \n",
        "vegetables[1]"
      ],
      "metadata": {
        "id": "tCTUKWyZw4wB"
      },
      "execution_count": null,
      "outputs": []
    },
    {
      "cell_type": "code",
      "source": [
        "vegetables[-1]"
      ],
      "metadata": {
        "id": "ESTWlPLLw-I2"
      },
      "execution_count": null,
      "outputs": []
    },
    {
      "cell_type": "code",
      "source": [
        "print(vegetables[2])"
      ],
      "metadata": {
        "id": "6nnHSluYw_1P"
      },
      "execution_count": null,
      "outputs": []
    },
    {
      "cell_type": "code",
      "source": [
        "vegetables = ['carrot', 'cucumber', 'spinach','cabbage','beans'] \n",
        "vegetables[0:3]"
      ],
      "metadata": {
        "id": "IGK-7SJFxDwx"
      },
      "execution_count": null,
      "outputs": []
    },
    {
      "cell_type": "code",
      "source": [
        "vegetables[0:1]"
      ],
      "metadata": {
        "id": "7tQ0S0ptxI6p"
      },
      "execution_count": null,
      "outputs": []
    },
    {
      "cell_type": "code",
      "source": [
        "print(vegetables[2:4])"
      ],
      "metadata": {
        "id": "ebiMeRZFxOPy"
      },
      "execution_count": null,
      "outputs": []
    },
    {
      "cell_type": "code",
      "source": [
        "vegetables = ['carrot', 'cucumber', 'spinach','cabbage','beans'] "
      ],
      "metadata": {
        "id": "Hgp2hLWtxU3J"
      },
      "execution_count": null,
      "outputs": []
    },
    {
      "cell_type": "code",
      "source": [
        "vegetables[::4]"
      ],
      "metadata": {
        "id": "hBNr3kx2xWN9"
      },
      "execution_count": null,
      "outputs": []
    },
    {
      "cell_type": "code",
      "source": [
        "vegetables[0::3]"
      ],
      "metadata": {
        "id": "OeJ1NT1MxXKR"
      },
      "execution_count": null,
      "outputs": []
    },
    {
      "cell_type": "code",
      "source": [
        "vegetables [1:2:2]"
      ],
      "metadata": {
        "id": "M0FzHLqCxadt"
      },
      "execution_count": null,
      "outputs": []
    },
    {
      "cell_type": "code",
      "source": [
        "a = [[1, 2], [3,4], [5,6]] \n",
        "a"
      ],
      "metadata": {
        "id": "EcMxFjzxxcxD"
      },
      "execution_count": null,
      "outputs": []
    },
    {
      "cell_type": "code",
      "source": [
        "b = [1, 'carrot', ['x', 'y'], 10.5, [10, 30]] \n",
        "print(b)"
      ],
      "metadata": {
        "id": "fZ-XymUNxf2B"
      },
      "execution_count": null,
      "outputs": []
    },
    {
      "cell_type": "code",
      "source": [
        "b = [1, 'carrot', ['x', 'y'], 10.5, [10, 30]] \n",
        "b[4][1]\n"
      ],
      "metadata": {
        "id": "kc8HDmrjxh5C"
      },
      "execution_count": null,
      "outputs": []
    },
    {
      "cell_type": "code",
      "source": [
        "b[4][0]"
      ],
      "metadata": {
        "id": "gbDxusTjxp4s"
      },
      "execution_count": null,
      "outputs": []
    },
    {
      "cell_type": "code",
      "source": [
        "b[2][1]"
      ],
      "metadata": {
        "id": "mYVE9Bh8xrpX"
      },
      "execution_count": null,
      "outputs": []
    },
    {
      "cell_type": "code",
      "source": [
        "b[2][0]"
      ],
      "metadata": {
        "id": "itnNeGm0xuEw"
      },
      "execution_count": null,
      "outputs": []
    },
    {
      "cell_type": "code",
      "source": [
        "vegetables = ['carrot', 'cucumber', 'spinach','cabbage','beans'] \n",
        "vegetables"
      ],
      "metadata": {
        "id": "G47edUn8xw2V"
      },
      "execution_count": null,
      "outputs": []
    },
    {
      "cell_type": "code",
      "source": [
        "vegetables[3] = 'brocoli' # Mengubah isi indeks 3 menjadi 'brocoli' \n",
        "vegetables "
      ],
      "metadata": {
        "id": "obZuEHcIxy3R"
      },
      "execution_count": null,
      "outputs": []
    },
    {
      "cell_type": "code",
      "source": [
        "vegetables[3] = 'brocoli' # Mengubah isi indeks 3 menjadi 'brocoli' \n",
        "vegetables "
      ],
      "metadata": {
        "id": "Dck_hvGKx14k"
      },
      "execution_count": null,
      "outputs": []
    },
    {
      "cell_type": "code",
      "source": [
        "# Menambahkan nilai 1 dan 2 pada akhir list vegetables \n",
        "vegetables = ['carrot', 'asparagus', 'spinach','brocoli','beans']\n",
        "vegetables = vegetables + [1, 2] \n",
        "vegetables"
      ],
      "metadata": {
        "id": "ZdiwidsgyKWk"
      },
      "execution_count": null,
      "outputs": []
    },
    {
      "cell_type": "code",
      "source": [
        "# Menambahkan 'cabbage' pada awal list vegetables \n",
        "vegetables = ['cabbage'] + vegetables \n",
        "print(vegetables )"
      ],
      "metadata": {
        "id": "XV2mya4ryMl0"
      },
      "execution_count": null,
      "outputs": []
    },
    {
      "cell_type": "code",
      "source": [
        "vegetables = ['carrot', 'asparagus', 'spinach','brocoli','beans']\n",
        "vegetables.append('cabbage')\n",
        "vegetables"
      ],
      "metadata": {
        "id": "ca7fhMpoyT2Y"
      },
      "execution_count": null,
      "outputs": []
    },
    {
      "cell_type": "code",
      "source": [
        "vegetables = ['carrot', 'asparagus', 'spinach','brocoli','beans']\n",
        "a = vegetables.append('cabbage')\n",
        "a"
      ],
      "metadata": {
        "id": "j5psUrM2yayt"
      },
      "execution_count": null,
      "outputs": []
    },
    {
      "cell_type": "code",
      "source": [
        "vegetables = ['carrot', 'asparagus', 'spinach','brocoli','beans']\n",
        "vegetables.extend('cabbage')\n",
        "print(vegetables)"
      ],
      "metadata": {
        "id": "x3YCIMLjzDX2"
      },
      "execution_count": null,
      "outputs": []
    },
    {
      "cell_type": "code",
      "source": [
        "vegetables = ['carrot', 'asparagus', 'spinach','brocoli','beans']\n",
        "vegetables.extend(['cabbage'])\n",
        "print(vegetables)"
      ],
      "metadata": {
        "id": "JSC8xlExzFUw"
      },
      "execution_count": null,
      "outputs": []
    },
    {
      "cell_type": "code",
      "source": [
        "vegetables = ['carrot', 'asparagus', 'spinach','brocoli','beans']\n",
        "vegetables.insert(1, 'cabbage')\n",
        "print(vegetables)"
      ],
      "metadata": {
        "id": "LCOGgvzwzNhg"
      },
      "execution_count": null,
      "outputs": []
    },
    {
      "cell_type": "code",
      "source": [
        "vegetables = ['carrot', 'asparagus', 'spinach','brocoli','beans']\n",
        "del vegetables[2]\n",
        "vegetables"
      ],
      "metadata": {
        "id": "2n5Qkj7azPaz"
      },
      "execution_count": null,
      "outputs": []
    },
    {
      "cell_type": "code",
      "source": [
        "vegetables = ['carrot', 'asparagus', 'spinach','brocoli','beans']\n",
        "vegetables.remove('brocoli')\n",
        "vegetables"
      ],
      "metadata": {
        "id": "sn7J6-H3zSRp"
      },
      "execution_count": null,
      "outputs": []
    },
    {
      "cell_type": "code",
      "source": [
        "vegetables = ['carrot', 'asparagus', 'spinach','brocoli','beans']\n",
        "vegetables.pop(2)\n",
        "vegetables"
      ],
      "metadata": {
        "id": "BnyZinm_zWIH"
      },
      "execution_count": null,
      "outputs": []
    },
    {
      "cell_type": "code",
      "source": [
        "vegetables = ['carrot', 'asparagus', 'spinach','brocoli','beans']\n",
        "vegetables.pop()\n",
        "vegetables"
      ],
      "metadata": {
        "id": "5ikHvWh5zYEj"
      },
      "execution_count": null,
      "outputs": []
    },
    {
      "cell_type": "markdown",
      "source": [
        "Dictionary"
      ],
      "metadata": {
        "id": "hSkZFmdJzanv"
      }
    },
    {
      "cell_type": "code",
      "source": [
        "a = {1: 'a', 2: 'b', (3,4): 'c'}\n",
        "a"
      ],
      "metadata": {
        "id": "fP79j5gJzdjp"
      },
      "execution_count": null,
      "outputs": []
    },
    {
      "cell_type": "code",
      "source": [
        "data_siswa = {\n",
        "    'nama': 'Ira',\n",
        "    'kota': 'Bogor',\n",
        "    'umur': 20\n",
        "    }\n",
        "data_siswa"
      ],
      "metadata": {
        "id": "ehOvhjmUzgaB"
      },
      "execution_count": null,
      "outputs": []
    },
    {
      "cell_type": "code",
      "source": [
        "data_siswa = {\n",
        "    'nama': 'Ira',\n",
        "    'kota': 'Bogor',\n",
        "    'umur': 20\n",
        "    }\n",
        "data_siswa['nama'] # Mengakses value dengan key 'nama'"
      ],
      "metadata": {
        "id": "KirGHZE9zjt8"
      },
      "execution_count": null,
      "outputs": []
    },
    {
      "cell_type": "code",
      "source": [
        "data_siswa['kota']"
      ],
      "metadata": {
        "id": "O1KgF2E1zsF7"
      },
      "execution_count": null,
      "outputs": []
    },
    {
      "cell_type": "code",
      "source": [
        "data_siswa.get('nama')"
      ],
      "metadata": {
        "id": "4AIEjHWgztsK"
      },
      "execution_count": null,
      "outputs": []
    },
    {
      "cell_type": "code",
      "source": [
        "data_siswa.get('kota')"
      ],
      "metadata": {
        "id": "ztckB9_fzutX"
      },
      "execution_count": null,
      "outputs": []
    },
    {
      "cell_type": "code",
      "source": [
        "data_siswa.values()"
      ],
      "metadata": {
        "id": "cKq_ZHLlz1Ta"
      },
      "execution_count": null,
      "outputs": []
    },
    {
      "cell_type": "code",
      "source": [
        "data_siswa.keys()"
      ],
      "metadata": {
        "id": "Xa1L8jIiz10F"
      },
      "execution_count": null,
      "outputs": []
    },
    {
      "cell_type": "code",
      "source": [
        "[*data_siswa]"
      ],
      "metadata": {
        "id": "dJB26oWnz4e0"
      },
      "execution_count": null,
      "outputs": []
    },
    {
      "cell_type": "code",
      "source": [
        "students = {'student1': {'name': 'Doe', 'age': 30},\n",
        "            'student2': {'name': 'Robert', 'age': 31},\n",
        "            'student3': {'name': 'Andy', 'age': 33}\n",
        "            }\n",
        "students "
      ],
      "metadata": {
        "id": "18cnDqMDz7Jm"
      },
      "execution_count": null,
      "outputs": []
    },
    {
      "cell_type": "code",
      "source": [
        "student1 = {'name': 'Doe', 'age': 30}\n",
        "student2 = {'name': 'Robert', 'age': 31}\n",
        "student3 = {'name': 'Andy', 'age': 33}\n",
        "\n",
        "students= {\n",
        " 'student1': student1,\n",
        " 'student2': student2,\n",
        " 'student3': student3\n",
        "}\n",
        "students"
      ],
      "metadata": {
        "id": "88OFuWYv0ZCU"
      },
      "execution_count": null,
      "outputs": []
    },
    {
      "cell_type": "code",
      "source": [
        "data_siswa = {\n",
        "    'nama': 'Ira',\n",
        "    'kota': 'Bogor', \n",
        "    'umur': 20\n",
        "}\n",
        "data_siswa['kota'] = 'Bandung' # Mengubah data kota\n",
        "data_siswa"
      ],
      "metadata": {
        "id": "mdXaeUsG025r"
      },
      "execution_count": null,
      "outputs": []
    },
    {
      "cell_type": "code",
      "source": [
        "data_siswa['umur'] = 21 # Mengubah data umur\n",
        "data_siswa "
      ],
      "metadata": {
        "id": "nzYSdkIg1AU7"
      },
      "execution_count": null,
      "outputs": []
    },
    {
      "cell_type": "code",
      "source": [
        "students = {\n",
        "    'student1' : {'name': 'Doe', 'age': 30},\n",
        "    'student2' : {'name': 'Robert', 'age': 31},\n",
        "    'student3' : {'name': 'Andi', 'age': 32}\n",
        "    }\n",
        "    \n",
        "students['student3']['age'] = 34 # Mengubah nilai age\n",
        "students"
      ],
      "metadata": {
        "id": "0q9PsHQk1Eez"
      },
      "execution_count": null,
      "outputs": []
    },
    {
      "cell_type": "code",
      "source": [
        "data_siswa = {\n",
        "    'nama': 'Ira',\n",
        "    'kota': 'Bogor',\n",
        "    'umur': 20\n",
        "}\n",
        "data_siswa ['jurusan'] = 'Teknik Informatika' # Menambahkan key 'jurusan' yang diberikan nilai 'Teknik Informatika'\n",
        "data_siswa"
      ],
      "metadata": {
        "id": "MACyy78e1U-2"
      },
      "execution_count": null,
      "outputs": []
    },
    {
      "cell_type": "code",
      "source": [
        "data_siswa = {\n",
        "    'nama': 'Ira',\n",
        "    'kota': 'Bogor',\n",
        "    'umur': 20,\n",
        "    'jurusan':'Teknik Informatika'\n",
        "}\n",
        "data_siswa.pop('kota') # Menghapus kota\n",
        "print(data_siswa)"
      ],
      "metadata": {
        "id": "RtvYKdmx1aqR"
      },
      "execution_count": null,
      "outputs": []
    },
    {
      "cell_type": "code",
      "source": [
        "data_siswa = {\n",
        "    'nama': 'Ira',\n",
        "    'kota': 'Bogor',\n",
        "    'umur': 20,\n",
        "    'jurusan':'Teknik Informatika'\n",
        "}\n",
        "\n",
        "data_siswa.popitem() # Method popitem() akan menghapus nilai akhir\n",
        "print(data_siswa)"
      ],
      "metadata": {
        "id": "ZcKfNgEz1g6w"
      },
      "execution_count": null,
      "outputs": []
    },
    {
      "cell_type": "code",
      "source": [
        "data_siswa = {\n",
        "    'nama': 'Ira',\n",
        "    'kota': 'Bogor',\n",
        "    'umur': 20,\n",
        "    'jurusan':'Teknik Informatika'\n",
        "}\n",
        "del data_siswa['umur'] # Menghapus umurmenggunakan del\n",
        "print(data_siswa)"
      ],
      "metadata": {
        "id": "hgAAa_d51lqK"
      },
      "execution_count": null,
      "outputs": []
    },
    {
      "cell_type": "code",
      "source": [
        "data_siswa = {\n",
        "    'nama': 'Ira',\n",
        "    'kota': 'Bogor',\n",
        "    'umur': 20,\n",
        "    'jurusan':'Teknik Informatika'\n",
        "}\n",
        "del data_siswa # Menghapus dictionary data_siswa\n",
        "print(data_siswa)"
      ],
      "metadata": {
        "id": "bjK4f8oI1rFu"
      },
      "execution_count": null,
      "outputs": []
    },
    {
      "cell_type": "code",
      "source": [
        "data_siswa = {\n",
        "    'nama': 'Ira',\n",
        "    'kota': 'Bogor',\n",
        "    'umur': 20,\n",
        "    'jurusan':'Teknik Informatika'\n",
        "}\n",
        "data_siswa.clear() # Mengosongkan isi dictionary dengan clear()\n",
        "print(data_siswa)"
      ],
      "metadata": {
        "id": "udTc5ye91zQ3"
      },
      "execution_count": null,
      "outputs": []
    },
    {
      "cell_type": "code",
      "source": [
        "data_siswa = {\n",
        "    'nama': 'Ira',\n",
        "    'kota': 'Bogor',\n",
        "    'umur': 20,\n",
        "    'jurusan':'Teknik Informatika'\n",
        "}\n",
        "# Menduplikasi 'data_siswa' ke dalam dictionary baru ke dalam 'siswa'\n",
        "siswa = data_siswa.copy() \n",
        "print(siswa)"
      ],
      "metadata": {
        "id": "2H6CRN5P12oZ"
      },
      "execution_count": null,
      "outputs": []
    },
    {
      "cell_type": "code",
      "source": [
        "data_siswa = {\n",
        "    'nama': 'Ira',\n",
        "    'kota': 'Bogor',\n",
        "    'umur': 20,\n",
        "    'jurusan':'Teknik Informatika'\n",
        "}\n",
        "\n",
        "len(data_siswa) # Menghitung panjang dictionary (jumlah item)"
      ],
      "metadata": {
        "id": "2AW44khr1_hT"
      },
      "execution_count": null,
      "outputs": []
    },
    {
      "cell_type": "code",
      "source": [
        "data_siswa = {\n",
        "    'nama': 'Ira',\n",
        "    'kota': 'Bogor',\n",
        "    'umur': 20,\n",
        "    'jurusan':'Teknik Informatika'\n",
        "}\n",
        "\n",
        "'nama' in data_siswa # Mengecek apakah 'nama' ada sebagai key di data_siswa "
      ],
      "metadata": {
        "id": "8S1sHbob2DTu"
      },
      "execution_count": null,
      "outputs": []
    },
    {
      "cell_type": "code",
      "source": [
        "'hobi' in data_siswa"
      ],
      "metadata": {
        "id": "3yZyR-0h2KAG"
      },
      "execution_count": null,
      "outputs": []
    },
    {
      "cell_type": "markdown",
      "source": [
        "Seleksi Kondisi"
      ],
      "metadata": {
        "id": "srHvFMJW2MPs"
      }
    },
    {
      "cell_type": "code",
      "source": [
        "a = 2 \n",
        "a == 4 # Contoh penggunaan operator =="
      ],
      "metadata": {
        "id": "ASygm3RH2Pwd"
      },
      "execution_count": null,
      "outputs": []
    },
    {
      "cell_type": "code",
      "source": [
        "a = 2\n",
        "a != 4 # Contoh penggunaan operator !="
      ],
      "metadata": {
        "id": "i9O9v95C2RkR"
      },
      "execution_count": null,
      "outputs": []
    },
    {
      "cell_type": "code",
      "source": [
        "a = 2\n",
        "a > 4 # Contoh penggunaan operator >"
      ],
      "metadata": {
        "id": "4UYJzT-92UK5"
      },
      "execution_count": null,
      "outputs": []
    },
    {
      "cell_type": "code",
      "source": [
        "a = 2\n",
        "a < 4 # Contoh penggunaan operator <"
      ],
      "metadata": {
        "id": "m3yRjEZP2V1x"
      },
      "execution_count": null,
      "outputs": []
    },
    {
      "cell_type": "code",
      "source": [
        "a = 2\n",
        "4 > a"
      ],
      "metadata": {
        "id": "MmUA3OtF2XYq"
      },
      "execution_count": null,
      "outputs": []
    },
    {
      "cell_type": "code",
      "source": [
        "a = 2\n",
        "4 < a"
      ],
      "metadata": {
        "id": "B-Bj82z_2X4T"
      },
      "execution_count": null,
      "outputs": []
    },
    {
      "cell_type": "code",
      "source": [
        "a = 2\n",
        "a >= 4 # Contoh penggunaan operator >="
      ],
      "metadata": {
        "id": "oIMErD0b2bDG"
      },
      "execution_count": null,
      "outputs": []
    },
    {
      "cell_type": "code",
      "source": [
        "a = 2\n",
        "a <= 4 # Contoh penggunaan operator <="
      ],
      "metadata": {
        "id": "pqDbJQrD2-c6"
      },
      "execution_count": null,
      "outputs": []
    },
    {
      "cell_type": "code",
      "source": [
        "'HAI' == 'Hai' # Operator perbandingan untuk membandingkan string"
      ],
      "metadata": {
        "id": "yfhmp0Uo3AbO"
      },
      "execution_count": null,
      "outputs": []
    },
    {
      "cell_type": "code",
      "source": [
        "'HAI' != 'Hai'"
      ],
      "metadata": {
        "id": "tcP9ajCJ3DyI"
      },
      "execution_count": null,
      "outputs": []
    },
    {
      "cell_type": "code",
      "source": [
        "'B' > 'C'"
      ],
      "metadata": {
        "id": "B2ULt0ba3Hhf"
      },
      "execution_count": null,
      "outputs": []
    },
    {
      "cell_type": "code",
      "source": [
        "'C' > 'B'"
      ],
      "metadata": {
        "id": "RrQaRvX93I8U"
      },
      "execution_count": null,
      "outputs": []
    },
    {
      "cell_type": "code",
      "source": [
        ""
      ],
      "metadata": {
        "id": "eYZUQKUf3MHO"
      },
      "execution_count": null,
      "outputs": []
    },
    {
      "cell_type": "code",
      "source": [
        "voucher = 'Yes'\n",
        "# Penyataan kondisi\n",
        "if voucher == 'Yes':\n",
        "  \n",
        "  # Perintah di dalam indentasi (ditulis menjorok ke dalam) yang dieksekusi jika kondisi terpenuhi\n",
        "  print('berhasil')\n"
      ],
      "metadata": {
        "id": "zxXMqOrY3eFz"
      },
      "execution_count": null,
      "outputs": []
    },
    {
      "cell_type": "code",
      "source": [
        "voucher = 'No'\n",
        "# Penyataan kondisi\n",
        "if voucher == 'Yes':\n",
        "  \n",
        "  # Perintah yang dieksekusi jika kondisi terpenuh\n",
        "  print('berhasil')"
      ],
      "metadata": {
        "id": "vyXIANVq6_ei"
      },
      "execution_count": null,
      "outputs": []
    },
    {
      "cell_type": "code",
      "source": [
        "voucher = 'No'\n",
        "# Penyataan kondisi\n",
        "if voucher == 'Yes':\n",
        "  \n",
        "  # Perintah yang dieksekusi jika kondisi terpenuhi\n",
        "  print('berhasil')\n",
        "  \n",
        "# Perintah yang dieksekusi baik saat kondisi terpenuhi maupun tidak\n",
        "print('Selamat!')"
      ],
      "metadata": {
        "id": "4muILl7A8P7C"
      },
      "execution_count": null,
      "outputs": []
    },
    {
      "cell_type": "code",
      "source": [
        "voucher = 'Yes'\n",
        "# Penyataan kondisi\n",
        "if voucher == 'Yes':\n",
        "  \n",
        "  # Perintah yang dieksekusi jika kondisi terpenuhi\n",
        "  print('berhasil')\n",
        "  \n",
        "# Perintah yang dieksekusi baik saat kondisi terpenuhi maupun tidak\n",
        "print('Selamat !')"
      ],
      "metadata": {
        "id": "zh8IW-848hvw"
      },
      "execution_count": null,
      "outputs": []
    },
    {
      "cell_type": "code",
      "source": [
        "voucher = 'Yes'\n",
        "# Penyataan kondisi\n",
        "if voucher == 'Yes':\n",
        "  \n",
        "  # Perintah yang dieksekusi jika kondisi terpenuhi\n",
        "  print('berhasil')\n",
        "\n",
        "else:\n",
        "\t\n",
        "  # perintah yang dieksekusi jika kondisi tidak terpenuhi\n",
        "\tprint('beli voucher dahulu')\n",
        "\n",
        "print('Selamat!')"
      ],
      "metadata": {
        "id": "-27LXv9f8qEr"
      },
      "execution_count": null,
      "outputs": []
    },
    {
      "cell_type": "code",
      "source": [
        "voucher = 'No'\n",
        "# Penyataan kondisi\n",
        "if voucher == 'Yes':\n",
        "\n",
        "  # Perintah yang dieksekusi jika kondisi terpenuhi\n",
        "  print('berhasil')\n",
        "else:\n",
        "\n",
        "\t# perintah yang dieksekusi jika kondisi tidak terpenuhi\n",
        "\tprint('beli voucher dahulu')\n",
        " \n",
        "print('Selamat!')"
      ],
      "metadata": {
        "id": "j8_w8CfJ8wrn"
      },
      "execution_count": null,
      "outputs": []
    },
    {
      "cell_type": "code",
      "source": [
        "x = 2\n",
        "if (x % 2 == 1):\n",
        "  print(x, 'adalah bilangan ganjil')\n",
        "else:\n",
        "  print(x, 'adalah bilangan genap')"
      ],
      "metadata": {
        "id": "Ll4EIRPZ81cm"
      },
      "execution_count": null,
      "outputs": []
    },
    {
      "cell_type": "code",
      "source": [
        "usia = 20\n",
        "if (usia > 20):\n",
        "  print('Silahkan masuk ke ruang A')\n",
        "elif (usia == 20):\n",
        "  print('Silahkan masuk ke ruang B')\n",
        "else:\n",
        "  print('Anda tidak boleh masuk')"
      ],
      "metadata": {
        "id": "dJpiZzIc85hk"
      },
      "execution_count": null,
      "outputs": []
    },
    {
      "cell_type": "code",
      "source": [
        "biaya = 30000\n",
        "\n",
        "if (biaya > 10000):\n",
        "    biaya = biaya - (biaya * 0.15)\n",
        "    print('diskon 15%')\n",
        "  \n",
        "elif(biaya == 20000):\n",
        "    biaya = biaya - (biaya * 0.1)\n",
        "    print('diskon 10%')\n",
        " \n",
        "else:\n",
        "\t  biaya = biaya\n",
        "\n",
        "print('Total yang harus dibayar adalah Rp. {:.0f}'.format(biaya))\n",
        "print('\\nTerima kasih!')"
      ],
      "metadata": {
        "id": "EEiuV6cr8-Bd"
      },
      "execution_count": null,
      "outputs": []
    },
    {
      "cell_type": "code",
      "source": [
        "# Contoh penggunaan operator logika 'and'\n",
        "angka = 90\n",
        "if (angka>= 80):\n",
        "\t nilai = 'A'\n",
        "elif (angka>= 70 and angka< 80):\n",
        " \tnilai = 'B'\n",
        "elif (angka>= 60 and angka< 70):\n",
        " \tnilai = 'C'\n",
        "elif (angka>= 50 and angka< 60):\n",
        " \tnilai = 'D'\n",
        "elif (angka< 50):\n",
        " \tnilai = 'E'\n",
        " \n",
        "print('Nilai akhir adalah ', nilai) "
      ],
      "metadata": {
        "id": "DuJesxJ6-HtK"
      },
      "execution_count": null,
      "outputs": []
    },
    {
      "cell_type": "code",
      "source": [
        "# Contoh penggunaan operator logika 'or'\n",
        "nilai = 'B'\n",
        "if (nilai == 'A' or nilai == 'B' or nilai == 'C'):\n",
        " \tprint('Berhasil!')\n",
        "else:\n",
        " \tprint('Gagal')"
      ],
      "metadata": {
        "id": "kdqyelC1-KBo"
      },
      "execution_count": null,
      "outputs": []
    },
    {
      "cell_type": "code",
      "source": [
        "# Contoh penggunaan operator logika 'not'\n",
        "nilai = 80\n",
        "if not nilai == 85:\n",
        "\tprint('Gagal!')\n",
        "else:\n",
        "\tprint('Berhasil!')"
      ],
      "metadata": {
        "id": "YZ-wk93g-ORp"
      },
      "execution_count": null,
      "outputs": []
    },
    {
      "cell_type": "markdown",
      "source": [
        "Fungsi"
      ],
      "metadata": {
        "id": "bBow2los-QKj"
      }
    },
    {
      "cell_type": "code",
      "source": [
        "# Contoh fungsi untuk menambah nilai dengan angka 2\n",
        "def tambah_dua(a):\n",
        "\tb = a + 2\n",
        "\treturn b\n",
        "# Memanggil fungsi tambah_dua\n",
        "tambah_dua(1)"
      ],
      "metadata": {
        "id": "I_qBr6U2-RGl"
      },
      "execution_count": null,
      "outputs": []
    },
    {
      "cell_type": "code",
      "source": [
        "# Contoh fungsi perkalian dua bilangan\n",
        "def perkalian(x, y):\n",
        "\tz = x * y\n",
        "\treturn print(x, 'dikali', y, 'sama dengan ', z)\n",
        "# Memanggil fungsi perkalian\n",
        "perkalian(2,3)"
      ],
      "metadata": {
        "id": "7kyuy6sS-Wka"
      },
      "execution_count": null,
      "outputs": []
    },
    {
      "cell_type": "code",
      "source": [
        "a1 = 2\n",
        "b1 = 3\n",
        "c1 = a1 * 3 + b1 * 4\n",
        "\n",
        "if (c1 > 25):\n",
        "  c1 = c1\n",
        "else:\n",
        "  c1 = 0"
      ],
      "metadata": {
        "id": "jcAD2xhZ-Zbx"
      },
      "execution_count": null,
      "outputs": []
    },
    {
      "cell_type": "code",
      "source": [
        "a2 = 5\n",
        "b2 = 6\n",
        "c2 = a2 * 3 + b2 * 4\n",
        "\n",
        "if (c2 > 25):\n",
        "  c2 = c2\n",
        "else:\n",
        "  c2 = 0"
      ],
      "metadata": {
        "id": "lTjPbm7y-hS5"
      },
      "execution_count": null,
      "outputs": []
    },
    {
      "cell_type": "code",
      "source": [
        "# Fungsi untuk menghitung a dan b\n",
        "def hitung_ab(a, b):\n",
        "  c = a * 3 + b * 4\n",
        "  \n",
        "  if (c > 25):\n",
        "   c = c\n",
        "   \n",
        "  else:\n",
        "   c = 0\n",
        "  \n",
        "  return c"
      ],
      "metadata": {
        "id": "usSx_2Uo_BLB"
      },
      "execution_count": null,
      "outputs": []
    },
    {
      "cell_type": "code",
      "source": [
        "a1 = 2\n",
        "b1 = 3\n",
        "c1 = hitung_ab(a1, b1)\n",
        "c1"
      ],
      "metadata": {
        "id": "iwh75N7n_Z1V"
      },
      "execution_count": null,
      "outputs": []
    },
    {
      "cell_type": "code",
      "source": [
        "a2 = 5\n",
        "b2 = 4\n",
        "c2 = hitung_ab(a2, b2)\n",
        "c2"
      ],
      "metadata": {
        "id": "rUOCEdln_brd"
      },
      "execution_count": null,
      "outputs": []
    },
    {
      "cell_type": "code",
      "source": [
        "# Contoh penggunaan variabel global dan local\n",
        "kota_asal = 'Bogor'\n",
        "\n",
        "def kota(kota_asal):\n",
        "  kota_indo = kota_asal\n",
        "  print(kota_indo, 'adalah salah satu kota di Indonesia')\n",
        "kota(kota_asal)"
      ],
      "metadata": {
        "id": "iDsHk20V_ay_"
      },
      "execution_count": null,
      "outputs": []
    },
    {
      "cell_type": "code",
      "source": [
        "kota_asal = 'Bogor'\n",
        "def kota(kota_asal):\n",
        "  global kota_indo\n",
        "  kota_indo = 'Jakarta Timur'\n",
        "  print(kota_asal, 'adalah salah satu kota di Indonesia')\n",
        "  \n",
        "kota(kota_asal)\n",
        "kota(kota_indo)"
      ],
      "metadata": {
        "id": "vb-IR2Hz_wxj"
      },
      "execution_count": null,
      "outputs": []
    },
    {
      "cell_type": "code",
      "source": [
        "# Contoh fungsi dengan if...else\n",
        "def bio(nama, pelajaran, nilai):\n",
        "  print(nama, pelajaran, nilai)\n",
        "  \n",
        "  if (nilai > 75):\n",
        "    return 'Selamat Anda Lulus!'\n",
        "  else:\n",
        "    return 'Mohon Maaf, Anda Tidak Lulus!'\n",
        "\n",
        "# Panggil fungsi dan definisikan ke variabel x\n",
        "x = bio('Agus', 'Kalkulus', 85)\n",
        "print(x)"
      ],
      "metadata": {
        "id": "_gCsd5zDAJv-"
      },
      "execution_count": null,
      "outputs": []
    },
    {
      "cell_type": "code",
      "source": [
        "# Contoh fungsi dengan perulangan for\n",
        "def list_film(film):\n",
        "\t for item in film:\n",
        "\t\t print(item)\n",
        "   \n",
        "# Panggil fungsi\n",
        "list_film(['The Avengers', 'Amazing Spiderman', 'Dr. Strange'])"
      ],
      "metadata": {
        "id": "Zj48Sh1kAajB"
      },
      "execution_count": null,
      "outputs": []
    },
    {
      "cell_type": "code",
      "source": [
        "# Contoh fungsi dengan argumen default\n",
        "def nilai_akhir(nilai = 50):\n",
        "  if (nilai < 60):\n",
        "    print('Nilai = ', nilai)\n",
        "    print('Remedial!')\n",
        "  else:\n",
        "    print('Nilai = ', nilai)\n",
        "    print('Anda Lulus!')\n",
        "    \n",
        "# Memanggil fungsi dengan argument\n",
        "nilai_akhir(80)"
      ],
      "metadata": {
        "id": "Y8RDrgw0Acn7"
      },
      "execution_count": null,
      "outputs": []
    },
    {
      "cell_type": "code",
      "source": [
        "# Memanggil fungsi tanpa argument\n",
        "nilai_akhir()"
      ],
      "metadata": {
        "id": "ouz4M98FAkIP"
      },
      "execution_count": null,
      "outputs": []
    },
    {
      "cell_type": "code",
      "source": [
        "# contoh penggunaan print\n",
        "list = [10, 21, 34, 29, 56]\n",
        "print(list)"
      ],
      "metadata": {
        "id": "dk9QlO99An2l"
      },
      "execution_count": null,
      "outputs": []
    },
    {
      "cell_type": "code",
      "source": [
        "# contoh penggunaan len\n",
        "list = [10, 21, 34, 29, 56]\n",
        "len(list )"
      ],
      "metadata": {
        "id": "qGChEMS0Aqa9"
      },
      "execution_count": null,
      "outputs": []
    },
    {
      "cell_type": "code",
      "source": [
        "# contoh penggunaan sum\n",
        "list = [10, 21, 34, 29, 56]\n",
        "sum(list)"
      ],
      "metadata": {
        "id": "-h3swvcjAsiV"
      },
      "execution_count": null,
      "outputs": []
    },
    {
      "cell_type": "code",
      "source": [
        "# contoh penggunaan min\n",
        "list = [10, 21, 34, 29, 56]\n",
        "min(list)"
      ],
      "metadata": {
        "id": "J8bP3LDTAuQg"
      },
      "execution_count": null,
      "outputs": []
    },
    {
      "cell_type": "code",
      "source": [
        "# contoh penggunaan max\n",
        "list = [10, 21, 34, 29, 56]\n",
        "max(list)"
      ],
      "metadata": {
        "id": "y6tMzlxmAv_9"
      },
      "execution_count": null,
      "outputs": []
    },
    {
      "cell_type": "code",
      "source": [
        "# contoh penggunaan sorted\n",
        "list = [10, 21, 34, 29, 56]\n",
        "sorted(list)"
      ],
      "metadata": {
        "id": "COyPcyyKAxhB"
      },
      "execution_count": null,
      "outputs": []
    },
    {
      "cell_type": "code",
      "source": [
        "#  contoh penggunaan type\n",
        "list = [10, 21, 34, 29, 56]\n",
        "type(list)"
      ],
      "metadata": {
        "id": "j76A9g6eAzZO"
      },
      "execution_count": null,
      "outputs": []
    },
    {
      "cell_type": "code",
      "source": [
        "# contoh penggunaan round\n",
        "round(8.5666)"
      ],
      "metadata": {
        "id": "JkON_0krA040"
      },
      "execution_count": null,
      "outputs": []
    },
    {
      "cell_type": "code",
      "source": [
        "# contoh penggunaan round\n",
        "round(7.4)"
      ],
      "metadata": {
        "id": "z65Fz5SRA34m"
      },
      "execution_count": null,
      "outputs": []
    },
    {
      "cell_type": "code",
      "source": [
        "# contoh penggunaan abs\n",
        "abs(-20/5)"
      ],
      "metadata": {
        "id": "tNitybkNA7Ie"
      },
      "execution_count": null,
      "outputs": []
    },
    {
      "cell_type": "markdown",
      "source": [
        "Numpy 2 Dimensi"
      ],
      "metadata": {
        "id": "Atayhx9LAfBZ"
      }
    },
    {
      "cell_type": "code",
      "source": [
        "# Import numpy\n",
        "import numpy as np"
      ],
      "metadata": {
        "id": "VtbDKtvCBB_7"
      },
      "execution_count": null,
      "outputs": []
    },
    {
      "cell_type": "code",
      "source": [
        "list_a = [[1, 2, 3], [4, 5, 6], [7, 8, 9]]\n",
        "list_a"
      ],
      "metadata": {
        "id": "dwyyv7GIBGaN"
      },
      "execution_count": null,
      "outputs": []
    },
    {
      "cell_type": "code",
      "source": [
        "A = np.array(list_a)\n",
        "A"
      ],
      "metadata": {
        "id": "kXqpT9bfBJGJ"
      },
      "execution_count": null,
      "outputs": []
    },
    {
      "cell_type": "code",
      "source": [
        "A.ndim # Mengetahui dimensi array dari array A"
      ],
      "metadata": {
        "id": "gGSQBYSSBLE8"
      },
      "execution_count": null,
      "outputs": []
    },
    {
      "cell_type": "code",
      "source": [
        "A.size # Mengecek jumlah elemen"
      ],
      "metadata": {
        "id": "TK__GivABL3d"
      },
      "execution_count": null,
      "outputs": []
    },
    {
      "cell_type": "code",
      "source": [
        "A.shape # Mengecek ukuran array di tiap dimensi"
      ],
      "metadata": {
        "id": "6yBhgLIJBMzd"
      },
      "execution_count": null,
      "outputs": []
    },
    {
      "cell_type": "code",
      "source": [
        "A.dtype # Mengecek tipe data array"
      ],
      "metadata": {
        "id": "fGCbSKTzBNrX"
      },
      "execution_count": null,
      "outputs": []
    },
    {
      "cell_type": "code",
      "source": [
        "A[1, 1] # Mengambil elemen pada baris 2 kolom 2"
      ],
      "metadata": {
        "id": "KtLqal9jBSAa"
      },
      "execution_count": null,
      "outputs": []
    },
    {
      "cell_type": "code",
      "source": [
        "A[1, 2] # Mengambil elemen pada baris 2 kolom 3"
      ],
      "metadata": {
        "id": "ljJHwJh3BeuV"
      },
      "execution_count": null,
      "outputs": []
    },
    {
      "cell_type": "code",
      "source": [
        "A[0, 2] # Mengambil elemen pada baris 1 kolom 3"
      ],
      "metadata": {
        "id": "t4NL15YXBSs-"
      },
      "execution_count": null,
      "outputs": []
    },
    {
      "cell_type": "code",
      "source": [
        "A[1][:3] # Mengambil elemen pada baris 2 kolom 1-3"
      ],
      "metadata": {
        "id": "xiul8wv6BWFl"
      },
      "execution_count": null,
      "outputs": []
    },
    {
      "cell_type": "code",
      "source": [
        "A[1, :3] # Mengambil elemen pada baris 2 kolom 1-3"
      ],
      "metadata": {
        "id": "UKP5LPOyBh4u"
      },
      "execution_count": null,
      "outputs": []
    },
    {
      "cell_type": "code",
      "source": [
        "A[1, :2] # Mengambil elemen pada baris 2 kolom 1-2"
      ],
      "metadata": {
        "id": "eQIturrcBjJ1"
      },
      "execution_count": null,
      "outputs": []
    },
    {
      "cell_type": "code",
      "source": [
        "A[0:, 1] # Mengambil elemen pada baris 1-3 kolom 2"
      ],
      "metadata": {
        "id": "Yq88kOXmBkUN"
      },
      "execution_count": null,
      "outputs": []
    },
    {
      "cell_type": "code",
      "source": [
        "A # Menampilkan array A"
      ],
      "metadata": {
        "id": "7cle_H8lB4Lv"
      },
      "execution_count": null,
      "outputs": []
    },
    {
      "cell_type": "code",
      "source": [
        "A + 5 # Menjumlahkan array X dengan konstanta 5"
      ],
      "metadata": {
        "id": "kdMTqDkSB5rV"
      },
      "execution_count": null,
      "outputs": []
    },
    {
      "cell_type": "code",
      "source": [
        "X = np.array([[1, 2], [3, 4]]) # Membuat array \n",
        "X"
      ],
      "metadata": {
        "id": "Hl_AUTxhB6ZQ"
      },
      "execution_count": null,
      "outputs": []
    },
    {
      "cell_type": "code",
      "source": [
        "Y = np.array([[1, 3], [1, 2]]) # Membuat array Y\n",
        "Y"
      ],
      "metadata": {
        "id": "ZWV38O-EB-AK"
      },
      "execution_count": null,
      "outputs": []
    },
    {
      "cell_type": "code",
      "source": [
        "X + Y # Menjumlahkan array X dan Y"
      ],
      "metadata": {
        "id": "Z-NYtYcdCAa3"
      },
      "execution_count": null,
      "outputs": []
    },
    {
      "cell_type": "code",
      "source": [
        "X # Menampilkan array X\n",
        "X * 3 # Mengalikan array X dengan 3"
      ],
      "metadata": {
        "id": "E_CmasUQCBfZ"
      },
      "execution_count": null,
      "outputs": []
    },
    {
      "cell_type": "code",
      "source": [
        "X # Menampilkan array X\n",
        "Y # Menampilkan array Y\n",
        "X * Y # Mengalikan array X dan Y"
      ],
      "metadata": {
        "id": "1ow5aMNmCGJ_"
      },
      "execution_count": null,
      "outputs": []
    },
    {
      "cell_type": "code",
      "source": [
        "X # Menampilkan array X\n",
        "Y # Menampilkan array Y\n",
        "np.dot(X, Y) # Dot product dari array X dan Y"
      ],
      "metadata": {
        "id": "tuWpp74aCJ6Z"
      },
      "execution_count": null,
      "outputs": []
    }
  ]
}