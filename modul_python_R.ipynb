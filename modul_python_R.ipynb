{
  "cells": [
    {
      "cell_type": "markdown",
      "metadata": {
        "id": "view-in-github",
        "colab_type": "text"
      },
      "source": [
        "<a href=\"https://colab.research.google.com/github/ramaalfin/modul_python/blob/master/modul_python_R.ipynb\" target=\"_parent\"><img src=\"https://colab.research.google.com/assets/colab-badge.svg\" alt=\"Open In Colab\"/></a>"
      ]
    },
    {
      "cell_type": "code",
      "execution_count": null,
      "metadata": {
        "colab": {
          "base_uri": "https://localhost:8080/"
        },
        "id": "fP0P5HFZomrF",
        "outputId": "20fc22a4-a7a5-40d5-f511-fc3394380b3b"
      },
      "outputs": [
        {
          "name": "stdout",
          "output_type": "stream",
          "text": [
            "contoh string yang dibuat menggunakan kutip satu\n"
          ]
        }
      ],
      "source": [
        "print('contoh string yang dibuat menggunakan kutip satu')"
      ]
    },
    {
      "cell_type": "code",
      "execution_count": null,
      "metadata": {
        "colab": {
          "base_uri": "https://localhost:8080/"
        },
        "id": "_SfhZ-4epEw8",
        "outputId": "b4e66350-bdff-4a60-cf25-f9673b01bccb"
      },
      "outputs": [
        {
          "name": "stdout",
          "output_type": "stream",
          "text": [
            "contoh string yang dibuat menggunakan kutip dua\n"
          ]
        }
      ],
      "source": [
        "print(\"contoh string yang dibuat menggunakan kutip dua\")"
      ]
    },
    {
      "cell_type": "code",
      "execution_count": null,
      "metadata": {
        "colab": {
          "base_uri": "https://localhost:8080/",
          "height": 35
        },
        "id": "AuvE0_MipGw_",
        "outputId": "255ba1af-3470-449e-e24e-85a3630ad862"
      },
      "outputs": [
        {
          "data": {
            "application/vnd.google.colaboratory.intrinsic+json": {
              "type": "string"
            },
            "text/plain": [
              "'ini adalah string tanpa menggunakan print() - 1'"
            ]
          },
          "execution_count": 13,
          "metadata": {},
          "output_type": "execute_result"
        }
      ],
      "source": [
        "'ini adalah string tanpa menggunakan print() - 1'"
      ]
    },
    {
      "cell_type": "code",
      "execution_count": null,
      "metadata": {
        "colab": {
          "base_uri": "https://localhost:8080/",
          "height": 35
        },
        "id": "qA9vdGXfpKUp",
        "outputId": "bfaab0bc-a3ae-4c0a-db9b-9235e8798ef5"
      },
      "outputs": [
        {
          "data": {
            "application/vnd.google.colaboratory.intrinsic+json": {
              "type": "string"
            },
            "text/plain": [
              "'ini adalah string tanpa menggunakan print() - 2'"
            ]
          },
          "execution_count": 14,
          "metadata": {},
          "output_type": "execute_result"
        }
      ],
      "source": [
        "\"ini adalah string tanpa menggunakan print() - 2\""
      ]
    },
    {
      "cell_type": "code",
      "execution_count": null,
      "metadata": {
        "colab": {
          "base_uri": "https://localhost:8080/"
        },
        "id": "U9YRDpsppYHJ",
        "outputId": "a1315348-f948-419a-f302-279cd8ef8f98"
      },
      "outputs": [
        {
          "name": "stdout",
          "output_type": "stream",
          "text": [
            "\n"
          ]
        }
      ],
      "source": [
        "print(\"\")"
      ]
    },
    {
      "cell_type": "code",
      "execution_count": null,
      "metadata": {
        "colab": {
          "base_uri": "https://localhost:8080/"
        },
        "id": "Rax4yAJ7pavV",
        "outputId": "7e08e589-81fd-4d70-cab7-5498bb92da69"
      },
      "outputs": [
        {
          "name": "stdout",
          "output_type": "stream",
          "text": [
            "\n"
          ]
        }
      ],
      "source": [
        "print('')"
      ]
    },
    {
      "cell_type": "code",
      "execution_count": null,
      "metadata": {
        "colab": {
          "base_uri": "https://localhost:8080/",
          "height": 35
        },
        "id": "5RUdrhs8pdro",
        "outputId": "a91d87e1-75e8-41f5-d8a8-c18e1773d1c5"
      },
      "outputs": [
        {
          "data": {
            "application/vnd.google.colaboratory.intrinsic+json": {
              "type": "string"
            },
            "text/plain": [
              "''"
            ]
          },
          "execution_count": 17,
          "metadata": {},
          "output_type": "execute_result"
        }
      ],
      "source": [
        "\"\"\n"
      ]
    },
    {
      "cell_type": "code",
      "execution_count": null,
      "metadata": {
        "colab": {
          "base_uri": "https://localhost:8080/",
          "height": 35
        },
        "id": "QTRzF1b4pe_S",
        "outputId": "8a658055-1889-4e97-dfe4-05f44b15fb48"
      },
      "outputs": [
        {
          "data": {
            "application/vnd.google.colaboratory.intrinsic+json": {
              "type": "string"
            },
            "text/plain": [
              "''"
            ]
          },
          "execution_count": 18,
          "metadata": {},
          "output_type": "execute_result"
        }
      ],
      "source": [
        "''"
      ]
    },
    {
      "cell_type": "code",
      "execution_count": null,
      "metadata": {
        "colab": {
          "base_uri": "https://localhost:8080/",
          "height": 131
        },
        "id": "KCP-gy3tpgz_",
        "outputId": "3402c7e6-4c5f-4a87-808c-b5cbd0c03c23"
      },
      "outputs": [
        {
          "ename": "SyntaxError",
          "evalue": "ignored",
          "output_type": "error",
          "traceback": [
            "\u001b[0;36m  File \u001b[0;32m\"<ipython-input-19-f7e201236867>\"\u001b[0;36m, line \u001b[0;32m1\u001b[0m\n\u001b[0;31m    print('My father's clothes')\u001b[0m\n\u001b[0m                     ^\u001b[0m\n\u001b[0;31mSyntaxError\u001b[0m\u001b[0;31m:\u001b[0m invalid syntax\n"
          ]
        }
      ],
      "source": [
        "print('My father's clothes')"
      ]
    },
    {
      "cell_type": "code",
      "execution_count": null,
      "metadata": {
        "colab": {
          "base_uri": "https://localhost:8080/",
          "height": 131
        },
        "id": "5bQgEoCPpkXm",
        "outputId": "1caec862-2984-48e8-f907-ead676e70504"
      },
      "outputs": [
        {
          "ename": "SyntaxError",
          "evalue": "ignored",
          "output_type": "error",
          "traceback": [
            "\u001b[0;36m  File \u001b[0;32m\"<ipython-input-10-ed617463e815>\"\u001b[0;36m, line \u001b[0;32m1\u001b[0m\n\u001b[0;31m    print(\"I said, \"good bye!\" \")\u001b[0m\n\u001b[0m                       ^\u001b[0m\n\u001b[0;31mSyntaxError\u001b[0m\u001b[0;31m:\u001b[0m invalid syntax\n"
          ]
        }
      ],
      "source": [
        "print(\"I said, \"good bye!\" \")"
      ]
    },
    {
      "cell_type": "code",
      "execution_count": null,
      "metadata": {
        "colab": {
          "base_uri": "https://localhost:8080/"
        },
        "id": "omc1utrkp2pb",
        "outputId": "61747865-4d20-4d36-d400-fa88a34eecf1"
      },
      "outputs": [
        {
          "name": "stdout",
          "output_type": "stream",
          "text": [
            "My father's clothes\n"
          ]
        }
      ],
      "source": [
        "print(\"My father's clothes\")"
      ]
    },
    {
      "cell_type": "code",
      "execution_count": null,
      "metadata": {
        "colab": {
          "base_uri": "https://localhost:8080/"
        },
        "id": "GyuVe5f2p4hU",
        "outputId": "c4f5f537-0fbc-47a3-e01f-6de5e5343efe"
      },
      "outputs": [
        {
          "name": "stdout",
          "output_type": "stream",
          "text": [
            "I said, \"welcome!\" \n"
          ]
        }
      ],
      "source": [
        "print('I said, \"welcome!\" ')"
      ]
    },
    {
      "cell_type": "code",
      "execution_count": null,
      "metadata": {
        "colab": {
          "base_uri": "https://localhost:8080/"
        },
        "id": "-ngMfceip-ET",
        "outputId": "132c1500-15cf-4822-ee71-be26220d0585"
      },
      "outputs": [
        {
          "name": "stdout",
          "output_type": "stream",
          "text": [
            "My father's clothes\n"
          ]
        }
      ],
      "source": [
        "print('My father\\'s clothes')"
      ]
    },
    {
      "cell_type": "code",
      "execution_count": null,
      "metadata": {
        "colab": {
          "base_uri": "https://localhost:8080/"
        },
        "id": "XD0VbqPcqADB",
        "outputId": "2efa3b65-7862-472f-d3dc-66c9d0bf6630"
      },
      "outputs": [
        {
          "name": "stdout",
          "output_type": "stream",
          "text": [
            "I said, \"good morning!\" \n"
          ]
        }
      ],
      "source": [
        "print(\"I said, \\\"good morning!\\\" \")"
      ]
    },
    {
      "cell_type": "code",
      "execution_count": null,
      "metadata": {
        "colab": {
          "base_uri": "https://localhost:8080/"
        },
        "id": "CaZEOvcKqENe",
        "outputId": "9cc9060a-d5c3-4a11-c420-773c5d35d809"
      },
      "outputs": [
        {
          "name": "stdout",
          "output_type": "stream",
          "text": [
            "123\n"
          ]
        }
      ],
      "source": [
        "print(123)"
      ]
    },
    {
      "cell_type": "code",
      "execution_count": null,
      "metadata": {
        "colab": {
          "base_uri": "https://localhost:8080/"
        },
        "id": "WIM-YGeCqFRd",
        "outputId": "7d4a6303-72a9-49e7-a3ea-c4c241770022"
      },
      "outputs": [
        {
          "data": {
            "text/plain": [
              "10"
            ]
          },
          "execution_count": 25,
          "metadata": {},
          "output_type": "execute_result"
        }
      ],
      "source": [
        "10"
      ]
    },
    {
      "cell_type": "code",
      "execution_count": null,
      "metadata": {
        "colab": {
          "base_uri": "https://localhost:8080/"
        },
        "id": "P4R-HvhWqIOB",
        "outputId": "f8bff7ba-72a2-48f9-baa9-6e24c4dc8131"
      },
      "outputs": [
        {
          "name": "stdout",
          "output_type": "stream",
          "text": [
            "-27\n"
          ]
        }
      ],
      "source": [
        "print(-27)"
      ]
    },
    {
      "cell_type": "code",
      "execution_count": null,
      "metadata": {
        "colab": {
          "base_uri": "https://localhost:8080/"
        },
        "id": "vARHJWIlqKcs",
        "outputId": "a4459a29-17f0-4999-c24a-45d6f1cc048a"
      },
      "outputs": [
        {
          "name": "stdout",
          "output_type": "stream",
          "text": [
            "0.1\n"
          ]
        }
      ],
      "source": [
        "print(0.1)"
      ]
    },
    {
      "cell_type": "code",
      "execution_count": null,
      "metadata": {
        "colab": {
          "base_uri": "https://localhost:8080/"
        },
        "id": "Hz2OV_JDqMOQ",
        "outputId": "65dd238c-7cd0-448b-9456-ed09da2d37aa"
      },
      "outputs": [
        {
          "data": {
            "text/plain": [
              "-1.2"
            ]
          },
          "execution_count": 28,
          "metadata": {},
          "output_type": "execute_result"
        }
      ],
      "source": [
        "-1.2"
      ]
    },
    {
      "cell_type": "code",
      "execution_count": null,
      "metadata": {
        "colab": {
          "base_uri": "https://localhost:8080/"
        },
        "id": "kFqvz7XgqNb6",
        "outputId": "9f398adf-0d50-4dd9-8647-c08e1e08c854"
      },
      "outputs": [
        {
          "name": "stdout",
          "output_type": "stream",
          "text": [
            "0.5\n"
          ]
        }
      ],
      "source": [
        "print(.50)"
      ]
    },
    {
      "cell_type": "code",
      "execution_count": null,
      "metadata": {
        "colab": {
          "base_uri": "https://localhost:8080/"
        },
        "id": "hdiGnN9iqQC_",
        "outputId": "4ed74212-c5d8-4c19-e7de-4e753aba5332"
      },
      "outputs": [
        {
          "name": "stdout",
          "output_type": "stream",
          "text": [
            "0.23\n"
          ]
        }
      ],
      "source": [
        "print(.23)"
      ]
    },
    {
      "cell_type": "code",
      "execution_count": null,
      "metadata": {
        "colab": {
          "base_uri": "https://localhost:8080/"
        },
        "id": "Sbu2GbfXqSUz",
        "outputId": "64cd4d12-7e95-4359-c8f8-cf8b217aba66"
      },
      "outputs": [
        {
          "name": "stdout",
          "output_type": "stream",
          "text": [
            "0.5\n"
          ]
        }
      ],
      "source": [
        "print(.5)"
      ]
    },
    {
      "cell_type": "code",
      "execution_count": null,
      "metadata": {
        "colab": {
          "base_uri": "https://localhost:8080/"
        },
        "id": "V8U434wWqXA2",
        "outputId": "41c69f28-002e-47d2-dd8a-d6d944fa94f5"
      },
      "outputs": [
        {
          "name": "stdout",
          "output_type": "stream",
          "text": [
            "3.0\n"
          ]
        }
      ],
      "source": [
        "print(3.)"
      ]
    },
    {
      "cell_type": "code",
      "execution_count": null,
      "metadata": {
        "colab": {
          "base_uri": "https://localhost:8080/"
        },
        "id": "_p3RaFGzqZzG",
        "outputId": "70285340-7474-413d-8cc6-8b95e8809e84"
      },
      "outputs": [
        {
          "data": {
            "text/plain": [
              "3.0"
            ]
          },
          "execution_count": 33,
          "metadata": {},
          "output_type": "execute_result"
        }
      ],
      "source": [
        "3."
      ]
    },
    {
      "cell_type": "code",
      "execution_count": null,
      "metadata": {
        "colab": {
          "base_uri": "https://localhost:8080/"
        },
        "id": "hfOyzsSOqci4",
        "outputId": "995f2cf2-b1be-466f-acde-971e39d6134e"
      },
      "outputs": [
        {
          "name": "stdout",
          "output_type": "stream",
          "text": [
            "False\n"
          ]
        }
      ],
      "source": [
        "print(1 == 2)"
      ]
    },
    {
      "cell_type": "code",
      "execution_count": null,
      "metadata": {
        "colab": {
          "base_uri": "https://localhost:8080/"
        },
        "id": "OcmNP2FSqe-Y",
        "outputId": "9d11e359-8db7-4ffc-ac94-99616eb5923e"
      },
      "outputs": [
        {
          "data": {
            "text/plain": [
              "False"
            ]
          },
          "execution_count": 35,
          "metadata": {},
          "output_type": "execute_result"
        }
      ],
      "source": [
        "1 == 2"
      ]
    },
    {
      "cell_type": "code",
      "execution_count": null,
      "metadata": {
        "colab": {
          "base_uri": "https://localhost:8080/"
        },
        "id": "wlGReLoQqggv",
        "outputId": "190b8d5c-58b3-4871-d002-a0c6780822f8"
      },
      "outputs": [
        {
          "name": "stdout",
          "output_type": "stream",
          "text": [
            "True\n"
          ]
        }
      ],
      "source": [
        "print(2 == 2)"
      ]
    },
    {
      "cell_type": "code",
      "execution_count": null,
      "metadata": {
        "colab": {
          "base_uri": "https://localhost:8080/"
        },
        "id": "ms9QC_-Aqi5t",
        "outputId": "f0b62b0f-0998-4081-ae70-5c182815c80c"
      },
      "outputs": [
        {
          "data": {
            "text/plain": [
              "True"
            ]
          },
          "execution_count": 37,
          "metadata": {},
          "output_type": "execute_result"
        }
      ],
      "source": [
        "2 == 2"
      ]
    },
    {
      "cell_type": "code",
      "execution_count": null,
      "metadata": {
        "colab": {
          "base_uri": "https://localhost:8080/"
        },
        "id": "R_ikul2kqkPQ",
        "outputId": "9dded365-6cec-4c9e-9805-375904c7e7ca"
      },
      "outputs": [
        {
          "name": "stdout",
          "output_type": "stream",
          "text": [
            "False\n"
          ]
        }
      ],
      "source": [
        "print(\"Dia\" == 'dia')"
      ]
    },
    {
      "cell_type": "code",
      "execution_count": null,
      "metadata": {
        "colab": {
          "base_uri": "https://localhost:8080/"
        },
        "id": "9GZh6HaHqmME",
        "outputId": "dd41f0de-f13d-4d31-d17e-d970666f81ab"
      },
      "outputs": [
        {
          "data": {
            "text/plain": [
              "False"
            ]
          },
          "execution_count": 39,
          "metadata": {},
          "output_type": "execute_result"
        }
      ],
      "source": [
        "\"Dia\" == 'dia'"
      ]
    },
    {
      "cell_type": "code",
      "execution_count": null,
      "metadata": {
        "colab": {
          "base_uri": "https://localhost:8080/"
        },
        "id": "RDD9-vD3qps7",
        "outputId": "dc00689b-3d1d-4645-8d9d-0040b51a6364"
      },
      "outputs": [
        {
          "name": "stdout",
          "output_type": "stream",
          "text": [
            "True\n"
          ]
        }
      ],
      "source": [
        "print('saya' == 'saya')"
      ]
    },
    {
      "cell_type": "code",
      "execution_count": null,
      "metadata": {
        "colab": {
          "base_uri": "https://localhost:8080/"
        },
        "id": "bGQKJlKFqry1",
        "outputId": "1e8aa230-fb4c-47d6-eea6-630aa5433ef4"
      },
      "outputs": [
        {
          "data": {
            "text/plain": [
              "True"
            ]
          },
          "execution_count": 41,
          "metadata": {},
          "output_type": "execute_result"
        }
      ],
      "source": [
        "'saya' == 'saya'"
      ]
    },
    {
      "cell_type": "code",
      "execution_count": null,
      "metadata": {
        "colab": {
          "base_uri": "https://localhost:8080/"
        },
        "id": "cRV-X8e_qvN9",
        "outputId": "47f4cf8c-f8e2-4927-d5fc-4501ff3016af"
      },
      "outputs": [
        {
          "data": {
            "text/plain": [
              "int"
            ]
          },
          "execution_count": 42,
          "metadata": {},
          "output_type": "execute_result"
        }
      ],
      "source": [
        "type(1)"
      ]
    },
    {
      "cell_type": "code",
      "execution_count": null,
      "metadata": {
        "colab": {
          "base_uri": "https://localhost:8080/"
        },
        "id": "O6zX0ok4qwHJ",
        "outputId": "d1a6602f-0267-442b-e2bf-c6afe9910c75"
      },
      "outputs": [
        {
          "data": {
            "text/plain": [
              "int"
            ]
          },
          "execution_count": 43,
          "metadata": {},
          "output_type": "execute_result"
        }
      ],
      "source": [
        "type(-1)"
      ]
    },
    {
      "cell_type": "code",
      "execution_count": null,
      "metadata": {
        "colab": {
          "base_uri": "https://localhost:8080/"
        },
        "id": "J7SMxAb1qx0p",
        "outputId": "b5f661ee-7f07-44a5-d169-305508fd073c"
      },
      "outputs": [
        {
          "data": {
            "text/plain": [
              "float"
            ]
          },
          "execution_count": 44,
          "metadata": {},
          "output_type": "execute_result"
        }
      ],
      "source": [
        "type(0.1)"
      ]
    },
    {
      "cell_type": "code",
      "execution_count": null,
      "metadata": {
        "colab": {
          "base_uri": "https://localhost:8080/"
        },
        "id": "d3BP1TONqzoe",
        "outputId": "283e00e6-87f9-466f-d12a-8e621c63f582"
      },
      "outputs": [
        {
          "data": {
            "text/plain": [
              "str"
            ]
          },
          "execution_count": 45,
          "metadata": {},
          "output_type": "execute_result"
        }
      ],
      "source": [
        "type('ini buku')"
      ]
    },
    {
      "cell_type": "code",
      "execution_count": null,
      "metadata": {
        "colab": {
          "base_uri": "https://localhost:8080/"
        },
        "id": "Fl9EIH_Nq1mq",
        "outputId": "fad60283-e112-4664-a59a-3dcbffda836e"
      },
      "outputs": [
        {
          "data": {
            "text/plain": [
              "bool"
            ]
          },
          "execution_count": 46,
          "metadata": {},
          "output_type": "execute_result"
        }
      ],
      "source": [
        "type(1 == 2)"
      ]
    },
    {
      "cell_type": "code",
      "execution_count": null,
      "metadata": {
        "colab": {
          "base_uri": "https://localhost:8080/"
        },
        "id": "Dn2Sirneq3KY",
        "outputId": "f202f0dd-64c9-483f-a25d-754e1b821a1a"
      },
      "outputs": [
        {
          "data": {
            "text/plain": [
              "bool"
            ]
          },
          "execution_count": 47,
          "metadata": {},
          "output_type": "execute_result"
        }
      ],
      "source": [
        "type(False)"
      ]
    },
    {
      "cell_type": "code",
      "execution_count": null,
      "metadata": {
        "colab": {
          "base_uri": "https://localhost:8080/"
        },
        "id": "om8zD1zxrImf",
        "outputId": "32318ae3-4b6e-461e-cdf6-437a7c7d14fb"
      },
      "outputs": [
        {
          "data": {
            "text/plain": [
              "int"
            ]
          },
          "execution_count": 48,
          "metadata": {},
          "output_type": "execute_result"
        }
      ],
      "source": [
        "type(1)"
      ]
    },
    {
      "cell_type": "code",
      "execution_count": null,
      "metadata": {
        "colab": {
          "base_uri": "https://localhost:8080/"
        },
        "id": "F2R3F8Q2rJaq",
        "outputId": "16f5544b-0021-4b09-a098-9ae25a774afa"
      },
      "outputs": [
        {
          "data": {
            "text/plain": [
              "1.0"
            ]
          },
          "execution_count": 49,
          "metadata": {},
          "output_type": "execute_result"
        }
      ],
      "source": [
        "float(1)"
      ]
    },
    {
      "cell_type": "code",
      "execution_count": null,
      "metadata": {
        "colab": {
          "base_uri": "https://localhost:8080/"
        },
        "id": "QYApvOrUrL-n",
        "outputId": "e90080e0-3ea9-4b9f-a17b-774d1234c575"
      },
      "outputs": [
        {
          "data": {
            "text/plain": [
              "float"
            ]
          },
          "execution_count": 50,
          "metadata": {},
          "output_type": "execute_result"
        }
      ],
      "source": [
        "type(float(1))"
      ]
    },
    {
      "cell_type": "code",
      "execution_count": null,
      "metadata": {
        "colab": {
          "base_uri": "https://localhost:8080/"
        },
        "id": "gAb_3tC2sUN1",
        "outputId": "71e89c10-f011-468f-97fa-393020f02c6d"
      },
      "outputs": [
        {
          "data": {
            "text/plain": [
              "2"
            ]
          },
          "execution_count": 51,
          "metadata": {},
          "output_type": "execute_result"
        }
      ],
      "source": [
        "int(2.3)"
      ]
    },
    {
      "cell_type": "code",
      "execution_count": null,
      "metadata": {
        "colab": {
          "base_uri": "https://localhost:8080/"
        },
        "id": "fEfjB1XlsWcA",
        "outputId": "9a2c684a-5e61-4127-d0bd-dcacf501a31f"
      },
      "outputs": [
        {
          "data": {
            "text/plain": [
              "-2"
            ]
          },
          "execution_count": 52,
          "metadata": {},
          "output_type": "execute_result"
        }
      ],
      "source": [
        "int(-2.7)"
      ]
    },
    {
      "cell_type": "code",
      "execution_count": null,
      "metadata": {
        "colab": {
          "base_uri": "https://localhost:8080/"
        },
        "id": "9uwAZ-GFsXvi",
        "outputId": "db98543b-841d-402f-d06e-9234c66a6586"
      },
      "outputs": [
        {
          "data": {
            "text/plain": [
              "76"
            ]
          },
          "execution_count": 53,
          "metadata": {},
          "output_type": "execute_result"
        }
      ],
      "source": [
        "int(76.75)"
      ]
    },
    {
      "cell_type": "code",
      "execution_count": null,
      "metadata": {
        "colab": {
          "base_uri": "https://localhost:8080/"
        },
        "id": "VcoOnZgjsZri",
        "outputId": "82e2556c-92fc-4570-bc88-f2493b633c81"
      },
      "outputs": [
        {
          "data": {
            "text/plain": [
              "12"
            ]
          },
          "execution_count": 54,
          "metadata": {},
          "output_type": "execute_result"
        }
      ],
      "source": [
        "int('12')"
      ]
    },
    {
      "cell_type": "code",
      "execution_count": null,
      "metadata": {
        "colab": {
          "base_uri": "https://localhost:8080/"
        },
        "id": "WPefB2Z1sbAG",
        "outputId": "ca29c9b0-0282-4230-b98f-ffa48b375dcf"
      },
      "outputs": [
        {
          "data": {
            "text/plain": [
              "-1"
            ]
          },
          "execution_count": 55,
          "metadata": {},
          "output_type": "execute_result"
        }
      ],
      "source": [
        "int('-1')"
      ]
    },
    {
      "cell_type": "code",
      "execution_count": null,
      "metadata": {
        "colab": {
          "base_uri": "https://localhost:8080/"
        },
        "id": "IxNjLS0fsc3d",
        "outputId": "780130a4-a19f-4f23-c583-10e7b29e1884"
      },
      "outputs": [
        {
          "data": {
            "text/plain": [
              "11.2"
            ]
          },
          "execution_count": 56,
          "metadata": {},
          "output_type": "execute_result"
        }
      ],
      "source": [
        "float('11.2')"
      ]
    },
    {
      "cell_type": "code",
      "execution_count": null,
      "metadata": {
        "colab": {
          "base_uri": "https://localhost:8080/"
        },
        "id": "y5kGgLJmsd_h",
        "outputId": "6a2d6904-3803-4feb-9d24-8ea19003ea20"
      },
      "outputs": [
        {
          "data": {
            "text/plain": [
              "-11.2"
            ]
          },
          "execution_count": 57,
          "metadata": {},
          "output_type": "execute_result"
        }
      ],
      "source": [
        "float('-11.2')"
      ]
    },
    {
      "cell_type": "code",
      "execution_count": null,
      "metadata": {
        "colab": {
          "base_uri": "https://localhost:8080/",
          "height": 166
        },
        "id": "8xE_8WvYsguU",
        "outputId": "51ab8b39-3e63-4ee8-eb2d-fe2015fdb22b"
      },
      "outputs": [
        {
          "ename": "ValueError",
          "evalue": "ignored",
          "output_type": "error",
          "traceback": [
            "\u001b[0;31m---------------------------------------------------------------------------\u001b[0m",
            "\u001b[0;31mValueError\u001b[0m                                Traceback (most recent call last)",
            "\u001b[0;32m<ipython-input-58-531cd71f34fa>\u001b[0m in \u001b[0;36m<module>\u001b[0;34m()\u001b[0m\n\u001b[0;32m----> 1\u001b[0;31m \u001b[0mint\u001b[0m\u001b[0;34m(\u001b[0m\u001b[0;34m'15 derajat'\u001b[0m\u001b[0;34m)\u001b[0m\u001b[0;34m\u001b[0m\u001b[0;34m\u001b[0m\u001b[0m\n\u001b[0m",
            "\u001b[0;31mValueError\u001b[0m: invalid literal for int() with base 10: '15 derajat'"
          ]
        }
      ],
      "source": [
        "int('15 derajat')"
      ]
    },
    {
      "cell_type": "code",
      "execution_count": null,
      "metadata": {
        "colab": {
          "base_uri": "https://localhost:8080/",
          "height": 166
        },
        "id": "JCZmqoJIsiKg",
        "outputId": "f582d8ce-22cb-4d1f-9d79-00d46da18912"
      },
      "outputs": [
        {
          "ename": "ValueError",
          "evalue": "ignored",
          "output_type": "error",
          "traceback": [
            "\u001b[0;31m---------------------------------------------------------------------------\u001b[0m",
            "\u001b[0;31mValueError\u001b[0m                                Traceback (most recent call last)",
            "\u001b[0;32m<ipython-input-59-c7b4990a9a91>\u001b[0m in \u001b[0;36m<module>\u001b[0;34m()\u001b[0m\n\u001b[0;32m----> 1\u001b[0;31m \u001b[0mfloat\u001b[0m\u001b[0;34m(\u001b[0m\u001b[0;34m'1.5 dan 2.5'\u001b[0m\u001b[0;34m)\u001b[0m\u001b[0;34m\u001b[0m\u001b[0;34m\u001b[0m\u001b[0m\n\u001b[0m",
            "\u001b[0;31mValueError\u001b[0m: could not convert string to float: '1.5 dan 2.5'"
          ]
        }
      ],
      "source": [
        "float('1.5 dan 2.5')"
      ]
    },
    {
      "cell_type": "code",
      "execution_count": null,
      "metadata": {
        "colab": {
          "base_uri": "https://localhost:8080/",
          "height": 35
        },
        "id": "QdVKKQeisjse",
        "outputId": "84b0f7e8-ec3f-4ea7-c482-6b2281aeeff1"
      },
      "outputs": [
        {
          "data": {
            "application/vnd.google.colaboratory.intrinsic+json": {
              "type": "string"
            },
            "text/plain": [
              "'123'"
            ]
          },
          "execution_count": 60,
          "metadata": {},
          "output_type": "execute_result"
        }
      ],
      "source": [
        "str(123)"
      ]
    },
    {
      "cell_type": "code",
      "execution_count": null,
      "metadata": {
        "colab": {
          "base_uri": "https://localhost:8080/",
          "height": 35
        },
        "id": "cEHGmcqwsk2a",
        "outputId": "59d10715-a98d-48e4-c963-ba2fd0f29fb5"
      },
      "outputs": [
        {
          "data": {
            "application/vnd.google.colaboratory.intrinsic+json": {
              "type": "string"
            },
            "text/plain": [
              "'-123'"
            ]
          },
          "execution_count": 61,
          "metadata": {},
          "output_type": "execute_result"
        }
      ],
      "source": [
        "str(-123)"
      ]
    },
    {
      "cell_type": "code",
      "execution_count": null,
      "metadata": {
        "colab": {
          "base_uri": "https://localhost:8080/",
          "height": 35
        },
        "id": "jqWc83PKsmbW",
        "outputId": "026ae8d5-7967-410a-d7c8-cdf3bc6b510a"
      },
      "outputs": [
        {
          "data": {
            "application/vnd.google.colaboratory.intrinsic+json": {
              "type": "string"
            },
            "text/plain": [
              "'12.34'"
            ]
          },
          "execution_count": 62,
          "metadata": {},
          "output_type": "execute_result"
        }
      ],
      "source": [
        "str(12.34)"
      ]
    },
    {
      "cell_type": "code",
      "execution_count": null,
      "metadata": {
        "colab": {
          "base_uri": "https://localhost:8080/"
        },
        "id": "Z0LmugGmsnhq",
        "outputId": "71c43ca0-e659-4eea-a602-2cdd136540c2"
      },
      "outputs": [
        {
          "data": {
            "text/plain": [
              "1"
            ]
          },
          "execution_count": 63,
          "metadata": {},
          "output_type": "execute_result"
        }
      ],
      "source": [
        "int(True)"
      ]
    },
    {
      "cell_type": "code",
      "execution_count": null,
      "metadata": {
        "colab": {
          "base_uri": "https://localhost:8080/"
        },
        "id": "aNrhIkKnsoK5",
        "outputId": "820ca054-a356-4306-88fb-ca51072ac1b3"
      },
      "outputs": [
        {
          "data": {
            "text/plain": [
              "0"
            ]
          },
          "execution_count": 64,
          "metadata": {},
          "output_type": "execute_result"
        }
      ],
      "source": [
        "int(False)"
      ]
    },
    {
      "cell_type": "code",
      "execution_count": null,
      "metadata": {
        "colab": {
          "base_uri": "https://localhost:8080/"
        },
        "id": "UMR0TTm7sqan",
        "outputId": "08484873-e201-4233-f885-12184a5ac2c2"
      },
      "outputs": [
        {
          "data": {
            "text/plain": [
              "1.0"
            ]
          },
          "execution_count": 65,
          "metadata": {},
          "output_type": "execute_result"
        }
      ],
      "source": [
        "float(True)"
      ]
    },
    {
      "cell_type": "code",
      "execution_count": null,
      "metadata": {
        "colab": {
          "base_uri": "https://localhost:8080/"
        },
        "id": "J-Stsd_Usq8X",
        "outputId": "3ecba11e-643d-427f-95f4-a1fbb0c6008a"
      },
      "outputs": [
        {
          "data": {
            "text/plain": [
              "0.0"
            ]
          },
          "execution_count": 66,
          "metadata": {},
          "output_type": "execute_result"
        }
      ],
      "source": [
        "float(False)"
      ]
    },
    {
      "cell_type": "code",
      "execution_count": null,
      "metadata": {
        "colab": {
          "base_uri": "https://localhost:8080/"
        },
        "id": "qCAPyYltstDN",
        "outputId": "dd45d818-385f-4640-89b9-e886dcb3e949"
      },
      "outputs": [
        {
          "data": {
            "text/plain": [
              "True"
            ]
          },
          "execution_count": 67,
          "metadata": {},
          "output_type": "execute_result"
        }
      ],
      "source": [
        "bool(1)"
      ]
    },
    {
      "cell_type": "code",
      "execution_count": null,
      "metadata": {
        "colab": {
          "base_uri": "https://localhost:8080/"
        },
        "id": "yIjBeI3Os4iI",
        "outputId": "5cc9f1f9-ed9f-4921-d588-0093afb3681f"
      },
      "outputs": [
        {
          "data": {
            "text/plain": [
              "False"
            ]
          },
          "execution_count": 68,
          "metadata": {},
          "output_type": "execute_result"
        }
      ],
      "source": [
        "bool(0)"
      ]
    },
    {
      "cell_type": "code",
      "execution_count": null,
      "metadata": {
        "colab": {
          "base_uri": "https://localhost:8080/"
        },
        "id": "eJLgp8w3s6Rh",
        "outputId": "c08716f2-b2f6-4b5a-bb25-a2add60ce299"
      },
      "outputs": [
        {
          "data": {
            "text/plain": [
              "True"
            ]
          },
          "execution_count": 69,
          "metadata": {},
          "output_type": "execute_result"
        }
      ],
      "source": [
        "bool(1.0)"
      ]
    },
    {
      "cell_type": "code",
      "execution_count": null,
      "metadata": {
        "colab": {
          "base_uri": "https://localhost:8080/"
        },
        "id": "3Ck3qU8ys8BO",
        "outputId": "ef6911e5-4bde-49da-d4ae-785dd741e89e"
      },
      "outputs": [
        {
          "data": {
            "text/plain": [
              "False"
            ]
          },
          "execution_count": 70,
          "metadata": {},
          "output_type": "execute_result"
        }
      ],
      "source": [
        "bool(0.0)"
      ]
    },
    {
      "cell_type": "markdown",
      "metadata": {
        "id": "zg6OBMlrtDQx"
      },
      "source": [
        "EKSPRESI"
      ]
    },
    {
      "cell_type": "code",
      "execution_count": null,
      "metadata": {
        "colab": {
          "base_uri": "https://localhost:8080/"
        },
        "id": "BFe_ghMktB3G",
        "outputId": "26482c70-bdad-41c9-9781-86c529e2eae3"
      },
      "outputs": [
        {
          "data": {
            "text/plain": [
              "35"
            ]
          },
          "execution_count": 71,
          "metadata": {},
          "output_type": "execute_result"
        }
      ],
      "source": [
        "12 + 23"
      ]
    },
    {
      "cell_type": "code",
      "execution_count": null,
      "metadata": {
        "colab": {
          "base_uri": "https://localhost:8080/"
        },
        "id": "ESU6XOSxufXQ",
        "outputId": "d7609643-830e-4367-8208-588d07fca00b"
      },
      "outputs": [
        {
          "data": {
            "text/plain": [
              "91"
            ]
          },
          "execution_count": 72,
          "metadata": {},
          "output_type": "execute_result"
        }
      ],
      "source": [
        "12 + 34 + 45"
      ]
    },
    {
      "cell_type": "code",
      "execution_count": null,
      "metadata": {
        "id": "4YBOOgqhuiz_"
      },
      "outputs": [],
      "source": [
        "x = 10"
      ]
    },
    {
      "cell_type": "code",
      "execution_count": null,
      "metadata": {
        "id": "yGdY5MTQutDz"
      },
      "outputs": [],
      "source": [
        "y = 20"
      ]
    },
    {
      "cell_type": "code",
      "execution_count": null,
      "metadata": {
        "colab": {
          "base_uri": "https://localhost:8080/"
        },
        "id": "uLNJWve8uuuo",
        "outputId": "8b9b2f99-0371-4478-fa7a-00a08f61f2ba"
      },
      "outputs": [
        {
          "data": {
            "text/plain": [
              "30"
            ]
          },
          "execution_count": 75,
          "metadata": {},
          "output_type": "execute_result"
        }
      ],
      "source": [
        "x + y # Ekspresi penjumlahan dengan operand berupa variabel"
      ]
    },
    {
      "cell_type": "code",
      "execution_count": null,
      "metadata": {
        "colab": {
          "base_uri": "https://localhost:8080/"
        },
        "id": "i-dE2Cs7u4cW",
        "outputId": "5ec9f907-b1b6-4157-ffdc-33d7aac686fc"
      },
      "outputs": [
        {
          "data": {
            "text/plain": [
              "55"
            ]
          },
          "execution_count": 76,
          "metadata": {},
          "output_type": "execute_result"
        }
      ],
      "source": [
        "x + y + 25 # Ekspresi penjumlahan dengan operand berupa variabel dan angka "
      ]
    },
    {
      "cell_type": "code",
      "execution_count": null,
      "metadata": {
        "colab": {
          "base_uri": "https://localhost:8080/"
        },
        "id": "_I4IsuU3u7es",
        "outputId": "c555e647-f8ec-424c-da16-7327ac57855c"
      },
      "outputs": [
        {
          "data": {
            "text/plain": [
              "5"
            ]
          },
          "execution_count": 77,
          "metadata": {},
          "output_type": "execute_result"
        }
      ],
      "source": [
        "10 - 5"
      ]
    },
    {
      "cell_type": "code",
      "execution_count": null,
      "metadata": {
        "colab": {
          "base_uri": "https://localhost:8080/"
        },
        "id": "4ply5X0yu8sr",
        "outputId": "fece24f3-86d6-447e-fb33-44d75b6874f1"
      },
      "outputs": [
        {
          "data": {
            "text/plain": [
              "65"
            ]
          },
          "execution_count": 78,
          "metadata": {},
          "output_type": "execute_result"
        }
      ],
      "source": [
        "100 - 25 -10"
      ]
    },
    {
      "cell_type": "code",
      "execution_count": null,
      "metadata": {
        "id": "hRpvFRE-u-7c"
      },
      "outputs": [],
      "source": [
        "x = 20"
      ]
    },
    {
      "cell_type": "code",
      "execution_count": null,
      "metadata": {
        "id": "FedeFEGdvBYV"
      },
      "outputs": [],
      "source": [
        "y = 10"
      ]
    },
    {
      "cell_type": "code",
      "execution_count": null,
      "metadata": {
        "colab": {
          "base_uri": "https://localhost:8080/"
        },
        "id": "YwFvHlAkvDkG",
        "outputId": "4eaa5fb2-17fb-493b-bd9f-2377ef80ccc4"
      },
      "outputs": [
        {
          "data": {
            "text/plain": [
              "10"
            ]
          },
          "execution_count": 81,
          "metadata": {},
          "output_type": "execute_result"
        }
      ],
      "source": [
        "x - y # Ekspresi pengurangan dengan operand berupa variabel"
      ]
    },
    {
      "cell_type": "code",
      "execution_count": null,
      "metadata": {
        "colab": {
          "base_uri": "https://localhost:8080/"
        },
        "id": "FLNNlz7avJKY",
        "outputId": "23bc7cf4-6d4f-4aae-d35d-343f1104600e"
      },
      "outputs": [
        {
          "data": {
            "text/plain": [
              "8"
            ]
          },
          "execution_count": 82,
          "metadata": {},
          "output_type": "execute_result"
        }
      ],
      "source": [
        "x - y - 2 # Ekspresi pengurangan dengan operand berupa variabel dan angka "
      ]
    },
    {
      "cell_type": "code",
      "execution_count": null,
      "metadata": {
        "colab": {
          "base_uri": "https://localhost:8080/"
        },
        "id": "bptntu_6vKQi",
        "outputId": "0f1dea95-fb2b-4a2c-d081-09fc5d930fe1"
      },
      "outputs": [
        {
          "data": {
            "text/plain": [
              "4"
            ]
          },
          "execution_count": 83,
          "metadata": {},
          "output_type": "execute_result"
        }
      ],
      "source": [
        "2 * 2"
      ]
    },
    {
      "cell_type": "code",
      "execution_count": null,
      "metadata": {
        "colab": {
          "base_uri": "https://localhost:8080/"
        },
        "id": "wa6TqZZ3vLnT",
        "outputId": "6537a4e4-eb08-43b2-916e-9d29a5835972"
      },
      "outputs": [
        {
          "data": {
            "text/plain": [
              "20"
            ]
          },
          "execution_count": 84,
          "metadata": {},
          "output_type": "execute_result"
        }
      ],
      "source": [
        "2 * 2 * 5"
      ]
    },
    {
      "cell_type": "code",
      "execution_count": null,
      "metadata": {
        "colab": {
          "base_uri": "https://localhost:8080/"
        },
        "id": "iLTDfhZOvNwU",
        "outputId": "cd9a5121-6a38-4c7a-a376-c3a281e398aa"
      },
      "outputs": [
        {
          "data": {
            "text/plain": [
              "200"
            ]
          },
          "execution_count": 85,
          "metadata": {},
          "output_type": "execute_result"
        }
      ],
      "source": [
        "x = 20\n",
        "y = 10\n",
        "x * y"
      ]
    },
    {
      "cell_type": "code",
      "execution_count": null,
      "metadata": {
        "colab": {
          "base_uri": "https://localhost:8080/"
        },
        "id": "V4QC4bd8vcsw",
        "outputId": "afb41b96-af38-4c8d-dccc-09aeaaa89e63"
      },
      "outputs": [
        {
          "data": {
            "text/plain": [
              "100"
            ]
          },
          "execution_count": 86,
          "metadata": {},
          "output_type": "execute_result"
        }
      ],
      "source": [
        "x * 5 # Ekspresi perkalian dengan operand berupa variabel"
      ]
    },
    {
      "cell_type": "code",
      "execution_count": null,
      "metadata": {
        "colab": {
          "base_uri": "https://localhost:8080/"
        },
        "id": "Tz38n4MdvhPW",
        "outputId": "5913b079-3974-449b-c536-2eb6fa2ac4fb"
      },
      "outputs": [
        {
          "data": {
            "text/plain": [
              "5.0"
            ]
          },
          "execution_count": 87,
          "metadata": {},
          "output_type": "execute_result"
        }
      ],
      "source": [
        "10 / 2"
      ]
    },
    {
      "cell_type": "code",
      "execution_count": null,
      "metadata": {
        "colab": {
          "base_uri": "https://localhost:8080/"
        },
        "id": "BT16pkcbviSv",
        "outputId": "ab579b8c-68e0-4875-caf5-5bb9449a8396"
      },
      "outputs": [
        {
          "data": {
            "text/plain": [
              "1.0"
            ]
          },
          "execution_count": 88,
          "metadata": {},
          "output_type": "execute_result"
        }
      ],
      "source": [
        "10 / 2 /5"
      ]
    },
    {
      "cell_type": "code",
      "execution_count": null,
      "metadata": {
        "colab": {
          "base_uri": "https://localhost:8080/"
        },
        "id": "jw8jKjzavjuA",
        "outputId": "545d4d69-35de-46fb-8bc0-7737828577c0"
      },
      "outputs": [
        {
          "data": {
            "text/plain": [
              "2.0"
            ]
          },
          "execution_count": 89,
          "metadata": {},
          "output_type": "execute_result"
        }
      ],
      "source": [
        "x = 20\n",
        "y = 10 \n",
        "x / y # Ekspresi modulo dengan operand berupa variabel dan angka "
      ]
    },
    {
      "cell_type": "code",
      "execution_count": null,
      "metadata": {
        "colab": {
          "base_uri": "https://localhost:8080/"
        },
        "id": "PeD_jg-avqI_",
        "outputId": "0db1051d-f6e0-4bb3-bc6e-adff90ca8179"
      },
      "outputs": [
        {
          "data": {
            "text/plain": [
              "4.0"
            ]
          },
          "execution_count": 90,
          "metadata": {},
          "output_type": "execute_result"
        }
      ],
      "source": [
        "x / 5 # Ekspresi pembagian dengan operand berupa variabel dan angka"
      ]
    },
    {
      "cell_type": "code",
      "execution_count": null,
      "metadata": {
        "colab": {
          "base_uri": "https://localhost:8080/"
        },
        "id": "ks5Lx9d-vrmy",
        "outputId": "799995e6-9b74-4aa3-90a2-8c8a2b2c8fa2"
      },
      "outputs": [
        {
          "data": {
            "text/plain": [
              "0"
            ]
          },
          "execution_count": 91,
          "metadata": {},
          "output_type": "execute_result"
        }
      ],
      "source": [
        "10 % 2"
      ]
    },
    {
      "cell_type": "code",
      "execution_count": null,
      "metadata": {
        "colab": {
          "base_uri": "https://localhost:8080/"
        },
        "id": "__A3q6pCvsMx",
        "outputId": "6cd025de-7ef2-4c2c-93d7-76eb0777b0dc"
      },
      "outputs": [
        {
          "data": {
            "text/plain": [
              "2"
            ]
          },
          "execution_count": 92,
          "metadata": {},
          "output_type": "execute_result"
        }
      ],
      "source": [
        "10 % 4"
      ]
    },
    {
      "cell_type": "code",
      "execution_count": null,
      "metadata": {
        "colab": {
          "base_uri": "https://localhost:8080/"
        },
        "id": "Y74F-E8Wvzjq",
        "outputId": "d8fdae0f-2c40-47fe-bbac-a534bbdf1b2c"
      },
      "outputs": [
        {
          "data": {
            "text/plain": [
              "0"
            ]
          },
          "execution_count": 93,
          "metadata": {},
          "output_type": "execute_result"
        }
      ],
      "source": [
        "x = 20 \n",
        "y = 10 \n",
        "x % y # Ekspresi modulo dengan operand berupa variabel"
      ]
    },
    {
      "cell_type": "code",
      "execution_count": null,
      "metadata": {
        "colab": {
          "base_uri": "https://localhost:8080/"
        },
        "id": "Q4ZBWHW_v4Tm",
        "outputId": "fddf387b-bf0b-4f62-f316-a6d7348ba315"
      },
      "outputs": [
        {
          "data": {
            "text/plain": [
              "2"
            ]
          },
          "execution_count": 94,
          "metadata": {},
          "output_type": "execute_result"
        }
      ],
      "source": [
        "x % 3 # Ekspresi modulo dengan operand berupa variabel dan angka "
      ]
    },
    {
      "cell_type": "code",
      "execution_count": null,
      "metadata": {
        "colab": {
          "base_uri": "https://localhost:8080/"
        },
        "id": "owoku5Cbv7L3",
        "outputId": "acfe0c84-ef9a-4037-b001-cf9700a07f1b"
      },
      "outputs": [
        {
          "data": {
            "text/plain": [
              "2"
            ]
          },
          "execution_count": 95,
          "metadata": {},
          "output_type": "execute_result"
        }
      ],
      "source": [
        "10 // 4"
      ]
    },
    {
      "cell_type": "code",
      "execution_count": null,
      "metadata": {
        "colab": {
          "base_uri": "https://localhost:8080/"
        },
        "id": "C2hHitIQv7wA",
        "outputId": "f87c190f-ba61-47bd-f574-2c30bb4a2aa7"
      },
      "outputs": [
        {
          "data": {
            "text/plain": [
              "4"
            ]
          },
          "execution_count": 96,
          "metadata": {},
          "output_type": "execute_result"
        }
      ],
      "source": [
        "20 // 5"
      ]
    },
    {
      "cell_type": "code",
      "execution_count": null,
      "metadata": {
        "colab": {
          "base_uri": "https://localhost:8080/"
        },
        "id": "unR84wfUv-hl",
        "outputId": "67597224-de09-411e-9510-4c57999a88c3"
      },
      "outputs": [
        {
          "data": {
            "text/plain": [
              "2"
            ]
          },
          "execution_count": 97,
          "metadata": {},
          "output_type": "execute_result"
        }
      ],
      "source": [
        "x = 20 \n",
        "y = 10 \n",
        "x // y"
      ]
    },
    {
      "cell_type": "code",
      "execution_count": null,
      "metadata": {
        "colab": {
          "base_uri": "https://localhost:8080/"
        },
        "id": "pEMYNUBiwA7-",
        "outputId": "6fa2e7e2-1998-4f79-b126-2661b4cc4180"
      },
      "outputs": [
        {
          "data": {
            "text/plain": [
              "2"
            ]
          },
          "execution_count": 98,
          "metadata": {},
          "output_type": "execute_result"
        }
      ],
      "source": [
        "9 // 4"
      ]
    },
    {
      "cell_type": "code",
      "execution_count": null,
      "metadata": {
        "colab": {
          "base_uri": "https://localhost:8080/"
        },
        "id": "He8671k8wJB4",
        "outputId": "d39bceb5-43a5-4e60-cf0c-ac6e9c900ee6"
      },
      "outputs": [
        {
          "data": {
            "text/plain": [
              "-3"
            ]
          },
          "execution_count": 99,
          "metadata": {},
          "output_type": "execute_result"
        }
      ],
      "source": [
        "9 // -4"
      ]
    },
    {
      "cell_type": "code",
      "execution_count": null,
      "metadata": {
        "colab": {
          "base_uri": "https://localhost:8080/"
        },
        "id": "bIue_5d5wKi3",
        "outputId": "8111fbda-b2af-4121-d295-b502bdb48c28"
      },
      "outputs": [
        {
          "data": {
            "text/plain": [
              "8"
            ]
          },
          "execution_count": 100,
          "metadata": {},
          "output_type": "execute_result"
        }
      ],
      "source": [
        "2 ** 3 # Dua pangkat Tiga"
      ]
    },
    {
      "cell_type": "code",
      "execution_count": null,
      "metadata": {
        "colab": {
          "base_uri": "https://localhost:8080/"
        },
        "id": "wldgj5FcwMn-",
        "outputId": "ef63d75b-9da4-47d1-a384-0c46111a45fe"
      },
      "outputs": [
        {
          "data": {
            "text/plain": [
              "100"
            ]
          },
          "execution_count": 101,
          "metadata": {},
          "output_type": "execute_result"
        }
      ],
      "source": [
        "x = 10\n",
        "y = 2\n",
        "x ** y # x pangkat y"
      ]
    },
    {
      "cell_type": "code",
      "execution_count": null,
      "metadata": {
        "colab": {
          "base_uri": "https://localhost:8080/"
        },
        "id": "-73ZBGtkwemq",
        "outputId": "153a1f3f-bcc2-492e-a43f-b4e0b8716e69"
      },
      "outputs": [
        {
          "data": {
            "text/plain": [
              "1000"
            ]
          },
          "execution_count": 102,
          "metadata": {},
          "output_type": "execute_result"
        }
      ],
      "source": [
        "x ** 3"
      ]
    },
    {
      "cell_type": "code",
      "execution_count": null,
      "metadata": {
        "colab": {
          "base_uri": "https://localhost:8080/"
        },
        "id": "BTIhwQfGwfRs",
        "outputId": "29bade97-5bb7-4ac1-b165-ca1da53ae2df"
      },
      "outputs": [
        {
          "data": {
            "text/plain": [
              "25"
            ]
          },
          "execution_count": 103,
          "metadata": {},
          "output_type": "execute_result"
        }
      ],
      "source": [
        "5 ** y"
      ]
    },
    {
      "cell_type": "code",
      "execution_count": null,
      "metadata": {
        "colab": {
          "base_uri": "https://localhost:8080/"
        },
        "id": "Ry9Tjclawie_",
        "outputId": "ea88f571-2af7-4230-960e-79969d858a0c"
      },
      "outputs": [
        {
          "data": {
            "text/plain": [
              "50.0"
            ]
          },
          "execution_count": 104,
          "metadata": {},
          "output_type": "execute_result"
        }
      ],
      "source": [
        "(10 + 15) * 8 / 4"
      ]
    },
    {
      "cell_type": "code",
      "execution_count": null,
      "metadata": {
        "colab": {
          "base_uri": "https://localhost:8080/"
        },
        "id": "wU0gNR28wjua",
        "outputId": "b7d69276-9cde-44cb-bd74-62fe9a3aa4cf"
      },
      "outputs": [
        {
          "data": {
            "text/plain": [
              "10.0"
            ]
          },
          "execution_count": 105,
          "metadata": {},
          "output_type": "execute_result"
        }
      ],
      "source": [
        "20 / (4 - 2)"
      ]
    },
    {
      "cell_type": "code",
      "execution_count": null,
      "metadata": {
        "colab": {
          "base_uri": "https://localhost:8080/"
        },
        "id": "HhFgJasEwk31",
        "outputId": "bf92ba50-2c1f-495b-88db-12b3b286718f"
      },
      "outputs": [
        {
          "data": {
            "text/plain": [
              "3.0"
            ]
          },
          "execution_count": 106,
          "metadata": {},
          "output_type": "execute_result"
        }
      ],
      "source": [
        "20 / 4 - 2"
      ]
    },
    {
      "cell_type": "code",
      "execution_count": null,
      "metadata": {
        "colab": {
          "base_uri": "https://localhost:8080/"
        },
        "id": "Zq5q2zbfwm4x",
        "outputId": "78c56778-9a79-4ea2-d9f4-b18be36cc63c"
      },
      "outputs": [
        {
          "data": {
            "text/plain": [
              "36"
            ]
          },
          "execution_count": 107,
          "metadata": {},
          "output_type": "execute_result"
        }
      ],
      "source": [
        "a = 10 \n",
        "b = 2 \n",
        "c = 3 \n",
        "(a + b) * c"
      ]
    },
    {
      "cell_type": "code",
      "execution_count": null,
      "metadata": {
        "colab": {
          "base_uri": "https://localhost:8080/"
        },
        "id": "YfZmsmaswrU9",
        "outputId": "be4f70ee-57f3-4af5-8983-9d04082bec2f"
      },
      "outputs": [
        {
          "data": {
            "text/plain": [
              "16"
            ]
          },
          "execution_count": 108,
          "metadata": {},
          "output_type": "execute_result"
        }
      ],
      "source": [
        "a + b * c"
      ]
    },
    {
      "cell_type": "markdown",
      "metadata": {
        "id": "2ilxiiAfwuut"
      },
      "source": [
        "List"
      ]
    },
    {
      "cell_type": "code",
      "execution_count": null,
      "metadata": {
        "colab": {
          "base_uri": "https://localhost:8080/"
        },
        "id": "h1W1yAWRwwqO",
        "outputId": "3309cacb-448e-4241-96f9-5b05a2843f9b"
      },
      "outputs": [
        {
          "name": "stdout",
          "output_type": "stream",
          "text": [
            "[1, 2, 3]\n"
          ]
        }
      ],
      "source": [
        "x = [1, 2, 3] \n",
        "print(x)"
      ]
    },
    {
      "cell_type": "code",
      "execution_count": null,
      "metadata": {
        "colab": {
          "base_uri": "https://localhost:8080/"
        },
        "id": "NuvyCXtTwzrY",
        "outputId": "dc936410-e0d2-42ef-ded9-1e3ab66f2128"
      },
      "outputs": [
        {
          "name": "stdout",
          "output_type": "stream",
          "text": [
            "['carrot', 'cucumber', 'potato']\n"
          ]
        }
      ],
      "source": [
        "vegetables = ['carrot', 'cucumber', 'potato']\n",
        "print(vegetables)"
      ]
    },
    {
      "cell_type": "code",
      "execution_count": null,
      "metadata": {
        "colab": {
          "base_uri": "https://localhost:8080/"
        },
        "id": "DMUfWHfVw2lL",
        "outputId": "33a94715-0d4c-4449-9dc6-4343d77f8509"
      },
      "outputs": [
        {
          "name": "stdout",
          "output_type": "stream",
          "text": [
            "['Doe', 21, False, 2.1]\n"
          ]
        }
      ],
      "source": [
        "y = ['Doe', 21, False, 2.1]\n",
        "print(y)"
      ]
    },
    {
      "cell_type": "code",
      "execution_count": null,
      "metadata": {
        "colab": {
          "base_uri": "https://localhost:8080/",
          "height": 35
        },
        "id": "tCTUKWyZw4wB",
        "outputId": "0afcd441-6d8b-448d-a96d-e6a39c824279"
      },
      "outputs": [
        {
          "data": {
            "application/vnd.google.colaboratory.intrinsic+json": {
              "type": "string"
            },
            "text/plain": [
              "'cucumber'"
            ]
          },
          "execution_count": 112,
          "metadata": {},
          "output_type": "execute_result"
        }
      ],
      "source": [
        "vegetables = ['carrot', 'cucumber', 'potato'] \n",
        "vegetables[1]"
      ]
    },
    {
      "cell_type": "code",
      "execution_count": null,
      "metadata": {
        "colab": {
          "base_uri": "https://localhost:8080/",
          "height": 35
        },
        "id": "ESTWlPLLw-I2",
        "outputId": "f02f6ac7-5af8-4201-89e5-92ad669acc0c"
      },
      "outputs": [
        {
          "data": {
            "application/vnd.google.colaboratory.intrinsic+json": {
              "type": "string"
            },
            "text/plain": [
              "'potato'"
            ]
          },
          "execution_count": 113,
          "metadata": {},
          "output_type": "execute_result"
        }
      ],
      "source": [
        "vegetables[-1]"
      ]
    },
    {
      "cell_type": "code",
      "execution_count": null,
      "metadata": {
        "colab": {
          "base_uri": "https://localhost:8080/"
        },
        "id": "6nnHSluYw_1P",
        "outputId": "caffd03d-f47f-4fe2-dbd7-f17763c1304c"
      },
      "outputs": [
        {
          "name": "stdout",
          "output_type": "stream",
          "text": [
            "potato\n"
          ]
        }
      ],
      "source": [
        "print(vegetables[2])"
      ]
    },
    {
      "cell_type": "code",
      "execution_count": null,
      "metadata": {
        "colab": {
          "base_uri": "https://localhost:8080/"
        },
        "id": "IGK-7SJFxDwx",
        "outputId": "17376e23-6520-4239-8cae-88c5c36c71a2"
      },
      "outputs": [
        {
          "data": {
            "text/plain": [
              "['carrot', 'cucumber', 'spinach']"
            ]
          },
          "execution_count": 115,
          "metadata": {},
          "output_type": "execute_result"
        }
      ],
      "source": [
        "vegetables = ['carrot', 'cucumber', 'spinach','cabbage','beans'] \n",
        "vegetables[0:3]"
      ]
    },
    {
      "cell_type": "code",
      "execution_count": null,
      "metadata": {
        "colab": {
          "base_uri": "https://localhost:8080/"
        },
        "id": "7tQ0S0ptxI6p",
        "outputId": "2f8ef0d0-29ac-4d93-ab52-4ef8c8bd95f7"
      },
      "outputs": [
        {
          "data": {
            "text/plain": [
              "['carrot']"
            ]
          },
          "execution_count": 116,
          "metadata": {},
          "output_type": "execute_result"
        }
      ],
      "source": [
        "vegetables[0:1]"
      ]
    },
    {
      "cell_type": "code",
      "execution_count": null,
      "metadata": {
        "colab": {
          "base_uri": "https://localhost:8080/"
        },
        "id": "ebiMeRZFxOPy",
        "outputId": "7da7d891-b0d7-48de-9ef8-1318a844832b"
      },
      "outputs": [
        {
          "name": "stdout",
          "output_type": "stream",
          "text": [
            "['spinach', 'cabbage']\n"
          ]
        }
      ],
      "source": [
        "print(vegetables[2:4])"
      ]
    },
    {
      "cell_type": "code",
      "execution_count": null,
      "metadata": {
        "id": "Hgp2hLWtxU3J"
      },
      "outputs": [],
      "source": [
        "vegetables = ['carrot', 'cucumber', 'spinach','cabbage','beans'] "
      ]
    },
    {
      "cell_type": "code",
      "execution_count": null,
      "metadata": {
        "colab": {
          "base_uri": "https://localhost:8080/"
        },
        "id": "hBNr3kx2xWN9",
        "outputId": "f66b4bde-e7be-45c3-f731-e760d7b9a70c"
      },
      "outputs": [
        {
          "data": {
            "text/plain": [
              "['carrot', 'beans']"
            ]
          },
          "execution_count": 119,
          "metadata": {},
          "output_type": "execute_result"
        }
      ],
      "source": [
        "vegetables[::4]"
      ]
    },
    {
      "cell_type": "code",
      "execution_count": null,
      "metadata": {
        "colab": {
          "base_uri": "https://localhost:8080/"
        },
        "id": "OeJ1NT1MxXKR",
        "outputId": "c0cdbdc3-106a-452d-f966-0cd4b191ce88"
      },
      "outputs": [
        {
          "data": {
            "text/plain": [
              "['carrot', 'cabbage']"
            ]
          },
          "execution_count": 120,
          "metadata": {},
          "output_type": "execute_result"
        }
      ],
      "source": [
        "vegetables[0::3]"
      ]
    },
    {
      "cell_type": "code",
      "execution_count": null,
      "metadata": {
        "colab": {
          "base_uri": "https://localhost:8080/"
        },
        "id": "M0FzHLqCxadt",
        "outputId": "8045d323-2a1b-49d5-b619-93d54fad70ab"
      },
      "outputs": [
        {
          "data": {
            "text/plain": [
              "['cucumber']"
            ]
          },
          "execution_count": 121,
          "metadata": {},
          "output_type": "execute_result"
        }
      ],
      "source": [
        "vegetables [1:2:2]"
      ]
    },
    {
      "cell_type": "code",
      "execution_count": null,
      "metadata": {
        "colab": {
          "base_uri": "https://localhost:8080/"
        },
        "id": "EcMxFjzxxcxD",
        "outputId": "236cbf2f-2de0-4687-bb2f-af6e96fc9fe4"
      },
      "outputs": [
        {
          "data": {
            "text/plain": [
              "[[1, 2], [3, 4], [5, 6]]"
            ]
          },
          "execution_count": 122,
          "metadata": {},
          "output_type": "execute_result"
        }
      ],
      "source": [
        "a = [[1, 2], [3,4], [5,6]] \n",
        "a"
      ]
    },
    {
      "cell_type": "code",
      "execution_count": null,
      "metadata": {
        "colab": {
          "base_uri": "https://localhost:8080/"
        },
        "id": "fZ-XymUNxf2B",
        "outputId": "2f8ed5b1-9ef4-42f6-f363-cccec0851220"
      },
      "outputs": [
        {
          "name": "stdout",
          "output_type": "stream",
          "text": [
            "[1, 'carrot', ['x', 'y'], 10.5, [10, 30]]\n"
          ]
        }
      ],
      "source": [
        "b = [1, 'carrot', ['x', 'y'], 10.5, [10, 30]] \n",
        "print(b)"
      ]
    },
    {
      "cell_type": "code",
      "execution_count": null,
      "metadata": {
        "colab": {
          "base_uri": "https://localhost:8080/"
        },
        "id": "kc8HDmrjxh5C",
        "outputId": "e81fc474-3c67-4dec-cd9f-2d806cb0bb3c"
      },
      "outputs": [
        {
          "data": {
            "text/plain": [
              "30"
            ]
          },
          "execution_count": 124,
          "metadata": {},
          "output_type": "execute_result"
        }
      ],
      "source": [
        "b = [1, 'carrot', ['x', 'y'], 10.5, [10, 30]] \n",
        "b[4][1]\n"
      ]
    },
    {
      "cell_type": "code",
      "execution_count": null,
      "metadata": {
        "colab": {
          "base_uri": "https://localhost:8080/"
        },
        "id": "gbDxusTjxp4s",
        "outputId": "16dfa247-82e3-4a97-ffcf-1b76d7adb0fc"
      },
      "outputs": [
        {
          "data": {
            "text/plain": [
              "10"
            ]
          },
          "execution_count": 125,
          "metadata": {},
          "output_type": "execute_result"
        }
      ],
      "source": [
        "b[4][0]"
      ]
    },
    {
      "cell_type": "code",
      "execution_count": null,
      "metadata": {
        "colab": {
          "base_uri": "https://localhost:8080/",
          "height": 35
        },
        "id": "mYVE9Bh8xrpX",
        "outputId": "409017ea-de1d-4884-9a46-1055d90875fa"
      },
      "outputs": [
        {
          "data": {
            "application/vnd.google.colaboratory.intrinsic+json": {
              "type": "string"
            },
            "text/plain": [
              "'y'"
            ]
          },
          "execution_count": 126,
          "metadata": {},
          "output_type": "execute_result"
        }
      ],
      "source": [
        "b[2][1]"
      ]
    },
    {
      "cell_type": "code",
      "execution_count": null,
      "metadata": {
        "colab": {
          "base_uri": "https://localhost:8080/",
          "height": 35
        },
        "id": "itnNeGm0xuEw",
        "outputId": "725f4084-bc8c-4289-d54a-ee9c7b90fcc3"
      },
      "outputs": [
        {
          "data": {
            "application/vnd.google.colaboratory.intrinsic+json": {
              "type": "string"
            },
            "text/plain": [
              "'x'"
            ]
          },
          "execution_count": 127,
          "metadata": {},
          "output_type": "execute_result"
        }
      ],
      "source": [
        "b[2][0]"
      ]
    },
    {
      "cell_type": "code",
      "execution_count": null,
      "metadata": {
        "colab": {
          "base_uri": "https://localhost:8080/"
        },
        "id": "G47edUn8xw2V",
        "outputId": "7dfb5326-a664-463f-8786-4cbe30243a63"
      },
      "outputs": [
        {
          "data": {
            "text/plain": [
              "['carrot', 'cucumber', 'spinach', 'cabbage', 'beans']"
            ]
          },
          "execution_count": 128,
          "metadata": {},
          "output_type": "execute_result"
        }
      ],
      "source": [
        "vegetables = ['carrot', 'cucumber', 'spinach','cabbage','beans'] \n",
        "vegetables"
      ]
    },
    {
      "cell_type": "code",
      "execution_count": null,
      "metadata": {
        "colab": {
          "base_uri": "https://localhost:8080/"
        },
        "id": "obZuEHcIxy3R",
        "outputId": "5713f537-2709-4bb9-846b-0b7eafdb2e21"
      },
      "outputs": [
        {
          "data": {
            "text/plain": [
              "['carrot', 'cucumber', 'spinach', 'brocoli', 'beans']"
            ]
          },
          "execution_count": 129,
          "metadata": {},
          "output_type": "execute_result"
        }
      ],
      "source": [
        "vegetables[3] = 'brocoli' # Mengubah isi indeks 3 menjadi 'brocoli' \n",
        "vegetables "
      ]
    },
    {
      "cell_type": "code",
      "execution_count": null,
      "metadata": {
        "colab": {
          "base_uri": "https://localhost:8080/"
        },
        "id": "Dck_hvGKx14k",
        "outputId": "66ea612f-8f46-41eb-aea3-9956664ad0e0"
      },
      "outputs": [
        {
          "data": {
            "text/plain": [
              "['carrot', 'cucumber', 'spinach', 'brocoli', 'beans']"
            ]
          },
          "execution_count": 130,
          "metadata": {},
          "output_type": "execute_result"
        }
      ],
      "source": [
        "vegetables[3] = 'brocoli' # Mengubah isi indeks 3 menjadi 'brocoli' \n",
        "vegetables "
      ]
    },
    {
      "cell_type": "code",
      "execution_count": null,
      "metadata": {
        "colab": {
          "base_uri": "https://localhost:8080/"
        },
        "id": "ZdiwidsgyKWk",
        "outputId": "e849916c-1f0a-4cca-e10f-33e1d292413e"
      },
      "outputs": [
        {
          "data": {
            "text/plain": [
              "['carrot', 'asparagus', 'spinach', 'brocoli', 'beans', 1, 2]"
            ]
          },
          "execution_count": 131,
          "metadata": {},
          "output_type": "execute_result"
        }
      ],
      "source": [
        "# Menambahkan nilai 1 dan 2 pada akhir list vegetables \n",
        "vegetables = ['carrot', 'asparagus', 'spinach','brocoli','beans']\n",
        "vegetables = vegetables + [1, 2] \n",
        "vegetables"
      ]
    },
    {
      "cell_type": "code",
      "execution_count": null,
      "metadata": {
        "colab": {
          "base_uri": "https://localhost:8080/"
        },
        "id": "XV2mya4ryMl0",
        "outputId": "7e8db4a1-dab5-4cdc-904c-277f8b357426"
      },
      "outputs": [
        {
          "name": "stdout",
          "output_type": "stream",
          "text": [
            "['cabbage', 'carrot', 'asparagus', 'spinach', 'brocoli', 'beans', 1, 2]\n"
          ]
        }
      ],
      "source": [
        "# Menambahkan 'cabbage' pada awal list vegetables \n",
        "vegetables = ['cabbage'] + vegetables \n",
        "print(vegetables )"
      ]
    },
    {
      "cell_type": "code",
      "execution_count": null,
      "metadata": {
        "colab": {
          "base_uri": "https://localhost:8080/"
        },
        "id": "ca7fhMpoyT2Y",
        "outputId": "fc7b84f3-09bd-4509-c15f-9bd6db2946ed"
      },
      "outputs": [
        {
          "data": {
            "text/plain": [
              "['carrot', 'asparagus', 'spinach', 'brocoli', 'beans', 'cabbage']"
            ]
          },
          "execution_count": 133,
          "metadata": {},
          "output_type": "execute_result"
        }
      ],
      "source": [
        "vegetables = ['carrot', 'asparagus', 'spinach','brocoli','beans']\n",
        "vegetables.append('cabbage')\n",
        "vegetables"
      ]
    },
    {
      "cell_type": "code",
      "execution_count": null,
      "metadata": {
        "id": "j5psUrM2yayt"
      },
      "outputs": [],
      "source": [
        "vegetables = ['carrot', 'asparagus', 'spinach','brocoli','beans']\n",
        "a = vegetables.append('cabbage')\n",
        "a"
      ]
    },
    {
      "cell_type": "code",
      "execution_count": null,
      "metadata": {
        "colab": {
          "base_uri": "https://localhost:8080/"
        },
        "id": "x3YCIMLjzDX2",
        "outputId": "f96758fc-888e-4fdc-81db-e9973ca00c13"
      },
      "outputs": [
        {
          "name": "stdout",
          "output_type": "stream",
          "text": [
            "['carrot', 'asparagus', 'spinach', 'brocoli', 'beans', 'c', 'a', 'b', 'b', 'a', 'g', 'e']\n"
          ]
        }
      ],
      "source": [
        "vegetables = ['carrot', 'asparagus', 'spinach','brocoli','beans']\n",
        "vegetables.extend('cabbage')\n",
        "print(vegetables)"
      ]
    },
    {
      "cell_type": "code",
      "execution_count": null,
      "metadata": {
        "colab": {
          "base_uri": "https://localhost:8080/"
        },
        "id": "JSC8xlExzFUw",
        "outputId": "88c3ef88-5d74-477e-90d1-66d9bd005577"
      },
      "outputs": [
        {
          "name": "stdout",
          "output_type": "stream",
          "text": [
            "['carrot', 'asparagus', 'spinach', 'brocoli', 'beans', 'cabbage']\n"
          ]
        }
      ],
      "source": [
        "vegetables = ['carrot', 'asparagus', 'spinach','brocoli','beans']\n",
        "vegetables.extend(['cabbage'])\n",
        "print(vegetables)"
      ]
    },
    {
      "cell_type": "code",
      "execution_count": null,
      "metadata": {
        "colab": {
          "base_uri": "https://localhost:8080/"
        },
        "id": "LCOGgvzwzNhg",
        "outputId": "43361626-2ad6-4a48-8758-83aaa1501945"
      },
      "outputs": [
        {
          "name": "stdout",
          "output_type": "stream",
          "text": [
            "['carrot', 'cabbage', 'asparagus', 'spinach', 'brocoli', 'beans']\n"
          ]
        }
      ],
      "source": [
        "vegetables = ['carrot', 'asparagus', 'spinach','brocoli','beans']\n",
        "vegetables.insert(1, 'cabbage')\n",
        "print(vegetables)"
      ]
    },
    {
      "cell_type": "code",
      "execution_count": null,
      "metadata": {
        "colab": {
          "base_uri": "https://localhost:8080/"
        },
        "id": "2n5Qkj7azPaz",
        "outputId": "48e128ee-494f-45db-a4c4-113c36e68ac9"
      },
      "outputs": [
        {
          "data": {
            "text/plain": [
              "['carrot', 'asparagus', 'brocoli', 'beans']"
            ]
          },
          "execution_count": 138,
          "metadata": {},
          "output_type": "execute_result"
        }
      ],
      "source": [
        "vegetables = ['carrot', 'asparagus', 'spinach','brocoli','beans']\n",
        "del vegetables[2]\n",
        "vegetables"
      ]
    },
    {
      "cell_type": "code",
      "execution_count": null,
      "metadata": {
        "colab": {
          "base_uri": "https://localhost:8080/"
        },
        "id": "sn7J6-H3zSRp",
        "outputId": "7b0f669e-cda9-4410-b5c3-3c76ababb93d"
      },
      "outputs": [
        {
          "data": {
            "text/plain": [
              "['carrot', 'asparagus', 'spinach', 'beans']"
            ]
          },
          "execution_count": 139,
          "metadata": {},
          "output_type": "execute_result"
        }
      ],
      "source": [
        "vegetables = ['carrot', 'asparagus', 'spinach','brocoli','beans']\n",
        "vegetables.remove('brocoli')\n",
        "vegetables"
      ]
    },
    {
      "cell_type": "code",
      "execution_count": null,
      "metadata": {
        "colab": {
          "base_uri": "https://localhost:8080/"
        },
        "id": "BnyZinm_zWIH",
        "outputId": "6653b9e0-09e6-4d53-b973-831e0c7ffd3f"
      },
      "outputs": [
        {
          "data": {
            "text/plain": [
              "['carrot', 'asparagus', 'brocoli', 'beans']"
            ]
          },
          "execution_count": 140,
          "metadata": {},
          "output_type": "execute_result"
        }
      ],
      "source": [
        "vegetables = ['carrot', 'asparagus', 'spinach','brocoli','beans']\n",
        "vegetables.pop(2)\n",
        "vegetables"
      ]
    },
    {
      "cell_type": "code",
      "execution_count": null,
      "metadata": {
        "colab": {
          "base_uri": "https://localhost:8080/"
        },
        "id": "5ikHvWh5zYEj",
        "outputId": "f2c14eaa-f808-4107-adb1-931c32a23f15"
      },
      "outputs": [
        {
          "data": {
            "text/plain": [
              "['carrot', 'asparagus', 'spinach', 'brocoli']"
            ]
          },
          "execution_count": 141,
          "metadata": {},
          "output_type": "execute_result"
        }
      ],
      "source": [
        "vegetables = ['carrot', 'asparagus', 'spinach','brocoli','beans']\n",
        "vegetables.pop()\n",
        "vegetables"
      ]
    },
    {
      "cell_type": "markdown",
      "metadata": {
        "id": "hSkZFmdJzanv"
      },
      "source": [
        "Dictionary"
      ]
    },
    {
      "cell_type": "code",
      "execution_count": null,
      "metadata": {
        "colab": {
          "base_uri": "https://localhost:8080/"
        },
        "id": "fP79j5gJzdjp",
        "outputId": "60617e54-ca33-4e88-db46-7ef25a0605c9"
      },
      "outputs": [
        {
          "data": {
            "text/plain": [
              "{(3, 4): 'c', 1: 'a', 2: 'b'}"
            ]
          },
          "execution_count": 142,
          "metadata": {},
          "output_type": "execute_result"
        }
      ],
      "source": [
        "a = {1: 'a', 2: 'b', (3,4): 'c'}\n",
        "a"
      ]
    },
    {
      "cell_type": "code",
      "execution_count": null,
      "metadata": {
        "colab": {
          "base_uri": "https://localhost:8080/"
        },
        "id": "ehOvhjmUzgaB",
        "outputId": "e1e4b120-59af-4d25-a38b-e128be89eb31"
      },
      "outputs": [
        {
          "data": {
            "text/plain": [
              "{'kota': 'Bogor', 'nama': 'Ira', 'umur': 20}"
            ]
          },
          "execution_count": 143,
          "metadata": {},
          "output_type": "execute_result"
        }
      ],
      "source": [
        "data_siswa = {\n",
        "    'nama': 'Ira',\n",
        "    'kota': 'Bogor',\n",
        "    'umur': 20\n",
        "    }\n",
        "data_siswa"
      ]
    },
    {
      "cell_type": "code",
      "execution_count": null,
      "metadata": {
        "colab": {
          "base_uri": "https://localhost:8080/",
          "height": 35
        },
        "id": "KirGHZE9zjt8",
        "outputId": "523f70d5-69d1-467f-f6a2-a600fc17e78f"
      },
      "outputs": [
        {
          "data": {
            "application/vnd.google.colaboratory.intrinsic+json": {
              "type": "string"
            },
            "text/plain": [
              "'Ira'"
            ]
          },
          "execution_count": 144,
          "metadata": {},
          "output_type": "execute_result"
        }
      ],
      "source": [
        "data_siswa = {\n",
        "    'nama': 'Ira',\n",
        "    'kota': 'Bogor',\n",
        "    'umur': 20\n",
        "    }\n",
        "data_siswa['nama'] # Mengakses value dengan key 'nama'"
      ]
    },
    {
      "cell_type": "code",
      "execution_count": null,
      "metadata": {
        "colab": {
          "base_uri": "https://localhost:8080/",
          "height": 35
        },
        "id": "O1KgF2E1zsF7",
        "outputId": "682644db-13db-470d-c520-efec0072bcdd"
      },
      "outputs": [
        {
          "data": {
            "application/vnd.google.colaboratory.intrinsic+json": {
              "type": "string"
            },
            "text/plain": [
              "'Bogor'"
            ]
          },
          "execution_count": 145,
          "metadata": {},
          "output_type": "execute_result"
        }
      ],
      "source": [
        "data_siswa['kota']"
      ]
    },
    {
      "cell_type": "code",
      "execution_count": null,
      "metadata": {
        "colab": {
          "base_uri": "https://localhost:8080/",
          "height": 35
        },
        "id": "4AIEjHWgztsK",
        "outputId": "45db2c3d-992b-4324-cd9b-326768f1eac4"
      },
      "outputs": [
        {
          "data": {
            "application/vnd.google.colaboratory.intrinsic+json": {
              "type": "string"
            },
            "text/plain": [
              "'Ira'"
            ]
          },
          "execution_count": 146,
          "metadata": {},
          "output_type": "execute_result"
        }
      ],
      "source": [
        "data_siswa.get('nama')"
      ]
    },
    {
      "cell_type": "code",
      "execution_count": null,
      "metadata": {
        "colab": {
          "base_uri": "https://localhost:8080/",
          "height": 35
        },
        "id": "ztckB9_fzutX",
        "outputId": "1090ae56-f1af-44ad-9ad6-56f348bfe0f7"
      },
      "outputs": [
        {
          "data": {
            "application/vnd.google.colaboratory.intrinsic+json": {
              "type": "string"
            },
            "text/plain": [
              "'Bogor'"
            ]
          },
          "execution_count": 147,
          "metadata": {},
          "output_type": "execute_result"
        }
      ],
      "source": [
        "data_siswa.get('kota')"
      ]
    },
    {
      "cell_type": "code",
      "execution_count": null,
      "metadata": {
        "colab": {
          "base_uri": "https://localhost:8080/"
        },
        "id": "cKq_ZHLlz1Ta",
        "outputId": "96d9e0d9-8bbb-4aa3-d768-ec1589a11450"
      },
      "outputs": [
        {
          "data": {
            "text/plain": [
              "dict_values(['Ira', 'Bogor', 20])"
            ]
          },
          "execution_count": 148,
          "metadata": {},
          "output_type": "execute_result"
        }
      ],
      "source": [
        "data_siswa.values()"
      ]
    },
    {
      "cell_type": "code",
      "execution_count": null,
      "metadata": {
        "colab": {
          "base_uri": "https://localhost:8080/"
        },
        "id": "Xa1L8jIiz10F",
        "outputId": "62059130-f388-46a8-b047-57a7114baae7"
      },
      "outputs": [
        {
          "data": {
            "text/plain": [
              "dict_keys(['nama', 'kota', 'umur'])"
            ]
          },
          "execution_count": 149,
          "metadata": {},
          "output_type": "execute_result"
        }
      ],
      "source": [
        "data_siswa.keys()"
      ]
    },
    {
      "cell_type": "code",
      "execution_count": null,
      "metadata": {
        "colab": {
          "base_uri": "https://localhost:8080/"
        },
        "id": "dJB26oWnz4e0",
        "outputId": "678eedcf-14b2-4335-ab7f-9eeddc993c6e"
      },
      "outputs": [
        {
          "data": {
            "text/plain": [
              "['nama', 'kota', 'umur']"
            ]
          },
          "execution_count": 150,
          "metadata": {},
          "output_type": "execute_result"
        }
      ],
      "source": [
        "[*data_siswa]"
      ]
    },
    {
      "cell_type": "code",
      "execution_count": null,
      "metadata": {
        "colab": {
          "base_uri": "https://localhost:8080/"
        },
        "id": "18cnDqMDz7Jm",
        "outputId": "c3790622-2a88-4f91-92d7-d291b3922901"
      },
      "outputs": [
        {
          "data": {
            "text/plain": [
              "{'student1': {'age': 30, 'name': 'Doe'},\n",
              " 'student2': {'age': 31, 'name': 'Robert'},\n",
              " 'student3': {'age': 33, 'name': 'Andy'}}"
            ]
          },
          "execution_count": 151,
          "metadata": {},
          "output_type": "execute_result"
        }
      ],
      "source": [
        "students = {'student1': {'name': 'Doe', 'age': 30},\n",
        "            'student2': {'name': 'Robert', 'age': 31},\n",
        "            'student3': {'name': 'Andy', 'age': 33}\n",
        "            }\n",
        "students "
      ]
    },
    {
      "cell_type": "code",
      "execution_count": null,
      "metadata": {
        "colab": {
          "base_uri": "https://localhost:8080/"
        },
        "id": "88OFuWYv0ZCU",
        "outputId": "9db11449-fd40-4297-ce4a-4e0dae156fcf"
      },
      "outputs": [
        {
          "data": {
            "text/plain": [
              "{'student1': {'age': 30, 'name': 'Doe'},\n",
              " 'student2': {'age': 31, 'name': 'Robert'},\n",
              " 'student3': {'age': 33, 'name': 'Andy'}}"
            ]
          },
          "execution_count": 152,
          "metadata": {},
          "output_type": "execute_result"
        }
      ],
      "source": [
        "student1 = {'name': 'Doe', 'age': 30}\n",
        "student2 = {'name': 'Robert', 'age': 31}\n",
        "student3 = {'name': 'Andy', 'age': 33}\n",
        "\n",
        "students= {\n",
        " 'student1': student1,\n",
        " 'student2': student2,\n",
        " 'student3': student3\n",
        "}\n",
        "students"
      ]
    },
    {
      "cell_type": "code",
      "execution_count": null,
      "metadata": {
        "colab": {
          "base_uri": "https://localhost:8080/"
        },
        "id": "mdXaeUsG025r",
        "outputId": "0ff3110f-1e8b-42dd-9e22-8c1acece84a1"
      },
      "outputs": [
        {
          "data": {
            "text/plain": [
              "{'kota': 'Bandung', 'nama': 'Ira', 'umur': 20}"
            ]
          },
          "execution_count": 153,
          "metadata": {},
          "output_type": "execute_result"
        }
      ],
      "source": [
        "data_siswa = {\n",
        "    'nama': 'Ira',\n",
        "    'kota': 'Bogor', \n",
        "    'umur': 20\n",
        "}\n",
        "data_siswa['kota'] = 'Bandung' # Mengubah data kota\n",
        "data_siswa"
      ]
    },
    {
      "cell_type": "code",
      "execution_count": null,
      "metadata": {
        "colab": {
          "base_uri": "https://localhost:8080/"
        },
        "id": "nzYSdkIg1AU7",
        "outputId": "1a7042d5-d5e9-47e5-d420-b0b98128bcc4"
      },
      "outputs": [
        {
          "data": {
            "text/plain": [
              "{'kota': 'Bandung', 'nama': 'Ira', 'umur': 21}"
            ]
          },
          "execution_count": 154,
          "metadata": {},
          "output_type": "execute_result"
        }
      ],
      "source": [
        "data_siswa['umur'] = 21 # Mengubah data umur\n",
        "data_siswa "
      ]
    },
    {
      "cell_type": "code",
      "execution_count": null,
      "metadata": {
        "colab": {
          "base_uri": "https://localhost:8080/"
        },
        "id": "0q9PsHQk1Eez",
        "outputId": "3c733b3b-b796-4b91-a851-9a5c854d33ae"
      },
      "outputs": [
        {
          "data": {
            "text/plain": [
              "{'student1': {'age': 30, 'name': 'Doe'},\n",
              " 'student2': {'age': 31, 'name': 'Robert'},\n",
              " 'student3': {'age': 34, 'name': 'Andi'}}"
            ]
          },
          "execution_count": 155,
          "metadata": {},
          "output_type": "execute_result"
        }
      ],
      "source": [
        "students = {\n",
        "    'student1' : {'name': 'Doe', 'age': 30},\n",
        "    'student2' : {'name': 'Robert', 'age': 31},\n",
        "    'student3' : {'name': 'Andi', 'age': 32}\n",
        "    }\n",
        "    \n",
        "students['student3']['age'] = 34 # Mengubah nilai age\n",
        "students"
      ]
    },
    {
      "cell_type": "code",
      "execution_count": null,
      "metadata": {
        "colab": {
          "base_uri": "https://localhost:8080/"
        },
        "id": "MACyy78e1U-2",
        "outputId": "4552c2b9-7429-4238-8b9c-066ba41447fd"
      },
      "outputs": [
        {
          "data": {
            "text/plain": [
              "{'jurusan': 'Teknik Informatika', 'kota': 'Bogor', 'nama': 'Ira', 'umur': 20}"
            ]
          },
          "execution_count": 156,
          "metadata": {},
          "output_type": "execute_result"
        }
      ],
      "source": [
        "data_siswa = {\n",
        "    'nama': 'Ira',\n",
        "    'kota': 'Bogor',\n",
        "    'umur': 20\n",
        "}\n",
        "data_siswa ['jurusan'] = 'Teknik Informatika' # Menambahkan key 'jurusan' yang diberikan nilai 'Teknik Informatika'\n",
        "data_siswa"
      ]
    },
    {
      "cell_type": "code",
      "execution_count": null,
      "metadata": {
        "colab": {
          "base_uri": "https://localhost:8080/"
        },
        "id": "RtvYKdmx1aqR",
        "outputId": "36802ca9-ffa3-4fe1-b333-ca4756b86ed2"
      },
      "outputs": [
        {
          "name": "stdout",
          "output_type": "stream",
          "text": [
            "{'nama': 'Ira', 'umur': 20, 'jurusan': 'Teknik Informatika'}\n"
          ]
        }
      ],
      "source": [
        "data_siswa = {\n",
        "    'nama': 'Ira',\n",
        "    'kota': 'Bogor',\n",
        "    'umur': 20,\n",
        "    'jurusan':'Teknik Informatika'\n",
        "}\n",
        "data_siswa.pop('kota') # Menghapus kota\n",
        "print(data_siswa)"
      ]
    },
    {
      "cell_type": "code",
      "execution_count": null,
      "metadata": {
        "colab": {
          "base_uri": "https://localhost:8080/"
        },
        "id": "ZcKfNgEz1g6w",
        "outputId": "517b3f70-6c9f-43bc-80d1-9b1d5ae976b8"
      },
      "outputs": [
        {
          "name": "stdout",
          "output_type": "stream",
          "text": [
            "{'nama': 'Ira', 'kota': 'Bogor', 'umur': 20}\n"
          ]
        }
      ],
      "source": [
        "data_siswa = {\n",
        "    'nama': 'Ira',\n",
        "    'kota': 'Bogor',\n",
        "    'umur': 20,\n",
        "    'jurusan':'Teknik Informatika'\n",
        "}\n",
        "\n",
        "data_siswa.popitem() # Method popitem() akan menghapus nilai akhir\n",
        "print(data_siswa)"
      ]
    },
    {
      "cell_type": "code",
      "execution_count": null,
      "metadata": {
        "colab": {
          "base_uri": "https://localhost:8080/"
        },
        "id": "hgAAa_d51lqK",
        "outputId": "72ba9d19-c9f9-4024-d2be-764434e19576"
      },
      "outputs": [
        {
          "name": "stdout",
          "output_type": "stream",
          "text": [
            "{'nama': 'Ira', 'kota': 'Bogor', 'jurusan': 'Teknik Informatika'}\n"
          ]
        }
      ],
      "source": [
        "data_siswa = {\n",
        "    'nama': 'Ira',\n",
        "    'kota': 'Bogor',\n",
        "    'umur': 20,\n",
        "    'jurusan':'Teknik Informatika'\n",
        "}\n",
        "del data_siswa['umur'] # Menghapus umurmenggunakan del\n",
        "print(data_siswa)"
      ]
    },
    {
      "cell_type": "code",
      "execution_count": null,
      "metadata": {
        "colab": {
          "base_uri": "https://localhost:8080/",
          "height": 201
        },
        "id": "bjK4f8oI1rFu",
        "outputId": "531c39df-79ef-45c1-88b0-353482cf3ee9"
      },
      "outputs": [
        {
          "ename": "NameError",
          "evalue": "ignored",
          "output_type": "error",
          "traceback": [
            "\u001b[0;31m---------------------------------------------------------------------------\u001b[0m",
            "\u001b[0;31mNameError\u001b[0m                                 Traceback (most recent call last)",
            "\u001b[0;32m<ipython-input-160-37b668eddc76>\u001b[0m in \u001b[0;36m<module>\u001b[0;34m()\u001b[0m\n\u001b[1;32m      6\u001b[0m }\n\u001b[1;32m      7\u001b[0m \u001b[0;32mdel\u001b[0m \u001b[0mdata_siswa\u001b[0m \u001b[0;31m# Menghapus dictionary data_siswa\u001b[0m\u001b[0;34m\u001b[0m\u001b[0;34m\u001b[0m\u001b[0m\n\u001b[0;32m----> 8\u001b[0;31m \u001b[0mprint\u001b[0m\u001b[0;34m(\u001b[0m\u001b[0mdata_siswa\u001b[0m\u001b[0;34m)\u001b[0m\u001b[0;34m\u001b[0m\u001b[0;34m\u001b[0m\u001b[0m\n\u001b[0m",
            "\u001b[0;31mNameError\u001b[0m: name 'data_siswa' is not defined"
          ]
        }
      ],
      "source": [
        "data_siswa = {\n",
        "    'nama': 'Ira',\n",
        "    'kota': 'Bogor',\n",
        "    'umur': 20,\n",
        "    'jurusan':'Teknik Informatika'\n",
        "}\n",
        "del data_siswa # Menghapus dictionary data_siswa\n",
        "print(data_siswa)"
      ]
    },
    {
      "cell_type": "code",
      "execution_count": null,
      "metadata": {
        "colab": {
          "base_uri": "https://localhost:8080/"
        },
        "id": "udTc5ye91zQ3",
        "outputId": "30b92338-6c84-48e9-a57a-bba2ab1d0b8e"
      },
      "outputs": [
        {
          "name": "stdout",
          "output_type": "stream",
          "text": [
            "{}\n"
          ]
        }
      ],
      "source": [
        "data_siswa = {\n",
        "    'nama': 'Ira',\n",
        "    'kota': 'Bogor',\n",
        "    'umur': 20,\n",
        "    'jurusan':'Teknik Informatika'\n",
        "}\n",
        "data_siswa.clear() # Mengosongkan isi dictionary dengan clear()\n",
        "print(data_siswa)"
      ]
    },
    {
      "cell_type": "code",
      "execution_count": null,
      "metadata": {
        "colab": {
          "base_uri": "https://localhost:8080/"
        },
        "id": "2H6CRN5P12oZ",
        "outputId": "856808d9-fe3a-4317-e8dd-b1fb6671c790"
      },
      "outputs": [
        {
          "name": "stdout",
          "output_type": "stream",
          "text": [
            "{'nama': 'Ira', 'kota': 'Bogor', 'umur': 20, 'jurusan': 'Teknik Informatika'}\n"
          ]
        }
      ],
      "source": [
        "data_siswa = {\n",
        "    'nama': 'Ira',\n",
        "    'kota': 'Bogor',\n",
        "    'umur': 20,\n",
        "    'jurusan':'Teknik Informatika'\n",
        "}\n",
        "# Menduplikasi 'data_siswa' ke dalam dictionary baru ke dalam 'siswa'\n",
        "siswa = data_siswa.copy() \n",
        "print(siswa)"
      ]
    },
    {
      "cell_type": "code",
      "execution_count": null,
      "metadata": {
        "colab": {
          "base_uri": "https://localhost:8080/"
        },
        "id": "2AW44khr1_hT",
        "outputId": "8ea4bb21-0f5a-4aca-bd27-88c6df7668a6"
      },
      "outputs": [
        {
          "data": {
            "text/plain": [
              "4"
            ]
          },
          "execution_count": 163,
          "metadata": {},
          "output_type": "execute_result"
        }
      ],
      "source": [
        "data_siswa = {\n",
        "    'nama': 'Ira',\n",
        "    'kota': 'Bogor',\n",
        "    'umur': 20,\n",
        "    'jurusan':'Teknik Informatika'\n",
        "}\n",
        "\n",
        "len(data_siswa) # Menghitung panjang dictionary (jumlah item)"
      ]
    },
    {
      "cell_type": "code",
      "execution_count": null,
      "metadata": {
        "colab": {
          "base_uri": "https://localhost:8080/"
        },
        "id": "8S1sHbob2DTu",
        "outputId": "84e97fa3-a91b-4e84-bdb0-3b850cec0e08"
      },
      "outputs": [
        {
          "data": {
            "text/plain": [
              "True"
            ]
          },
          "execution_count": 164,
          "metadata": {},
          "output_type": "execute_result"
        }
      ],
      "source": [
        "data_siswa = {\n",
        "    'nama': 'Ira',\n",
        "    'kota': 'Bogor',\n",
        "    'umur': 20,\n",
        "    'jurusan':'Teknik Informatika'\n",
        "}\n",
        "\n",
        "'nama' in data_siswa # Mengecek apakah 'nama' ada sebagai key di data_siswa "
      ]
    },
    {
      "cell_type": "code",
      "execution_count": null,
      "metadata": {
        "colab": {
          "base_uri": "https://localhost:8080/"
        },
        "id": "3yZyR-0h2KAG",
        "outputId": "b3af5000-6c13-4fc7-aebb-73fb280bd065"
      },
      "outputs": [
        {
          "data": {
            "text/plain": [
              "False"
            ]
          },
          "execution_count": 165,
          "metadata": {},
          "output_type": "execute_result"
        }
      ],
      "source": [
        "'hobi' in data_siswa"
      ]
    },
    {
      "cell_type": "markdown",
      "metadata": {
        "id": "srHvFMJW2MPs"
      },
      "source": [
        "Seleksi Kondisi"
      ]
    },
    {
      "cell_type": "code",
      "execution_count": null,
      "metadata": {
        "colab": {
          "base_uri": "https://localhost:8080/"
        },
        "id": "ASygm3RH2Pwd",
        "outputId": "6aa4c982-98cf-488c-f891-5270317654a9"
      },
      "outputs": [
        {
          "data": {
            "text/plain": [
              "False"
            ]
          },
          "execution_count": 166,
          "metadata": {},
          "output_type": "execute_result"
        }
      ],
      "source": [
        "a = 2 \n",
        "a == 4 # Contoh penggunaan operator =="
      ]
    },
    {
      "cell_type": "code",
      "execution_count": null,
      "metadata": {
        "colab": {
          "base_uri": "https://localhost:8080/"
        },
        "id": "i9O9v95C2RkR",
        "outputId": "cf4403cd-db12-4750-d089-0ec4e62d8527"
      },
      "outputs": [
        {
          "data": {
            "text/plain": [
              "True"
            ]
          },
          "execution_count": 167,
          "metadata": {},
          "output_type": "execute_result"
        }
      ],
      "source": [
        "a = 2\n",
        "a != 4 # Contoh penggunaan operator !="
      ]
    },
    {
      "cell_type": "code",
      "execution_count": null,
      "metadata": {
        "colab": {
          "base_uri": "https://localhost:8080/"
        },
        "id": "4UYJzT-92UK5",
        "outputId": "16ad5661-5107-4518-bb7d-6522c434057a"
      },
      "outputs": [
        {
          "data": {
            "text/plain": [
              "False"
            ]
          },
          "execution_count": 168,
          "metadata": {},
          "output_type": "execute_result"
        }
      ],
      "source": [
        "a = 2\n",
        "a > 4 # Contoh penggunaan operator >"
      ]
    },
    {
      "cell_type": "code",
      "execution_count": null,
      "metadata": {
        "colab": {
          "base_uri": "https://localhost:8080/"
        },
        "id": "m3yRjEZP2V1x",
        "outputId": "92d688bf-bdd0-4010-a087-ebbc3b4bf2f0"
      },
      "outputs": [
        {
          "data": {
            "text/plain": [
              "True"
            ]
          },
          "execution_count": 169,
          "metadata": {},
          "output_type": "execute_result"
        }
      ],
      "source": [
        "a = 2\n",
        "a < 4 # Contoh penggunaan operator <"
      ]
    },
    {
      "cell_type": "code",
      "execution_count": null,
      "metadata": {
        "colab": {
          "base_uri": "https://localhost:8080/"
        },
        "id": "MmUA3OtF2XYq",
        "outputId": "22cc6482-144a-430c-c7f9-4e2fbaf04dca"
      },
      "outputs": [
        {
          "data": {
            "text/plain": [
              "True"
            ]
          },
          "execution_count": 170,
          "metadata": {},
          "output_type": "execute_result"
        }
      ],
      "source": [
        "a = 2\n",
        "4 > a"
      ]
    },
    {
      "cell_type": "code",
      "execution_count": null,
      "metadata": {
        "colab": {
          "base_uri": "https://localhost:8080/"
        },
        "id": "B-Bj82z_2X4T",
        "outputId": "0b223d72-ffa1-4c01-ae13-946f6970c023"
      },
      "outputs": [
        {
          "data": {
            "text/plain": [
              "False"
            ]
          },
          "execution_count": 171,
          "metadata": {},
          "output_type": "execute_result"
        }
      ],
      "source": [
        "a = 2\n",
        "4 < a"
      ]
    },
    {
      "cell_type": "code",
      "execution_count": null,
      "metadata": {
        "colab": {
          "base_uri": "https://localhost:8080/"
        },
        "id": "oIMErD0b2bDG",
        "outputId": "4f53345b-025b-4506-d60f-ef89dfe3755f"
      },
      "outputs": [
        {
          "data": {
            "text/plain": [
              "False"
            ]
          },
          "execution_count": 172,
          "metadata": {},
          "output_type": "execute_result"
        }
      ],
      "source": [
        "a = 2\n",
        "a >= 4 # Contoh penggunaan operator >="
      ]
    },
    {
      "cell_type": "code",
      "execution_count": null,
      "metadata": {
        "colab": {
          "base_uri": "https://localhost:8080/"
        },
        "id": "pqDbJQrD2-c6",
        "outputId": "90fd989d-0cd1-48cb-9f25-2c05b335a478"
      },
      "outputs": [
        {
          "data": {
            "text/plain": [
              "True"
            ]
          },
          "execution_count": 173,
          "metadata": {},
          "output_type": "execute_result"
        }
      ],
      "source": [
        "a = 2\n",
        "a <= 4 # Contoh penggunaan operator <="
      ]
    },
    {
      "cell_type": "code",
      "execution_count": null,
      "metadata": {
        "colab": {
          "background_save": true
        },
        "id": "yfhmp0Uo3AbO"
      },
      "outputs": [],
      "source": [
        "'HAI' == 'Hai' # Operator perbandingan untuk membandingkan string"
      ]
    },
    {
      "cell_type": "code",
      "execution_count": null,
      "metadata": {
        "colab": {
          "background_save": true
        },
        "id": "tcP9ajCJ3DyI"
      },
      "outputs": [],
      "source": [
        "'HAI' != 'Hai'"
      ]
    },
    {
      "cell_type": "code",
      "execution_count": null,
      "metadata": {
        "colab": {
          "background_save": true
        },
        "id": "B2ULt0ba3Hhf"
      },
      "outputs": [],
      "source": [
        "'B' > 'C'"
      ]
    },
    {
      "cell_type": "code",
      "execution_count": null,
      "metadata": {
        "colab": {
          "background_save": true
        },
        "id": "RrQaRvX93I8U"
      },
      "outputs": [],
      "source": [
        "'C' > 'B'"
      ]
    },
    {
      "cell_type": "code",
      "execution_count": null,
      "metadata": {
        "colab": {
          "background_save": true
        },
        "id": "eYZUQKUf3MHO"
      },
      "outputs": [],
      "source": [
        ""
      ]
    },
    {
      "cell_type": "code",
      "execution_count": null,
      "metadata": {
        "colab": {
          "background_save": true
        },
        "id": "zxXMqOrY3eFz"
      },
      "outputs": [],
      "source": [
        "voucher = 'Yes'\n",
        "# Penyataan kondisi\n",
        "if voucher == 'Yes':\n",
        "  \n",
        "  # Perintah di dalam indentasi (ditulis menjorok ke dalam) yang dieksekusi jika kondisi terpenuhi\n",
        "  print('berhasil')\n"
      ]
    },
    {
      "cell_type": "code",
      "execution_count": null,
      "metadata": {
        "colab": {
          "background_save": true
        },
        "id": "vyXIANVq6_ei"
      },
      "outputs": [],
      "source": [
        "voucher = 'No'\n",
        "# Penyataan kondisi\n",
        "if voucher == 'Yes':\n",
        "  \n",
        "  # Perintah yang dieksekusi jika kondisi terpenuh\n",
        "  print('berhasil')"
      ]
    },
    {
      "cell_type": "code",
      "execution_count": null,
      "metadata": {
        "colab": {
          "background_save": true
        },
        "id": "4muILl7A8P7C"
      },
      "outputs": [],
      "source": [
        "voucher = 'No'\n",
        "# Penyataan kondisi\n",
        "if voucher == 'Yes':\n",
        "  \n",
        "  # Perintah yang dieksekusi jika kondisi terpenuhi\n",
        "  print('berhasil')\n",
        "  \n",
        "# Perintah yang dieksekusi baik saat kondisi terpenuhi maupun tidak\n",
        "print('Selamat!')"
      ]
    },
    {
      "cell_type": "code",
      "execution_count": null,
      "metadata": {
        "colab": {
          "background_save": true
        },
        "id": "zh8IW-848hvw"
      },
      "outputs": [],
      "source": [
        "voucher = 'Yes'\n",
        "# Penyataan kondisi\n",
        "if voucher == 'Yes':\n",
        "  \n",
        "  # Perintah yang dieksekusi jika kondisi terpenuhi\n",
        "  print('berhasil')\n",
        "  \n",
        "# Perintah yang dieksekusi baik saat kondisi terpenuhi maupun tidak\n",
        "print('Selamat !')"
      ]
    },
    {
      "cell_type": "code",
      "execution_count": null,
      "metadata": {
        "colab": {
          "background_save": true
        },
        "id": "-27LXv9f8qEr"
      },
      "outputs": [],
      "source": [
        "voucher = 'Yes'\n",
        "# Penyataan kondisi\n",
        "if voucher == 'Yes':\n",
        "  \n",
        "  # Perintah yang dieksekusi jika kondisi terpenuhi\n",
        "  print('berhasil')\n",
        "\n",
        "else:\n",
        "\t\n",
        "  # perintah yang dieksekusi jika kondisi tidak terpenuhi\n",
        "\tprint('beli voucher dahulu')\n",
        "\n",
        "print('Selamat!')"
      ]
    },
    {
      "cell_type": "code",
      "execution_count": null,
      "metadata": {
        "colab": {
          "background_save": true
        },
        "id": "j8_w8CfJ8wrn"
      },
      "outputs": [],
      "source": [
        "voucher = 'No'\n",
        "# Penyataan kondisi\n",
        "if voucher == 'Yes':\n",
        "\n",
        "  # Perintah yang dieksekusi jika kondisi terpenuhi\n",
        "  print('berhasil')\n",
        "else:\n",
        "\n",
        "\t# perintah yang dieksekusi jika kondisi tidak terpenuhi\n",
        "\tprint('beli voucher dahulu')\n",
        " \n",
        "print('Selamat!')"
      ]
    },
    {
      "cell_type": "code",
      "execution_count": null,
      "metadata": {
        "colab": {
          "background_save": true
        },
        "id": "Ll4EIRPZ81cm"
      },
      "outputs": [],
      "source": [
        "x = 2\n",
        "if (x % 2 == 1):\n",
        "  print(x, 'adalah bilangan ganjil')\n",
        "else:\n",
        "  print(x, 'adalah bilangan genap')"
      ]
    },
    {
      "cell_type": "code",
      "execution_count": null,
      "metadata": {
        "colab": {
          "background_save": true
        },
        "id": "dJpiZzIc85hk"
      },
      "outputs": [],
      "source": [
        "usia = 20\n",
        "if (usia > 20):\n",
        "  print('Silahkan masuk ke ruang A')\n",
        "elif (usia == 20):\n",
        "  print('Silahkan masuk ke ruang B')\n",
        "else:\n",
        "  print('Anda tidak boleh masuk')"
      ]
    },
    {
      "cell_type": "code",
      "execution_count": null,
      "metadata": {
        "colab": {
          "background_save": true
        },
        "id": "EEiuV6cr8-Bd"
      },
      "outputs": [],
      "source": [
        "biaya = 30000\n",
        "\n",
        "if (biaya > 10000):\n",
        "    biaya = biaya - (biaya * 0.15)\n",
        "    print('diskon 15%')\n",
        "  \n",
        "elif(biaya == 20000):\n",
        "    biaya = biaya - (biaya * 0.1)\n",
        "    print('diskon 10%')\n",
        " \n",
        "else:\n",
        "\t  biaya = biaya\n",
        "\n",
        "print('Total yang harus dibayar adalah Rp. {:.0f}'.format(biaya))\n",
        "print('\\nTerima kasih!')"
      ]
    },
    {
      "cell_type": "code",
      "execution_count": null,
      "metadata": {
        "colab": {
          "background_save": true
        },
        "id": "DuJesxJ6-HtK"
      },
      "outputs": [],
      "source": [
        "# Contoh penggunaan operator logika 'and'\n",
        "angka = 90\n",
        "if (angka>= 80):\n",
        "\t nilai = 'A'\n",
        "elif (angka>= 70 and angka< 80):\n",
        " \tnilai = 'B'\n",
        "elif (angka>= 60 and angka< 70):\n",
        " \tnilai = 'C'\n",
        "elif (angka>= 50 and angka< 60):\n",
        " \tnilai = 'D'\n",
        "elif (angka< 50):\n",
        " \tnilai = 'E'\n",
        " \n",
        "print('Nilai akhir adalah ', nilai) "
      ]
    },
    {
      "cell_type": "code",
      "execution_count": null,
      "metadata": {
        "colab": {
          "background_save": true
        },
        "id": "kdqyelC1-KBo"
      },
      "outputs": [],
      "source": [
        "# Contoh penggunaan operator logika 'or'\n",
        "nilai = 'B'\n",
        "if (nilai == 'A' or nilai == 'B' or nilai == 'C'):\n",
        " \tprint('Berhasil!')\n",
        "else:\n",
        " \tprint('Gagal')"
      ]
    },
    {
      "cell_type": "code",
      "execution_count": null,
      "metadata": {
        "colab": {
          "background_save": true
        },
        "id": "YZ-wk93g-ORp"
      },
      "outputs": [],
      "source": [
        "# Contoh penggunaan operator logika 'not'\n",
        "nilai = 80\n",
        "if not nilai == 85:\n",
        "\tprint('Gagal!')\n",
        "else:\n",
        "\tprint('Berhasil!')"
      ]
    },
    {
      "cell_type": "markdown",
      "metadata": {
        "id": "bBow2los-QKj"
      },
      "source": [
        "Fungsi"
      ]
    },
    {
      "cell_type": "code",
      "execution_count": null,
      "metadata": {
        "colab": {
          "background_save": true
        },
        "id": "I_qBr6U2-RGl"
      },
      "outputs": [],
      "source": [
        "# Contoh fungsi untuk menambah nilai dengan angka 2\n",
        "def tambah_dua(a):\n",
        "\tb = a + 2\n",
        "\treturn b\n",
        "# Memanggil fungsi tambah_dua\n",
        "tambah_dua(1)"
      ]
    },
    {
      "cell_type": "code",
      "execution_count": null,
      "metadata": {
        "colab": {
          "background_save": true
        },
        "id": "7kyuy6sS-Wka"
      },
      "outputs": [],
      "source": [
        "# Contoh fungsi perkalian dua bilangan\n",
        "def perkalian(x, y):\n",
        "\tz = x * y\n",
        "\treturn print(x, 'dikali', y, 'sama dengan ', z)\n",
        "# Memanggil fungsi perkalian\n",
        "perkalian(2,3)"
      ]
    },
    {
      "cell_type": "code",
      "execution_count": null,
      "metadata": {
        "colab": {
          "background_save": true
        },
        "id": "jcAD2xhZ-Zbx"
      },
      "outputs": [],
      "source": [
        "a1 = 2\n",
        "b1 = 3\n",
        "c1 = a1 * 3 + b1 * 4\n",
        "\n",
        "if (c1 > 25):\n",
        "  c1 = c1\n",
        "else:\n",
        "  c1 = 0"
      ]
    },
    {
      "cell_type": "code",
      "execution_count": null,
      "metadata": {
        "colab": {
          "background_save": true
        },
        "id": "lTjPbm7y-hS5"
      },
      "outputs": [],
      "source": [
        "a2 = 5\n",
        "b2 = 6\n",
        "c2 = a2 * 3 + b2 * 4\n",
        "\n",
        "if (c2 > 25):\n",
        "  c2 = c2\n",
        "else:\n",
        "  c2 = 0"
      ]
    },
    {
      "cell_type": "code",
      "execution_count": null,
      "metadata": {
        "colab": {
          "background_save": true
        },
        "id": "usSx_2Uo_BLB"
      },
      "outputs": [],
      "source": [
        "# Fungsi untuk menghitung a dan b\n",
        "def hitung_ab(a, b):\n",
        "  c = a * 3 + b * 4\n",
        "  \n",
        "  if (c > 25):\n",
        "   c = c\n",
        "   \n",
        "  else:\n",
        "   c = 0\n",
        "  \n",
        "  return c"
      ]
    },
    {
      "cell_type": "code",
      "execution_count": null,
      "metadata": {
        "colab": {
          "background_save": true
        },
        "id": "iwh75N7n_Z1V"
      },
      "outputs": [],
      "source": [
        "a1 = 2\n",
        "b1 = 3\n",
        "c1 = hitung_ab(a1, b1)\n",
        "c1"
      ]
    },
    {
      "cell_type": "code",
      "execution_count": null,
      "metadata": {
        "colab": {
          "background_save": true
        },
        "id": "rUOCEdln_brd"
      },
      "outputs": [],
      "source": [
        "a2 = 5\n",
        "b2 = 4\n",
        "c2 = hitung_ab(a2, b2)\n",
        "c2"
      ]
    },
    {
      "cell_type": "code",
      "execution_count": null,
      "metadata": {
        "colab": {
          "background_save": true
        },
        "id": "iDsHk20V_ay_"
      },
      "outputs": [],
      "source": [
        "# Contoh penggunaan variabel global dan local\n",
        "kota_asal = 'Bogor'\n",
        "\n",
        "def kota(kota_asal):\n",
        "  kota_indo = kota_asal\n",
        "  print(kota_indo, 'adalah salah satu kota di Indonesia')\n",
        "kota(kota_asal)"
      ]
    },
    {
      "cell_type": "code",
      "execution_count": null,
      "metadata": {
        "colab": {
          "background_save": true
        },
        "id": "vb-IR2Hz_wxj"
      },
      "outputs": [],
      "source": [
        "kota_asal = 'Bogor'\n",
        "def kota(kota_asal):\n",
        "  global kota_indo\n",
        "  kota_indo = 'Jakarta Timur'\n",
        "  print(kota_asal, 'adalah salah satu kota di Indonesia')\n",
        "  \n",
        "kota(kota_asal)\n",
        "kota(kota_indo)"
      ]
    },
    {
      "cell_type": "code",
      "execution_count": null,
      "metadata": {
        "colab": {
          "background_save": true
        },
        "id": "_gCsd5zDAJv-"
      },
      "outputs": [],
      "source": [
        "# Contoh fungsi dengan if...else\n",
        "def bio(nama, pelajaran, nilai):\n",
        "  print(nama, pelajaran, nilai)\n",
        "  \n",
        "  if (nilai > 75):\n",
        "    return 'Selamat Anda Lulus!'\n",
        "  else:\n",
        "    return 'Mohon Maaf, Anda Tidak Lulus!'\n",
        "\n",
        "# Panggil fungsi dan definisikan ke variabel x\n",
        "x = bio('Agus', 'Kalkulus', 85)\n",
        "print(x)"
      ]
    },
    {
      "cell_type": "code",
      "execution_count": null,
      "metadata": {
        "colab": {
          "background_save": true
        },
        "id": "Zj48Sh1kAajB"
      },
      "outputs": [],
      "source": [
        "# Contoh fungsi dengan perulangan for\n",
        "def list_film(film):\n",
        "\t for item in film:\n",
        "\t\t print(item)\n",
        "   \n",
        "# Panggil fungsi\n",
        "list_film(['The Avengers', 'Amazing Spiderman', 'Dr. Strange'])"
      ]
    },
    {
      "cell_type": "code",
      "execution_count": null,
      "metadata": {
        "colab": {
          "base_uri": "https://localhost:8080/"
        },
        "id": "Y8RDrgw0Acn7",
        "outputId": "9a1f7710-d499-4282-b59f-981bcef154bf"
      },
      "outputs": [
        {
          "name": "stdout",
          "output_type": "stream",
          "text": [
            "Nilai =  80\n",
            "Anda Lulus!\n"
          ]
        }
      ],
      "source": [
        "# Contoh fungsi dengan argumen default\n",
        "def nilai_akhir(nilai = 50):\n",
        "  if (nilai < 60):\n",
        "    print('Nilai = ', nilai)\n",
        "    print('Remedial!')\n",
        "  else:\n",
        "    print('Nilai = ', nilai)\n",
        "    print('Anda Lulus!')\n",
        "    \n",
        "# Memanggil fungsi dengan argument\n",
        "nilai_akhir(80)"
      ]
    },
    {
      "cell_type": "code",
      "execution_count": null,
      "metadata": {
        "colab": {
          "base_uri": "https://localhost:8080/"
        },
        "id": "ouz4M98FAkIP",
        "outputId": "6624f028-9cfd-4c02-fa56-e99c66fdaf9d"
      },
      "outputs": [
        {
          "name": "stdout",
          "output_type": "stream",
          "text": [
            "Nilai =  50\n",
            "Remedial!\n"
          ]
        }
      ],
      "source": [
        "# Memanggil fungsi tanpa argument\n",
        "nilai_akhir()"
      ]
    },
    {
      "cell_type": "code",
      "execution_count": null,
      "metadata": {
        "colab": {
          "base_uri": "https://localhost:8080/"
        },
        "id": "dk9QlO99An2l",
        "outputId": "e4d33239-bed3-47cf-afbe-7b1aec8d1866"
      },
      "outputs": [
        {
          "name": "stdout",
          "output_type": "stream",
          "text": [
            "[10, 21, 34, 29, 56]\n"
          ]
        }
      ],
      "source": [
        "# contoh penggunaan print\n",
        "list = [10, 21, 34, 29, 56]\n",
        "print(list)"
      ]
    },
    {
      "cell_type": "code",
      "execution_count": null,
      "metadata": {
        "colab": {
          "base_uri": "https://localhost:8080/"
        },
        "id": "qGChEMS0Aqa9",
        "outputId": "b0acbb41-0db3-4da8-ac78-3797fcadd54e"
      },
      "outputs": [
        {
          "data": {
            "text/plain": [
              "5"
            ]
          },
          "execution_count": 204,
          "metadata": {},
          "output_type": "execute_result"
        }
      ],
      "source": [
        "# contoh penggunaan len\n",
        "list = [10, 21, 34, 29, 56]\n",
        "len(list )"
      ]
    },
    {
      "cell_type": "code",
      "execution_count": null,
      "metadata": {
        "colab": {
          "base_uri": "https://localhost:8080/"
        },
        "id": "-h3swvcjAsiV",
        "outputId": "46eadc07-e71b-4db8-edad-e9ae67ed3dea"
      },
      "outputs": [
        {
          "data": {
            "text/plain": [
              "150"
            ]
          },
          "execution_count": 205,
          "metadata": {},
          "output_type": "execute_result"
        }
      ],
      "source": [
        "# contoh penggunaan sum\n",
        "list = [10, 21, 34, 29, 56]\n",
        "sum(list)"
      ]
    },
    {
      "cell_type": "code",
      "execution_count": null,
      "metadata": {
        "colab": {
          "base_uri": "https://localhost:8080/"
        },
        "id": "J8bP3LDTAuQg",
        "outputId": "ee57a73b-5f88-4fe7-b60e-942005f32b52"
      },
      "outputs": [
        {
          "data": {
            "text/plain": [
              "10"
            ]
          },
          "execution_count": 206,
          "metadata": {},
          "output_type": "execute_result"
        }
      ],
      "source": [
        "# contoh penggunaan min\n",
        "list = [10, 21, 34, 29, 56]\n",
        "min(list)"
      ]
    },
    {
      "cell_type": "code",
      "execution_count": null,
      "metadata": {
        "colab": {
          "base_uri": "https://localhost:8080/"
        },
        "id": "y6tMzlxmAv_9",
        "outputId": "a7b9ec82-086b-47b4-cdd9-f19401af3d57"
      },
      "outputs": [
        {
          "data": {
            "text/plain": [
              "56"
            ]
          },
          "execution_count": 207,
          "metadata": {},
          "output_type": "execute_result"
        }
      ],
      "source": [
        "# contoh penggunaan max\n",
        "list = [10, 21, 34, 29, 56]\n",
        "max(list)"
      ]
    },
    {
      "cell_type": "code",
      "execution_count": null,
      "metadata": {
        "colab": {
          "base_uri": "https://localhost:8080/"
        },
        "id": "COyPcyyKAxhB",
        "outputId": "191b724d-99dc-419f-aee6-ecfc9e8252c0"
      },
      "outputs": [
        {
          "data": {
            "text/plain": [
              "[10, 21, 29, 34, 56]"
            ]
          },
          "execution_count": 208,
          "metadata": {},
          "output_type": "execute_result"
        }
      ],
      "source": [
        "# contoh penggunaan sorted\n",
        "list = [10, 21, 34, 29, 56]\n",
        "sorted(list)"
      ]
    },
    {
      "cell_type": "code",
      "execution_count": null,
      "metadata": {
        "colab": {
          "base_uri": "https://localhost:8080/"
        },
        "id": "j76A9g6eAzZO",
        "outputId": "646aed3d-4634-4784-ec12-9510736a8caa"
      },
      "outputs": [
        {
          "data": {
            "text/plain": [
              "list"
            ]
          },
          "execution_count": 209,
          "metadata": {},
          "output_type": "execute_result"
        }
      ],
      "source": [
        "#  contoh penggunaan type\n",
        "list = [10, 21, 34, 29, 56]\n",
        "type(list)"
      ]
    },
    {
      "cell_type": "code",
      "execution_count": null,
      "metadata": {
        "colab": {
          "base_uri": "https://localhost:8080/"
        },
        "id": "JkON_0krA040",
        "outputId": "586bb166-7014-4149-dc10-ed85520748f6"
      },
      "outputs": [
        {
          "data": {
            "text/plain": [
              "9"
            ]
          },
          "execution_count": 210,
          "metadata": {},
          "output_type": "execute_result"
        }
      ],
      "source": [
        "# contoh penggunaan round\n",
        "round(8.5666)"
      ]
    },
    {
      "cell_type": "code",
      "execution_count": null,
      "metadata": {
        "colab": {
          "base_uri": "https://localhost:8080/"
        },
        "id": "z65Fz5SRA34m",
        "outputId": "50d8b341-3dcc-4cb1-b353-925e0aeebb3e"
      },
      "outputs": [
        {
          "data": {
            "text/plain": [
              "7"
            ]
          },
          "execution_count": 211,
          "metadata": {},
          "output_type": "execute_result"
        }
      ],
      "source": [
        "# contoh penggunaan round\n",
        "round(7.4)"
      ]
    },
    {
      "cell_type": "code",
      "execution_count": null,
      "metadata": {
        "colab": {
          "base_uri": "https://localhost:8080/"
        },
        "id": "tNitybkNA7Ie",
        "outputId": "770f9b43-a420-4e4a-b00b-99856335196f"
      },
      "outputs": [
        {
          "data": {
            "text/plain": [
              "4.0"
            ]
          },
          "execution_count": 212,
          "metadata": {},
          "output_type": "execute_result"
        }
      ],
      "source": [
        "# contoh penggunaan abs\n",
        "abs(-20/5)"
      ]
    },
    {
      "cell_type": "markdown",
      "metadata": {
        "id": "Atayhx9LAfBZ"
      },
      "source": [
        "Numpy 2 Dimensi"
      ]
    },
    {
      "cell_type": "code",
      "execution_count": null,
      "metadata": {
        "id": "VtbDKtvCBB_7"
      },
      "outputs": [],
      "source": [
        "# Import numpy\n",
        "import numpy as np"
      ]
    },
    {
      "cell_type": "code",
      "execution_count": null,
      "metadata": {
        "colab": {
          "base_uri": "https://localhost:8080/"
        },
        "id": "dwyyv7GIBGaN",
        "outputId": "4c1ff6f4-48ee-4228-961a-794339ff40be"
      },
      "outputs": [
        {
          "data": {
            "text/plain": [
              "[[1, 2, 3], [4, 5, 6], [7, 8, 9]]"
            ]
          },
          "execution_count": 214,
          "metadata": {},
          "output_type": "execute_result"
        }
      ],
      "source": [
        "list_a = [[1, 2, 3], [4, 5, 6], [7, 8, 9]]\n",
        "list_a"
      ]
    },
    {
      "cell_type": "code",
      "execution_count": null,
      "metadata": {
        "colab": {
          "base_uri": "https://localhost:8080/"
        },
        "id": "kXqpT9bfBJGJ",
        "outputId": "5ab2d36a-fe92-4213-a1ef-76683d20af0a"
      },
      "outputs": [
        {
          "data": {
            "text/plain": [
              "array([[1, 2, 3],\n",
              "       [4, 5, 6],\n",
              "       [7, 8, 9]])"
            ]
          },
          "execution_count": 215,
          "metadata": {},
          "output_type": "execute_result"
        }
      ],
      "source": [
        "A = np.array(list_a)\n",
        "A"
      ]
    },
    {
      "cell_type": "code",
      "execution_count": null,
      "metadata": {
        "colab": {
          "base_uri": "https://localhost:8080/"
        },
        "id": "gGSQBYSSBLE8",
        "outputId": "6eaefe13-d283-4488-c81e-97edc2194cc2"
      },
      "outputs": [
        {
          "data": {
            "text/plain": [
              "2"
            ]
          },
          "execution_count": 216,
          "metadata": {},
          "output_type": "execute_result"
        }
      ],
      "source": [
        "A.ndim # Mengetahui dimensi array dari array A"
      ]
    },
    {
      "cell_type": "code",
      "execution_count": null,
      "metadata": {
        "colab": {
          "base_uri": "https://localhost:8080/"
        },
        "id": "TK__GivABL3d",
        "outputId": "f404ba3b-0c70-4cde-85f0-185830f5b87a"
      },
      "outputs": [
        {
          "data": {
            "text/plain": [
              "9"
            ]
          },
          "execution_count": 217,
          "metadata": {},
          "output_type": "execute_result"
        }
      ],
      "source": [
        "A.size # Mengecek jumlah elemen"
      ]
    },
    {
      "cell_type": "code",
      "execution_count": null,
      "metadata": {
        "colab": {
          "base_uri": "https://localhost:8080/"
        },
        "id": "6yBhgLIJBMzd",
        "outputId": "5487e13d-a3bf-4747-93f2-762eb07e1cf7"
      },
      "outputs": [
        {
          "data": {
            "text/plain": [
              "(3, 3)"
            ]
          },
          "execution_count": 218,
          "metadata": {},
          "output_type": "execute_result"
        }
      ],
      "source": [
        "A.shape # Mengecek ukuran array di tiap dimensi"
      ]
    },
    {
      "cell_type": "code",
      "execution_count": null,
      "metadata": {
        "colab": {
          "base_uri": "https://localhost:8080/"
        },
        "id": "fGCbSKTzBNrX",
        "outputId": "b3c203dd-1f42-4e85-fbaa-8fa3750521cd"
      },
      "outputs": [
        {
          "data": {
            "text/plain": [
              "dtype('int64')"
            ]
          },
          "execution_count": 219,
          "metadata": {},
          "output_type": "execute_result"
        }
      ],
      "source": [
        "A.dtype # Mengecek tipe data array"
      ]
    },
    {
      "cell_type": "code",
      "execution_count": null,
      "metadata": {
        "colab": {
          "base_uri": "https://localhost:8080/"
        },
        "id": "KtLqal9jBSAa",
        "outputId": "b0459f0b-7af0-438f-8e3c-0549b82a2884"
      },
      "outputs": [
        {
          "data": {
            "text/plain": [
              "5"
            ]
          },
          "execution_count": 220,
          "metadata": {},
          "output_type": "execute_result"
        }
      ],
      "source": [
        "A[1, 1] # Mengambil elemen pada baris 2 kolom 2"
      ]
    },
    {
      "cell_type": "code",
      "execution_count": null,
      "metadata": {
        "colab": {
          "base_uri": "https://localhost:8080/"
        },
        "id": "ljJHwJh3BeuV",
        "outputId": "23f57af8-a593-45e3-ad86-3863ceb9657e"
      },
      "outputs": [
        {
          "data": {
            "text/plain": [
              "6"
            ]
          },
          "execution_count": 221,
          "metadata": {},
          "output_type": "execute_result"
        }
      ],
      "source": [
        "A[1, 2] # Mengambil elemen pada baris 2 kolom 3"
      ]
    },
    {
      "cell_type": "code",
      "execution_count": null,
      "metadata": {
        "colab": {
          "base_uri": "https://localhost:8080/"
        },
        "id": "t4NL15YXBSs-",
        "outputId": "ba83fad3-9481-4be9-b63a-e8a245e2a6af"
      },
      "outputs": [
        {
          "data": {
            "text/plain": [
              "3"
            ]
          },
          "execution_count": 222,
          "metadata": {},
          "output_type": "execute_result"
        }
      ],
      "source": [
        "A[0, 2] # Mengambil elemen pada baris 1 kolom 3"
      ]
    },
    {
      "cell_type": "code",
      "execution_count": null,
      "metadata": {
        "colab": {
          "base_uri": "https://localhost:8080/"
        },
        "id": "xiul8wv6BWFl",
        "outputId": "be58aa68-dca9-4391-ae8a-b4b8963d4d2a"
      },
      "outputs": [
        {
          "data": {
            "text/plain": [
              "array([4, 5, 6])"
            ]
          },
          "execution_count": 223,
          "metadata": {},
          "output_type": "execute_result"
        }
      ],
      "source": [
        "A[1][:3] # Mengambil elemen pada baris 2 kolom 1-3"
      ]
    },
    {
      "cell_type": "code",
      "execution_count": null,
      "metadata": {
        "colab": {
          "base_uri": "https://localhost:8080/"
        },
        "id": "UKP5LPOyBh4u",
        "outputId": "7eadc378-8d6e-4b44-b44c-1ce1f8d6d135"
      },
      "outputs": [
        {
          "data": {
            "text/plain": [
              "array([4, 5, 6])"
            ]
          },
          "execution_count": 224,
          "metadata": {},
          "output_type": "execute_result"
        }
      ],
      "source": [
        "A[1, :3] # Mengambil elemen pada baris 2 kolom 1-3"
      ]
    },
    {
      "cell_type": "code",
      "execution_count": null,
      "metadata": {
        "colab": {
          "base_uri": "https://localhost:8080/"
        },
        "id": "eQIturrcBjJ1",
        "outputId": "ed3981a3-cb57-4722-9257-167ec38a006e"
      },
      "outputs": [
        {
          "data": {
            "text/plain": [
              "array([4, 5])"
            ]
          },
          "execution_count": 225,
          "metadata": {},
          "output_type": "execute_result"
        }
      ],
      "source": [
        "A[1, :2] # Mengambil elemen pada baris 2 kolom 1-2"
      ]
    },
    {
      "cell_type": "code",
      "execution_count": null,
      "metadata": {
        "colab": {
          "base_uri": "https://localhost:8080/"
        },
        "id": "Yq88kOXmBkUN",
        "outputId": "857ad764-b1bc-4020-9b6c-7a366ccb2ecb"
      },
      "outputs": [
        {
          "data": {
            "text/plain": [
              "array([2, 5, 8])"
            ]
          },
          "execution_count": 226,
          "metadata": {},
          "output_type": "execute_result"
        }
      ],
      "source": [
        "A[0:, 1] # Mengambil elemen pada baris 1-3 kolom 2"
      ]
    },
    {
      "cell_type": "code",
      "execution_count": null,
      "metadata": {
        "colab": {
          "base_uri": "https://localhost:8080/"
        },
        "id": "7cle_H8lB4Lv",
        "outputId": "488315da-26e5-4f24-9c8e-c5231ae2e92b"
      },
      "outputs": [
        {
          "data": {
            "text/plain": [
              "array([[1, 2, 3],\n",
              "       [4, 5, 6],\n",
              "       [7, 8, 9]])"
            ]
          },
          "execution_count": 227,
          "metadata": {},
          "output_type": "execute_result"
        }
      ],
      "source": [
        "A # Menampilkan array A"
      ]
    },
    {
      "cell_type": "code",
      "execution_count": null,
      "metadata": {
        "colab": {
          "base_uri": "https://localhost:8080/"
        },
        "id": "kdMTqDkSB5rV",
        "outputId": "8e9ffefc-56d2-4c87-b0e6-cd3c8b9d6753"
      },
      "outputs": [
        {
          "data": {
            "text/plain": [
              "array([[ 6,  7,  8],\n",
              "       [ 9, 10, 11],\n",
              "       [12, 13, 14]])"
            ]
          },
          "execution_count": 228,
          "metadata": {},
          "output_type": "execute_result"
        }
      ],
      "source": [
        "A + 5 # Menjumlahkan array X dengan konstanta 5"
      ]
    },
    {
      "cell_type": "code",
      "execution_count": null,
      "metadata": {
        "colab": {
          "base_uri": "https://localhost:8080/"
        },
        "id": "Hl_AUTxhB6ZQ",
        "outputId": "f0fea5b8-1918-4a0a-95b6-8b4dd7a34bca"
      },
      "outputs": [
        {
          "data": {
            "text/plain": [
              "array([[1, 2],\n",
              "       [3, 4]])"
            ]
          },
          "execution_count": 229,
          "metadata": {},
          "output_type": "execute_result"
        }
      ],
      "source": [
        "X = np.array([[1, 2], [3, 4]]) # Membuat array \n",
        "X"
      ]
    },
    {
      "cell_type": "code",
      "execution_count": null,
      "metadata": {
        "colab": {
          "base_uri": "https://localhost:8080/"
        },
        "id": "ZWV38O-EB-AK",
        "outputId": "433dc917-4a91-4417-f477-9a760a28c863"
      },
      "outputs": [
        {
          "data": {
            "text/plain": [
              "array([[1, 3],\n",
              "       [1, 2]])"
            ]
          },
          "execution_count": 230,
          "metadata": {},
          "output_type": "execute_result"
        }
      ],
      "source": [
        "Y = np.array([[1, 3], [1, 2]]) # Membuat array Y\n",
        "Y"
      ]
    },
    {
      "cell_type": "code",
      "execution_count": null,
      "metadata": {
        "colab": {
          "base_uri": "https://localhost:8080/"
        },
        "id": "Z-NYtYcdCAa3",
        "outputId": "25f57cc6-57e4-4066-9f68-806fc515b747"
      },
      "outputs": [
        {
          "data": {
            "text/plain": [
              "array([[2, 5],\n",
              "       [4, 6]])"
            ]
          },
          "execution_count": 231,
          "metadata": {},
          "output_type": "execute_result"
        }
      ],
      "source": [
        "X + Y # Menjumlahkan array X dan Y"
      ]
    },
    {
      "cell_type": "code",
      "execution_count": null,
      "metadata": {
        "colab": {
          "base_uri": "https://localhost:8080/"
        },
        "id": "E_CmasUQCBfZ",
        "outputId": "423be155-9c87-436b-85a4-f76ba472dd08"
      },
      "outputs": [
        {
          "data": {
            "text/plain": [
              "array([[ 3,  6],\n",
              "       [ 9, 12]])"
            ]
          },
          "execution_count": 232,
          "metadata": {},
          "output_type": "execute_result"
        }
      ],
      "source": [
        "X # Menampilkan array X\n",
        "X * 3 # Mengalikan array X dengan 3"
      ]
    },
    {
      "cell_type": "code",
      "execution_count": null,
      "metadata": {
        "colab": {
          "base_uri": "https://localhost:8080/"
        },
        "id": "1ow5aMNmCGJ_",
        "outputId": "4b4c2b63-bff5-4d55-ac24-ef3e8ba99181"
      },
      "outputs": [
        {
          "data": {
            "text/plain": [
              "array([[1, 6],\n",
              "       [3, 8]])"
            ]
          },
          "execution_count": 233,
          "metadata": {},
          "output_type": "execute_result"
        }
      ],
      "source": [
        "X # Menampilkan array X\n",
        "Y # Menampilkan array Y\n",
        "X * Y # Mengalikan array X dan Y"
      ]
    },
    {
      "cell_type": "code",
      "execution_count": null,
      "metadata": {
        "colab": {
          "base_uri": "https://localhost:8080/"
        },
        "id": "tuWpp74aCJ6Z",
        "outputId": "4cf88559-600a-4319-9860-f284696bc778"
      },
      "outputs": [
        {
          "data": {
            "text/plain": [
              "array([[ 3,  7],\n",
              "       [ 7, 17]])"
            ]
          },
          "execution_count": 234,
          "metadata": {},
          "output_type": "execute_result"
        }
      ],
      "source": [
        "X # Menampilkan array X\n",
        "Y # Menampilkan array Y\n",
        "np.dot(X, Y) # Dot product dari array X dan Y"
      ]
    }
  ],
  "metadata": {
    "colab": {
      "collapsed_sections": [],
      "name": "modul_python_R.ipynb",
      "provenance": [],
      "authorship_tag": "ABX9TyNnsqWn7RbX1JYx6aNLM0J4",
      "include_colab_link": true
    },
    "kernelspec": {
      "display_name": "Python 3",
      "name": "python3"
    },
    "language_info": {
      "name": "python"
    }
  },
  "nbformat": 4,
  "nbformat_minor": 0
}