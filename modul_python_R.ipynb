{
  "cells": [
    {
      "cell_type": "markdown",
      "metadata": {
        "id": "view-in-github",
        "colab_type": "text"
      },
      "source": [
        "<a href=\"https://colab.research.google.com/github/ramaalfin/modul_python/blob/master/modul_python_R.ipynb\" target=\"_parent\"><img src=\"https://colab.research.google.com/assets/colab-badge.svg\" alt=\"Open In Colab\"/></a>"
      ]
    },
    {
      "cell_type": "markdown",
      "source": [
        "**Pengenalan Python**\n",
        "\n",
        "Python adalah salah satu bahasa pemrograman yang banyak digunakan untuk mengerjakan proyek data science karena menyediakan banyak library. Library tersebut digunakan untuk mendukung berbagai tugas seperti manipulasi dataframe, visualisasi, sampai membuat model machine learning. Sebelum mempelajari penggunaan library, kita akan belajar tentang pemrograman dasar Python. \n",
        "\n",
        "\n",
        "**Mencetak output di Python**\n",
        "\n",
        "Baiklah, mari kita mulai!\n",
        "\n",
        "Hal pertama yang harus dipahami bagi pemula saat belajar pemrograman adalah menulis skrip program bagaimana menampilkan output/keluaran. \n",
        "\n",
        "Untuk menampilkan suatu kalimat ataupun isi dari sebuah variabel di Python, Anda bisa menggunakan sebuah fungsi yaitu print(). Mengimplementasikannya cukup mudah yaitu meletakkan kalimat atau variabel yang ingin dicetak di dalam tanda kurung sebagai argumen fungsi print()."
      ],
      "metadata": {
        "id": "cqBRltqjf_tP"
      }
    },
    {
      "cell_type": "code",
      "source": [
        "print(\"Hello There!\")"
      ],
      "metadata": {
        "colab": {
          "base_uri": "https://localhost:8080/"
        },
        "id": "Swzv97pUg6Nb",
        "outputId": "3ac28d93-88f0-490d-c9bd-a544e6b03287"
      },
      "execution_count": null,
      "outputs": [
        {
          "output_type": "stream",
          "name": "stdout",
          "text": [
            "Hello There!\n"
          ]
        }
      ]
    },
    {
      "cell_type": "code",
      "source": [
        "print('Hello There!')"
      ],
      "metadata": {
        "colab": {
          "base_uri": "https://localhost:8080/"
        },
        "id": "DJxBsTnwg-Gr",
        "outputId": "5449cb28-e648-4b52-b78f-eb75dbc48d92"
      },
      "execution_count": null,
      "outputs": [
        {
          "output_type": "stream",
          "name": "stdout",
          "text": [
            "Hello There!\n"
          ]
        }
      ]
    },
    {
      "cell_type": "code",
      "source": [
        "print(1000)"
      ],
      "metadata": {
        "colab": {
          "base_uri": "https://localhost:8080/"
        },
        "id": "ZEnR3nx2hAat",
        "outputId": "eb1fdfae-5e42-4e77-c037-1c1313f3fb9a"
      },
      "execution_count": null,
      "outputs": [
        {
          "output_type": "stream",
          "name": "stdout",
          "text": [
            "1000\n"
          ]
        }
      ]
    },
    {
      "cell_type": "markdown",
      "source": [
        "Untuk menampilkan/mencetak sebuah kalimat atau non-variabel harus menggunakan tanda kutip yang mengapit kalimat tersebut. Anda dapat menggunakan tanda kutip dua maupun tanda kutip satu tergantung dengan kebutuhan Anda. \n",
        "\n",
        "Selain fungsi print(), Anda juga dapat mencetak langsung seperti contoh di bawah ini."
      ],
      "metadata": {
        "id": "R1AHipYpg0Sh"
      }
    },
    {
      "cell_type": "code",
      "source": [
        "\"Hello There!\""
      ],
      "metadata": {
        "colab": {
          "base_uri": "https://localhost:8080/",
          "height": 35
        },
        "id": "cKrtnyR0hpEU",
        "outputId": "575fa8f3-c19e-4d25-ed35-676846c43b67"
      },
      "execution_count": null,
      "outputs": [
        {
          "output_type": "execute_result",
          "data": {
            "text/plain": [
              "'Hello There!'"
            ],
            "application/vnd.google.colaboratory.intrinsic+json": {
              "type": "string"
            }
          },
          "metadata": {},
          "execution_count": 23
        }
      ]
    },
    {
      "cell_type": "code",
      "source": [
        "'Hello There!'"
      ],
      "metadata": {
        "colab": {
          "base_uri": "https://localhost:8080/",
          "height": 35
        },
        "id": "18O37T8khqnB",
        "outputId": "b3e42313-e3b5-44b0-e5b0-c31882aa2012"
      },
      "execution_count": null,
      "outputs": [
        {
          "output_type": "execute_result",
          "data": {
            "text/plain": [
              "'Hello There!'"
            ],
            "application/vnd.google.colaboratory.intrinsic+json": {
              "type": "string"
            }
          },
          "metadata": {},
          "execution_count": 24
        }
      ]
    },
    {
      "cell_type": "code",
      "source": [
        "1000"
      ],
      "metadata": {
        "colab": {
          "base_uri": "https://localhost:8080/"
        },
        "id": "Wvl8r3Kkhs8p",
        "outputId": "7e150179-bd8e-4dad-d965-3513f1872d8c"
      },
      "execution_count": null,
      "outputs": [
        {
          "output_type": "execute_result",
          "data": {
            "text/plain": [
              "1000"
            ]
          },
          "metadata": {},
          "execution_count": 25
        }
      ]
    },
    {
      "cell_type": "markdown",
      "source": [
        "**Menulis komentar di Python**\n",
        "\n",
        "Dalam menulis kode program, seringkali membutuhkan penjelasan mengenai fungsi dari potongan kode program tersebut. Sehingga Anda dapat menambahkan sebuah komentar bila diperlukan. Komentar pada potongan kode program dapat membantu orang lain untuk dapat memahami kode program tersebut. Selain itu, kita dapat memanfaatkan komentar untuk mengingat fungsi dari potongan kode program tersebut di saat kita ingin melakukan perbaikan.\n",
        "\n",
        "Sebelum Anda menambahkan komentar, Anda dapat menggunakan simbol # sebelum menulis komentar. Python akan mengabaikan apapun yang tertulis setelah simbol # dalam satu baris tersebut."
      ],
      "metadata": {
        "id": "OKTGg0CFhw_W"
      }
    },
    {
      "cell_type": "code",
      "source": [
        "print(\"Hello There!\") # Kode ini berfungsi untuk menampilkan \"Hello There!\"\n",
        "#print(\"Halo\")"
      ],
      "metadata": {
        "colab": {
          "base_uri": "https://localhost:8080/"
        },
        "id": "FYiXl-q_h3AY",
        "outputId": "997bf245-44c1-4452-de88-2f380803f5ae"
      },
      "execution_count": null,
      "outputs": [
        {
          "output_type": "stream",
          "name": "stdout",
          "text": [
            "Hello There!\n"
          ]
        }
      ]
    },
    {
      "cell_type": "markdown",
      "source": [
        "Setelah menjalankan cell di atas, kalimat # Kode ini berfungsi untuk menampilkan \"Hello There!\" yang berada di satu baris dengan fungsi print() juga diabaikan oleh Python karena merupakan sebuah komentar yang diawali dengan simbol # sebagai penjelasan untuk kode program pada baris tersebut. \n",
        "\n",
        "Yang terakhir, kode #print(\"Halo\") juga tidak dieksekusi oleh Python karena diawali dengan simbol # dan dianggap sebagai komentar. \n",
        "\n",
        "**Menulis komentar panjang yang lebih dari satu baris**\n",
        "\n",
        "Menulis komentar panjang lebih dari satu baris dengan mengapit komentar tersebut dengan tiga tanda kutip dua\n"
      ],
      "metadata": {
        "id": "KoGg4AboiBd-"
      }
    },
    {
      "cell_type": "code",
      "source": [
        "\"\"\"\n",
        "Komentar panjang yang terdiri dari beberapa baris,\n",
        "dapat ditulis dengan diapit oleh tiga tanda kutip dua\n",
        "seperti ini.\n",
        "\"\"\"\n",
        "print(\"Hello There!\")"
      ],
      "metadata": {
        "colab": {
          "base_uri": "https://localhost:8080/"
        },
        "id": "zcA_NH6zia0p",
        "outputId": "9a91ae4c-399e-4eb5-fa6a-a64f78e077f7"
      },
      "execution_count": null,
      "outputs": [
        {
          "output_type": "stream",
          "name": "stdout",
          "text": [
            "Hello There!\n"
          ]
        }
      ]
    },
    {
      "cell_type": "markdown",
      "source": [
        "**Contoh Error di Python**\n",
        "\n",
        "Dalam mengetik kode program, mungkin seringkali kita membuat kesalahan penulisan sehingga menyebabkan hasil yang diharapkan tidak muncul. Setelah itu, Python akan memberikan pesan error yang akan menunjukkan letak kesalahan tersebut. Jadi, pesan error tersebut dibaca baik-baik agar kita dapat mengetahui dan memperbaiki kesalahan tersebut.\n",
        "\n",
        "Sebagai contoh, Anda membuat kesalahan penulisan fungsi print() yang ditulis frint()."
      ],
      "metadata": {
        "id": "1UrSF1dlifCy"
      }
    },
    {
      "cell_type": "code",
      "source": [
        "# contoh kesalahan penulisan\n",
        "frint(\"Selamat Siang!\")"
      ],
      "metadata": {
        "colab": {
          "base_uri": "https://localhost:8080/",
          "height": 184
        },
        "id": "fvNFgsdLimXu",
        "outputId": "14ba3451-e9f8-4f9e-aec0-9169d9d5cc9c"
      },
      "execution_count": null,
      "outputs": [
        {
          "output_type": "error",
          "ename": "NameError",
          "evalue": "ignored",
          "traceback": [
            "\u001b[0;31m---------------------------------------------------------------------------\u001b[0m",
            "\u001b[0;31mNameError\u001b[0m                                 Traceback (most recent call last)",
            "\u001b[0;32m<ipython-input-28-876e4db88319>\u001b[0m in \u001b[0;36m<module>\u001b[0;34m()\u001b[0m\n\u001b[1;32m      1\u001b[0m \u001b[0;31m# contoh kesalahan penulisan\u001b[0m\u001b[0;34m\u001b[0m\u001b[0;34m\u001b[0m\u001b[0;34m\u001b[0m\u001b[0m\n\u001b[0;32m----> 2\u001b[0;31m \u001b[0mfrint\u001b[0m\u001b[0;34m(\u001b[0m\u001b[0;34m\"Selamat Siang!\"\u001b[0m\u001b[0;34m)\u001b[0m\u001b[0;34m\u001b[0m\u001b[0;34m\u001b[0m\u001b[0m\n\u001b[0m",
            "\u001b[0;31mNameError\u001b[0m: name 'frint' is not defined"
          ]
        }
      ]
    },
    {
      "cell_type": "markdown",
      "source": [
        "Pada contoh di atas, pesan kesalahan tersebut di antaranya: \n",
        "\n",
        "•\tLetak kesalahan pada baris ke-2 di cell tersebut yang ditunjukkan oleh tanda panah.\n",
        "\n",
        "•\tJenis error yang terjadi (NameError), dalam hal ini tertulis name 'frint' is not defined karena frint bukan merupakan built-in function di Python.\n",
        "\n",
        "Contoh berikutnya, misalnya kita lupa memberikan pasangan tanda kutip untuk mencetak string."
      ],
      "metadata": {
        "id": "F9OxWFztirQ3"
      }
    },
    {
      "cell_type": "code",
      "source": [
        "# contoh kesalahan syntax\n",
        "print(\"Selamat Siang!)"
      ],
      "metadata": {
        "colab": {
          "base_uri": "https://localhost:8080/",
          "height": 131
        },
        "id": "xR57mdn3ixFJ",
        "outputId": "df58ac73-c9ed-410b-a5fb-9914051850bc"
      },
      "execution_count": null,
      "outputs": [
        {
          "output_type": "error",
          "ename": "SyntaxError",
          "evalue": "ignored",
          "traceback": [
            "\u001b[0;36m  File \u001b[0;32m\"<ipython-input-29-670576ad5157>\"\u001b[0;36m, line \u001b[0;32m2\u001b[0m\n\u001b[0;31m    print(\"Selamat Siang!)\u001b[0m\n\u001b[0m                          ^\u001b[0m\n\u001b[0;31mSyntaxError\u001b[0m\u001b[0;31m:\u001b[0m EOL while scanning string literal\n"
          ]
        }
      ]
    },
    {
      "cell_type": "markdown",
      "source": [
        "Python merupakan bahasa pemrograman yang case sensitive, jadi huruf kecil akan dianggap berbeda dengan huruf besar. Contohnya saat menulis print dengan Print"
      ],
      "metadata": {
        "id": "vEHhGuqDjLiW"
      }
    },
    {
      "cell_type": "code",
      "source": [
        "# contoh kesalahan Print\n",
        "Print(\"Selamat Pagi!\")"
      ],
      "metadata": {
        "colab": {
          "base_uri": "https://localhost:8080/",
          "height": 184
        },
        "id": "40NABa2CjW8j",
        "outputId": "4a3a5fbd-7776-49e4-97ff-9472031db3f5"
      },
      "execution_count": null,
      "outputs": [
        {
          "output_type": "error",
          "ename": "NameError",
          "evalue": "ignored",
          "traceback": [
            "\u001b[0;31m---------------------------------------------------------------------------\u001b[0m",
            "\u001b[0;31mNameError\u001b[0m                                 Traceback (most recent call last)",
            "\u001b[0;32m<ipython-input-30-0dd314888263>\u001b[0m in \u001b[0;36m<module>\u001b[0;34m()\u001b[0m\n\u001b[1;32m      1\u001b[0m \u001b[0;31m# contoh kesalahan Print\u001b[0m\u001b[0;34m\u001b[0m\u001b[0;34m\u001b[0m\u001b[0;34m\u001b[0m\u001b[0m\n\u001b[0;32m----> 2\u001b[0;31m \u001b[0mPrint\u001b[0m\u001b[0;34m(\u001b[0m\u001b[0;34m\"Selamat Pagi!\"\u001b[0m\u001b[0;34m)\u001b[0m\u001b[0;34m\u001b[0m\u001b[0;34m\u001b[0m\u001b[0m\n\u001b[0m",
            "\u001b[0;31mNameError\u001b[0m: name 'Print' is not defined"
          ]
        }
      ]
    },
    {
      "cell_type": "markdown",
      "source": [
        "**Mengecek Versi Python**\n",
        "\n",
        "Untuk mengetahui versi Python yang digunakan, kita dapat melihat pada pojok kanan atas Jupyter Notebook. Selain itu, kita juga dapat mengeceknya menggunakan modul sys. \n",
        "\n",
        "sys adalah sebuah modul bawaan Python yang berisi banyak parameter dan fungsi khusus sistem, termasuk versi Python yang digunakan. Sebelum menggunakannya, kita harus mengimpornya terlebih dahulu"
      ],
      "metadata": {
        "id": "WvgflXMMjZUm"
      }
    },
    {
      "cell_type": "code",
      "source": [
        "import sys\n",
        "print(sys.version)"
      ],
      "metadata": {
        "colab": {
          "base_uri": "https://localhost:8080/"
        },
        "id": "1U5MspevjgrG",
        "outputId": "31b5d900-f503-4c65-ee07-9ec8b4bed4f8"
      },
      "execution_count": null,
      "outputs": [
        {
          "output_type": "stream",
          "name": "stdout",
          "text": [
            "3.7.13 (default, Apr 24 2022, 01:04:09) \n",
            "[GCC 7.5.0]\n"
          ]
        }
      ]
    },
    {
      "cell_type": "markdown",
      "source": [
        "**Tipe Data**"
      ],
      "metadata": {
        "id": "C0thdiCjcP4m"
      }
    },
    {
      "cell_type": "markdown",
      "source": [
        "Di bab ini Anda akan belajar tentang tipe data dasar Python. Jika Anda pernah belajar pemrograman lain sebelumnya, Anda pasti sudah tidak asing dengan tipe data dasar seperti string, integer, float, dan boolean. \n",
        "\n",
        "String merupakan representasi untuk karakter atau teks. Integer dan float merepresentasikan sebuah bilangan dimana integer untuk bilangan bulat (misal: 0, 1, 30, -8) dan float untuk bilangan desimal (misal: 2.5, -54.0). Sementara itu, boolean merupakan tipe data yang memiliki dua nilai yaitu True dan False.\n"
      ],
      "metadata": {
        "id": "mSNWHVKrcRj-"
      }
    },
    {
      "cell_type": "markdown",
      "source": [
        "**String**"
      ],
      "metadata": {
        "id": "hm82GSDdcYJO"
      }
    },
    {
      "cell_type": "markdown",
      "source": [
        "String adalah sekumpulan karakter atau huruf. Di Python, tipe data string ditulis str. Objek string berada di dalam tanda kutip satu atau kutip dua, jadi semua karakter di dalam tanda kutip, seperti huruf, angka, atau karakter unik merupakan bagian dari string tersebut."
      ],
      "metadata": {
        "id": "jz9GSd7qZH5X"
      }
    },
    {
      "cell_type": "code",
      "execution_count": null,
      "metadata": {
        "colab": {
          "base_uri": "https://localhost:8080/"
        },
        "id": "fP0P5HFZomrF",
        "outputId": "72aa7a43-636a-4e33-c947-e95f8878fcd2"
      },
      "outputs": [
        {
          "output_type": "stream",
          "name": "stdout",
          "text": [
            "contoh string yang dibuat menggunakan kutip satu\n"
          ]
        }
      ],
      "source": [
        "print('contoh string yang dibuat menggunakan kutip satu')"
      ]
    },
    {
      "cell_type": "code",
      "execution_count": null,
      "metadata": {
        "colab": {
          "base_uri": "https://localhost:8080/"
        },
        "id": "_SfhZ-4epEw8",
        "outputId": "5993d90e-af5f-46a8-e894-1c732afcd10b"
      },
      "outputs": [
        {
          "output_type": "stream",
          "name": "stdout",
          "text": [
            "contoh string yang dibuat menggunakan kutip dua\n"
          ]
        }
      ],
      "source": [
        "print(\"contoh string yang dibuat menggunakan kutip dua\")"
      ]
    },
    {
      "cell_type": "markdown",
      "source": [
        "Pada contoh di atas, kita menampilkan string menggunakan built-in function Python yaitu print(). Bisa dilihat bahwa penggunaan tanda kutip satu ataupun kutip dua sebagai batasan string tetap akan menghasilkan output, jadi bisa pilih salah satu.\n",
        "\n",
        "Menampilkan string tanpa menggunakan function print()"
      ],
      "metadata": {
        "id": "Bxg6CiA3aEXI"
      }
    },
    {
      "cell_type": "code",
      "execution_count": null,
      "metadata": {
        "colab": {
          "base_uri": "https://localhost:8080/",
          "height": 35
        },
        "id": "AuvE0_MipGw_",
        "outputId": "14aff31a-1843-44e1-fe61-2a5c9ddc5e08"
      },
      "outputs": [
        {
          "output_type": "execute_result",
          "data": {
            "text/plain": [
              "'ini adalah string tanpa menggunakan print() - 1'"
            ],
            "application/vnd.google.colaboratory.intrinsic+json": {
              "type": "string"
            }
          },
          "metadata": {},
          "execution_count": 34
        }
      ],
      "source": [
        "'ini adalah string tanpa menggunakan print() - 1'"
      ]
    },
    {
      "cell_type": "code",
      "execution_count": null,
      "metadata": {
        "colab": {
          "base_uri": "https://localhost:8080/",
          "height": 35
        },
        "id": "qA9vdGXfpKUp",
        "outputId": "356a9738-cbfe-46dc-99d8-c3d9bf0be5ce"
      },
      "outputs": [
        {
          "output_type": "execute_result",
          "data": {
            "text/plain": [
              "'ini adalah string tanpa menggunakan print() - 2'"
            ],
            "application/vnd.google.colaboratory.intrinsic+json": {
              "type": "string"
            }
          },
          "metadata": {},
          "execution_count": 35
        }
      ],
      "source": [
        "\"ini adalah string tanpa menggunakan print() - 2\""
      ]
    },
    {
      "cell_type": "markdown",
      "source": [
        "Dari output di atas, dapat dilihat bahwa jika mencetak string tanpa print() maka output yang ditampilkan mengandung tanda kutip satu, meskipun kode yang dipakai menggunakan tanda kutip dua.\n",
        "String juga dapat berisi karakter kosong.\n"
      ],
      "metadata": {
        "id": "yRu0L1T1b-6t"
      }
    },
    {
      "cell_type": "code",
      "execution_count": null,
      "metadata": {
        "colab": {
          "base_uri": "https://localhost:8080/"
        },
        "id": "U9YRDpsppYHJ",
        "outputId": "c650f6cc-71bd-48a4-e548-b05ab216adb2"
      },
      "outputs": [
        {
          "output_type": "stream",
          "name": "stdout",
          "text": [
            "\n"
          ]
        }
      ],
      "source": [
        "print(\"\")"
      ]
    },
    {
      "cell_type": "code",
      "execution_count": null,
      "metadata": {
        "colab": {
          "base_uri": "https://localhost:8080/"
        },
        "id": "Rax4yAJ7pavV",
        "outputId": "ddc215e6-abd4-4b29-c551-d6d14bc5fb90"
      },
      "outputs": [
        {
          "output_type": "stream",
          "name": "stdout",
          "text": [
            "\n"
          ]
        }
      ],
      "source": [
        "print('')"
      ]
    },
    {
      "cell_type": "code",
      "execution_count": null,
      "metadata": {
        "colab": {
          "base_uri": "https://localhost:8080/",
          "height": 35
        },
        "id": "5RUdrhs8pdro",
        "outputId": "f2c83032-b31b-4aa6-f2fe-9c5afa4e9daf"
      },
      "outputs": [
        {
          "output_type": "execute_result",
          "data": {
            "text/plain": [
              "''"
            ],
            "application/vnd.google.colaboratory.intrinsic+json": {
              "type": "string"
            }
          },
          "metadata": {},
          "execution_count": 38
        }
      ],
      "source": [
        "\"\""
      ]
    },
    {
      "cell_type": "code",
      "execution_count": null,
      "metadata": {
        "colab": {
          "base_uri": "https://localhost:8080/",
          "height": 35
        },
        "id": "QTRzF1b4pe_S",
        "outputId": "78902d88-7df8-44d7-a095-44ba3ef3db5d"
      },
      "outputs": [
        {
          "output_type": "execute_result",
          "data": {
            "text/plain": [
              "''"
            ],
            "application/vnd.google.colaboratory.intrinsic+json": {
              "type": "string"
            }
          },
          "metadata": {},
          "execution_count": 39
        }
      ],
      "source": [
        "''"
      ]
    },
    {
      "cell_type": "markdown",
      "source": [
        "Jika karakter kosong ditulis menggunakan fungsi print(), maka output yang dikeluarkan benar-benar kosong tanpa tanda kutip. Sedangkan jika karakter kosong ditulis tanpa print(), outputnya hanya akan menghasilkan tanda kutip satu."
      ],
      "metadata": {
        "id": "8FExVImFdEM2"
      }
    },
    {
      "cell_type": "markdown",
      "source": [
        "**Menampilkan string yang mengandung tanda kutip**\n",
        "\n",
        "Mungkin kita perlu menampilkan teks yang mengandung tanda kutip yang ditulis seperti menulis string pada biasanya. Namun, itu akan menghasilkan error."
      ],
      "metadata": {
        "id": "ufkXR9cWdJSN"
      }
    },
    {
      "cell_type": "code",
      "execution_count": null,
      "metadata": {
        "colab": {
          "base_uri": "https://localhost:8080/",
          "height": 131
        },
        "id": "KCP-gy3tpgz_",
        "outputId": "d3ac461a-0aad-4018-b890-6f41052c6e77"
      },
      "outputs": [
        {
          "output_type": "error",
          "ename": "SyntaxError",
          "evalue": "ignored",
          "traceback": [
            "\u001b[0;36m  File \u001b[0;32m\"<ipython-input-40-f7e201236867>\"\u001b[0;36m, line \u001b[0;32m1\u001b[0m\n\u001b[0;31m    print('My father's clothes')\u001b[0m\n\u001b[0m                     ^\u001b[0m\n\u001b[0;31mSyntaxError\u001b[0m\u001b[0;31m:\u001b[0m invalid syntax\n"
          ]
        }
      ],
      "source": [
        "print('My father's clothes')"
      ]
    },
    {
      "cell_type": "code",
      "execution_count": null,
      "metadata": {
        "colab": {
          "base_uri": "https://localhost:8080/",
          "height": 131
        },
        "id": "5bQgEoCPpkXm",
        "outputId": "c004225b-ac24-4404-dd17-dcec444ec580"
      },
      "outputs": [
        {
          "output_type": "error",
          "ename": "SyntaxError",
          "evalue": "ignored",
          "traceback": [
            "\u001b[0;36m  File \u001b[0;32m\"<ipython-input-41-ed617463e815>\"\u001b[0;36m, line \u001b[0;32m1\u001b[0m\n\u001b[0;31m    print(\"I said, \"good bye!\" \")\u001b[0m\n\u001b[0m                       ^\u001b[0m\n\u001b[0;31mSyntaxError\u001b[0m\u001b[0;31m:\u001b[0m invalid syntax\n"
          ]
        }
      ],
      "source": [
        "print(\"I said, \"good bye!\" \")"
      ]
    },
    {
      "cell_type": "markdown",
      "source": [
        "Setelah dijalankan, terdapat pesan SyntaxError yang menunjukkan bahwa penulisan sintaknya salah. Python akan bingung karena ada tiga tanda kutip satu pada contoh pertama dan ada empat tanda kutip dua pada contoh kedua.\n",
        "\n",
        "Bagaimana mengatasinya? "
      ],
      "metadata": {
        "id": "zfqnbZTkdh6T"
      }
    },
    {
      "cell_type": "markdown",
      "source": [
        "Cara mengatasinya adalah jika ingin menampilkan tanda kutip satu, maka pembatas string yang digunakan tanda kutip dua. Kemudian, jika ingin menampilkan tanda kutip dua, maka pembatas string-nya menggunakan tanda kutip satu. Coba jalankan kode di bawah ini."
      ],
      "metadata": {
        "id": "REdxxCphdpDd"
      }
    },
    {
      "cell_type": "code",
      "execution_count": null,
      "metadata": {
        "colab": {
          "base_uri": "https://localhost:8080/"
        },
        "id": "omc1utrkp2pb",
        "outputId": "e3358458-de31-484d-90eb-ecf6755a4af7"
      },
      "outputs": [
        {
          "output_type": "stream",
          "name": "stdout",
          "text": [
            "My father's clothes\n"
          ]
        }
      ],
      "source": [
        "print(\"My father's clothes\")"
      ]
    },
    {
      "cell_type": "code",
      "execution_count": null,
      "metadata": {
        "colab": {
          "base_uri": "https://localhost:8080/"
        },
        "id": "GyuVe5f2p4hU",
        "outputId": "ee690f72-4a65-4640-863e-1d486168737b"
      },
      "outputs": [
        {
          "output_type": "stream",
          "name": "stdout",
          "text": [
            "I said, \"welcome!\" \n"
          ]
        }
      ],
      "source": [
        "print('I said, \"welcome!\" ')"
      ]
    },
    {
      "cell_type": "markdown",
      "source": [
        "Ada cara lain jika tanda kutip yang digunakan sebagai pembatas string dan yang ingin ditampilkan sama, yaitu dengan menyisipkan backslash (\\) sebelum tanda kutip yang ingin dicetak"
      ],
      "metadata": {
        "id": "vvhTdqoydrZz"
      }
    },
    {
      "cell_type": "code",
      "execution_count": null,
      "metadata": {
        "colab": {
          "base_uri": "https://localhost:8080/"
        },
        "id": "-ngMfceip-ET",
        "outputId": "391dbb69-7c36-491a-f265-ede9c25d2975"
      },
      "outputs": [
        {
          "output_type": "stream",
          "name": "stdout",
          "text": [
            "My father's clothes\n"
          ]
        }
      ],
      "source": [
        "print('My father\\'s clothes')"
      ]
    },
    {
      "cell_type": "code",
      "execution_count": null,
      "metadata": {
        "colab": {
          "base_uri": "https://localhost:8080/"
        },
        "id": "XD0VbqPcqADB",
        "outputId": "e03ce1d2-760b-439b-af02-21a67848b3da"
      },
      "outputs": [
        {
          "output_type": "stream",
          "name": "stdout",
          "text": [
            "I said, \"good morning!\" \n"
          ]
        }
      ],
      "source": [
        "print(\"I said, \\\"good morning!\\\" \")"
      ]
    },
    {
      "cell_type": "markdown",
      "source": [
        "**Integer**\n",
        "\n",
        "Integer merupakan tipe data untuk objek numerik berupa bilangan bulat positif dan negatif, misalnya 0, 1, 2, 3, dan seterusnya, serta -1, -2, -3, dan seterusnya"
      ],
      "metadata": {
        "id": "6BER3lFYd4aW"
      }
    },
    {
      "cell_type": "markdown",
      "source": [
        "![1.png](data:image/png;base64,iVBORw0KGgoAAAANSUhEUgAAAewAAADyCAIAAAF35FH+AAAAAXNSR0IArs4c6QAAAARnQU1BAACxjwv8YQUAAAAJcEhZcwAADsMAAA7DAcdvqGQAAEtHSURBVHhe7Z0FfBTH+8ZDoaXQltJC/1Qg/LAWKFqkxd3diheCBk2wQpCixYpLcSgE9+BOsBYJDsFCCEECBAjEiTD/570ZjuNCkstd7i53eb+f5ZiZnZ2dm3v2mdnN7o6DEKLv7O22uFDVbRSuuh7btqmAlj59VCD5MK3qDg7C2VmEh4uXL8WGDeKzz8Tly5SOqqdNS4ujI0WdnETZsiIsTDx8KA4epBRJwYJixw4VTjosGGvAVbcGhlW9QQMVSBbatlUBV1cVMIr4qw6XmDFDtGkjJk8WxYpRypUrmhUax/DyosDz5yIkxJgauLmJFStEoUIU1ha1Zo04elQcOULR0FAxeDAF4oe1blb27lWBd+FWtwbGV90ZQwCTuXXrlgolnXeqPn36dAcHh8GG8c0336iQCTg5OalQYjRp0iRNmjSqohqMb/W2Wns2gevXr6tQ0jG06g8ePFChN/SJM46NiYlRIQ2HDx9WoTdMmDBBhd4wfPhwFdIQFRWlQgYQb9VjY2NVSMMa9Bfv8ttvv6nQG9auXatCGmbOnKlCbyhSpIgKvaENujwdXmLw/C6RkZEqFAfjBWN1zFh1t+23Vcg8cKtbg+Sseu3atY8ePbp+/XqEs2bNis+cOXMePHjw0aNHtWrVqlat2tatWzUZkwdudYNJwOySiqlV9/Pz27x5c6ZMmSIiIg4dOuTu7o6hhFonhKPmYoaXl1eWLFnKlSuXLl06ZAsODkZUZjAFFow1sOWq6135tZXFVps8FdZ7/3761HHAt3z0kWjeXIXj8t5Nkkhy1LtgQXHpEi2hoSJTJkp89ozqHRhIa52cKAWnUZ06UQAgER6/bp04dertpagkkgp1YlW43pYlnnpXqaICeuDIA5UqaSLJR3AwffbqpYkYRDz1Xr6cPm/eFCNHkiG4u4vvvxcrV6p6Z89OYZyu4xP07UufhtOzpxg1SkRE0AVuFI5CZL3z5n2nWKyNH7vRyfPnKpCysbPjMsXz/nrHvSZmBP7+/ipkMPPmzVOhxHin3mnSpJFXeF1cXGTAFLp27apCBlO6dGkVigNOYXUvwb6/vV+8eKFCJnD37l0VMphp06apUGK8v96vX79WoTcsWrRIhQzm7NmzKhQPOMlXoTf0jdMVxHcp/f31jnvRY8iQISpkMHPmzFGheLgSZxDbK06XefToURV6l/fXO1mIjfOjJSNmrHenNddUyAyYsd4X7oeokBkwY73NSrLVe+zYsRcuXIiKiqpUqVKePHl2797dpEmTjh077tDc2pQtW7Zdu3bp/V3JFFJ9ez979mzDhg0qYn6Sp979+/f39fV1c3MrV65clixZzp8/j8TcuXPLtUipUqXKb7/9Jv8yAaAZGTCaVK8TC8P1ZgyDW9zS2FeL695B/V7i3IJieazU4vv30zV8nF44O6s/QtSrRzd93r4tnj6llPTp6XbSHDnozwHh4ZRh2zZatXUr/V1AbuLoqAqpUEHUqUMp+HRzo0uC48eLRo0opW5d+gTaTcCCBSJnTnHihLh4UaVbECu1eHzgLPzRI2pu+yWFtXgqgFvc0nCLWxpucUuTxBZfvlwsWSJiYoS/vxgwQERGirlzxb179Ae+Bg3oD4i3bon790W7dpQhLEz9JREgQ6VKNMxAOrZCCWfPUnjfPlqLwUby3QinT/bs9Inyq1WjkU90NP1R0tWV/vI4fz711VWqUE1AcLD6Qx1GTb16Ua2Qvm4d3TKBeiKMbwr+9z/x6hUFjMI0jc+bZ+TfEg3+206KIFlry65iaRJr8SdPxAcfkJNYeDEdvQLNuuA0St7NZQCscUvDLW5pEmrx0NDQvHnzqoiG58lxz02pUqVUyARu3rypQiZw4cIFFYqHgQMHqpDBbNiwwdnZWe/5M10SanFs1rVrVxXRwC2eKGjxuE/z6cKuYmkMbfFIDetwOhAPsbGxyIDDomfPniopDrKQoKAgFY+DLCRag0p6H717965ataqKxEPcJ03jovcgaVxKliypQvEwbty4kydPqohhsMYtjU22+F8H7/7w5ykVsTVsVeNmvV3KrLCrWJoU1+I1atQoUaKEiryL3msHtOzcuRP9LQIrVqyQKSmZFNfi8sbdjBkz4lN7M618J0qePHnwKUcpO3bsqFWrVpkyZWQ4MDAQAbR4hQoVcubMiXDyPoCejLCrWBort/jDhw+lTuvUqRMWFtZJ83zkgwcPChYsOG/ePBcXF0QxNsdaBG7cuCEz4/PZs2edO3e+dOmS3BafOA9AaaNHj8baGTNmHDx4MF26dHAbBHS3tTpWbnE/P7/GjRsjgM9Xr17J8KNHj5o1a+bu7o4wzuajoqJkuq+vLz4BohEREbpXIHx8fHDKg2bFSTbSe/XqhbMbRFEm1rZs2RKfshCrw65iabjFLY1Dfbfleq8/4MV8y4nLdx1cZhv/QlkmqXCLWxpucUvDLW5p7KvFp09XgQTYuVMFrISVWlz3JvngYPUujkTBVlu3ijhv1XyLvNvtvUyZogLWxnotfuWK2L1bZM2qWrx8eXoi4rPPaNXq1ZTYtKl6gqRAAc02mq0+/FC1uIeH+PxzunsJunZ0pMckChemFkcgXTrKidKQgoB86YC2xZ2dxccfU7Zq1WgtdvTXX2qVRbBqix8+LL7+mr7z/Pl0E+jLl/Qe8vTpxa5dIjaWXn7+7Bll1t7zh61Atmz0OXcu5USLL1xIz5cAfKLFw8MpHT9MZKTw9VWbAL0WB7LFk+8ZZANJeT7+6ad0d67mJaB2iX31nLYAt7il4Ra3NNziloZb3NJwi1sabnFLwy1uaZLY4u7u4tgx8cMPKqqLn58K6PHmFUKmPI5nEsWLi3PnVFiLj48K6PHjjypgNpLe4hMnUovLBx1btFATEiIsWxznisOGidGj6ZXQ339PKWhxOauYbHEvL7oM0q+fyJePXiQ9e7Z6Q8SmTfRpDvLnp9kU5ZUAcOECPckpW3z3bnHtGl1aQP1lJdHiJUvS9TIJ0gsUEIcO0fcdNYo2/PBDSvf01Kw2hqS3OPj6a9G7N73+tkcP0awZTcTWqhVdFdm3j1q8e3fK06YNNT3Qtnh0NF0p7dxZDB9OXwzfoW5dyoMWDw0Vs2ZRHnMAjQMoY948utLSpw813PPnNJEcWlzWzclJTJ1KAd0Wx9dxdqaraTVriurVaZEt/vgxfQVjMc3Hg4KMfLQUW0E4tgJqe/WqCpsM95yWhlvc0hjW4m5uKsC8l19/VQEDMKDF0dwODvoPRZt7SY53QeuXab4le3Y1MDMAdhVLwy1uabjFLQ23uKVJcovHnYRWD8MnfkgAvblg4yIfjUgYOUdlAiT6UD4I1b51Kh4Mn3hBkkiLL126dOHChSqiIdEJnY14dUBcJic4dw44fvy4CsVPom3hacDlkURnLOnRo4cKvcHBwcEvvut6Cbd4vnz5sHHt2rXVHB8aunXrpkLxkMAkIYZTuXJlFYqHtm3bqlD8VK1aVYXioU2bNioUP66urioUD8WLF1ehN6DRQI4cOVQ7vksiGvf19V28eLGKaGCN6xFX49myZXsm7216H0n28USn9Emqr72Xf/75R4XiQb6/P2FWysm94sfLy0uF4ickJJFn0f/8808VMowktzhjIklu8bhzC+kB41OheDh58mSiI42/Erv7sk+fPnFnV9IlNjY2LCxMReJh9OjR8tnD+ICjBgQEqEg8HDhwQIUMw9AWj4mJiYyMhImXLVtWJcUBGcDGjRtVPA6yELTF6tWrVVIcZCH9+/dX8fhJuMWBIROjJZwnPDw84bdU4Rtt3rxZRQwjaRqHIuJ7R4GWuBNV6dGzZ0/tbCnxgQGACsUD9pJwi6Oq27dvV5F4yJs377VrCc0Mhb0k3EVDPXv37lURw2AftzS22uKbLz5RIVvDVlvcwdUzUR9Pmdhki5+/H4IWn3ooyZNPpgRsWOMqZGtwi1saW21x24Vb3NKkxBavUaNGd3krXRyioqJU6F3Onz/v5eXl4eGh4imYlNji8g9ADx8+HD58eKFChfbv3x8dHS3/FqO9DLJx40ac7yFw9+7dJUuWHDp0CL8TWlz+JE+ePJk/f37p0qU1eVMWKbHFdc/Op0yZIi8b3NNMUoIWf/z4MQLy6k3Mm3d8a1scYe0rhpN6xcMysI9bGm5xS5MSW3zZsmUyIF/TaSLJ8jepZMT6LX7mzBl5NVy+/rFq1aqyw/zzzz+vX7+OlN69e2vfDHn06FHZgjJFfo4fP75ixYq6iefOncPnihUr8NmuXbtdu3ahb0BXPGrUKGSwLtZv8dmzZ69fvx79noxmzZq1ZcuWcor6mzdv7tmzB6OULFmyNGvWDCnz5s1DR1q+fHmEtT1k/fr10XPiE9kQ9ff3R4+KcEREBKKFCxeuXbt2kyZNMmTIIDNYF+u3+OTJk+UtMfKdnk5OThifILpmzZoHDx5IVWrfxbl79+4FCxbAbXTfzjlu3Dj5ZzwknjpFr4HHkFGW1rRpU/keVrT+1atXWeOpEW5xS8Mtbmm4xS0Nt7iloRbHf9zojL3CEmfsHJY4Y+ewxBk7hyXO2DmpSeIODvTq7bhERIgOHejVWcnFvn20L0dHIW+sKV5caCbbShrZs9O7pZLKjBm0ay3Zson4J19OJaQyie/fT++YRyB/fpEmjciQgV4nj6hcmjent8NlyULhDz8UI0fSVsWKUU6Zwc1N3L2rpgD4+GPx99+UIVMmkTcvpWjZto2idevSW+dBkSJUMkAiVoHMmemtdE+eUErBguKDDyinkxPtNG1aet0cgMSzZhUffUR7b9uWUnbsEBkz0iaffEJvPwTYEOUgg5YpU96pCQ4z+aApalugAOXEjuQNPDiq5TQEX39NUfsltUpc2jl+XWdnmk8BKXLaEAgaCobssJQuTa8K/Pxzkh3UoJm/klQITcsMmrkpKar31gcpcRw8gweTmnUlLm+JRJkQn5S4fN8BlAqJA3zKdzJqXXz7dqpAUBBlhivLXbdqRauQopkB8y1xJa6ZQpYkLufbx7bVqtGEEciGI1OWltgLJ2ya1DdQuXqVAkeOUMo335CMYmJohhYkQl7Xr5PbIQxpdu9OL5GEj0JPTZuSBZ44IS5fJgkiw5dfqslVoNd3X1lAL9CEKOUDoLNnU+YuXSgMxSM9Rw7RsKHIk0cEBtIquS2ico5RfGpmNCZ1Nm5Ms2nAueXht3UrVRibQOjy3ZcIyy+iRQ5U5DJ5svjf/4R8yBMSl+aN403eoOLqSr0Bshn8Zi8bhU83EyQgQKkfOnNxoYluGFuDJc7YOSxxxs5hiTN2DkucsXNY4oydwxJn7ByWOGPnmFPihw/T3zgkcd5XnDhz5iQ+gXhEhOjWTYVTLWhbtLO2qd9Lq1bUVlqGDaMJ1RImPJymjrN9zClxd3f6s9xXX1FYTifZoAHNYNisGf0NZd48WjtggFixgv4Od+UKzVC3aBHdDlWrFs3+g80h8Tp16C/h+Hly5xanT9N0fJcuqT9fg9BQNfdkzpx0SOCX8/AQjx7R1IQowdOT/lh4/rzo2JHyZMlCf9osVozmTMTn7dv0p77gYJq4r1w5yl+lCu0rsRedpzjk+2XRLFD5unVixAj6aiVK0HepWZM+jx2jv2VCsmfPqhsW8B0hcfwoL19SG1arRpPqDRpENwto59ZCth9/pL/RpktH80jih0CxiHbuTFuhnceMob+YjhtHmfGbonB8xsTQHJTYaf78VLKDA81KiaJKlqTEN2+0sCTmlzhaNk8eas3AQGpKLa1bk7BatKAwPi9fpoCTE93nhCMBSImDTz5RGm3enOZ21EUrcTnDI0AJUHClShRGOdqX0SNngQK0R0jh5Ml37r+Ts4FK8Dshj22h+wpltIZ0a+37shcvFkOGkMSRDo3KF5NLiYMaNehmGPDLL/Spi1biUCfYulWsWUMBeUdAqVL0Kdm4UZQpIzTv+qC7X+QkmxI5d6lkzx5yKItjpbF4bCzdvQQeP6bWsQDTptFUt6Bp03in92WMo25d6pajo98aTUqCTzcZO4clztg5LHHGzjFZ4jgdwZl42rR07jxqlJ0vyfFmy2RAr1b2sWTLRhIqWjTxq5lJJJlcHL89TtsZxmhwzmrAtJNGwAMVxs5hiTN2DkucsXNY4oydY6rEX716pZ0/IC7Pnz9PdAb9REmWKfZL6f7B2VgSnac/UY4fP37z5k0VMQHTJxzx9PS8YPLbkfDTGDJddcL0SOwWvZiYmPDwcKMnXDVG4sHBwcuXLy9UqJCDhrlz576Ih3v37l28eFFFjMXFxUWFTOCnn35SIRMYO3asChnLvn37zp49qyImMGHCBBUyll27duF4UxFj6du3L35iFTGWLl26qFA8rFq1SioNODs7X79+XTuZmSEY6eJhYWEwErnXxXpvEdGBXVwPdvG4JOrimzZtkkpzdHScOXNmSEiIWmEYyTAWh9xVKA4scT1Y4nFJVOIYpZgynRyfbjJ2DkucsXPMK/Hu3bsXLVpURYzi9OnT0dHRJvbLJ06cwGf+/Pll1GgaN26cwOWjRJGTQVeuXNnoiwMAFahXr56Jw4P79+8/e/YMY0g5u6kRYPCAEReqMX/+fJVkFGfOnHF1dT158qSKm4FklvidO3dWvyFv3rxt2rTJkiWLt7e3Wm0YwcHBqojVq9GO+FFxkqHWGYyfn58qYvVqnJVj1BiZ9DcS4sxGFbF69Y0bN/r372+KxHtrHoWsWrWqKRIHffr0MX0EDHH/888/ptQE26JJjfhptOzbt6927dpoECf5Vl7zwAMVxs5hiTN2DkvccsTExn417Pjlh0m7rMuYCEvcQkTHvv7S7biDqyeW+y/4PeWWgyVuUaDvC/fZxS0KS9yisMQtD0vcojRYdMk3MFxFGIvAEmfsHJa4ubh9+3aS/rASFBSke0NbSEiI6X/fYQBL3FBKliwZGBgYGxu7aNGi1atXIyUgIODSpUuIvnr1as2aNQhcvXpVZgZr166NiYnx9vZG+nM5QaEQvr6+T58+RYr8iy82RNjd3R3hu3fvPnjwYOrUqQULFty6dauHh8eKFSuw9sqVK1gbGRmJ8MaNGxH28/O7c+cOoggzicISN4gSJUqEh9MYOn369O3bt2/ZsmX9+vWPHj06ZcoUJFaoUEGTS8yaNctLvjmRZtLMAwX/8ccfyA/tykRodMcOaupatWph7Zdffom1oHPnzkg/dOjQo0ePamjmxZQSRwCFI+enn36KbM2bN+/ZsycOgM1yEk3GAFjiiYABQ7p06f6noUyZMpBg9uzZv//++2fPnmklHh0dnSlTppw5c27atEluBaTEixcvjvyX5Xt335U4Pq9fv/7tt9+i5CdPnkiJo5fA4dS6dWtdieMTrp8jR44CBQoEBwezxJMES5yxc1jijJ3DEjeII0eOYMRy9uxZefJ36tQpDBjkKmvRVTNnflRU1K5du2QK815Su8T9/PwaambJcXNzw4i5SpUq8urH559/jmH3hAkTMM6OjIzE+aWvr68cLsvMN2/ebNCgAXTv6el54MABDKAjIiIePnyIYTSVK8T58+f79u37+vXrpk2bIlq+fHmUA0ViaI7oF198ocmlKFy4cExMzLx583BiOnv2bBxL2G/lypUDAgLGjx+PMAb6yCAvI/7444/YV9asWRFGANui2CZNmiBasmRJnBb//PPPCKM0sz5qYCuwxP3kmZ+Li8u1a9eqVasWGBiI08TvvvtOPkIBBc+YMUNK/MKFC9u3b0eilDgCsNJ+/fohAAmGhYVBhf5vpl6BxCEyBLQP+yADvB+njIg6OjpSpjfUr18fnzh+vLy8cFzJ09N79+7duHFj8eLFsveAXrFf1KpQoUJQNs4+kUdKHIFt27ZpN8Sxh8+goCD5FVI5LHE/uKaKpDyg+O7du0+fPh3di0pikgiPxRk7hyXO2DksccbOYYkzdg5J3OfB076zt/PCi/0tTUashMpJ4lLvDGNnjF95GJ8sccZuYYkzdg5LnLFzWOKMncMSZ+wcljhj57DEGTuHJc7YOSzxlMqVK2LMGBEaqqLGce0aFfLihYqmSlKTxOvWFZrHZN6Du7sYPFiFk4USJYSDg/DwoPDduyJNGk1qUli1ikp482qKJPDZZ2LkSBVGIenSiTePaKROUpPEa9aMV+JOTiJnThVOFgoXFtmyiU8/FTExJHGINamYIvFhw1SYSaUSh53nzi0+/pjMtWxZsXs3iUkuvr6iQwdyPoS//poynzghMmZ8mwEjh4oVxQcf0Lbffy9CQsj+v/uOSsuTh/JLIHGkf/SR2L79rcShvLRpNavR5JqUIUPEt9/SkYAojjGEEcAnkBJHhfGJDCAyUhQrRvvF3kuVElFRonJl+iIffii6d6cMEl2Jb9hAm9+7J7p2pfLlF/npJ1rl4yOyZKEoNte6vj2SKiVepw5pJTZWTJtGvzG0onVxCBopFy+K4GAK/PWXaNJEtGsnXr8WefOKSZPEhQt0ALx8qTKsXy9+/50CUOSxY1SCBBIfMUK0bUsC0pW4DAAZwGHw5ZdUk2XLKCUwUDx/TgFUQ0r80iVai0OlZ0+xcCGJEvvF3rHKz09UqkSrjhwROm+Ze7/Eu3ShAIpC/RHAFyxfXtSrR4fomjW0if2SWiWueUBdLFhAv7euxHftohSouWBBWtauFZs3k2siEVqEVuDKCMu1WA4eVBJ/9Yo21yIlDrCtFCt4r8S/+YYCy5dTCuQrjxxEdQcqGTKIpk3pxBGdgHbXAQEkcWn5uiQgcYCDAQFIHAc5csqiSpfW5LZPWOIaiUMBGGxApqdOUcqOHWR4mvelULfeqBFJH2YZFES2iqGCtzcNsuGIGLckLHEMReSwB2A8gEBYGHUOMiVRieOIgrWjhKlTxZIlIn16cecO7eu//0R0tEkSx7YQNzoELEePanLbJ6lJ4uiXpcTr1xdlylAAosHvDYlD2RjvotNH7+/qKj75hNIx1AZQIQbZGOxCTDgMoOwWLWjkDUMtWlQ8fizc3CiznsSxCqYLIETsFCUDFO7oSHpt3lwJDlpEmWDjRkrRShxRjB+wR/grooUKUR4cTjhKMfJBaTiFiIgQ1aq9X+LYBMtXX4lNmyiArsDZmQIABycCOHqvXxcFClA4c+Z3hvJ2R2qSuBHAcSGCPn0o3KwZyUtPykyKhyWeGOPHkx1C6D/+SGeBjK3BEmfsHJY4Y+ewxBk7hyXO2DksccbOYYkzdg5LnLFzWOKMncMSZ+wcljhj57DEGTuHJc7YOSxxxs5hiTN2DkucsXPMLPE2beiZdnD+vNi6VZOUFLJlU4EE2LJFpPIJgm/cEA0b0qKZ1jlePvxQBSS5cqlAAsycacxbLlIYZpb4F1/Q8wRg3z563N1AkjSH6pQp7zl4fvlFBVIDp07R86OgQgV6di5hdN+EkShOTkIzQ/Q76B0qKR7zS3zECLFunZL4lSv0AOWzZ/QwYkSEyJdP3L5Nj7tHRopBgyg9UyZ6cqx8eQpHRdFLQvBZtiwVNXcuPe6OX9Hbm54vvnNHs4M3Et+wgZ6nxFbffENPo5UsSWEUBa3D5CpVEg8fil69KLFJE3H4sNi2jWRx5gy9vAHZ0qalVR4etJfFi8X9+6pwm0Ar8cqV6e0o2bPTd2ndmjq34cPJ2uWjmenTi/Bw8b//0droaFGkiPD0FEOH0qqmTamdf/iBVpUrRw+kSqTEUUixYrSqdGkqIV06CsfE0LOtCJQoQS/GkOHvvqNnT5cupWZcuVLMmkWFZM5Mq9asIRmMHUtPQ1sW80sc8kWjS4m7uoo9e+j9Y1mz0tPstWrRg+5oU4BWQDpED7QuDonLT/wAsB/IumZNyrZihVi0SJNDR+Lz51MUPwNaWbr4tWv04yE/VIsmlq/+2bmTMmPXFy7Qqi+/pBrKJ5GPHaPHlnEw2BaQ+GefUSPj0IVq5Xt/YOcNGpDaOnUSTzU/LiQOtC4OiQP0sa9fU8tcvUo50SATJtC7BiRaie/fT1H8EGgr6eKnT4u+fSk/LAyjUHgTwLGE/aLxkY5F/ppwFoBmh7s9eUJhy2J+iYNly0SNGiTxrl3F2bOaFYLeJYlfBfqG6ENC1Ks8ChakT+hYIiW+YAE1XOPG4tYtenhej/dKHGYP0GnAzLTg18XucHoAcBQFBGhSBbm4lLgEVZWvl7AVtC4Ozp0T/fpRAN3jr79qkgQ99h8YqCSeP78m6Y3EkefRIzLdS5eoQ9PjvRL/5BMK//svvT9DS5Ys1LboigEsXxcpcUnx4urczIJYROLSyGfPpjEGxgnowqBXCPHbb0lw6F7RvrBPpMvzSxwMY8bQES8lDiDBe/coAMkiG/q7uAMVXYnjN/vrL/pdmzWj/KNGkaB/+ol2h9My5ITbubjQKpiQVuLLl1NKtWq2OlCRoAXwLSpWJO2OH09htDBMREq8f39KwVhOShzfFANFSd26tGrYsLenmO+VuLMzZQO1a1MAu0Y7YzSCtkW/gcps3672Mm8eZZMSx6+PlKpVLW/kZpZ4AqB3ww8ABg4UBw5oksyMfJkJ7E3bSzDJReHC9ImREowjhWE9iQMc5Vh271ZRc3P5Mu1u4UIVZZKRXbuobdENpjysKnGGMT8sccbOYYkzdg5LnLFzWOKMnZN8Ej9wgK52M4zRDB5Mf+RObpJD4nv30l+tHBzoT1yjRtn5khLYtk2/VvaxQEIffCAGDKCbXpKP5JA4/Fu+jD1bNnopvX0vKYFjx/RrZR8LJJQmDXm59j6w5CD5Bir//iuqV1dhhjGCQYPoXoDkhk83GTuHJc7YOSxxxs5hiTN2DkucsXNY4oydwxJn7ByWOGPnmF3iHTp0UCETmDt3rgoZi7+/f6DJf1aYPn16RESEihjL8OHDVcgEZs2aFRoaqiLGMnbsWBUyllevXm3evFlFjOXkyZNXzPk8uKkSf/36dXh4OD5VPA4F5UP1ptG/f38VMpYbN27cN/mh4549e4aFhamIsTROjpvV+vTp89LkF5K0kS8jMIHIyMjZs2eriLHs2rXrRGLTUkNj2JeKJBHjJR4TEwNr7NGjR5o0aVADlRoHlrgeLHE9DJG4g4NDtmzZZs6cGRISopIMxhiJx8bG+vn5ubi4YMeSR48evYiH/Pnzq5AJ4BdVIWM5d+7czZs3VcRYunTpEhAQoCLG0qBBAxUyge7du9+7d09FjKVly5YqZCwY+02ZMkVFjGXTpk379u1TkXhQOnNwyJ079+LFi4ODg5UWDcAYicM/unXrli5dOrVbBwe47OB4yJIliwqZQKlSpVTIWLp27dqrVy8VMZbixYsn8E0NJF++fCpkAj/99JOrq6uKGAs6WBUyloEDB9aoUUNFjKVFixbt2rVTkXhQOtMA4Q2S7yQyDCMHKhil+Pr6/vDDD3KvPFAxHB6o6GHgQEXSvn17b2/v6OhotcIATDrdDAoKmjt3bp48eRL44VnierDE9TBQ4uiHfXx8kiRuiUkSlzx//hyjcxWJA0tcD5a4HoZI3JTfLhkknjDNmjVTIROYOnWqChkLzo8fm/wsyfjx4xMYkhlIP/laTdOYOHGiEdcW9Bgq37xsAq9evVqzZo2KGMvx48cvXLigImbA7BJnGOvCEmfsHJY4Y+eYXeLnz5+/deuWihjFkiVL+vbt+9CEyRswbB02bBjOWY3+I7AkICDgn3/+UZGkExwcPGrUqJEjR0ZFRakko3jw4MH27dtVxFiOHDmCc9YzZ84kcPNFwuD0Br/LunXrYmJiVJJRhIaGTpo0SUXMgHklHhgYOGfOHC8vLxU3Ch8fn5cvXzo7O6t40nn06BHkFRYWdvnyZZVkFOfOnXNzc1ORpLN+/fqzZ8+iDrdv31ZJRgFdmn4dAzXBZ8WKFY2WuGzMgQMHvnjxQqYYx4QJE1q0aKEiZiD5JQ6n1DJo0KD79+/jJ1HrDAY+p4qIjMRv8PPPP+PkXa0zDGylto+MlNv27t3biB9DryamSHzDhg0Q1qVLl0yUeHR0tOm3XgJUY+XKlUZLHKxYsWLq1KmmlABtbN68uXPnzipuBpJZ4uiz4FWrNaBTbtCgQdOmTdu2batWG8zx48dlIQAiQ1/222+/qXWGgZqgD5Ul7N+///Hjx8uWLVPrksLRo0dlIQA1sSeJjxkzJigoSEWMAjXB8M/oQnBslC5dunXr1rlz58awR6UmN2YcqMTGxsL5njx5curUKZVkFK6urj179tyxY4eKJ52bN2/+3//9X9euXU28LxkaLSKnyDGKGzduuLi44OuYKKy1a9eWK1fOxDvX0RrNmzeHtoz2YHhZr169hg8fbkpN0MFCJO3bt0/gr4cmYvbTTYaxLixxxs5hiTN2DkvcosTEvr4daOpdLkySYIlblEkH7haZdCY21virbExSYYlbjuiY2KzDjju4et56wkZuOVjilmO6pz/0jcVx1H8qiTE/LHHLMWG/348TTkPibttN+tMPkyRY4halnbs3JK4ijEVgiVsUlrjlYYlbFJa45WGJWxSWuOVhiVuUqYf9Gyy6pCKMRWCJM3YOS5yxc1jijJ3DEjcXwcHBSX1h1c2bN1VIw507d1SIMQGWeOJs2bKlhoYMGTIY/tpfT0/PgwcPqohhNGjQAJ/aV0MVKlRIBhhTYIkbyrVr17p27YqAt7f3okWLEEXYw8Nj586d//1H95wgcdWqVZRVw4MHD27duhUbG4v0rVu3qlTNY2lr1qxZunSpjHp5eSGDv78/wsuXL3/8+HHx4sWRgs0h8b179yIs3+Igc8pnHNetW4dyzPqeNLuBJW4oefPmlc9cyrc01qlTJywsrGzZsvv370c0Y8aM+Dxx4sTvv/+OADh06BAUD3E/fPjw7t27MhHkypXr4sWLOCoWL15848YN+fKMcuXKobTPP/8c4aZNm2oykoufPHny/PnzCxcuDAgI6NWrFxKrV68eERGRL18+s86PY0+wxA1izpw5K1asQGDPnj0Qd/v27YsWLerr6wuJy2mlWrVqhc+QkJDy5cvTBm8k/vz580yZMo0cOVImAkg8KioKOSFulAnJojRHR0fYdlyJy0CXLl3g3xjGICeONMgdEk/qWzdSLSzxxAkMDCxdurQcLVy+fBkjE5kOtBL/6quv8AmZ1qtXT7NGSVyGXV1dtS+W0JX49u3bN27cKNOBlDgELaO6Et+1a9eRI0dkFLDEDYclnjh//vnnF1988T8NT58+7du3LwJQLVZpJX78+HEklipVSvsCcilxjFKQXrFiRe1b0XQlHh0d3bNnT2SYPHkyRu1S4hhzf/fddxiH6Eocm3fs2BE55bvRWOKGwxJn7ByWOGPnsMQZO4clztg5LHGDePbsme6kNi9fvlywYIGKWJujR49ev35dRZg4sMQNIiQk5N9//0WgU6dO+AwPDz9w4IBmjdV4+vSph4cHAteuXTNlfgG7hyUuqlatOnv27DJlyjx//hxRd3d3hHv06IHw/fv3EV68ePGLFy9Gjhw5ZMiQtGnTVqxYEdFevXr9/fff8s/4AwYMCAsLO3jwIDJjcypUQ6NGjfr161elShUZnT9/PjLIq37jx4/fsWNHx44d5aqhQ4fK/cooXBnhsWPHymj58uURbdWqFToTBAASUQ1HR8dff/1V3kHg5OQkM9eoUQOf2mwMS1ykT58e4n7y5En16tVPnjw5atQoJC5fvtzLy6thw4YIh4aGwjLlW9LlpWtEK1eufOnSpTFjxiCaM2fO6OhoeaUccr937x4CIEeOHCgZ0c6dO8P1J0+ejEQI9+7du+gN1q5dK7OB5s2by14iW7Zs6DEgX4SXLl3q6elZpEiRyMjI3bt3IyxvAtu6dSuOB39//4kTJyL6zz//YO3vv//u7e2NaP/+/V1cXJAzKiqqUqVKSEnlsMTV7SWgQIECkIu85yQmJmbGjBnQ/RdffAHzfq/EEahZs+arV6+mTp0KgX722WdZNGjvHoHEUQ6sF866cOHCY8eOIfH8+fMbNmyQAx4tkLi8dRa7Q+Cjjz6SRe3atQuHh5+fX8uWLbEWJWfOnBl1QD31JI5ViKJzePTokYODg9y8XLlyVHrqhiVOLv5AQ7169c6ePSvngcDQ5eLFi9IXMZLRShwSxKdW4oMHD+7evbscCo8YMQKfUBg+JboSP3z48Lhx45CI8uHrCUg8KChIjm1wUotBf8GCBU+fPo2K4VgqW7Ysugu4uJxVa/jw4fiUEkegcePGv/zyCwLt2rVDDRHQvf0r1cISJxeHDWNQK6PTp0+HVuRNVxheIwwrRb8/bdo0pGDgi5yISnkFBARox9MYWyMzNpdRIP/wjszyNix0C8ggb3HRm48KYxg5uTPUiU9YMnLKgw0Sx5ADA54SJUrgqEM6BlGHDh3CqmbNmqFkhOXcVBjYyMKxU2QDqB6iqRyW+NuBSsqkadOmOALRA0jnZpIKS5yxc1jijJ3DEmfsHJY4Y+ewxBk7hyXO2DksccbOYYkzdg5LnLFzlMTxDyp3mb1Dk8gwDMPYAHDwE5fpVjQ2cYZhGNuDTZxhGMaGYRNnGIaxYdjEGYZhbBg2cYZhGBuGTZxhGMaGYRNnGIaxYdjEGYZhbBg2cYZhGBuGTdweWbpUuLiIYcOE5jXldoKfn5g5k74XlsWLxcuXKh0EBYlp04Srq1i5UqWYjzVrhKOjSJtWDBggLPA66+PHxeDB9JU1kzm8w7JlInNmqsmvvwqewiwVwyZuj9SsKRwcRNas7zny4yM4WHTpQlvlykU+lQLZtk0ULkw1lEvjxuLFC7Xq7l1RpAglNm+uUszHqlUie3baV58+4sEDlWg+pkwRn31Gu0OXrMfDh2LfPrF1q7h2Tbx6pRKZ1AebuD2iZ+IYj2PYWKqUWLhQHDkiOncWZcrQ0rOnuHpVxMSIEydE0aLiyy9pq48+EjlziuLFxaBB4v592hxWNWeOqFtXlChB6U2binXrKF0SESH+/ZdGwRUq0FrdZfZsER4uXr8Wvr5i7FhRrRolYr+owK5d1G1I5s8XlSqJjh3FwYOiWzfai7OzWqWL1sRr1xZffUWBOnWUecU1cXxTfN9atcTp0yoFYENUQObBQB55EO3XTxw4IEaMEBUrUrRtW7FjB1V740bRooX46SdRo4aYPl08e6YpQsfE0efNmiVat6YdlSsnRo4UOvM66TcLviAG1OfOvXXbvn1F6dLCzU14eIhmzSjbvHlqlS4JmLinp2jUiApHHs1cTmLyZGpetCHOWvr3F2XL0i7wjbZv12zwhoR/UMbWYBO3R/RM/MoV8jukpElDB/batWLPHvHLLxT94AOxfDl5FowefoQ8cCgc4YGBZLLw9zFjRKZM4uOPxdCh4vZtceyYKFZMZTtzhmwL3QMKKVSIikUGdAyffioyZKDhPEbKcPBOnSjDF1+QFaJXgAmiBOwaDuvlRdX7/XfaBVKwoGQsjo6UrofWxGG4KOTrrymMbwrimjgsTxalmVBa8fnnlCILf/KEXBVR7BQnHzNm0IULjO7RhyHxww+pxfAFly4VGTNSCtxQzi2pNXEssL/z58nuUSaicNvNmynP9euienX61rDILVuoWdCM33xDKb16KcOFrWMT7VfGgl4hLgmY+IYNar/o8+TUrigBvxTKzJxZTJ0qfHxE9+6UAfvV9osJ/6CMDcImbo/EZ+I//ywO0ysriQULlA/i8I6KIst2cqIohuGwdQnGy/IIj7vA2oYMoTFd797kGgULihUraFyPYSBMPH162hbFYgwIQ9TbVi4wGjnlnDRxpGAomsBlAV0Tx7gYjiNtEc4LtzLaxFEIhuQSfHF8fSSiKeSJgrZZcudWw9X3Xk7Bl0WDpE1Lth4UREaJDO9dsDvUFkgT//ZbOv9IACNMHCnakTV+Efw0SMFp0MWLif+gjA3CJm6PJJeJ795NY0kk1qsnbt1SibpgZI2xHpz0hx9oZI1z+QYNaAyomTyagGvAxNOlI3eLD+NMHKBK+Aoov3Jl8eOPtCoBE3/+XLmhcSaubRatiaO78venFLBkCbknTLxNGzLxceMow5dfikmTVIa4WMXEE/1BGRuETdweMcLEw8LIemBDGEf/+iut3bKFrrG4udGVEGSD6UycSLd/4BPlf/89FQIjaNSITBwZtAtsEa46Z466gaRFCzJxmAvqMG0ajb7/+IMuIsMcpY8YbeLgxg1l33LRmjj2Ig2uZEm6VDJ0KNVK7iVZTBw9x0cf0beYNYsKlz6bPz/9jRHAOrEKzZItm/jtN/peixbRHSbo6iZPViUn1cRxwrF6tVo2bxbe3saYONot4R+UsUHYxO0Rd3dyRpzU36WflgxrxQpKgZv4+WlyCHH2rPjzT0rcuZOufYPwcDKUCRMoceRIuvMBKQDjzU2bKDNcD6tgK/CIgADa6uRJckn4vqsrXUYHcJP27emaOGwCu4uIELGx9IdNuCrqg80xooSVY6ePH1N+gB1hd1h17pyqyXu5eZNuMcTmR46oioHXr2nUj3RZ5717VTrAN126lPIPH04jZR8f+nbIhhMFgE7rwAGKjh+vLs0DdCpYi0SM3yMjKQWfCMutZJdz6RKNr9EI8ET0kWguNAv6P93rNgA1RAujBdBjybrNnUsXoLFfCeqGdLSqdjj/Xv77T5Wgu6AlPT3JoNElILp9u+oYUAd8WaRo7zjET49uBiloAYQl8f2gjG3CJs4YC0bNcA0M6zDkzJVLtGwpevSgyylZspCDY3AH14ODMwxjTtjEGRPAwPnpU7pDA4PcHTtowVgYg0eMjqOjVR6GYcwJmzjDMIwNwybOMAxjw7CJMwzD2DBs4gzDMDYMmzjDMIwNwybOMAxjw7CJMwzD2DBs4gzDMDYMmzjDMIwNwybOMAxjw7CJMwzD2DBs4gzDMDYMmzjDMIwNwybOMAxjw7CJG8X+/TS35KlTKsowKYS5c2kqovgmSNqwgWbBv3hRRRm7wGZN3N1dzTLl/GYab7BvH82ANW2aiiYXAQE0c42bm4qC+/fFiRNv56YxmtBQmlcld26xdatKiY+oKJpyoW9fFWXsCYwGihQRrVrR5HlY2rcXRYuK9evfTgNkOFev0qQ/ci4OqLR1azF7tmaFBl9fetu7dnI7o5Gz1v34I023lCjVqonp01WYMQM2buJ//03TQv72m0rUM/F790TbtuJ//6OlVCmavkASEkIbynS5FCpEgxQwYQKFZeIff9DMBgcP0pyKH39MU44hsW5dOsw2bxYVK9IcCDj8KlWiWbK0x5uPD00oLo+cc+dovkpZWseONCGkHnomvnMnzRI5adLbaqOeqO2BAyJvXppCHtVAYpUqamJGHJCNG6uc3bqpydgk3burdLlUry727KF0nEPUqqUSXVzUnGoYuCF//fqqWerUoYnEVq1STVG5sjh9mrIxZgIqKl6cZkqTQHUwXwjM25ui0FuBAuonK1eOpsST3LlDM+7L9AED1DSbY8bQbJnQ1cyZpNt06WhmUWSAolDa/Pmidm1yeQR++kmVDyIjaf45beHIUKGCKnnYsLfTXmvRNfEXL0jD6IHGjaNjAZug5PPnKdusWSJfPhppffYZpderp2YHhM7LllXlYyvtvHEAlZfpckG15fdavVqULq0S8dXk9K0A5Y8eTQ6A9M6daTpsHMIyW7t2b7+gXWPjJr58OWkoVy4yKYxVdU0cAoIoYXavX1MUI5QvvySlBgWJhg1JT0jHAlNDNsgCIIohjMyPz8yZSakAyoNvNmhAYQn2DufFWAnAr1EyDBSbQFvQU5kytJfx4ylw9CilY4EnYhMckLJ8iZ6Jy6lv0SXIPLdu0XEyZAj5OHz2l1/oIJFgMDV0KNUKR50sf8kS8d131G0g/PnntBYgjAMS5WPvOJ+AUzdqRLNEyk1mzKA2xHgNxzDSv/rq7QS7OGaqVqVeCoYiM2NhzARMHB0/+lToBwtOLjNmVI2PETrkCgEA/ARXrpBtDRxIeuvalcbsCEC0Wt3ilBGdfUQEhTGeyJOHUrRAWihw927KjOEFemt5NonxDXJCaf7+olMnOjrkzJ/INnEiGa6255Domjh8c/hwOu42blR1kFI8e1ZFP/xQ9OpFAYAqtWlDM/k9eEBRZMC2KB/fa9ky8nqMSwDkjdb4+Wdx+zZd/MGh17Onqio2QRibyK4FPQQOf3nmgYMOXQKswMtLNYhc7B3bN3GAXxfuhp8cHiRNHD8w9P3JJyRNDCe1y19/0Qy20GWOHDR17/HjdGkbI9N//6VyIFzIC6MemRkHgyEmDiB6SAdHDnSMIQAUf/06DWwhStRHu3csyKCd5BfENXHkwShJC0YfqAOOGT0Tv3BB1KhB3Yxe+bt2UU58C5QJs0YfBndu0YKcGoNrdFdZstCk7LqbnDihTFxvvnP0N7APfB3sAhWTvsCYA72RuBZ0wDlz0nBEztoM8Ds2a/ZWipAKfsFs2USTJtR/w/QNNHGAsyv0B0hB4ThNhIABRtAFC5JIdBUC2Zw5Q2u1xDXxkiVpPCSBmCG/NWtUtXVNHCKEzDBc0C0fo/5r16hMpHfoQLqFjFENHKfAw4NK++abdzbBgSBndtYtXLJlC1kBzkJwKoNT2Pj+PGBH2IWJA7g2zrzwi6JbliPxuXNJHGvXvr3QgXE6BIfuunFjGobIOSGxwK2wOcYCcGrYH85SATpzDIqlicsuAaaJbSV6Jg6Xx9EydiydSC5dSinytA4jcZw5StDToEycN+iSJBNH3UqVUoOywEAxYgRd6JDXVQA0jSMNBaL+6KKwVvsFceSg5hj7oMfC4Et7bQSOAPtAyVh0TRznNDgJkJc70eX060eHMf81zHzEZ+IAvxdUJCfahydCIehTcfIHIeHkUg5O0aPjB+rbVzx69I6JY1CCQ6BzZwpLdE0c4PCB9hYsIMFI2UPqcliDIbAEI/3Ll5XqtCTJxFHhdu00KzRHCuqDfkh76Q87QvmQGQ4cHHGwYClaHDjolgD8vXlzOu1A3SQ3btDRCpUCXRPHkY7BkzyHwLkFjhf0bVLGdo3Nmjh0P2CAOvmSwNdgf8OGqWE1gFCg2h491OLtTSdZUACcEcYkgTpHjiTr3LaNdAznlZlXrqRrLytWqGxQxujRlA7PxQAHe4dL4oRRC4wS6v/7bxWVQH9//qkKxF7koagLVA7poygchwAFoic4elSzTsOkSVQHeUziyBk8mIrCOaOvL6XAWMeMUeWjelK+sHKcgmD8IkEixlkwAtlWsuZyE5Qj/8aFEdy8eVRDLfB3pMhsqIP2kGPMAYQ3fjz9oeW9YFgKaWl/Mi1QC9Qu03GGJy8Tw+X79FEGB6ATmQGHBtwW4xiUAAfUAgeHCWLIrwvcs39/teHMmeqqtC4QJGQJ7aEXgXXi2MGBA7VLIGZoDDqU1YCNyqJwQElwhOIAlIk4ZND3AGgbJ8E4uCRwdnQSGJhLUHP0T3KTxYvfDqfQMhioacG+0JIy26JFqmR7x2ZN3Gjg2pALxiMY+GDBgKJhQzFnjv383jiEMNLBeYP8gl26iJo1xfbtai3DpEww7ChYkEZmEC0+MY7G+J3/om4Aqc/EGYZh7Ag2cYZhGBuGTZxhGMaGYRNnGIaxYdjEGYZhbJiUZ+KvX9M9nvKxXYZhGAtz8SK9CcB2HvVMMSYub2IdOlQULkyP0uo9PcgwDGMZihQhCypYkO5F3rs3Gd4XZmZSgIlfukRPo3z6KTUcL/a0XL+ufmKmSxf9xuHFVpaMGemOdfk4XookxYzEcf5y9Cg9v5srFzUcj8QZhrEKciTu6Ehvn/b0VO82SMGk1GvicZ9QZxiGsQA+PvQOD/lmRFsg5Zk4wzAMYzBs4gzDMDYMmzjDMIwNwybOMAxjw7CJMwzD2DBs4gzDMDYMmzjDMIwNY/MmHhkZ+ToFvOUgSoOKWA80RcppkOjoaKvXJCYm5tWrV7Ep457fFNImaA3UJCW0ScoRSQppEOOwbRN//vx5gQIFbqWAJ4MGDhzYTztvp/W4ceNGyZIl79+/r+LWo0ePHpMmTQrTzlJtJY4dO9a4cWM0i4pblT59+kybNu2lnAzTehw+fLhNmzbnrf2OOYw2BgwYMHv2bKs3yK5du5ydnU+cOKHitobVTBz9Xnh4OFx43rx5nTp18vT0xIhJrTMYbF6wYMEUYuL9+/dXEesBtypVqlRKMPGePXtOnjzZ6iZ+/PhxmPjNlDHleQoxcRxrMPEL1n4ZCEwcR00KMXGMOUw08TNnznTo0MHJyWnChAnPnj0LDQ212NDeoiaO05aQkBBfX9+VK1dC0PBfBw1p0qRZvHgxPF3lMxg2cT2kiT948EDFrQebeFzYxHWxMxPftGmTdDNJzpw5UeaiRYtwSAYHB0dHR6t8ZsBCJo5+yd3dfejQoT/88IP6lu/SqlUrHPPTk8j48eO//vrrYcOGqbj1qFKlSuXKlVXEeqCFHR0dR40apeLWo1y5cg0aNDDiN01e+vbtW7hwYTSLiluVChUqNGrUaOLEiSpuJXr37l2iRIlBgwapuJX466+/cNQ0a9YMQ1eVZCW6desGubq4uKi4UWAMrrwsDjgke/XqtWzZsidPnihDTFYsZOI4s0DHe+/evfnz53fq1Cl//vzq+71h3rx5GFZHJJGAgIACBQpcuXJFxa1Hv3794BcqYj0uXbpUsmTJ27dvq7j1wIGBLhbnlSpuJQ4dOtSwYcPLly+ruFXB2cmkSZMeP36s4lZi3759LVu2PHXqlIpbiRcvXri6uuLUxOoN4uHhAbkePnxYxY1izZo1yst0SJMmDRwc5z1Tp0718fEx0wUWK1wTj4mJ8ff3x4lGly5d8ubNK78tX05JFviauB58OSUufDlFj2S/nPLNN99gqDpjxoxr166hrzLrtRRgtT9sAvRLcGEYOk5Gjh07hh9VrTAYNnE92MT1YBOPC5u4Hsli4qdPn+7QocPo0aNhaIGBgRb7qyawpombDkz8+++/TwkmDgd3cXFREesBEy9evHhKMPHu3btPmDAhJdxi2KBBAzSLilsVdGxTpkyxumcdPny4ZcuWKeEWw379+s2cORNjVZVkJXbu3NmtWzf09ypua9i2ib9+/ToiIsKSnV58RGlQEesh//aQEhrk1atXaJCU8GALGiQmJkbFrUrKaRPUxOptgnZIIQ3CD/swDMMwVoNNnGEYxoaxeRPHqdDt27eNuLMlGXnw4MHFixcvXLhg3YvRERER3t7eqMalS5dSwgWEAA3WOlkODg6+ceMGWuP69etG/M082Xn48OHTp0+t/ruEhITIZrl27Zq1mgWNgNZAHYCF/wYYH6GhoTh4rf4nHOOwYROPiory8fHp06dPnjx5vLy8VKrFWbVq1axZs/C5evXqcePGTZs2Ta2wLLCqKVOmLFu2bO3atahJly5d7t6l39VabNy4sWTJkoMHDzb3/VXv5cSJE6NHj547dy5aY8GCBf369Xv06JG1uhN4JapRrFix6dOnW/evmujdZ8+evXDhQtRn8eLFLi4ucC4LN8uLFy82b96MpkAdwO+//44ouha12uLAuP/9919nZ+caNWqcPHlSpdoUtmrisAaMOkuUKIEBRbly5c6cOaNWWAmMgt3d3QcMGHDq1CmVZCUwrsEwp1SpUmgflWQl+vfv7+bmZhUT37BhQ+/evc+ePYswnKtq1ao4XbPiH9DQCBhtoFOx+q0pEtQHzVK7du2bN29apVmwUxg3upOJEyfiLNaI9yYlCxgIbtmyZeDAgRiHde3alU08+YHUjh8/7uTk1DoO3bp1w4EKHTx58qRMmTKnT59W25iNgICAmTNnqt3rsG/fPgy1rly5sm7dOozE58yZozYwD2iT//77r0OHDmr3bxgzZoy8mAMHL1SoEIbhFjg4Hz9+jCGVqsEb2rRps3fvXvRqbOJaUpqJo2UaN24M0VrrUgbc8/z58+vXrx82bJiHh0doaKhaYUHQeYwcORImDg85cOBAp06dcGRZUSRGk6JNHA0aExMDO9Dj3r17K1euXKRh2rRpefLkQX8O81KbmQd5Y5aqgQ44PuUPjwDOVVu2bCnzm4n42gR18/f3Hzt2LFoGZ6yjR4+2wGuwEm4TnJcMHz7cKiaO8/SePXtKE7969WrFihV9fHyseHxi1y4uLhh4Wt3E0RpTpkyBSDAGnzp1qhX/aCFxdXVFNZ4/f67ilgLfGjayevVqaSPQKk7oJ02a9PTpU5XDdrD5P2yGhYUtWbLEin9R3Lp16x9//IEh59ChQ3fs2GGtoY2vr++MGTMwskA1wIQJE8z0th0DQVOgRxkxYsS2bdtUkgXBIXrjxg2cI+N3wfkTmgIpQK22LBh1ohHQraI1PD09rfhX1uvXr+NsANWQIvnrr78CAwMt3CzBwcHbt2/H7yIPmX///RfjAGv9NFru3LmDEwLYuorbFDZv4gzDMKkZNnGGYRgbhk2csWcio2JiYq18qs4wZoVNnLFbvANCa867OOWQ/4twK/xxlWEsA5s4Y59cfhhSc96FD/p5put/ZOKBuyGRKeIdWAyT7LCJM3bIxfshdeZfTOPq6aBZ0vbzHL/fLzLKVl9TxzAJwCbO2BsXH4TUX/jWweWC6Jg9d1QOhrEj2MQZu6Wdu7d08Av3rfZqDoYxN2zijN3CJs6kBtjEGbuFTZxJDbCJM3YLmziTGmATZ+wWNnEmNcAmztgt94IirwSEYongmwsZ+4VNnGEYxoZhE2cYhrFh2MQZhmFsGDZxJhl49OjRqTj4+PiYY3L3devW5ciRY9WqVeabmHHhwoWffvrpoUOHVPxdPDw8ChUqtGLFChVnGKvCJs4kP3Pnzi1QoADc1oqz2CQX6J+aNm1ao0YNFWcTZ1IYbOJMcvL8+fN+/foVL178+PHjcnbN//77r02bNu3atRswYECnTp06d+589epVpB89erRs2bL169fv0aNH3759t27dGh4ePmvWrNKlSyOni4tL69atO3bsePnyZU3Bb8EAOU+ePHIk7ufnpy180KBBq1evVpnesHHjxly5cvXv3799+/aoWN26ddu2bevr64tV2N2BAwc6dOjQsmVLbI6aDBkyRE7QtWPHjs8///zgwYMo39nZOW/evDlz5kSeGTNm3Lp1S5p4q1atUEnUvFatWigB6dgQndbOnTtRJdQc+REYPHjwnTv0zhZ8wXz58mF33bp1Q01QOBIZxnTYxJlkAw4I561evbrWeeFfn3zyCVxPRp88eeLm5ta4ceP79+9LE4fzPn78WK6FFWL8LsMA6ViL0m7cuKGSNOia+JEjRzJkyDB27Fi1Lg7SxNevXy/PCYKDg7HTgQMHIrxv3z6EsUqTkSZrbdSoUe/evTH0liYuL6fENxKfP39+VFSUTClatKirq2tMTAzq4+joqL0Og6+PzgOrAgMDpYnPnDkzJIRvWmeSEzZxJnnw8vKqVq0ahtW6s81u2bLl448/njx5MixMC8bmoaGh0sSnTJmCsMxcoUKFBg0ayDB4+fIl1pYvXx4lqyQNuib++vVrjP1R5vTp02HWcOcXL16ofBqkicOUpeHCQDFwxuAaw/CFCxdi1ejRo2WtJOfOncMqQ0xc93IKat6lSxfUB2cSX3/9NQbsqjgNFy9ejIiIQAAmvnnzZvNdymdSJ2ziTDKwd+/eYsWKDRs2TG+YCcNq1apV8eLFAwICEIUvw/vgdAjHNfGzZ89i2I4UhOGky5cvL1GixD///CMvy2jRNXF0D9Jq/f39sSMY9MOHD2U2SXwmjrCPj4+TkxO20o700QfAoDFm1zVx9Ap//PHHL7/8cvv2bZktPhNHj4IzjLp16zZs2BBDb6TjZGLatGmbNm1CmE2cMRNs4oypwLzguc/iEBQUFBsbq7sWo+awsDC5FVwVno4hKjLIFBATEyNzArin9nqFLkjEKlgtNgTYi8yP0rA7lekNcExkwKfcCz6Dg4O13Qbyoz5yc6CtDPKjqtq9o1YoHBmwLXoUrJUVkGsB1uqWibAsEIWgTJkut9LWhGGSCzZxhmEYG4ZNnGEYxoZhE2cYhrFh2MQZhmFsGDZxJtnw9fWtX7++9mkaPR48eNC5c+fKlSvfvHlTJTGaW9enTp1auHDh3bt3qySGSQps4oy50L1Rj9Hi7++fNWvWiRMnqjjDmAabeGrHz8/vo48+yps3b5cuXa5cubJ+/foSJUoMHTpUrp07d668WRurQJ48eTp06ID0oKCgfv36NW3aFIkHDhxANi8vr6dPn7Zs2VKOxGFV8+bN+/TTT5cuXXr16lUMw7HWzc0NI/Fr166tWLGidOnSa9eulXt5/PgxhqLjxo2LjIzcsGGDfB4SJWO/FStWjPsw/fnz53NoGDFixMWLF5csWYL6u7u7Y1VISMi0adOqVKmybNkylODh4fHLL7+gZAx4sbZTp04ff/wx6oBVt2/f1t7vKGnevHnmzJmrV6/u6ekpv2yrVq3kKkTr1KnTvn17BPbt24ec2PWjR4+watSoUUWLFj116hRaACciuXLlOnHixP379/EVkAf5Adq2TJkyyBAYGHj48GHsBa2H9Fu3bkVEROBrypE4vle9evWGDBmCtpL7dXV1rVChwrNnz7y9vbGXvn37YqvNmzfXrFkTX0rmYVI5bOKpHZh4hgwZZsyYIaOvX7+GtxYsWBBOsXz58p9++mnTpk3aW5vv3LkDX541axZMHP6SM2dOWFV0dLS8QVvXxBHVG4lrTfzmzZvIL5+/hyVh1aBBg+BKDx8+lI/pw8dRJsBeJk2ahFVwalmIRJo4eg7kQRQl9+zZE9kQXrRoEcwOu9ZkJOC5yIxvgcwwcYTlVnGBNdetW1d7LQid0xdffAHnRQ8EF27SpMmrV6+oWtHRMNxixYqhh8Cq/Pnzo/XQ/SAd7u/o6Cjfi4JGi4mJkflh66VKlYJZw7L1RuK6Jo7oli1b0ERbt27F5mg6tDBMHyUUKFDg999/l6UBNFGlSpVQAVkIk5phE0/tSBOfPHmyjMJ3Vq5ciWEy/AgBDMMxNtc+RAP/hYljiC2j4Pnz5+PHj8dAGMNhPROHK8Vn4ohiPI5R54QJE9BbwBAvXbqExLNnz6Iy8hHHBJAmjmqgtohioNqrVy/5ZDyqARPXdbedO3dmz55927Zt8D6YOExWrYgDTBxDaXQkMoqaSxNHE+GcA8jd6QLvxnnDt99+m1sDRv3ykdHr168jPwbyGJIjinH6zz//LE0cvp+AiYOBAwf++uuvaJBy5crNnDlTni5kypQJJi4zMIwubOKpHThU+vTpMZzEcBhDyNmzZ2PMiPGsXAsTKVOmzJw5c7AKI3QMzKX7wIkwaEUi+OOPP8qXL79nzx49E3/8+HHJkiW7deuG/gApeiYOYK+NGjX66quv4GLh4eEycenSpehCMMBHycgwcuRI1EGu0pKAiSOMGsKLsRYlTJ8+vVq1au7u7rJ840wcYVgqupyuXbtqvvHBhQsX4hTBx8cHJl61alW0HsbFVapUQTug20NTeHt7Ozk54dthTL1q1SqYcubMmaWJo7R27dqhVVE+vkhcE4fvY9T/ww8/9OnTR76uAJw8ebJChQryNwL4RcaNG6ddy6Rm2MRTOzDxjBkzwrtVnEkKf//99/fff3/u3Dl5soIuBP1ExYoV5QCcYSwAm3hqJygoaOzYsRjoqTiTRODg48ePx+kIGDNmzLZt29QKhrEIbOIMwzA2DJs4wzCMDcMmzjAMY8OwiTMMw9gwbOIMwzA2DJs4wzCMDcMmzjAMY8OwiTMMw9gw+ibeZMTKP1ce5oUXXnjhxSaW1mPXkokL8f/bmdEP3d467AAAAABJRU5ErkJggg==)"
      ],
      "metadata": {
        "id": "esaYjSMhd-WD"
      }
    },
    {
      "cell_type": "markdown",
      "source": [
        "Untuk menampilkan output berupa integer bisa menggunakan fungsi print() atau langsung menuliskan bilangannya."
      ],
      "metadata": {
        "id": "JWHKT-DoeIX6"
      }
    },
    {
      "cell_type": "code",
      "execution_count": null,
      "metadata": {
        "colab": {
          "base_uri": "https://localhost:8080/"
        },
        "id": "CaZEOvcKqENe",
        "outputId": "0047b3a5-baf9-4124-a901-d241290a14f5"
      },
      "outputs": [
        {
          "output_type": "stream",
          "name": "stdout",
          "text": [
            "123\n"
          ]
        }
      ],
      "source": [
        "print(123)"
      ]
    },
    {
      "cell_type": "code",
      "execution_count": null,
      "metadata": {
        "colab": {
          "base_uri": "https://localhost:8080/"
        },
        "id": "WIM-YGeCqFRd",
        "outputId": "674030a8-e521-444d-d162-bcb850910ee2"
      },
      "outputs": [
        {
          "output_type": "execute_result",
          "data": {
            "text/plain": [
              "10"
            ]
          },
          "metadata": {},
          "execution_count": 47
        }
      ],
      "source": [
        "10"
      ]
    },
    {
      "cell_type": "code",
      "execution_count": null,
      "metadata": {
        "colab": {
          "base_uri": "https://localhost:8080/"
        },
        "id": "P4R-HvhWqIOB",
        "outputId": "72f1b2b5-5cbd-4095-bb21-6df15ca4e75f"
      },
      "outputs": [
        {
          "output_type": "stream",
          "name": "stdout",
          "text": [
            "-27\n"
          ]
        }
      ],
      "source": [
        "print(-27)"
      ]
    },
    {
      "cell_type": "markdown",
      "source": [
        "**Float**\n",
        "\n",
        "Float merupakan tipe data untuk objek numerik berupa bilangan desimal, baik positif atau negatif, misalnya 1.4, 3.5, -2.876, -74.2, dan lainnya. Sama seperti penulisan kode untuk menampilkan integer, kita tidak perlu membatasi bilangan float dengan tanda kutip. "
      ],
      "metadata": {
        "id": "Mn1TPV0MeLP4"
      }
    },
    {
      "cell_type": "code",
      "execution_count": null,
      "metadata": {
        "colab": {
          "base_uri": "https://localhost:8080/"
        },
        "id": "vARHJWIlqKcs",
        "outputId": "d88e5be0-42a5-4661-9833-35d7a3a86189"
      },
      "outputs": [
        {
          "output_type": "stream",
          "name": "stdout",
          "text": [
            "0.1\n"
          ]
        }
      ],
      "source": [
        "print(0.1)"
      ]
    },
    {
      "cell_type": "code",
      "execution_count": null,
      "metadata": {
        "colab": {
          "base_uri": "https://localhost:8080/"
        },
        "id": "Hz2OV_JDqMOQ",
        "outputId": "6bb06608-ed94-4ba5-a0f9-658c8b68c824"
      },
      "outputs": [
        {
          "output_type": "execute_result",
          "data": {
            "text/plain": [
              "-1.2"
            ]
          },
          "metadata": {},
          "execution_count": 50
        }
      ],
      "source": [
        "-1.2"
      ]
    },
    {
      "cell_type": "code",
      "execution_count": null,
      "metadata": {
        "colab": {
          "base_uri": "https://localhost:8080/"
        },
        "id": "kFqvz7XgqNb6",
        "outputId": "740d616a-7226-467f-c294-cf06a1203745"
      },
      "outputs": [
        {
          "output_type": "stream",
          "name": "stdout",
          "text": [
            "0.5\n"
          ]
        }
      ],
      "source": [
        "print(.50)"
      ]
    },
    {
      "cell_type": "code",
      "execution_count": null,
      "metadata": {
        "colab": {
          "base_uri": "https://localhost:8080/"
        },
        "id": "hdiGnN9iqQC_",
        "outputId": "19e27ad9-9678-4b40-9bb6-cab2726a1415"
      },
      "outputs": [
        {
          "output_type": "stream",
          "name": "stdout",
          "text": [
            "0.23\n"
          ]
        }
      ],
      "source": [
        "print(.23)"
      ]
    },
    {
      "cell_type": "code",
      "execution_count": null,
      "metadata": {
        "colab": {
          "base_uri": "https://localhost:8080/"
        },
        "id": "Sbu2GbfXqSUz",
        "outputId": "370c8755-7311-4377-a940-5f533655d9c5"
      },
      "outputs": [
        {
          "output_type": "stream",
          "name": "stdout",
          "text": [
            "0.5\n"
          ]
        }
      ],
      "source": [
        "print(.5)"
      ]
    },
    {
      "cell_type": "code",
      "execution_count": null,
      "metadata": {
        "colab": {
          "base_uri": "https://localhost:8080/"
        },
        "id": "V8U434wWqXA2",
        "outputId": "20f51118-bbbe-4d9c-d45c-3e1f1d53d2b9"
      },
      "outputs": [
        {
          "output_type": "stream",
          "name": "stdout",
          "text": [
            "3.0\n"
          ]
        }
      ],
      "source": [
        "print(3.)"
      ]
    },
    {
      "cell_type": "code",
      "execution_count": null,
      "metadata": {
        "colab": {
          "base_uri": "https://localhost:8080/"
        },
        "id": "_p3RaFGzqZzG",
        "outputId": "88a03eca-d7c2-4de4-af59-43eb3023048e"
      },
      "outputs": [
        {
          "output_type": "execute_result",
          "data": {
            "text/plain": [
              "3.0"
            ]
          },
          "metadata": {},
          "execution_count": 55
        }
      ],
      "source": [
        "3."
      ]
    },
    {
      "cell_type": "code",
      "execution_count": null,
      "metadata": {
        "colab": {
          "base_uri": "https://localhost:8080/"
        },
        "id": "hfOyzsSOqci4",
        "outputId": "28f270ca-0bee-4366-a647-935b7018b7d5"
      },
      "outputs": [
        {
          "output_type": "stream",
          "name": "stdout",
          "text": [
            "False\n"
          ]
        }
      ],
      "source": [
        "print(1 == 2)"
      ]
    },
    {
      "cell_type": "markdown",
      "source": [
        "**Boolean**\n",
        "\n",
        "Tipe data Boolean hanya memiliki dua nilai yaitu True dan False. Tipe data ini digunakan untuk mengecek apakah suatu kondisi benar atau salah."
      ],
      "metadata": {
        "id": "2-XUH0d8eW6X"
      }
    },
    {
      "cell_type": "code",
      "execution_count": null,
      "metadata": {
        "colab": {
          "base_uri": "https://localhost:8080/"
        },
        "id": "OcmNP2FSqe-Y",
        "outputId": "7d089fab-9d49-437b-ff82-6d69ffa02aa8"
      },
      "outputs": [
        {
          "output_type": "execute_result",
          "data": {
            "text/plain": [
              "False"
            ]
          },
          "metadata": {},
          "execution_count": 57
        }
      ],
      "source": [
        "1 == 2"
      ]
    },
    {
      "cell_type": "code",
      "execution_count": null,
      "metadata": {
        "colab": {
          "base_uri": "https://localhost:8080/"
        },
        "id": "wlGReLoQqggv",
        "outputId": "eea0ab86-32b9-405a-d27c-0401ded949ee"
      },
      "outputs": [
        {
          "output_type": "stream",
          "name": "stdout",
          "text": [
            "True\n"
          ]
        }
      ],
      "source": [
        "print(2 == 2)"
      ]
    },
    {
      "cell_type": "code",
      "execution_count": null,
      "metadata": {
        "colab": {
          "base_uri": "https://localhost:8080/"
        },
        "id": "ms9QC_-Aqi5t",
        "outputId": "b6b48ac2-eec4-4004-a591-d8c9453f2758"
      },
      "outputs": [
        {
          "output_type": "execute_result",
          "data": {
            "text/plain": [
              "True"
            ]
          },
          "metadata": {},
          "execution_count": 59
        }
      ],
      "source": [
        "2 == 2"
      ]
    },
    {
      "cell_type": "code",
      "execution_count": null,
      "metadata": {
        "colab": {
          "base_uri": "https://localhost:8080/"
        },
        "id": "R_ikul2kqkPQ",
        "outputId": "129565cc-9f19-46d6-d1dd-5e158da497f5"
      },
      "outputs": [
        {
          "output_type": "stream",
          "name": "stdout",
          "text": [
            "False\n"
          ]
        }
      ],
      "source": [
        "print(\"Dia\" == 'dia')"
      ]
    },
    {
      "cell_type": "code",
      "execution_count": null,
      "metadata": {
        "colab": {
          "base_uri": "https://localhost:8080/"
        },
        "id": "9GZh6HaHqmME",
        "outputId": "f271d381-ca56-4782-ef5a-4d73d9efc46f"
      },
      "outputs": [
        {
          "output_type": "execute_result",
          "data": {
            "text/plain": [
              "False"
            ]
          },
          "metadata": {},
          "execution_count": 61
        }
      ],
      "source": [
        "\"Dia\" == 'dia'"
      ]
    },
    {
      "cell_type": "code",
      "execution_count": null,
      "metadata": {
        "colab": {
          "base_uri": "https://localhost:8080/"
        },
        "id": "RDD9-vD3qps7",
        "outputId": "835b4ad8-1a65-4452-90f0-8a74896e6c30"
      },
      "outputs": [
        {
          "output_type": "stream",
          "name": "stdout",
          "text": [
            "True\n"
          ]
        }
      ],
      "source": [
        "print('saya' == 'saya')"
      ]
    },
    {
      "cell_type": "code",
      "execution_count": null,
      "metadata": {
        "colab": {
          "base_uri": "https://localhost:8080/"
        },
        "id": "bGQKJlKFqry1",
        "outputId": "ad38f1c4-2de5-4f40-9888-14656dd0e3c4"
      },
      "outputs": [
        {
          "output_type": "execute_result",
          "data": {
            "text/plain": [
              "True"
            ]
          },
          "metadata": {},
          "execution_count": 63
        }
      ],
      "source": [
        "'saya' == 'saya'"
      ]
    },
    {
      "cell_type": "markdown",
      "source": [
        "Pada contoh 1, kita menuliskan 2 sama dengan 3 dan menghasilkan output False, berarti 2 memang tidak sama dengan 3. Selanjutnya contoh 2, 4 sama dengan 4 menghasilkan output True karena memiliki nilai yang sama.\n",
        "\n",
        "Untuk contoh menggunakan string, \"AKU\" dan \"aku\" menghasilkan output False dan dianggap bukan merupakan string yang memiliki nilai yang sama, artinya huruf besar tidak sama dengan huruf kecil. Sementara contoh terakhir ditulis dengan huruf kecil dan menghasilkan nilai True karena memiliki nilai yang sama.\n",
        "\n",
        "**Mengecek Tipe Data**\n",
        "\n",
        "Python memiliki fungsi type() yang berfungsi untuk memeriksa jenis tipe data."
      ],
      "metadata": {
        "id": "1eDVjw9hegDH"
      }
    },
    {
      "cell_type": "code",
      "execution_count": null,
      "metadata": {
        "colab": {
          "base_uri": "https://localhost:8080/"
        },
        "id": "cRV-X8e_qvN9",
        "outputId": "bdf8be11-9c3b-4151-d8ac-819a140f1d83"
      },
      "outputs": [
        {
          "output_type": "execute_result",
          "data": {
            "text/plain": [
              "int"
            ]
          },
          "metadata": {},
          "execution_count": 64
        }
      ],
      "source": [
        "type(1)"
      ]
    },
    {
      "cell_type": "code",
      "execution_count": null,
      "metadata": {
        "colab": {
          "base_uri": "https://localhost:8080/"
        },
        "id": "O6zX0ok4qwHJ",
        "outputId": "a26bd564-e5f1-4baf-e9ac-3f5ac68f0364"
      },
      "outputs": [
        {
          "output_type": "execute_result",
          "data": {
            "text/plain": [
              "int"
            ]
          },
          "metadata": {},
          "execution_count": 65
        }
      ],
      "source": [
        "type(-1)"
      ]
    },
    {
      "cell_type": "code",
      "execution_count": null,
      "metadata": {
        "colab": {
          "base_uri": "https://localhost:8080/"
        },
        "id": "J7SMxAb1qx0p",
        "outputId": "425da851-9a31-40db-dfb0-48d1f518e2ae"
      },
      "outputs": [
        {
          "output_type": "execute_result",
          "data": {
            "text/plain": [
              "float"
            ]
          },
          "metadata": {},
          "execution_count": 66
        }
      ],
      "source": [
        "type(0.1)"
      ]
    },
    {
      "cell_type": "code",
      "execution_count": null,
      "metadata": {
        "colab": {
          "base_uri": "https://localhost:8080/"
        },
        "id": "d3BP1TONqzoe",
        "outputId": "6ec8c0bb-0236-481d-c485-0aaa59b03c6e"
      },
      "outputs": [
        {
          "output_type": "execute_result",
          "data": {
            "text/plain": [
              "str"
            ]
          },
          "metadata": {},
          "execution_count": 67
        }
      ],
      "source": [
        "type('ini buku')"
      ]
    },
    {
      "cell_type": "code",
      "execution_count": null,
      "metadata": {
        "colab": {
          "base_uri": "https://localhost:8080/"
        },
        "id": "Fl9EIH_Nq1mq",
        "outputId": "a772be4b-e2e0-448c-8ccc-5aad0bfe5c0a"
      },
      "outputs": [
        {
          "output_type": "execute_result",
          "data": {
            "text/plain": [
              "bool"
            ]
          },
          "metadata": {},
          "execution_count": 68
        }
      ],
      "source": [
        "type(1 == 2)"
      ]
    },
    {
      "cell_type": "code",
      "execution_count": null,
      "metadata": {
        "colab": {
          "base_uri": "https://localhost:8080/"
        },
        "id": "Dn2Sirneq3KY",
        "outputId": "acb76d6f-7e65-40e8-8b39-5ae28035747e"
      },
      "outputs": [
        {
          "output_type": "execute_result",
          "data": {
            "text/plain": [
              "bool"
            ]
          },
          "metadata": {},
          "execution_count": 69
        }
      ],
      "source": [
        "type(False)"
      ]
    },
    {
      "cell_type": "markdown",
      "source": [
        "Dari hasil output yang ditampilkan bahwa output dari fungsi type() adalah jenis tipe data dari objek yang dimaksud.\n",
        "\n",
        "**Konversi Tipe Data**\n",
        "\n",
        "Mengonversi tipe data dari integer ke float. Mari cek terlebih dahulu tipe datanya."
      ],
      "metadata": {
        "id": "ERiYtUjUevvM"
      }
    },
    {
      "cell_type": "code",
      "execution_count": null,
      "metadata": {
        "colab": {
          "base_uri": "https://localhost:8080/"
        },
        "id": "om8zD1zxrImf",
        "outputId": "246c8322-559a-4fa7-d1fc-23b2431c1ad9"
      },
      "outputs": [
        {
          "output_type": "execute_result",
          "data": {
            "text/plain": [
              "int"
            ]
          },
          "metadata": {},
          "execution_count": 70
        }
      ],
      "source": [
        "type(1)"
      ]
    },
    {
      "cell_type": "markdown",
      "source": [
        "**Konversi Integer ke Float dan sebaliknya**\n",
        "\n",
        "Untuk mengonversi bilangan integer ke float, kita dapat menggunakan fungsi float()."
      ],
      "metadata": {
        "id": "unRfGjN3fDxL"
      }
    },
    {
      "cell_type": "code",
      "execution_count": null,
      "metadata": {
        "colab": {
          "base_uri": "https://localhost:8080/"
        },
        "id": "F2R3F8Q2rJaq",
        "outputId": "7426d19a-cb93-4eee-d294-36e55478fbfd"
      },
      "outputs": [
        {
          "output_type": "execute_result",
          "data": {
            "text/plain": [
              "1.0"
            ]
          },
          "metadata": {},
          "execution_count": 71
        }
      ],
      "source": [
        "float(1)"
      ]
    },
    {
      "cell_type": "markdown",
      "source": [
        "Nah, sekarang kita cek tipe datanya."
      ],
      "metadata": {
        "id": "R0ciizgrfJ4p"
      }
    },
    {
      "cell_type": "code",
      "execution_count": null,
      "metadata": {
        "colab": {
          "base_uri": "https://localhost:8080/"
        },
        "id": "QYApvOrUrL-n",
        "outputId": "8b263e83-8732-4581-cc63-31bebf7b05d9"
      },
      "outputs": [
        {
          "output_type": "execute_result",
          "data": {
            "text/plain": [
              "float"
            ]
          },
          "metadata": {},
          "execution_count": 72
        }
      ],
      "source": [
        "type(float(1))"
      ]
    },
    {
      "cell_type": "markdown",
      "source": [
        "Saat mengonversi integer ke float, nilai yang dihasilkan tidak berubah. Namun berbeda saat melakukan konversi dari float ke integer. Hasil konversi float ke integer mungkin akan menghilangkan sedikit informasi dari bilangan tersebut, karena hasilnya akan dibulatkan. \n",
        "\n",
        "Untuk mengonversi float ke integer, gunakan fungsi int()."
      ],
      "metadata": {
        "id": "jUvyj4qSfZIa"
      }
    },
    {
      "cell_type": "code",
      "execution_count": null,
      "metadata": {
        "colab": {
          "base_uri": "https://localhost:8080/"
        },
        "id": "gAb_3tC2sUN1",
        "outputId": "35b76ff5-18dc-4cc5-8820-bfc4da157b67"
      },
      "outputs": [
        {
          "output_type": "execute_result",
          "data": {
            "text/plain": [
              "2"
            ]
          },
          "metadata": {},
          "execution_count": 73
        }
      ],
      "source": [
        "int(2.3)"
      ]
    },
    {
      "cell_type": "code",
      "execution_count": null,
      "metadata": {
        "colab": {
          "base_uri": "https://localhost:8080/"
        },
        "id": "fEfjB1XlsWcA",
        "outputId": "3567442c-89b3-499e-ba99-a087bf554496"
      },
      "outputs": [
        {
          "output_type": "execute_result",
          "data": {
            "text/plain": [
              "-2"
            ]
          },
          "metadata": {},
          "execution_count": 74
        }
      ],
      "source": [
        "int(-2.7)"
      ]
    },
    {
      "cell_type": "code",
      "execution_count": null,
      "metadata": {
        "colab": {
          "base_uri": "https://localhost:8080/"
        },
        "id": "9uwAZ-GFsXvi",
        "outputId": "4bad968d-9c01-4918-f875-39d081defd05"
      },
      "outputs": [
        {
          "output_type": "execute_result",
          "data": {
            "text/plain": [
              "76"
            ]
          },
          "metadata": {},
          "execution_count": 75
        }
      ],
      "source": [
        "int(76.75)"
      ]
    },
    {
      "cell_type": "markdown",
      "source": [
        "**Konversi String ke bilangan (Integer atau Float)**\n",
        "\n",
        "Terkadang kita perlu mengonversi string menjadi integer atau float agar dapat dilakukan operasi aritmatika."
      ],
      "metadata": {
        "id": "aYH6xSpvfcb6"
      }
    },
    {
      "cell_type": "code",
      "execution_count": null,
      "metadata": {
        "colab": {
          "base_uri": "https://localhost:8080/"
        },
        "id": "VcoOnZgjsZri",
        "outputId": "668f8cac-2b73-4660-9a36-12cb920eb1ba"
      },
      "outputs": [
        {
          "output_type": "execute_result",
          "data": {
            "text/plain": [
              "12"
            ]
          },
          "metadata": {},
          "execution_count": 76
        }
      ],
      "source": [
        "int('12')"
      ]
    },
    {
      "cell_type": "code",
      "execution_count": null,
      "metadata": {
        "colab": {
          "base_uri": "https://localhost:8080/"
        },
        "id": "WPefB2Z1sbAG",
        "outputId": "573d1d6f-f4d8-4e48-ddea-2f8a904f2f9b"
      },
      "outputs": [
        {
          "output_type": "execute_result",
          "data": {
            "text/plain": [
              "-1"
            ]
          },
          "metadata": {},
          "execution_count": 77
        }
      ],
      "source": [
        "int('-1')"
      ]
    },
    {
      "cell_type": "code",
      "execution_count": null,
      "metadata": {
        "colab": {
          "base_uri": "https://localhost:8080/"
        },
        "id": "IxNjLS0fsc3d",
        "outputId": "e8908551-bf6a-45dc-f236-9e74cdc1f2bc"
      },
      "outputs": [
        {
          "output_type": "execute_result",
          "data": {
            "text/plain": [
              "11.2"
            ]
          },
          "metadata": {},
          "execution_count": 78
        }
      ],
      "source": [
        "float('11.2')"
      ]
    },
    {
      "cell_type": "code",
      "execution_count": null,
      "metadata": {
        "colab": {
          "base_uri": "https://localhost:8080/"
        },
        "id": "y5kGgLJmsd_h",
        "outputId": "5d034feb-a335-4f25-9c1b-c54ab9cd3746"
      },
      "outputs": [
        {
          "output_type": "execute_result",
          "data": {
            "text/plain": [
              "-11.2"
            ]
          },
          "metadata": {},
          "execution_count": 79
        }
      ],
      "source": [
        "float('-11.2')"
      ]
    },
    {
      "cell_type": "markdown",
      "source": [
        "Untuk mengonversi string ke integer atau float, kita harus memasukkan angka saja sebagai argumen seperti pada contoh di atas. Jika string yang akan dikonversi mengandung selain angka, akan menyebabkan error."
      ],
      "metadata": {
        "id": "9kUBGXDlfl_M"
      }
    },
    {
      "cell_type": "code",
      "execution_count": null,
      "metadata": {
        "colab": {
          "base_uri": "https://localhost:8080/",
          "height": 166
        },
        "id": "8xE_8WvYsguU",
        "outputId": "c9e47597-07b3-4498-8a1a-5d4708e2c067"
      },
      "outputs": [
        {
          "output_type": "error",
          "ename": "ValueError",
          "evalue": "ignored",
          "traceback": [
            "\u001b[0;31m---------------------------------------------------------------------------\u001b[0m",
            "\u001b[0;31mValueError\u001b[0m                                Traceback (most recent call last)",
            "\u001b[0;32m<ipython-input-80-531cd71f34fa>\u001b[0m in \u001b[0;36m<module>\u001b[0;34m()\u001b[0m\n\u001b[0;32m----> 1\u001b[0;31m \u001b[0mint\u001b[0m\u001b[0;34m(\u001b[0m\u001b[0;34m'15 derajat'\u001b[0m\u001b[0;34m)\u001b[0m\u001b[0;34m\u001b[0m\u001b[0;34m\u001b[0m\u001b[0m\n\u001b[0m",
            "\u001b[0;31mValueError\u001b[0m: invalid literal for int() with base 10: '15 derajat'"
          ]
        }
      ],
      "source": [
        "int('15 derajat')"
      ]
    },
    {
      "cell_type": "code",
      "execution_count": null,
      "metadata": {
        "colab": {
          "base_uri": "https://localhost:8080/",
          "height": 166
        },
        "id": "JCZmqoJIsiKg",
        "outputId": "38cb8ccf-0379-4d5d-e72f-efd194950bf0"
      },
      "outputs": [
        {
          "output_type": "error",
          "ename": "ValueError",
          "evalue": "ignored",
          "traceback": [
            "\u001b[0;31m---------------------------------------------------------------------------\u001b[0m",
            "\u001b[0;31mValueError\u001b[0m                                Traceback (most recent call last)",
            "\u001b[0;32m<ipython-input-81-c7b4990a9a91>\u001b[0m in \u001b[0;36m<module>\u001b[0;34m()\u001b[0m\n\u001b[0;32m----> 1\u001b[0;31m \u001b[0mfloat\u001b[0m\u001b[0;34m(\u001b[0m\u001b[0;34m'1.5 dan 2.5'\u001b[0m\u001b[0;34m)\u001b[0m\u001b[0;34m\u001b[0m\u001b[0;34m\u001b[0m\u001b[0m\n\u001b[0m",
            "\u001b[0;31mValueError\u001b[0m: could not convert string to float: '1.5 dan 2.5'"
          ]
        }
      ],
      "source": [
        "float('1.5 dan 2.5')"
      ]
    },
    {
      "cell_type": "markdown",
      "source": [
        "**Konversi bilangan (Integer dan Float) ke String**\n",
        "\n",
        "Untuk mengonversi bilangan menjadi string, gunakan fungsi str()."
      ],
      "metadata": {
        "id": "Wab5710mfpYm"
      }
    },
    {
      "cell_type": "code",
      "execution_count": null,
      "metadata": {
        "colab": {
          "base_uri": "https://localhost:8080/",
          "height": 35
        },
        "id": "QdVKKQeisjse",
        "outputId": "aafd3910-87e9-4024-90ba-9e560adeb0b8"
      },
      "outputs": [
        {
          "output_type": "execute_result",
          "data": {
            "text/plain": [
              "'123'"
            ],
            "application/vnd.google.colaboratory.intrinsic+json": {
              "type": "string"
            }
          },
          "metadata": {},
          "execution_count": 82
        }
      ],
      "source": [
        "str(123)"
      ]
    },
    {
      "cell_type": "code",
      "execution_count": null,
      "metadata": {
        "colab": {
          "base_uri": "https://localhost:8080/",
          "height": 35
        },
        "id": "cEHGmcqwsk2a",
        "outputId": "d3de052f-bd1f-43ee-a93c-4d37b406e77a"
      },
      "outputs": [
        {
          "output_type": "execute_result",
          "data": {
            "text/plain": [
              "'-123'"
            ],
            "application/vnd.google.colaboratory.intrinsic+json": {
              "type": "string"
            }
          },
          "metadata": {},
          "execution_count": 83
        }
      ],
      "source": [
        "str(-123)"
      ]
    },
    {
      "cell_type": "code",
      "execution_count": null,
      "metadata": {
        "colab": {
          "base_uri": "https://localhost:8080/",
          "height": 35
        },
        "id": "jqWc83PKsmbW",
        "outputId": "217282d2-7b6a-4d18-a794-3c5d5e554f26"
      },
      "outputs": [
        {
          "output_type": "execute_result",
          "data": {
            "text/plain": [
              "'12.34'"
            ],
            "application/vnd.google.colaboratory.intrinsic+json": {
              "type": "string"
            }
          },
          "metadata": {},
          "execution_count": 84
        }
      ],
      "source": [
        "str(12.34)"
      ]
    },
    {
      "cell_type": "markdown",
      "source": [
        "**Konversi Boolean ke bilangan (Integer atau Float) dan Sebaliknya**\n",
        "\n",
        "Untuk mengonversi nilai True menjadi integer atau float, maka hasilnya adalah nilai 1 atau 1.0, sedangkan False akan menghasilkan nilai 0 atau 0.0. Sebaliknya, jika mengonversi angka 1 ke tipe boolean, hasilnya bernilai True, sedangkan angka 0 akan bernilai False. Untuk konversi ke tipe boolean, gunakan fungsi bool()"
      ],
      "metadata": {
        "id": "UFspLZwvfxsg"
      }
    },
    {
      "cell_type": "code",
      "execution_count": null,
      "metadata": {
        "colab": {
          "base_uri": "https://localhost:8080/"
        },
        "id": "Z0LmugGmsnhq",
        "outputId": "3e889ac3-724f-4aa0-9a94-8283c7dc9a07"
      },
      "outputs": [
        {
          "output_type": "execute_result",
          "data": {
            "text/plain": [
              "1"
            ]
          },
          "metadata": {},
          "execution_count": 85
        }
      ],
      "source": [
        "int(True)"
      ]
    },
    {
      "cell_type": "code",
      "execution_count": null,
      "metadata": {
        "colab": {
          "base_uri": "https://localhost:8080/"
        },
        "id": "aNrhIkKnsoK5",
        "outputId": "7df3da26-5dfd-41a1-f697-bbec052fc9d7"
      },
      "outputs": [
        {
          "output_type": "execute_result",
          "data": {
            "text/plain": [
              "0"
            ]
          },
          "metadata": {},
          "execution_count": 86
        }
      ],
      "source": [
        "int(False)"
      ]
    },
    {
      "cell_type": "code",
      "execution_count": null,
      "metadata": {
        "colab": {
          "base_uri": "https://localhost:8080/"
        },
        "id": "UMR0TTm7sqan",
        "outputId": "c5782fd4-fabd-4d7b-cb95-4d7381eb34d6"
      },
      "outputs": [
        {
          "output_type": "execute_result",
          "data": {
            "text/plain": [
              "1.0"
            ]
          },
          "metadata": {},
          "execution_count": 87
        }
      ],
      "source": [
        "float(True)"
      ]
    },
    {
      "cell_type": "code",
      "execution_count": null,
      "metadata": {
        "colab": {
          "base_uri": "https://localhost:8080/"
        },
        "id": "J-Stsd_Usq8X",
        "outputId": "7c4367a1-ae12-41cc-c470-6d2b120794fb"
      },
      "outputs": [
        {
          "output_type": "execute_result",
          "data": {
            "text/plain": [
              "0.0"
            ]
          },
          "metadata": {},
          "execution_count": 88
        }
      ],
      "source": [
        "float(False)"
      ]
    },
    {
      "cell_type": "code",
      "execution_count": null,
      "metadata": {
        "colab": {
          "base_uri": "https://localhost:8080/"
        },
        "id": "qCAPyYltstDN",
        "outputId": "cd07d95d-1b8e-43d6-8f91-63e9ae113fa0"
      },
      "outputs": [
        {
          "output_type": "execute_result",
          "data": {
            "text/plain": [
              "True"
            ]
          },
          "metadata": {},
          "execution_count": 89
        }
      ],
      "source": [
        "bool(1)"
      ]
    },
    {
      "cell_type": "code",
      "execution_count": null,
      "metadata": {
        "colab": {
          "base_uri": "https://localhost:8080/"
        },
        "id": "yIjBeI3Os4iI",
        "outputId": "e43c2b6f-e64e-4c8e-e5dc-ac4b27ece732"
      },
      "outputs": [
        {
          "output_type": "execute_result",
          "data": {
            "text/plain": [
              "False"
            ]
          },
          "metadata": {},
          "execution_count": 90
        }
      ],
      "source": [
        "bool(0)"
      ]
    },
    {
      "cell_type": "code",
      "execution_count": null,
      "metadata": {
        "colab": {
          "base_uri": "https://localhost:8080/"
        },
        "id": "eJLgp8w3s6Rh",
        "outputId": "a86f5db0-4289-4d43-d4c4-fe734ce5871f"
      },
      "outputs": [
        {
          "output_type": "execute_result",
          "data": {
            "text/plain": [
              "True"
            ]
          },
          "metadata": {},
          "execution_count": 91
        }
      ],
      "source": [
        "bool(1.0)"
      ]
    },
    {
      "cell_type": "code",
      "execution_count": null,
      "metadata": {
        "colab": {
          "base_uri": "https://localhost:8080/"
        },
        "id": "3Ck3qU8ys8BO",
        "outputId": "a365851d-54f9-4b08-d24b-19da015dab75"
      },
      "outputs": [
        {
          "output_type": "execute_result",
          "data": {
            "text/plain": [
              "False"
            ]
          },
          "metadata": {},
          "execution_count": 92
        }
      ],
      "source": [
        "bool(0.0)"
      ]
    },
    {
      "cell_type": "markdown",
      "source": [
        "**Variabel**\n",
        "\n",
        "Variabel adalah sebuah wadah untuk menampung data yang memiliki nilai yang dinamis atau dapat berubah-ubah. Pada bahasa Python, variabel tidak perlu dideklarasikan di awal seperti pada bahasa pemrograman lain.\n",
        "\n",
        "**Inisialisasi Variabel**\n",
        "\n",
        "Inisialisasi variabel hanya menggunakan tanda sama dengan (=).."
      ],
      "metadata": {
        "id": "RO62rsFSjwvO"
      }
    },
    {
      "cell_type": "code",
      "source": [
        "a = 5\n",
        "print(5)"
      ],
      "metadata": {
        "colab": {
          "base_uri": "https://localhost:8080/"
        },
        "id": "N3nOzWaxj5Dz",
        "outputId": "351386a2-d11d-40df-c62c-10600bb6e283"
      },
      "execution_count": null,
      "outputs": [
        {
          "output_type": "stream",
          "name": "stdout",
          "text": [
            "5\n"
          ]
        }
      ]
    },
    {
      "cell_type": "markdown",
      "source": [
        "Pada bab sebelumnya, kita dapat mencetak nilai variabel tanpa menggunakan fungsi print()."
      ],
      "metadata": {
        "id": "BvaXT2tUj9Kc"
      }
    },
    {
      "cell_type": "code",
      "source": [
        "a"
      ],
      "metadata": {
        "colab": {
          "base_uri": "https://localhost:8080/"
        },
        "id": "R-L-MQbHj90n",
        "outputId": "c4d5f88d-afea-4ab0-c423-19afc8131e44"
      },
      "execution_count": null,
      "outputs": [
        {
          "output_type": "execute_result",
          "data": {
            "text/plain": [
              "5"
            ]
          },
          "metadata": {},
          "execution_count": 94
        }
      ]
    },
    {
      "cell_type": "markdown",
      "source": [
        "Nilai dalam variabel juga bisa diganti."
      ],
      "metadata": {
        "id": "wNlHP3hOkHlh"
      }
    },
    {
      "cell_type": "code",
      "source": [
        "a = 1000\n",
        "a"
      ],
      "metadata": {
        "colab": {
          "base_uri": "https://localhost:8080/"
        },
        "id": "geaLILbxkI-Q",
        "outputId": "774482f0-d184-4cc3-f89a-cae4d573cd55"
      },
      "execution_count": null,
      "outputs": [
        {
          "output_type": "execute_result",
          "data": {
            "text/plain": [
              "1000"
            ]
          },
          "metadata": {},
          "execution_count": 95
        }
      ]
    },
    {
      "cell_type": "markdown",
      "source": [
        "Sebelumnya variabel a bernilai 5, kemudian memberikan nilai baru pada variabel a dengan 1000. Setelah menjalankan kode program kembali, output yang dihasilkan adalah 1000. Hal Itu dikarenakan variabel a sebelumnya yang bernilai 10 ditimpa dengan nilai variabel yang memiliki nilai 1000."
      ],
      "metadata": {
        "id": "t4ezqK03kMwq"
      }
    },
    {
      "cell_type": "markdown",
      "source": [
        "Nilai sebuah variabel bisa diganti dengan tipe data yang berbeda."
      ],
      "metadata": {
        "id": "eIA2veu9kahX"
      }
    },
    {
      "cell_type": "code",
      "source": [
        "var = 1.18\n",
        "print(var)"
      ],
      "metadata": {
        "colab": {
          "base_uri": "https://localhost:8080/"
        },
        "id": "BVh7_jdOkcgH",
        "outputId": "7c6bc186-acef-4a88-8914-31049af0d1f1"
      },
      "execution_count": null,
      "outputs": [
        {
          "output_type": "stream",
          "name": "stdout",
          "text": [
            "1.18\n"
          ]
        }
      ]
    },
    {
      "cell_type": "code",
      "source": [
        "var = \"Ganti menjadi string\"\n",
        "print(var)"
      ],
      "metadata": {
        "colab": {
          "base_uri": "https://localhost:8080/"
        },
        "id": "mI99zo3cke7t",
        "outputId": "acb4aaa8-dbae-4351-b0b2-1293555be588"
      },
      "execution_count": null,
      "outputs": [
        {
          "output_type": "stream",
          "name": "stdout",
          "text": [
            "Ganti menjadi string\n"
          ]
        }
      ]
    },
    {
      "cell_type": "markdown",
      "source": [
        "Variabel var sebelumnya bernilai 1.18 yang bertipe data float, selanjutnya isi variabel var diganti menjadi sebuah string. Nilai variabel yang digunakan adalah nilai yang diinisialisasi paling terakhir. Apabila ingin menggunakan kembali variabel dengan nilai sebelumnya, inisialisasi kembali dengan nilai sebelumnya.\n",
        "\n",
        "**Memberi nilai beberapa variabel dengan nilai yang sama**\n",
        "\n",
        "Membuat dua atau lebih variabel dengan nilai yang sama dengan hanya satu baris kode.\n"
      ],
      "metadata": {
        "id": "76Gb1kfgkkGM"
      }
    },
    {
      "cell_type": "code",
      "source": [
        "a = b = c = 1000"
      ],
      "metadata": {
        "id": "tFBcBPAxrhm3"
      },
      "execution_count": null,
      "outputs": []
    },
    {
      "cell_type": "markdown",
      "source": [
        "Menampilkan output dari ketiga variabel dengan fungsi print(). Hasilnya akan mengeluarkan output yang sama."
      ],
      "metadata": {
        "id": "BL-tloBqroUi"
      }
    },
    {
      "cell_type": "code",
      "source": [
        "print(a, b, c)"
      ],
      "metadata": {
        "colab": {
          "base_uri": "https://localhost:8080/"
        },
        "id": "M6SCLA95sTA2",
        "outputId": "a871be50-c8c5-4d6d-b5d7-13541dd23a47"
      },
      "execution_count": null,
      "outputs": [
        {
          "output_type": "stream",
          "name": "stdout",
          "text": [
            "1000 1000 1000\n"
          ]
        }
      ]
    },
    {
      "cell_type": "markdown",
      "source": [
        "Bisa kita lihat bahwa variabel a, b, dan c  memiliki nilai 100. Nah, misalnya kita ingin mengubah nilai dari salah satu variabel tersebut."
      ],
      "metadata": {
        "id": "3ufoS2JYsm_4"
      }
    },
    {
      "cell_type": "code",
      "source": [
        "c = 200"
      ],
      "metadata": {
        "id": "5qr6_vePsqbu"
      },
      "execution_count": null,
      "outputs": []
    },
    {
      "cell_type": "markdown",
      "source": [
        "Kemudian tampilkan dan nilai variabel c menjadi 200."
      ],
      "metadata": {
        "id": "iJa5Vwh6szMB"
      }
    },
    {
      "cell_type": "code",
      "source": [
        "print(a, b, c)"
      ],
      "metadata": {
        "colab": {
          "base_uri": "https://localhost:8080/"
        },
        "id": "NfaJuzlss1Xl",
        "outputId": "225ee381-8c8a-4665-992c-098319bccbaa"
      },
      "execution_count": null,
      "outputs": [
        {
          "output_type": "stream",
          "name": "stdout",
          "text": [
            "1000 1000 200\n"
          ]
        }
      ]
    },
    {
      "cell_type": "markdown",
      "source": [
        "**Aturan Penamaan variabel**\n",
        "\n",
        "Nama variabel yang telah digunakan sebelumnya adalah nama variabel yang pendek seperti x, a, b, dan lainnya. Namun, pada kenyataannya nama variabel dapat lebih panjang yang merujuk pada penggunaannya agar lebih mudah dimengerti. Misalnya jika ingin membuat variabel yang memiliki nilai mahasiswa, kita dapat menamai variabel misalnya nilaiMhs atau nilai_mhs."
      ],
      "metadata": {
        "id": "IIhzos_ys5BV"
      }
    },
    {
      "cell_type": "code",
      "source": [
        "nama_mhs = 'Sinta'\n",
        "matkul_mhs = 'Kalkulus'\n",
        "nilai_mhs = 90\n",
        "\n",
        "print(nama_mhs, matkul_mhs, nilai_mhs)"
      ],
      "metadata": {
        "colab": {
          "base_uri": "https://localhost:8080/"
        },
        "id": "Rd1-eMNps9Z-",
        "outputId": "14978fb1-9d8f-4e87-dc3b-34940da970c8"
      },
      "execution_count": null,
      "outputs": [
        {
          "output_type": "stream",
          "name": "stdout",
          "text": [
            "Sinta Kalkulus 90\n"
          ]
        }
      ]
    },
    {
      "cell_type": "markdown",
      "source": [
        "Nama variabel tidak boleh diawali dengan angka."
      ],
      "metadata": {
        "id": "QiHL6j6ds8jF"
      }
    },
    {
      "cell_type": "code",
      "source": [
        "100x = 10"
      ],
      "metadata": {
        "colab": {
          "base_uri": "https://localhost:8080/",
          "height": 131
        },
        "id": "ztXVeZlUtG6Z",
        "outputId": "a8d1fdd4-3f22-437e-dcfc-b098f66bf3dd"
      },
      "execution_count": null,
      "outputs": [
        {
          "output_type": "error",
          "ename": "SyntaxError",
          "evalue": "ignored",
          "traceback": [
            "\u001b[0;36m  File \u001b[0;32m\"<ipython-input-103-fafc3eccf82f>\"\u001b[0;36m, line \u001b[0;32m1\u001b[0m\n\u001b[0;31m    100x = 10\u001b[0m\n\u001b[0m       ^\u001b[0m\n\u001b[0;31mSyntaxError\u001b[0m\u001b[0;31m:\u001b[0m invalid syntax\n"
          ]
        }
      ]
    },
    {
      "cell_type": "markdown",
      "source": [
        "Perlu diingat bahasa Python sangat sensitif, karena itu huruf besar dan huruf kecil tidak memiliki nilai yang sama."
      ],
      "metadata": {
        "id": "IwpdwIq_tKLL"
      }
    },
    {
      "cell_type": "code",
      "source": [
        "nilai = 10\n",
        "Nilai = 20\n",
        "NILAI = 30\n",
        "print(nilai, Nilai, NILAI)"
      ],
      "metadata": {
        "colab": {
          "base_uri": "https://localhost:8080/"
        },
        "id": "hR0z1mZTtQmn",
        "outputId": "1c9d6ec2-ead5-436b-838b-5175fdc6d9d3"
      },
      "execution_count": null,
      "outputs": [
        {
          "output_type": "stream",
          "name": "stdout",
          "text": [
            "10 20 30\n"
          ]
        }
      ]
    },
    {
      "cell_type": "markdown",
      "source": [
        "Meskipun dibaca \"nilai\", namun tiga variabel tersebut berbeda. ‘nilai’ tidak sama dengan ‘NILAI’ ataupun ‘Nilai’."
      ],
      "metadata": {
        "id": "x2OWb2betaDa"
      }
    },
    {
      "cell_type": "markdown",
      "source": [
        "**Kata-kata yang tidak boleh digunakan sebagai nama variabel**\n",
        "\n",
        "Ada beberapa kata yang tidak boleh digunakan sebagai variabel , misalnya True dan False yang merupakan nilai untuk tipe data boolean. Kita dapat mengecek keyword Python yang tidak bisa digunakan sebagai nama variabel."
      ],
      "metadata": {
        "id": "gJh_jTdgteBE"
      }
    },
    {
      "cell_type": "code",
      "source": [
        "help(\"keywords\")"
      ],
      "metadata": {
        "colab": {
          "base_uri": "https://localhost:8080/"
        },
        "id": "VDRWHLqeth-a",
        "outputId": "1a07caf3-640b-4280-f07a-0e8d44424aa3"
      },
      "execution_count": null,
      "outputs": [
        {
          "output_type": "stream",
          "name": "stdout",
          "text": [
            "\n",
            "Here is a list of the Python keywords.  Enter any keyword to get more help.\n",
            "\n",
            "False               class               from                or\n",
            "None                continue            global              pass\n",
            "True                def                 if                  raise\n",
            "and                 del                 import              return\n",
            "as                  elif                in                  try\n",
            "assert              else                is                  while\n",
            "async               except              lambda              with\n",
            "await               finally             nonlocal            yield\n",
            "break               for                 not                 \n",
            "\n"
          ]
        }
      ]
    },
    {
      "cell_type": "markdown",
      "source": [
        "Jadi, ketika melakukan inisialisasi variabel menggunakan salah satu kata di atas, maka akan terjadi error."
      ],
      "metadata": {
        "id": "z5nkgCikthkE"
      }
    },
    {
      "cell_type": "code",
      "source": [
        "if = 4"
      ],
      "metadata": {
        "colab": {
          "base_uri": "https://localhost:8080/",
          "height": 131
        },
        "id": "OlAHA0i6ts26",
        "outputId": "9d87458f-6af4-4ef1-af82-7574af9562c0"
      },
      "execution_count": null,
      "outputs": [
        {
          "output_type": "error",
          "ename": "SyntaxError",
          "evalue": "ignored",
          "traceback": [
            "\u001b[0;36m  File \u001b[0;32m\"<ipython-input-106-6bf3167568fd>\"\u001b[0;36m, line \u001b[0;32m1\u001b[0m\n\u001b[0;31m    if = 4\u001b[0m\n\u001b[0m       ^\u001b[0m\n\u001b[0;31mSyntaxError\u001b[0m\u001b[0;31m:\u001b[0m invalid syntax\n"
          ]
        }
      ]
    },
    {
      "cell_type": "markdown",
      "metadata": {
        "id": "zg6OBMlrtDQx"
      },
      "source": [
        "**Ekspresi**\n",
        "\n",
        "Pada bab ini, akan membahas tentang ekspresi di Python termasuk di dalamnya akan dibahas operasi aritmatika yang mencakup penjumlahan, pengurangan, perkalian, pembagian, modulo, dan lainnya.\n",
        "\n",
        "Ekspresi adalah rangkaian operand dan operator seperti a + b atau a + b – 4 atau 20 * 2. Operator adalah simbol yang digunakan untuk operasi aritmatika, sedangkan operand adalah nilai yang dieksekusi oleh operator tersebut yang dapat berupa variabel atupun sebuah nilai yang berupa angka.\n",
        "\n",
        "**Simple Expression**\n",
        "\n",
        "**Operasi Penjumlahan**\n",
        "\n",
        "Operasi penjumlahan di Python menggunakan operator +."
      ]
    },
    {
      "cell_type": "code",
      "execution_count": null,
      "metadata": {
        "colab": {
          "base_uri": "https://localhost:8080/"
        },
        "id": "BFe_ghMktB3G",
        "outputId": "dc97aa62-0d9b-46f7-ad27-90868147f8da"
      },
      "outputs": [
        {
          "output_type": "execute_result",
          "data": {
            "text/plain": [
              "35"
            ]
          },
          "metadata": {},
          "execution_count": 107
        }
      ],
      "source": [
        "12 + 23"
      ]
    },
    {
      "cell_type": "code",
      "execution_count": null,
      "metadata": {
        "colab": {
          "base_uri": "https://localhost:8080/"
        },
        "id": "ESU6XOSxufXQ",
        "outputId": "6ddd7d18-189d-4e5e-eb5b-65162d21000d"
      },
      "outputs": [
        {
          "output_type": "execute_result",
          "data": {
            "text/plain": [
              "91"
            ]
          },
          "metadata": {},
          "execution_count": 108
        }
      ],
      "source": [
        "12 + 34 + 45"
      ]
    },
    {
      "cell_type": "code",
      "execution_count": null,
      "metadata": {
        "id": "4YBOOgqhuiz_"
      },
      "outputs": [],
      "source": [
        "x = 10"
      ]
    },
    {
      "cell_type": "code",
      "execution_count": null,
      "metadata": {
        "id": "yGdY5MTQutDz"
      },
      "outputs": [],
      "source": [
        "y = 20"
      ]
    },
    {
      "cell_type": "code",
      "execution_count": null,
      "metadata": {
        "colab": {
          "base_uri": "https://localhost:8080/"
        },
        "id": "uLNJWve8uuuo",
        "outputId": "bccdbe38-9016-4600-9613-7f0b83055845"
      },
      "outputs": [
        {
          "output_type": "execute_result",
          "data": {
            "text/plain": [
              "30"
            ]
          },
          "metadata": {},
          "execution_count": 111
        }
      ],
      "source": [
        "x + y # Ekspresi penjumlahan dengan operand berupa variabel"
      ]
    },
    {
      "cell_type": "markdown",
      "source": [
        "**Operasi Pengurangan**\n",
        "\n",
        "Operasi pengurangan di Python menggunakan operator -."
      ],
      "metadata": {
        "id": "FGJjvJuQgiip"
      }
    },
    {
      "cell_type": "code",
      "execution_count": null,
      "metadata": {
        "colab": {
          "base_uri": "https://localhost:8080/"
        },
        "id": "i-dE2Cs7u4cW",
        "outputId": "112b6bac-2e1f-4449-ec6c-45a0cacf4b97"
      },
      "outputs": [
        {
          "output_type": "execute_result",
          "data": {
            "text/plain": [
              "55"
            ]
          },
          "metadata": {},
          "execution_count": 112
        }
      ],
      "source": [
        "x + y + 25 # Ekspresi penjumlahan dengan operand berupa variabel dan angka "
      ]
    },
    {
      "cell_type": "code",
      "execution_count": null,
      "metadata": {
        "colab": {
          "base_uri": "https://localhost:8080/"
        },
        "id": "_I4IsuU3u7es",
        "outputId": "542fda2c-8958-4a56-f357-f0d3b0d3eb88"
      },
      "outputs": [
        {
          "output_type": "execute_result",
          "data": {
            "text/plain": [
              "5"
            ]
          },
          "metadata": {},
          "execution_count": 113
        }
      ],
      "source": [
        "10 - 5"
      ]
    },
    {
      "cell_type": "code",
      "execution_count": null,
      "metadata": {
        "colab": {
          "base_uri": "https://localhost:8080/"
        },
        "id": "4ply5X0yu8sr",
        "outputId": "c9f522ad-c013-4f00-e6ce-6864741d7642"
      },
      "outputs": [
        {
          "output_type": "execute_result",
          "data": {
            "text/plain": [
              "65"
            ]
          },
          "metadata": {},
          "execution_count": 114
        }
      ],
      "source": [
        "100 - 25 -10"
      ]
    },
    {
      "cell_type": "code",
      "execution_count": null,
      "metadata": {
        "id": "hRpvFRE-u-7c"
      },
      "outputs": [],
      "source": [
        "x = 20"
      ]
    },
    {
      "cell_type": "code",
      "execution_count": null,
      "metadata": {
        "id": "FedeFEGdvBYV"
      },
      "outputs": [],
      "source": [
        "y = 10"
      ]
    },
    {
      "cell_type": "code",
      "execution_count": null,
      "metadata": {
        "colab": {
          "base_uri": "https://localhost:8080/"
        },
        "id": "YwFvHlAkvDkG",
        "outputId": "67ae8dd8-e3d2-41b8-e943-caf1a18daee2"
      },
      "outputs": [
        {
          "output_type": "execute_result",
          "data": {
            "text/plain": [
              "10"
            ]
          },
          "metadata": {},
          "execution_count": 117
        }
      ],
      "source": [
        "x - y # Ekspresi pengurangan dengan operand berupa variabel"
      ]
    },
    {
      "cell_type": "code",
      "execution_count": null,
      "metadata": {
        "colab": {
          "base_uri": "https://localhost:8080/"
        },
        "id": "FLNNlz7avJKY",
        "outputId": "6b1d4f2b-22d9-44f7-a089-9b82e04098a7"
      },
      "outputs": [
        {
          "output_type": "execute_result",
          "data": {
            "text/plain": [
              "8"
            ]
          },
          "metadata": {},
          "execution_count": 118
        }
      ],
      "source": [
        "x - y - 2 # Ekspresi pengurangan dengan operand berupa variabel dan angka "
      ]
    },
    {
      "cell_type": "markdown",
      "source": [
        "**Operasi Perkalian**\n",
        "\n",
        "Operasi perkalian di Python menggunakan operator *."
      ],
      "metadata": {
        "id": "cPqUwtFCgpiM"
      }
    },
    {
      "cell_type": "code",
      "execution_count": null,
      "metadata": {
        "colab": {
          "base_uri": "https://localhost:8080/"
        },
        "id": "bptntu_6vKQi",
        "outputId": "9ccdd1ff-e35c-4c59-bf6d-74ee7cd5d1b3"
      },
      "outputs": [
        {
          "output_type": "execute_result",
          "data": {
            "text/plain": [
              "4"
            ]
          },
          "metadata": {},
          "execution_count": 119
        }
      ],
      "source": [
        "2 * 2"
      ]
    },
    {
      "cell_type": "code",
      "execution_count": null,
      "metadata": {
        "colab": {
          "base_uri": "https://localhost:8080/"
        },
        "id": "wa6TqZZ3vLnT",
        "outputId": "257c7a34-71ea-4b35-dd29-d5c82c58e0e9"
      },
      "outputs": [
        {
          "output_type": "execute_result",
          "data": {
            "text/plain": [
              "20"
            ]
          },
          "metadata": {},
          "execution_count": 120
        }
      ],
      "source": [
        "2 * 2 * 5"
      ]
    },
    {
      "cell_type": "code",
      "execution_count": null,
      "metadata": {
        "colab": {
          "base_uri": "https://localhost:8080/"
        },
        "id": "iLTDfhZOvNwU",
        "outputId": "1a24b00e-e396-4d3a-a436-612890f11951"
      },
      "outputs": [
        {
          "output_type": "execute_result",
          "data": {
            "text/plain": [
              "200"
            ]
          },
          "metadata": {},
          "execution_count": 121
        }
      ],
      "source": [
        "x = 20\n",
        "y = 10\n",
        "x * y"
      ]
    },
    {
      "cell_type": "code",
      "execution_count": null,
      "metadata": {
        "colab": {
          "base_uri": "https://localhost:8080/"
        },
        "id": "V4QC4bd8vcsw",
        "outputId": "c7adbcf6-0fa2-4a8b-bcb6-77133223fe92"
      },
      "outputs": [
        {
          "output_type": "execute_result",
          "data": {
            "text/plain": [
              "100"
            ]
          },
          "metadata": {},
          "execution_count": 122
        }
      ],
      "source": [
        "x * 5 # Ekspresi perkalian dengan operand berupa variabel"
      ]
    },
    {
      "cell_type": "markdown",
      "source": [
        "**Operasi Pembagian**\n",
        "\n",
        "Operasi pembagian di Python menggunakan operator /."
      ],
      "metadata": {
        "id": "2WMhz1sygwo-"
      }
    },
    {
      "cell_type": "code",
      "execution_count": null,
      "metadata": {
        "colab": {
          "base_uri": "https://localhost:8080/"
        },
        "id": "Tz38n4MdvhPW",
        "outputId": "0ea9ecac-fcd3-4675-8489-0b273504f28d"
      },
      "outputs": [
        {
          "output_type": "execute_result",
          "data": {
            "text/plain": [
              "5.0"
            ]
          },
          "metadata": {},
          "execution_count": 123
        }
      ],
      "source": [
        "10 / 2"
      ]
    },
    {
      "cell_type": "code",
      "execution_count": null,
      "metadata": {
        "colab": {
          "base_uri": "https://localhost:8080/"
        },
        "id": "BT16pkcbviSv",
        "outputId": "2bc42046-c7f1-4576-a6a3-c65086bda70b"
      },
      "outputs": [
        {
          "output_type": "execute_result",
          "data": {
            "text/plain": [
              "1.0"
            ]
          },
          "metadata": {},
          "execution_count": 124
        }
      ],
      "source": [
        "10 / 2 /5"
      ]
    },
    {
      "cell_type": "code",
      "execution_count": null,
      "metadata": {
        "colab": {
          "base_uri": "https://localhost:8080/"
        },
        "id": "jw8jKjzavjuA",
        "outputId": "51a6101e-7c7a-47c6-eefb-2cff75e8c136"
      },
      "outputs": [
        {
          "output_type": "execute_result",
          "data": {
            "text/plain": [
              "2.0"
            ]
          },
          "metadata": {},
          "execution_count": 125
        }
      ],
      "source": [
        "x = 20\n",
        "y = 10 \n",
        "x / y # Ekspresi pembagian dengan operand berupa variabel dan angka "
      ]
    },
    {
      "cell_type": "code",
      "execution_count": null,
      "metadata": {
        "colab": {
          "base_uri": "https://localhost:8080/"
        },
        "id": "PeD_jg-avqI_",
        "outputId": "1bb1d182-c162-464c-ca1a-14f18ac55d39"
      },
      "outputs": [
        {
          "output_type": "execute_result",
          "data": {
            "text/plain": [
              "4.0"
            ]
          },
          "metadata": {},
          "execution_count": 126
        }
      ],
      "source": [
        "x / 5 # Ekspresi pembagian dengan operand berupa variabel dan angka"
      ]
    },
    {
      "cell_type": "markdown",
      "source": [
        "**Operasi Sisa Hasil Bagi (Modulo)**\n",
        "\n",
        "Operasi sisa hasil pembagian atau modulo dapat menggunakan operator %."
      ],
      "metadata": {
        "id": "zcqG6OV7g1I0"
      }
    },
    {
      "cell_type": "code",
      "execution_count": null,
      "metadata": {
        "colab": {
          "base_uri": "https://localhost:8080/"
        },
        "id": "ks5Lx9d-vrmy",
        "outputId": "f7c3aba2-db76-402c-c1c1-21bac5e24af7"
      },
      "outputs": [
        {
          "output_type": "execute_result",
          "data": {
            "text/plain": [
              "0"
            ]
          },
          "metadata": {},
          "execution_count": 127
        }
      ],
      "source": [
        "10 % 2"
      ]
    },
    {
      "cell_type": "code",
      "execution_count": null,
      "metadata": {
        "colab": {
          "base_uri": "https://localhost:8080/"
        },
        "id": "__A3q6pCvsMx",
        "outputId": "1c9ecb4b-a5f4-4d9c-eb9d-f268e3e9f9db"
      },
      "outputs": [
        {
          "output_type": "execute_result",
          "data": {
            "text/plain": [
              "2"
            ]
          },
          "metadata": {},
          "execution_count": 128
        }
      ],
      "source": [
        "10 % 4"
      ]
    },
    {
      "cell_type": "code",
      "execution_count": null,
      "metadata": {
        "colab": {
          "base_uri": "https://localhost:8080/"
        },
        "id": "Y74F-E8Wvzjq",
        "outputId": "9f9ea05d-bbf6-4d9d-a536-7aace8f45a38"
      },
      "outputs": [
        {
          "output_type": "execute_result",
          "data": {
            "text/plain": [
              "0"
            ]
          },
          "metadata": {},
          "execution_count": 129
        }
      ],
      "source": [
        "x = 20 \n",
        "y = 10 \n",
        "x % y # Ekspresi modulo dengan operand berupa variabel"
      ]
    },
    {
      "cell_type": "code",
      "execution_count": null,
      "metadata": {
        "colab": {
          "base_uri": "https://localhost:8080/"
        },
        "id": "Q4ZBWHW_v4Tm",
        "outputId": "d1809efb-d65c-40e1-a0bb-8ae64caa258b"
      },
      "outputs": [
        {
          "output_type": "execute_result",
          "data": {
            "text/plain": [
              "2"
            ]
          },
          "metadata": {},
          "execution_count": 130
        }
      ],
      "source": [
        "x % 3 # Ekspresi modulo dengan operand berupa variabel dan angka "
      ]
    },
    {
      "cell_type": "markdown",
      "source": [
        "**Operasi Pembagian dengan Pembulatan ke Bawah**\n",
        "\n",
        "Operasi pembagian dengan pembulatan ke bawah dapat menggunakan operator //."
      ],
      "metadata": {
        "id": "ePqn8OOWg5iP"
      }
    },
    {
      "cell_type": "code",
      "execution_count": null,
      "metadata": {
        "colab": {
          "base_uri": "https://localhost:8080/"
        },
        "id": "owoku5Cbv7L3",
        "outputId": "59a746d5-bcda-4df7-e77d-101ced19cc43"
      },
      "outputs": [
        {
          "output_type": "execute_result",
          "data": {
            "text/plain": [
              "2"
            ]
          },
          "metadata": {},
          "execution_count": 131
        }
      ],
      "source": [
        "10 // 4"
      ]
    },
    {
      "cell_type": "code",
      "execution_count": null,
      "metadata": {
        "colab": {
          "base_uri": "https://localhost:8080/"
        },
        "id": "C2hHitIQv7wA",
        "outputId": "e48beeb8-0620-4b4c-e4cc-ed612f050e8c"
      },
      "outputs": [
        {
          "output_type": "execute_result",
          "data": {
            "text/plain": [
              "4"
            ]
          },
          "metadata": {},
          "execution_count": 132
        }
      ],
      "source": [
        "20 // 5"
      ]
    },
    {
      "cell_type": "code",
      "execution_count": null,
      "metadata": {
        "colab": {
          "base_uri": "https://localhost:8080/"
        },
        "id": "unR84wfUv-hl",
        "outputId": "078f8e4d-d95c-4c64-dce0-8edbf638d763"
      },
      "outputs": [
        {
          "output_type": "execute_result",
          "data": {
            "text/plain": [
              "2"
            ]
          },
          "metadata": {},
          "execution_count": 133
        }
      ],
      "source": [
        "x = 20 \n",
        "y = 10 \n",
        "x // y"
      ]
    },
    {
      "cell_type": "code",
      "execution_count": null,
      "metadata": {
        "colab": {
          "base_uri": "https://localhost:8080/"
        },
        "id": "pEMYNUBiwA7-",
        "outputId": "47ded278-c840-472f-a658-00346735e384"
      },
      "outputs": [
        {
          "output_type": "execute_result",
          "data": {
            "text/plain": [
              "2"
            ]
          },
          "metadata": {},
          "execution_count": 134
        }
      ],
      "source": [
        "9 // 4"
      ]
    },
    {
      "cell_type": "code",
      "execution_count": null,
      "metadata": {
        "colab": {
          "base_uri": "https://localhost:8080/"
        },
        "id": "He8671k8wJB4",
        "outputId": "c26143b4-4863-4f8c-ece1-6b590e4dc3c5"
      },
      "outputs": [
        {
          "output_type": "execute_result",
          "data": {
            "text/plain": [
              "-3"
            ]
          },
          "metadata": {},
          "execution_count": 135
        }
      ],
      "source": [
        "9 // -4"
      ]
    },
    {
      "cell_type": "markdown",
      "source": [
        "**Operasi Eksponensial**\n",
        "\n",
        "Operasi eksponensial atau pangkat dapat menggunakan operator **."
      ],
      "metadata": {
        "id": "SbvYN0ZOg-6i"
      }
    },
    {
      "cell_type": "code",
      "execution_count": null,
      "metadata": {
        "colab": {
          "base_uri": "https://localhost:8080/"
        },
        "id": "bIue_5d5wKi3",
        "outputId": "11e1843c-92f4-42bb-9fe8-30e66c084726"
      },
      "outputs": [
        {
          "output_type": "execute_result",
          "data": {
            "text/plain": [
              "8"
            ]
          },
          "metadata": {},
          "execution_count": 136
        }
      ],
      "source": [
        "2 ** 3 # Dua pangkat Tiga"
      ]
    },
    {
      "cell_type": "code",
      "execution_count": null,
      "metadata": {
        "colab": {
          "base_uri": "https://localhost:8080/"
        },
        "id": "wldgj5FcwMn-",
        "outputId": "451b7b41-abed-4ca9-8b61-ac2c3aaefa81"
      },
      "outputs": [
        {
          "output_type": "execute_result",
          "data": {
            "text/plain": [
              "100"
            ]
          },
          "metadata": {},
          "execution_count": 137
        }
      ],
      "source": [
        "x = 10\n",
        "y = 2\n",
        "x ** y # x pangkat y"
      ]
    },
    {
      "cell_type": "code",
      "execution_count": null,
      "metadata": {
        "colab": {
          "base_uri": "https://localhost:8080/"
        },
        "id": "-73ZBGtkwemq",
        "outputId": "065b378f-1bc3-4d2d-d107-54f819c61932"
      },
      "outputs": [
        {
          "output_type": "execute_result",
          "data": {
            "text/plain": [
              "1000"
            ]
          },
          "metadata": {},
          "execution_count": 138
        }
      ],
      "source": [
        "x ** 3"
      ]
    },
    {
      "cell_type": "code",
      "execution_count": null,
      "metadata": {
        "colab": {
          "base_uri": "https://localhost:8080/"
        },
        "id": "BTIhwQfGwfRs",
        "outputId": "23b3a74f-57b8-4234-b391-703db3d61597"
      },
      "outputs": [
        {
          "output_type": "execute_result",
          "data": {
            "text/plain": [
              "25"
            ]
          },
          "metadata": {},
          "execution_count": 139
        }
      ],
      "source": [
        "5 ** y"
      ]
    },
    {
      "cell_type": "markdown",
      "source": [
        "**Complex Expression**\n",
        "\n",
        "Kita dapat membuat ekspresi yang kompleks, seperti perhitungan nilai rata-rata atau perhitungan gabungan berbagai operator lainnya."
      ],
      "metadata": {
        "id": "Mm8jeYgFhK3j"
      }
    },
    {
      "cell_type": "code",
      "execution_count": null,
      "metadata": {
        "colab": {
          "base_uri": "https://localhost:8080/"
        },
        "id": "Ry9Tjclawie_",
        "outputId": "30c710eb-d586-4a2f-ce8e-398301ac3665"
      },
      "outputs": [
        {
          "output_type": "execute_result",
          "data": {
            "text/plain": [
              "50.0"
            ]
          },
          "metadata": {},
          "execution_count": 140
        }
      ],
      "source": [
        "(10 + 15) * 8 / 4"
      ]
    },
    {
      "cell_type": "code",
      "source": [
        "x = 10\n",
        "(x - 20) * (5 / x)"
      ],
      "metadata": {
        "colab": {
          "base_uri": "https://localhost:8080/"
        },
        "id": "rhrddoGrhjxm",
        "outputId": "f19412e3-28fc-412c-ef27-da734719c78a"
      },
      "execution_count": null,
      "outputs": [
        {
          "output_type": "execute_result",
          "data": {
            "text/plain": [
              "-5.0"
            ]
          },
          "metadata": {},
          "execution_count": 141
        }
      ]
    },
    {
      "cell_type": "code",
      "source": [
        "nilai_akhir = (60 + 35 + 70 + 55) / 5\n",
        "nilai_akhir"
      ],
      "metadata": {
        "colab": {
          "base_uri": "https://localhost:8080/"
        },
        "id": "zdaH7XnVhlZq",
        "outputId": "37239d56-070a-40f2-9036-07e46b6f73a0"
      },
      "execution_count": null,
      "outputs": [
        {
          "output_type": "execute_result",
          "data": {
            "text/plain": [
              "44.0"
            ]
          },
          "metadata": {},
          "execution_count": 142
        }
      ]
    },
    {
      "cell_type": "code",
      "source": [
        "(30 ** 2) / 17 + 100"
      ],
      "metadata": {
        "colab": {
          "base_uri": "https://localhost:8080/"
        },
        "id": "BD-VKv-3hnD9",
        "outputId": "9fd3c6fb-4097-4650-f946-f922aa117bcb"
      },
      "execution_count": null,
      "outputs": [
        {
          "output_type": "execute_result",
          "data": {
            "text/plain": [
              "152.94117647058823"
            ]
          },
          "metadata": {},
          "execution_count": 143
        }
      ]
    },
    {
      "cell_type": "markdown",
      "source": [
        "**Aturan perhitungan di Python sama dengan matematika biasa**\n",
        "\n",
        "Perhitungan di Python juga mengikuti aturan yang sama dengan perhitungan matematika. Misalnya mendahulukan perhitungan yang berada di dalam tanda kurung () dan mendahulukan proses perkalian dan pembagian dibandingkan penjumlahan dam pengurangan."
      ],
      "metadata": {
        "id": "20NQGKC6hapV"
      }
    },
    {
      "cell_type": "code",
      "execution_count": null,
      "metadata": {
        "colab": {
          "base_uri": "https://localhost:8080/"
        },
        "id": "wU0gNR28wjua",
        "outputId": "5d55d500-0970-4555-dbbd-fe90f61954d6"
      },
      "outputs": [
        {
          "output_type": "execute_result",
          "data": {
            "text/plain": [
              "10.0"
            ]
          },
          "metadata": {},
          "execution_count": 144
        }
      ],
      "source": [
        "20 / (4 - 2)"
      ]
    },
    {
      "cell_type": "code",
      "execution_count": null,
      "metadata": {
        "colab": {
          "base_uri": "https://localhost:8080/"
        },
        "id": "HhFgJasEwk31",
        "outputId": "75c955f4-cf0f-42ec-c413-ec5ce9cea545"
      },
      "outputs": [
        {
          "output_type": "execute_result",
          "data": {
            "text/plain": [
              "3.0"
            ]
          },
          "metadata": {},
          "execution_count": 145
        }
      ],
      "source": [
        "20 / 4 - 2"
      ]
    },
    {
      "cell_type": "code",
      "execution_count": null,
      "metadata": {
        "colab": {
          "base_uri": "https://localhost:8080/"
        },
        "id": "Zq5q2zbfwm4x",
        "outputId": "05df6a71-6556-407f-b2d1-6a47725dacce"
      },
      "outputs": [
        {
          "output_type": "execute_result",
          "data": {
            "text/plain": [
              "36"
            ]
          },
          "metadata": {},
          "execution_count": 146
        }
      ],
      "source": [
        "a = 10 \n",
        "b = 2 \n",
        "c = 3 \n",
        "(a + b) * c"
      ]
    },
    {
      "cell_type": "code",
      "execution_count": null,
      "metadata": {
        "colab": {
          "base_uri": "https://localhost:8080/"
        },
        "id": "YfZmsmaswrU9",
        "outputId": "f36cad04-30b0-41b0-b14b-28a49e550a34"
      },
      "outputs": [
        {
          "output_type": "execute_result",
          "data": {
            "text/plain": [
              "16"
            ]
          },
          "metadata": {},
          "execution_count": 147
        }
      ],
      "source": [
        "a + b * c"
      ]
    },
    {
      "cell_type": "markdown",
      "source": [
        "Dari beberapa hasil blok kode di atas, hasil dari 20 / (4 - 2) akan menghasilkan output yang berbeda dengan 20/4-2.\n",
        "\n",
        "Pada contoh berikutnya, output dari (a+b)c juga memiliki hasil yang berbeda dengan a+b*c"
      ],
      "metadata": {
        "id": "4yPJfpVwiGgx"
      }
    },
    {
      "cell_type": "markdown",
      "source": [
        "**String**\n",
        "\n",
        "String adalah salah satu tipe objek di Python yang berupa teks atau karakter. Implementasinya harus diapit oleh dua tanda kutip, bisa menggunakan tanda kutip satu ataupun tanda kutip dua.\n",
        "\n",
        "**Contoh String**"
      ],
      "metadata": {
        "id": "v0xf1l49xYGV"
      }
    },
    {
      "cell_type": "code",
      "source": [
        "\"Terima kasih\" # Contoh string yang menggunakan tanda kutip dua"
      ],
      "metadata": {
        "colab": {
          "base_uri": "https://localhost:8080/",
          "height": 35
        },
        "id": "uEEkCbuHxd7E",
        "outputId": "e5f02b75-525c-44b5-ff4b-f12324643c45"
      },
      "execution_count": null,
      "outputs": [
        {
          "output_type": "execute_result",
          "data": {
            "text/plain": [
              "'Terima kasih'"
            ],
            "application/vnd.google.colaboratory.intrinsic+json": {
              "type": "string"
            }
          },
          "metadata": {},
          "execution_count": 148
        }
      ]
    },
    {
      "cell_type": "code",
      "source": [
        "'Terima kasih' # Contoh string yang menggunakan tanda kutip satu"
      ],
      "metadata": {
        "colab": {
          "base_uri": "https://localhost:8080/",
          "height": 35
        },
        "id": "VPfHOSPIxfnu",
        "outputId": "a1b604a2-79f5-46df-f1e4-60196132264f"
      },
      "execution_count": null,
      "outputs": [
        {
          "output_type": "execute_result",
          "data": {
            "text/plain": [
              "'Terima kasih'"
            ],
            "application/vnd.google.colaboratory.intrinsic+json": {
              "type": "string"
            }
          },
          "metadata": {},
          "execution_count": 149
        }
      ]
    },
    {
      "cell_type": "code",
      "source": [
        "'&% ^()#_5?! +-@*' # Contoh string berupa karakter dan spasi"
      ],
      "metadata": {
        "colab": {
          "base_uri": "https://localhost:8080/",
          "height": 35
        },
        "id": "ObdU8vSPxfsp",
        "outputId": "954b8c79-ac3e-43d4-dee8-8331100851c6"
      },
      "execution_count": null,
      "outputs": [
        {
          "output_type": "execute_result",
          "data": {
            "text/plain": [
              "'&% ^()#_5?! +-@*'"
            ],
            "application/vnd.google.colaboratory.intrinsic+json": {
              "type": "string"
            }
          },
          "metadata": {},
          "execution_count": 150
        }
      ]
    },
    {
      "cell_type": "code",
      "source": [
        "\"123\" # Contoh string yang menggunakan tanda kutip dua"
      ],
      "metadata": {
        "colab": {
          "base_uri": "https://localhost:8080/",
          "height": 35
        },
        "id": "yFcaaD8-xgq4",
        "outputId": "ff747991-15cc-491a-eb25-c7a148ad2134"
      },
      "execution_count": null,
      "outputs": [
        {
          "output_type": "execute_result",
          "data": {
            "text/plain": [
              "'123'"
            ],
            "application/vnd.google.colaboratory.intrinsic+json": {
              "type": "string"
            }
          },
          "metadata": {},
          "execution_count": 151
        }
      ]
    },
    {
      "cell_type": "markdown",
      "source": [
        "Bilangan yang bernilai sebagai string, tidak dapat diproses untuk perhitungan aritmatika. \n",
        "\n",
        "Kita juga dapat menggunakan fungsi print() untuk mencetak string."
      ],
      "metadata": {
        "id": "GEO6nc1RxxKG"
      }
    },
    {
      "cell_type": "code",
      "source": [
        "print('Terima kasih')"
      ],
      "metadata": {
        "colab": {
          "base_uri": "https://localhost:8080/"
        },
        "id": "VBSlQ37Ux1H_",
        "outputId": "21cc157c-6f23-49c3-dbc7-b9b2923eb2a9"
      },
      "execution_count": null,
      "outputs": [
        {
          "output_type": "stream",
          "name": "stdout",
          "text": [
            "Terima kasih\n"
          ]
        }
      ]
    },
    {
      "cell_type": "markdown",
      "source": [
        "String juga dapat dimasukkan ke dalam sebuah variabel."
      ],
      "metadata": {
        "id": "U_taumUPx0p_"
      }
    },
    {
      "cell_type": "code",
      "source": [
        "kota = 'Bogor'\n",
        "kota"
      ],
      "metadata": {
        "colab": {
          "base_uri": "https://localhost:8080/",
          "height": 35
        },
        "id": "H0ISHpTvx_of",
        "outputId": "103aea19-f7a7-41c5-cdc4-026d8febc6fc"
      },
      "execution_count": null,
      "outputs": [
        {
          "output_type": "execute_result",
          "data": {
            "text/plain": [
              "'Bogor'"
            ],
            "application/vnd.google.colaboratory.intrinsic+json": {
              "type": "string"
            }
          },
          "metadata": {},
          "execution_count": 153
        }
      ]
    },
    {
      "cell_type": "markdown",
      "source": [
        "**Operasi String**\n",
        "\n",
        "**Menggabungkan string**\n",
        "\n",
        "String dapat digabung menggunakan operator +. Lihat contoh di bawah ini"
      ],
      "metadata": {
        "id": "3eI1hYrRx7ct"
      }
    },
    {
      "cell_type": "code",
      "source": [
        "nama = 'Alvin'\n",
        "'Nama saya ' + nama"
      ],
      "metadata": {
        "id": "BVIZvGW8yq37",
        "colab": {
          "base_uri": "https://localhost:8080/",
          "height": 35
        },
        "outputId": "500c0bde-8c62-49bf-e331-3a786caf1b71"
      },
      "execution_count": null,
      "outputs": [
        {
          "output_type": "execute_result",
          "data": {
            "text/plain": [
              "'Nama saya Alvin'"
            ],
            "application/vnd.google.colaboratory.intrinsic+json": {
              "type": "string"
            }
          },
          "metadata": {},
          "execution_count": 154
        }
      ]
    },
    {
      "cell_type": "code",
      "source": [
        "sambutan = 'Terima kasih'\n",
        "nama = 'Alex'\n",
        "sambutan + ', ' + nama"
      ],
      "metadata": {
        "id": "C627nSmMzC7l",
        "colab": {
          "base_uri": "https://localhost:8080/",
          "height": 35
        },
        "outputId": "7a29553b-7cc1-47da-c76c-87a238ad16eb"
      },
      "execution_count": null,
      "outputs": [
        {
          "output_type": "execute_result",
          "data": {
            "text/plain": [
              "'Terima kasih, Alex'"
            ],
            "application/vnd.google.colaboratory.intrinsic+json": {
              "type": "string"
            }
          },
          "metadata": {},
          "execution_count": 155
        }
      ]
    },
    {
      "cell_type": "code",
      "source": [
        "pernyataan = nama + ' is the best'\n",
        "pernyataan"
      ],
      "metadata": {
        "id": "VatpWGN-zE9p",
        "colab": {
          "base_uri": "https://localhost:8080/",
          "height": 35
        },
        "outputId": "380be194-cd2e-4b9b-f469-66dcfde0740c"
      },
      "execution_count": null,
      "outputs": [
        {
          "output_type": "execute_result",
          "data": {
            "text/plain": [
              "'Alex is the best'"
            ],
            "application/vnd.google.colaboratory.intrinsic+json": {
              "type": "string"
            }
          },
          "metadata": {},
          "execution_count": 156
        }
      ]
    },
    {
      "cell_type": "markdown",
      "source": [
        "**Menduplikasi string**\n",
        "\n",
        "String dapat diduplikasi  menggunakan operator * seperti pada contoh di bawah ini."
      ],
      "metadata": {
        "id": "kLKyurD6zPsE"
      }
    },
    {
      "cell_type": "code",
      "source": [
        "s = \"Jeruk\"\n",
        "2 * s"
      ],
      "metadata": {
        "id": "TM_LKjSazTPr",
        "colab": {
          "base_uri": "https://localhost:8080/",
          "height": 35
        },
        "outputId": "4505779b-c9c2-4b49-c21e-dd46ae2435a7"
      },
      "execution_count": null,
      "outputs": [
        {
          "output_type": "execute_result",
          "data": {
            "text/plain": [
              "'JerukJeruk'"
            ],
            "application/vnd.google.colaboratory.intrinsic+json": {
              "type": "string"
            }
          },
          "metadata": {},
          "execution_count": 157
        }
      ]
    },
    {
      "cell_type": "code",
      "source": [
        "s * 5"
      ],
      "metadata": {
        "id": "G_5M5coyzU1E",
        "colab": {
          "base_uri": "https://localhost:8080/",
          "height": 35
        },
        "outputId": "299c2f99-79fe-4d83-b0af-1ccfca379f6c"
      },
      "execution_count": null,
      "outputs": [
        {
          "output_type": "execute_result",
          "data": {
            "text/plain": [
              "'JerukJerukJerukJerukJeruk'"
            ],
            "application/vnd.google.colaboratory.intrinsic+json": {
              "type": "string"
            }
          },
          "metadata": {},
          "execution_count": 158
        }
      ]
    },
    {
      "cell_type": "code",
      "source": [
        "'Mangga ' * 5"
      ],
      "metadata": {
        "id": "8lB1xSiYzWA0",
        "colab": {
          "base_uri": "https://localhost:8080/",
          "height": 35
        },
        "outputId": "d1daeaf9-1a5e-4882-b6ac-c1c7fc4d49c1"
      },
      "execution_count": null,
      "outputs": [
        {
          "output_type": "execute_result",
          "data": {
            "text/plain": [
              "'Mangga Mangga Mangga Mangga Mangga '"
            ],
            "application/vnd.google.colaboratory.intrinsic+json": {
              "type": "string"
            }
          },
          "metadata": {},
          "execution_count": 159
        }
      ]
    },
    {
      "cell_type": "markdown",
      "source": [
        "Bilangan yang dikali dengan string harus berupa bilangan integer positif. Angka 0 maupun bilangan negatif sebagai pengali akan menghasilkan karakter kosong."
      ],
      "metadata": {
        "id": "oj7547rBzbuN"
      }
    },
    {
      "cell_type": "code",
      "source": [
        "s * 0"
      ],
      "metadata": {
        "id": "AUl7EJ5WzdvM",
        "colab": {
          "base_uri": "https://localhost:8080/",
          "height": 35
        },
        "outputId": "4e6b9efc-a77e-4252-a4db-8af76e204dc1"
      },
      "execution_count": null,
      "outputs": [
        {
          "output_type": "execute_result",
          "data": {
            "text/plain": [
              "''"
            ],
            "application/vnd.google.colaboratory.intrinsic+json": {
              "type": "string"
            }
          },
          "metadata": {},
          "execution_count": 160
        }
      ]
    },
    {
      "cell_type": "code",
      "source": [
        "-9 * s"
      ],
      "metadata": {
        "id": "NZeCLSvHzeZs",
        "colab": {
          "base_uri": "https://localhost:8080/",
          "height": 35
        },
        "outputId": "ddfee78e-fb8d-4952-d9a1-58a974cd61fe"
      },
      "execution_count": null,
      "outputs": [
        {
          "output_type": "execute_result",
          "data": {
            "text/plain": [
              "''"
            ],
            "application/vnd.google.colaboratory.intrinsic+json": {
              "type": "string"
            }
          },
          "metadata": {},
          "execution_count": 161
        }
      ]
    },
    {
      "cell_type": "markdown",
      "source": [
        "**Mengecek keberadaan string (apakah ada?)**\n",
        "\n",
        "Operator in digunakan untuk mengecek apakah suatu karakter termasuk ke dalam anggota suatu string. Output yang akan dihasilkan berupa Boolean yaitu True atau False. "
      ],
      "metadata": {
        "id": "HpbCLtPvzhdg"
      }
    },
    {
      "cell_type": "code",
      "source": [
        "a = \"mangga\"\n",
        "\n",
        "a in \"semangka, nanas, jambu, mangga\""
      ],
      "metadata": {
        "id": "o_iaPO1Hzk2n",
        "colab": {
          "base_uri": "https://localhost:8080/"
        },
        "outputId": "4a008e4a-98fb-42b7-cd5d-34cd1366324f"
      },
      "execution_count": null,
      "outputs": [
        {
          "output_type": "execute_result",
          "data": {
            "text/plain": [
              "True"
            ]
          },
          "metadata": {},
          "execution_count": 162
        }
      ]
    },
    {
      "cell_type": "code",
      "source": [
        "b = \"jeruk\"\n",
        "buah = \"semangka, nanas, jambu, mangga\"\n",
        "\n",
        "b in buah"
      ],
      "metadata": {
        "id": "9OzY_lSRzruq",
        "colab": {
          "base_uri": "https://localhost:8080/"
        },
        "outputId": "e191c088-5e2d-469a-8aa1-c17f620a3582"
      },
      "execution_count": null,
      "outputs": [
        {
          "output_type": "execute_result",
          "data": {
            "text/plain": [
              "False"
            ]
          },
          "metadata": {},
          "execution_count": 163
        }
      ]
    },
    {
      "cell_type": "code",
      "source": [
        "'j' in 'cristiano ronaldo'"
      ],
      "metadata": {
        "id": "R_ecYvejzxLL",
        "colab": {
          "base_uri": "https://localhost:8080/"
        },
        "outputId": "638d8c30-98c9-4fd3-c2cb-eba306f8af41"
      },
      "execution_count": null,
      "outputs": [
        {
          "output_type": "execute_result",
          "data": {
            "text/plain": [
              "False"
            ]
          },
          "metadata": {},
          "execution_count": 164
        }
      ]
    },
    {
      "cell_type": "code",
      "source": [
        "'s' in 'cristiano ronaldo'"
      ],
      "metadata": {
        "id": "9Pr8N2Pez0sy",
        "colab": {
          "base_uri": "https://localhost:8080/"
        },
        "outputId": "d6d54c08-d3e0-4d02-e909-1e41f1ab2a8e"
      },
      "execution_count": null,
      "outputs": [
        {
          "output_type": "execute_result",
          "data": {
            "text/plain": [
              "True"
            ]
          },
          "metadata": {},
          "execution_count": 165
        }
      ]
    },
    {
      "cell_type": "markdown",
      "source": [
        "**Mengecek keberadaan string (apakah tidak ada?)**\n",
        "\n",
        "Operator not in berfungsi untuk mengecek keberadaan karakter yang tidak termasuk ke dalam string dan menghasilkan nilai True. Jika karakter tersebut berada di dalam string, akan menghasilkan nilai False"
      ],
      "metadata": {
        "id": "huGhD5Raz3To"
      }
    },
    {
      "cell_type": "code",
      "source": [
        "a = \"apel\"\n",
        "\n",
        "a not in \"semangka, nanas, jambu, mangga\""
      ],
      "metadata": {
        "id": "gGV4Avm6z7v-",
        "colab": {
          "base_uri": "https://localhost:8080/"
        },
        "outputId": "c76cde28-509f-4989-bd04-f61a7dd8172a"
      },
      "execution_count": null,
      "outputs": [
        {
          "output_type": "execute_result",
          "data": {
            "text/plain": [
              "True"
            ]
          },
          "metadata": {},
          "execution_count": 166
        }
      ]
    },
    {
      "cell_type": "code",
      "source": [
        "a = \"jeruk\"\n",
        "\n",
        "a not in \"semangka, nanas, jambu, mangga\""
      ],
      "metadata": {
        "id": "dNg0lVf80A01",
        "colab": {
          "base_uri": "https://localhost:8080/"
        },
        "outputId": "53647eeb-0d4f-4dfe-df60-02f0962540af"
      },
      "execution_count": null,
      "outputs": [
        {
          "output_type": "execute_result",
          "data": {
            "text/plain": [
              "True"
            ]
          },
          "metadata": {},
          "execution_count": 167
        }
      ]
    },
    {
      "cell_type": "code",
      "source": [
        "'j' not in 'cristiano ronaldo'"
      ],
      "metadata": {
        "id": "c4YTyYrN0Ex6",
        "colab": {
          "base_uri": "https://localhost:8080/"
        },
        "outputId": "422881e9-99f1-4048-81fd-aeedc6c2ee8f"
      },
      "execution_count": null,
      "outputs": [
        {
          "output_type": "execute_result",
          "data": {
            "text/plain": [
              "True"
            ]
          },
          "metadata": {},
          "execution_count": 168
        }
      ]
    },
    {
      "cell_type": "code",
      "source": [
        "'s' not in 'cristiano ronaldo'"
      ],
      "metadata": {
        "id": "WKf9XhNw0Ex7",
        "colab": {
          "base_uri": "https://localhost:8080/"
        },
        "outputId": "4a7169dd-a192-46b3-ba6a-efe2b655eb07"
      },
      "execution_count": null,
      "outputs": [
        {
          "output_type": "execute_result",
          "data": {
            "text/plain": [
              "False"
            ]
          },
          "metadata": {},
          "execution_count": 169
        }
      ]
    },
    {
      "cell_type": "markdown",
      "source": [
        "**Indexing**\n",
        "\n",
        "String terdiri dari rentetan karakter. Kita dapat mengakses karakter di dalam string menggunakan indeks yang direpresentasikan oleh bilangan integer. Indeks string dimulai dari 0. Spasi yang berada di dalam string juga termasuk karakter dan ikut terindeks.\n",
        "\n",
        "![18.png](data:image/png;base64,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)"
      ],
      "metadata": {
        "id": "zI40xgXk0Leh"
      }
    },
    {
      "cell_type": "code",
      "source": [
        "prov = \"DKI Jakarta\"\n",
        "prov[0]"
      ],
      "metadata": {
        "id": "84Sold_50UY4",
        "colab": {
          "base_uri": "https://localhost:8080/",
          "height": 35
        },
        "outputId": "a4a84e96-e3ea-4eef-b92f-b40a47c8ebce"
      },
      "execution_count": null,
      "outputs": [
        {
          "output_type": "execute_result",
          "data": {
            "text/plain": [
              "'D'"
            ],
            "application/vnd.google.colaboratory.intrinsic+json": {
              "type": "string"
            }
          },
          "metadata": {},
          "execution_count": 170
        }
      ]
    },
    {
      "cell_type": "code",
      "source": [
        "print(prov[1])"
      ],
      "metadata": {
        "id": "OMK30gfW0W0Y",
        "colab": {
          "base_uri": "https://localhost:8080/"
        },
        "outputId": "f1143cfc-4f37-4f89-be01-5302646e2de3"
      },
      "execution_count": null,
      "outputs": [
        {
          "output_type": "stream",
          "name": "stdout",
          "text": [
            "K\n"
          ]
        }
      ]
    },
    {
      "cell_type": "code",
      "source": [
        "prov[2]"
      ],
      "metadata": {
        "id": "l7SB1R5A0YGC",
        "colab": {
          "base_uri": "https://localhost:8080/",
          "height": 35
        },
        "outputId": "b1029fdb-7039-4417-ca76-c0af02cd7f36"
      },
      "execution_count": null,
      "outputs": [
        {
          "output_type": "execute_result",
          "data": {
            "text/plain": [
              "'I'"
            ],
            "application/vnd.google.colaboratory.intrinsic+json": {
              "type": "string"
            }
          },
          "metadata": {},
          "execution_count": 172
        }
      ]
    },
    {
      "cell_type": "code",
      "source": [
        "prov[7]"
      ],
      "metadata": {
        "id": "YcUHecAl0Zcy",
        "colab": {
          "base_uri": "https://localhost:8080/",
          "height": 35
        },
        "outputId": "ec53c0d2-53a2-43ce-944d-10ca99eebf30"
      },
      "execution_count": null,
      "outputs": [
        {
          "output_type": "execute_result",
          "data": {
            "text/plain": [
              "'a'"
            ],
            "application/vnd.google.colaboratory.intrinsic+json": {
              "type": "string"
            }
          },
          "metadata": {},
          "execution_count": 173
        }
      ]
    },
    {
      "cell_type": "markdown",
      "source": [
        "**Negative Indexing**\n",
        "\n",
        "Negative indexing digunakan apabila ingin mengambil isi indeks dari bagian belakang.\n",
        "\n",
        "![19.png](data:image/png;base64,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)"
      ],
      "metadata": {
        "id": "-5NS34V70giR"
      }
    },
    {
      "cell_type": "code",
      "source": [
        "prov[-2]"
      ],
      "metadata": {
        "colab": {
          "base_uri": "https://localhost:8080/",
          "height": 35
        },
        "id": "GoOei2CJ56Uf",
        "outputId": "39716714-f542-4fa2-e425-daf5d5ca2462"
      },
      "execution_count": null,
      "outputs": [
        {
          "output_type": "execute_result",
          "data": {
            "text/plain": [
              "'t'"
            ],
            "application/vnd.google.colaboratory.intrinsic+json": {
              "type": "string"
            }
          },
          "metadata": {},
          "execution_count": 174
        }
      ]
    },
    {
      "cell_type": "code",
      "source": [
        "prov[-10]"
      ],
      "metadata": {
        "colab": {
          "base_uri": "https://localhost:8080/",
          "height": 35
        },
        "id": "YnSCuLSE58tp",
        "outputId": "f39522fa-2ee1-4325-ed97-f8ad8ee3fb56"
      },
      "execution_count": null,
      "outputs": [
        {
          "output_type": "execute_result",
          "data": {
            "text/plain": [
              "'K'"
            ],
            "application/vnd.google.colaboratory.intrinsic+json": {
              "type": "string"
            }
          },
          "metadata": {},
          "execution_count": 175
        }
      ]
    },
    {
      "cell_type": "markdown",
      "source": [
        "**Slicing**\n",
        "\n",
        "Mengambil beberapa karakter pada string dengan menggunakan slicing.\n",
        "\n",
        "![20.png](data:image/png;base64,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)\n",
        "\n",
        "Angka pertama adalah indeks untuk memulai memotong, sedangkan angka kedua adalah indeks terakhir yang ingin dipotong ditambah 1. \n",
        "\n",
        "Jika kita ingin mengambil kata \"DKI\" yang berada di indeks 0-2, penulisan kode adalah provinsi[0:3]. Jika penulisan kode adalah provinsi[0:2], maka yang terambil hanya \"DK\"."
      ],
      "metadata": {
        "id": "RQOCmSdj0pM3"
      }
    },
    {
      "cell_type": "code",
      "source": [
        "prov[0:2]"
      ],
      "metadata": {
        "id": "5JXZ2JV61x47",
        "colab": {
          "base_uri": "https://localhost:8080/",
          "height": 35
        },
        "outputId": "f71f6b2b-4cc4-4bda-dd9f-dd963f9ceb13"
      },
      "execution_count": null,
      "outputs": [
        {
          "output_type": "execute_result",
          "data": {
            "text/plain": [
              "'DK'"
            ],
            "application/vnd.google.colaboratory.intrinsic+json": {
              "type": "string"
            }
          },
          "metadata": {},
          "execution_count": 176
        }
      ]
    },
    {
      "cell_type": "code",
      "source": [
        "prov[0:1]"
      ],
      "metadata": {
        "id": "riN1DEXD1zyZ",
        "colab": {
          "base_uri": "https://localhost:8080/",
          "height": 35
        },
        "outputId": "30659f03-b768-48ca-9ca4-95ef3466ad3d"
      },
      "execution_count": null,
      "outputs": [
        {
          "output_type": "execute_result",
          "data": {
            "text/plain": [
              "'D'"
            ],
            "application/vnd.google.colaboratory.intrinsic+json": {
              "type": "string"
            }
          },
          "metadata": {},
          "execution_count": 177
        }
      ]
    },
    {
      "cell_type": "code",
      "source": [
        "prov[3:9]"
      ],
      "metadata": {
        "id": "waq1v2E-1z_T",
        "colab": {
          "base_uri": "https://localhost:8080/",
          "height": 35
        },
        "outputId": "563e59a1-0961-487d-99c0-2a60286c1a47"
      },
      "execution_count": null,
      "outputs": [
        {
          "output_type": "execute_result",
          "data": {
            "text/plain": [
              "' Jakar'"
            ],
            "application/vnd.google.colaboratory.intrinsic+json": {
              "type": "string"
            }
          },
          "metadata": {},
          "execution_count": 178
        }
      ]
    },
    {
      "cell_type": "code",
      "source": [
        "prov[4:9]"
      ],
      "metadata": {
        "id": "YHq3P03y10Nw",
        "colab": {
          "base_uri": "https://localhost:8080/",
          "height": 35
        },
        "outputId": "3ee924d1-b4fe-4e6c-e262-410aa60b5886"
      },
      "execution_count": null,
      "outputs": [
        {
          "output_type": "execute_result",
          "data": {
            "text/plain": [
              "'Jakar'"
            ],
            "application/vnd.google.colaboratory.intrinsic+json": {
              "type": "string"
            }
          },
          "metadata": {},
          "execution_count": 179
        }
      ]
    },
    {
      "cell_type": "markdown",
      "source": [
        "**Stride**\n",
        "\n",
        "Stride adalah cara untuk mengambil beberapa karakter dengan langkah yang diinginkan. Misalnya, mengambil string dengan diloncat satu karakter alias setiap dua langkah\n",
        "\n",
        "![21.png](data:image/png;base64,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)\n",
        "\n",
        "Apabila ingin menerapkannya pada seluruh karakter pada string, penulisan kode dapat seperti pada blok kode di bawah ini. Angka 2 sebagai jumlah langkah yang ingin diambil."
      ],
      "metadata": {
        "id": "0flo3fj519xG"
      }
    },
    {
      "cell_type": "code",
      "source": [
        "prov[::3] # Contoh lain mengambil karakter setiap tiga langkah"
      ],
      "metadata": {
        "id": "ZZhHiUH42Xe3",
        "colab": {
          "base_uri": "https://localhost:8080/",
          "height": 35
        },
        "outputId": "d9f437f0-2711-4f8c-99b7-b7262aaf902c"
      },
      "execution_count": null,
      "outputs": [
        {
          "output_type": "execute_result",
          "data": {
            "text/plain": [
              "'D kt'"
            ],
            "application/vnd.google.colaboratory.intrinsic+json": {
              "type": "string"
            }
          },
          "metadata": {},
          "execution_count": 180
        }
      ]
    },
    {
      "cell_type": "markdown",
      "source": [
        "Namun, hanya ingin mengambil karakter pada potongan string tertentu dengan langkah tertentu, misalnya mengambil hanya dari kata \"Jakarta\", kita dapat menulis kodenya seperti ini."
      ],
      "metadata": {
        "id": "13s2-sF332dG"
      }
    },
    {
      "cell_type": "code",
      "source": [
        "prov[2:11:3] # Mengambil karakter dari indeks 2-10 dengan 3 langkah"
      ],
      "metadata": {
        "id": "j8T089uO2iJe",
        "colab": {
          "base_uri": "https://localhost:8080/",
          "height": 35
        },
        "outputId": "0426b284-fc75-43ee-b94d-b4b796337e2a"
      },
      "execution_count": null,
      "outputs": [
        {
          "output_type": "execute_result",
          "data": {
            "text/plain": [
              "'Iar'"
            ],
            "application/vnd.google.colaboratory.intrinsic+json": {
              "type": "string"
            }
          },
          "metadata": {},
          "execution_count": 181
        }
      ]
    },
    {
      "cell_type": "markdown",
      "source": [
        "Atau jika sampai akhir string, kita bisa tidak menuliskan angka yang ditengah yang merupakan angka untuk menyatakan batas akhirnya."
      ],
      "metadata": {
        "id": "8-LbHZTK2cSg"
      }
    },
    {
      "cell_type": "code",
      "source": [
        "prov[2::3] # Mengambil karakter dari indeks 2 sampai akhir dengan 3 langkah"
      ],
      "metadata": {
        "id": "8Uk9VPsU2t2k",
        "colab": {
          "base_uri": "https://localhost:8080/",
          "height": 35
        },
        "outputId": "a0351418-750c-4dcb-f25c-9ae796806dfb"
      },
      "execution_count": null,
      "outputs": [
        {
          "output_type": "execute_result",
          "data": {
            "text/plain": [
              "'Iar'"
            ],
            "application/vnd.google.colaboratory.intrinsic+json": {
              "type": "string"
            }
          },
          "metadata": {},
          "execution_count": 182
        }
      ]
    },
    {
      "cell_type": "markdown",
      "source": [
        "Jika ingin mengambil dari awal string, namun dengan batas akhir tertentu, angka pertama bisa tidak ditulis."
      ],
      "metadata": {
        "id": "DRlqNeNM2sEM"
      }
    },
    {
      "cell_type": "code",
      "source": [
        "prov[:5:3] # Mengambil karakter dari indeks pertama hingga indeks 4 dengan 3"
      ],
      "metadata": {
        "id": "ZH2hzwSb3D0T",
        "colab": {
          "base_uri": "https://localhost:8080/",
          "height": 35
        },
        "outputId": "41462141-591d-4a12-8a6b-a1ef0b6c0d9b"
      },
      "execution_count": null,
      "outputs": [
        {
          "output_type": "execute_result",
          "data": {
            "text/plain": [
              "'D '"
            ],
            "application/vnd.google.colaboratory.intrinsic+json": {
              "type": "string"
            }
          },
          "metadata": {},
          "execution_count": 183
        }
      ]
    },
    {
      "cell_type": "markdown",
      "source": [
        "Selain dua langkah, kita bisa menentukan berapapun langkah yang diinginkan."
      ],
      "metadata": {
        "id": "QHl11bQx27kX"
      }
    },
    {
      "cell_type": "code",
      "source": [
        "prov[::2] # Mengambil karakter setiap dua langkah"
      ],
      "metadata": {
        "id": "qCH-anQk29hw",
        "colab": {
          "base_uri": "https://localhost:8080/",
          "height": 35
        },
        "outputId": "4b069f5a-a171-4436-a076-36ba5c41ec22"
      },
      "execution_count": null,
      "outputs": [
        {
          "output_type": "execute_result",
          "data": {
            "text/plain": [
              "'DIJkra'"
            ],
            "application/vnd.google.colaboratory.intrinsic+json": {
              "type": "string"
            }
          },
          "metadata": {},
          "execution_count": 184
        }
      ]
    },
    {
      "cell_type": "markdown",
      "source": [
        "**Built-in function yang dapat digunakan pada string**\n",
        "\n",
        "Bahasa pemrograman Python menyediakan built-in function yang dapat memudahkan dalam penulisan kode program. Terdapat empat built-in function yang digunakan untuk memproses string.\n",
        "\n",
        "**Konversi karakter menjadi integer dengan ord()**\n",
        "\n",
        "ord() berfungsi untuk menghasilkan sebuah nilai integer berupa kode ASCII dari sebuah karakter.\n",
        "\n",
        "Setiap karakter di komputer memiliki angka unik masing-masing. Fungsi ord() berfungsi untuk menampilkan kode ASCII dari sebuah karakter"
      ],
      "metadata": {
        "id": "UpPNp2O138Dp"
      }
    },
    {
      "cell_type": "code",
      "source": [
        "ord('b') # Kode ASCII untuk b"
      ],
      "metadata": {
        "id": "I7bWXLyD4Fs_",
        "colab": {
          "base_uri": "https://localhost:8080/"
        },
        "outputId": "ba001f95-6779-478b-f0af-5af117226e2e"
      },
      "execution_count": null,
      "outputs": [
        {
          "output_type": "execute_result",
          "data": {
            "text/plain": [
              "98"
            ]
          },
          "metadata": {},
          "execution_count": 185
        }
      ]
    },
    {
      "cell_type": "code",
      "source": [
        "ord('!') # Kode ASCII untuk !"
      ],
      "metadata": {
        "id": "s0x8vIo24Icv",
        "colab": {
          "base_uri": "https://localhost:8080/"
        },
        "outputId": "be9b0cf7-f179-427c-c4b7-5190cf2a4922"
      },
      "execution_count": null,
      "outputs": [
        {
          "output_type": "execute_result",
          "data": {
            "text/plain": [
              "33"
            ]
          },
          "metadata": {},
          "execution_count": 186
        }
      ]
    },
    {
      "cell_type": "code",
      "source": [
        "ord('*') # Kode ASCII untuk *"
      ],
      "metadata": {
        "id": "E949Kbo64KLB",
        "colab": {
          "base_uri": "https://localhost:8080/"
        },
        "outputId": "2d0fb3b3-a295-4ec9-d876-9e15fa48e540"
      },
      "execution_count": null,
      "outputs": [
        {
          "output_type": "execute_result",
          "data": {
            "text/plain": [
              "42"
            ]
          },
          "metadata": {},
          "execution_count": 187
        }
      ]
    },
    {
      "cell_type": "markdown",
      "source": [
        "**Konversi integer menjadi karakter dengan chr()**\n",
        "\n",
        "chr() berfungsi untuk menghasilkan sebuah karakter dari kode ASCII.\n",
        "\n",
        "Fungsi chr() menghasilkan karakter yang merupakan representasi dari kode ASCII yang dimasukkan."
      ],
      "metadata": {
        "id": "Jx76x3Mn4P-c"
      }
    },
    {
      "cell_type": "code",
      "source": [
        "chr(95) # Karakter dengan kode ASCII 95"
      ],
      "metadata": {
        "id": "ere4-PeI4Wby",
        "colab": {
          "base_uri": "https://localhost:8080/",
          "height": 35
        },
        "outputId": "b5f3bf62-86d1-4052-8d3d-4858407ea6af"
      },
      "execution_count": null,
      "outputs": [
        {
          "output_type": "execute_result",
          "data": {
            "text/plain": [
              "'_'"
            ],
            "application/vnd.google.colaboratory.intrinsic+json": {
              "type": "string"
            }
          },
          "metadata": {},
          "execution_count": 188
        }
      ]
    },
    {
      "cell_type": "code",
      "source": [
        "chr(113) # Karakter dengan kode ASCII 113"
      ],
      "metadata": {
        "id": "13BtJf6q4ZtC",
        "colab": {
          "base_uri": "https://localhost:8080/",
          "height": 35
        },
        "outputId": "e53bd69f-3f57-4e5f-bbad-ac781affb676"
      },
      "execution_count": null,
      "outputs": [
        {
          "output_type": "execute_result",
          "data": {
            "text/plain": [
              "'q'"
            ],
            "application/vnd.google.colaboratory.intrinsic+json": {
              "type": "string"
            }
          },
          "metadata": {},
          "execution_count": 189
        }
      ]
    },
    {
      "cell_type": "code",
      "source": [
        "chr(35) # Karakter dengan kode ASCII 35"
      ],
      "metadata": {
        "id": "7aoiUdau4Z5W",
        "colab": {
          "base_uri": "https://localhost:8080/",
          "height": 35
        },
        "outputId": "cd6141cc-882e-4df3-96b4-4b1d6110639e"
      },
      "execution_count": null,
      "outputs": [
        {
          "output_type": "execute_result",
          "data": {
            "text/plain": [
              "'#'"
            ],
            "application/vnd.google.colaboratory.intrinsic+json": {
              "type": "string"
            }
          },
          "metadata": {},
          "execution_count": 190
        }
      ]
    },
    {
      "cell_type": "markdown",
      "source": [
        "**Menghitung panjang string dengan len()**\n",
        "\n",
        "len() berfungsi untuk menghasilkan panjang dari sebuah string.\n",
        "\n",
        "Fungsi len() menghitung jumlah karakter pada string, termasuk spasi, dan menampilkan outputnya dalam bentuk bilangan integer."
      ],
      "metadata": {
        "id": "he3OHNdq4g0n"
      }
    },
    {
      "cell_type": "code",
      "source": [
        "len('Alex')"
      ],
      "metadata": {
        "id": "k9q1Fked4j5G",
        "colab": {
          "base_uri": "https://localhost:8080/"
        },
        "outputId": "8b89e3a4-d30d-49ac-a18b-60f6c58f6cef"
      },
      "execution_count": null,
      "outputs": [
        {
          "output_type": "execute_result",
          "data": {
            "text/plain": [
              "4"
            ]
          },
          "metadata": {},
          "execution_count": 191
        }
      ]
    },
    {
      "cell_type": "code",
      "source": [
        "len(' ')"
      ],
      "metadata": {
        "id": "A__sMCbs4mIA",
        "colab": {
          "base_uri": "https://localhost:8080/"
        },
        "outputId": "f2b0aab5-0d27-4173-f053-ed22328c71db"
      },
      "execution_count": null,
      "outputs": [
        {
          "output_type": "execute_result",
          "data": {
            "text/plain": [
              "1"
            ]
          },
          "metadata": {},
          "execution_count": 192
        }
      ]
    },
    {
      "cell_type": "markdown",
      "source": [
        "**Konversi objek bilangan menjadi string dengan str()**\n",
        "\n",
        "Fungsi str() berfungsi untuk menghasilkan bentuk string dari sebuah objek"
      ],
      "metadata": {
        "id": "IuIiKVj34sns"
      }
    },
    {
      "cell_type": "code",
      "source": [
        "str(20.8)"
      ],
      "metadata": {
        "id": "HHjG12iY4xCZ",
        "colab": {
          "base_uri": "https://localhost:8080/",
          "height": 35
        },
        "outputId": "1baccfc9-8a9e-427e-a526-c6964436f737"
      },
      "execution_count": null,
      "outputs": [
        {
          "output_type": "execute_result",
          "data": {
            "text/plain": [
              "'20.8'"
            ],
            "application/vnd.google.colaboratory.intrinsic+json": {
              "type": "string"
            }
          },
          "metadata": {},
          "execution_count": 193
        }
      ]
    },
    {
      "cell_type": "code",
      "source": [
        "str(20 + 28)"
      ],
      "metadata": {
        "id": "gq_9jffK4zLg",
        "colab": {
          "base_uri": "https://localhost:8080/",
          "height": 35
        },
        "outputId": "6e658952-4f16-4b85-e6e2-95bbc5293a6c"
      },
      "execution_count": null,
      "outputs": [
        {
          "output_type": "execute_result",
          "data": {
            "text/plain": [
              "'48'"
            ],
            "application/vnd.google.colaboratory.intrinsic+json": {
              "type": "string"
            }
          },
          "metadata": {},
          "execution_count": 194
        }
      ]
    },
    {
      "cell_type": "markdown",
      "source": [
        "Pada contoh pertama, nilai yang didefinisikan akan diubah menjadi string. Pada contoh kedua, penjumlahan bilangan integer akan dieksekusi terlebih dahulu sebelum hasilnya dikonversi menjadi string.\n",
        "\n",
        "Jika objek sudah berupa string, maka tetap bertipe data string seperti contoh di bawah ini"
      ],
      "metadata": {
        "id": "KKouh1-J44b3"
      }
    },
    {
      "cell_type": "code",
      "source": [
        "str('hello')"
      ],
      "metadata": {
        "id": "aVvUA6bu49kc",
        "colab": {
          "base_uri": "https://localhost:8080/",
          "height": 35
        },
        "outputId": "f879d5d9-f05c-46fb-c619-96ebf269d2b5"
      },
      "execution_count": null,
      "outputs": [
        {
          "output_type": "execute_result",
          "data": {
            "text/plain": [
              "'hello'"
            ],
            "application/vnd.google.colaboratory.intrinsic+json": {
              "type": "string"
            }
          },
          "metadata": {},
          "execution_count": 195
        }
      ]
    },
    {
      "cell_type": "markdown",
      "source": [
        "**Method yang dapat digunakan pada string**\n",
        "\n",
        "**Konversi string menjadi huruf kecil**\n",
        "\n",
        ".lower() berfungsi untuk mengubah string menjadi huruf kecil."
      ],
      "metadata": {
        "id": "ejALHdt90Xf7"
      }
    },
    {
      "cell_type": "code",
      "source": [
        "a = \"Belajar bahasa pemrograman Python\"\n",
        "print(\"sebelum : \", a)\n",
        "b = a.lower()\n",
        "print(\"sesudah : \", b)"
      ],
      "metadata": {
        "colab": {
          "base_uri": "https://localhost:8080/"
        },
        "id": "aplZA9mM0l1t",
        "outputId": "28f64162-db9c-4311-bd52-5c35d759ce7b"
      },
      "execution_count": null,
      "outputs": [
        {
          "output_type": "stream",
          "name": "stdout",
          "text": [
            "sebelum :  Belajar bahasa pemrograman Python\n",
            "sesudah :  belajar bahasa pemrograman python\n"
          ]
        }
      ]
    },
    {
      "cell_type": "code",
      "source": [
        "\"JAVASCRIPT\".lower()"
      ],
      "metadata": {
        "colab": {
          "base_uri": "https://localhost:8080/",
          "height": 35
        },
        "id": "FjrBSDjl0vZ-",
        "outputId": "436138da-3db2-422b-a210-48647a2766f9"
      },
      "execution_count": null,
      "outputs": [
        {
          "output_type": "execute_result",
          "data": {
            "text/plain": [
              "'javascript'"
            ],
            "application/vnd.google.colaboratory.intrinsic+json": {
              "type": "string"
            }
          },
          "metadata": {},
          "execution_count": 197
        }
      ]
    },
    {
      "cell_type": "code",
      "source": [
        "kota = 'Bogor'\n",
        "kota.lower()"
      ],
      "metadata": {
        "colab": {
          "base_uri": "https://localhost:8080/",
          "height": 35
        },
        "id": "H5iGPHgL0yY3",
        "outputId": "21b0898e-d790-447c-c5a4-f3975b8184c3"
      },
      "execution_count": null,
      "outputs": [
        {
          "output_type": "execute_result",
          "data": {
            "text/plain": [
              "'bogor'"
            ],
            "application/vnd.google.colaboratory.intrinsic+json": {
              "type": "string"
            }
          },
          "metadata": {},
          "execution_count": 198
        }
      ]
    },
    {
      "cell_type": "markdown",
      "source": [
        "**Konversi string menjadi huruf besar (kapital)**\n",
        "\n",
        ".upper() berfungsi untuk mengubah string menjadi huruf besar atau huruf kapital."
      ],
      "metadata": {
        "id": "izBms8Mh0-3y"
      }
    },
    {
      "cell_type": "code",
      "source": [
        "a = \"Belajar bahasa pemrograman Python\"\n",
        "print(\"sebelum : \", a)\n",
        "b = a.upper()\n",
        "print(\"sesudah : \", b)"
      ],
      "metadata": {
        "colab": {
          "base_uri": "https://localhost:8080/"
        },
        "id": "MML978lX1B8o",
        "outputId": "16768b1d-679f-40e4-c78d-c40cfa3ad62a"
      },
      "execution_count": null,
      "outputs": [
        {
          "output_type": "stream",
          "name": "stdout",
          "text": [
            "sebelum :  Belajar bahasa pemrograman Python\n",
            "sesudah :  BELAJAR BAHASA PEMROGRAMAN PYTHON\n"
          ]
        }
      ]
    },
    {
      "cell_type": "code",
      "source": [
        "\"JAVASCRIPT\".upper()"
      ],
      "metadata": {
        "colab": {
          "base_uri": "https://localhost:8080/",
          "height": 35
        },
        "id": "wIahA8As1B8q",
        "outputId": "507a11b5-b870-4674-ca4c-a98bb66a42c0"
      },
      "execution_count": null,
      "outputs": [
        {
          "output_type": "execute_result",
          "data": {
            "text/plain": [
              "'JAVASCRIPT'"
            ],
            "application/vnd.google.colaboratory.intrinsic+json": {
              "type": "string"
            }
          },
          "metadata": {},
          "execution_count": 200
        }
      ]
    },
    {
      "cell_type": "code",
      "source": [
        "kota = 'Bogor'\n",
        "kota.upper()"
      ],
      "metadata": {
        "colab": {
          "base_uri": "https://localhost:8080/",
          "height": 35
        },
        "id": "3I80uuBv1B8r",
        "outputId": "2b2a5cb2-a89e-45eb-d6d9-748f5c5c9c42"
      },
      "execution_count": null,
      "outputs": [
        {
          "output_type": "execute_result",
          "data": {
            "text/plain": [
              "'BOGOR'"
            ],
            "application/vnd.google.colaboratory.intrinsic+json": {
              "type": "string"
            }
          },
          "metadata": {},
          "execution_count": 201
        }
      ]
    },
    {
      "cell_type": "markdown",
      "source": [
        "**Mengganti string tertentu dengan string lainnya**\n",
        "\n",
        ".replace() berfungsi untuk mengganti nilai string. Terdapat dua argumen yang harus didefinisikan, argumen pertama adalah string yang akan diubah dan argumen kedua adalah string pengganti."
      ],
      "metadata": {
        "id": "4RxuMFwx1If9"
      }
    },
    {
      "cell_type": "code",
      "source": [
        "a = \"Belajar HTML\"\n",
        "a.replace(\"HTML\", \"Javascript\")"
      ],
      "metadata": {
        "colab": {
          "base_uri": "https://localhost:8080/",
          "height": 35
        },
        "id": "6lCPXdGN1LrK",
        "outputId": "07c43e41-5ab8-4091-9513-d642419fdf84"
      },
      "execution_count": null,
      "outputs": [
        {
          "output_type": "execute_result",
          "data": {
            "text/plain": [
              "'Belajar Javascript'"
            ],
            "application/vnd.google.colaboratory.intrinsic+json": {
              "type": "string"
            }
          },
          "metadata": {},
          "execution_count": 202
        }
      ]
    },
    {
      "cell_type": "markdown",
      "source": [
        "Anda juga dapat mengubah seluruh string."
      ],
      "metadata": {
        "id": "UhNq8OZo1WF8"
      }
    },
    {
      "cell_type": "code",
      "source": [
        "a = \"Belajar Python\"\n",
        "b = \"Saya tertarik dengan machine learning\"\n",
        "a = a.replace(a, b) # Memasukkan hasil replace ke variabel a \n",
        "a"
      ],
      "metadata": {
        "colab": {
          "base_uri": "https://localhost:8080/",
          "height": 35
        },
        "id": "BlFNNFNd1c9d",
        "outputId": "fa9489eb-1c53-4a28-d427-07cab17d1da4"
      },
      "execution_count": null,
      "outputs": [
        {
          "output_type": "execute_result",
          "data": {
            "text/plain": [
              "'Saya tertarik dengan machine learning'"
            ],
            "application/vnd.google.colaboratory.intrinsic+json": {
              "type": "string"
            }
          },
          "metadata": {},
          "execution_count": 203
        }
      ]
    },
    {
      "cell_type": "markdown",
      "source": [
        "**Mencari posisi sub-string tertentu**\n",
        "\n",
        ".find() berfungsi untuk mencari keberadaan sub-string tertentu. Argumen dari method .find() adalah substring yang akan dicari.\n",
        "\n",
        "![22.png](data:image/png;base64,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)"
      ],
      "metadata": {
        "id": "uV89f1XW1nTO"
      }
    },
    {
      "cell_type": "code",
      "source": [
        "kota = 'DKI Jakarta'\n",
        "kota.find('DK')"
      ],
      "metadata": {
        "colab": {
          "base_uri": "https://localhost:8080/"
        },
        "id": "eMGZd1571WrN",
        "outputId": "73708ef0-aec2-4983-fb4b-535e54b0a6e5"
      },
      "execution_count": null,
      "outputs": [
        {
          "output_type": "execute_result",
          "data": {
            "text/plain": [
              "0"
            ]
          },
          "metadata": {},
          "execution_count": 204
        }
      ]
    },
    {
      "cell_type": "code",
      "source": [
        "kota.find('arta')"
      ],
      "metadata": {
        "colab": {
          "base_uri": "https://localhost:8080/"
        },
        "id": "phB8kIPN2MX2",
        "outputId": "4757c65e-0e42-4cbe-fb0f-569d951bc0ad"
      },
      "execution_count": null,
      "outputs": [
        {
          "output_type": "execute_result",
          "data": {
            "text/plain": [
              "7"
            ]
          },
          "metadata": {},
          "execution_count": 205
        }
      ]
    },
    {
      "cell_type": "code",
      "source": [
        "kota.find('I')"
      ],
      "metadata": {
        "colab": {
          "base_uri": "https://localhost:8080/"
        },
        "id": "5emCRs5P2WVi",
        "outputId": "1ab53dbb-0947-45a6-ab20-a7ede933414a"
      },
      "execution_count": null,
      "outputs": [
        {
          "output_type": "execute_result",
          "data": {
            "text/plain": [
              "2"
            ]
          },
          "metadata": {},
          "execution_count": 206
        }
      ]
    },
    {
      "cell_type": "markdown",
      "source": [
        "Jika sub-string yang dicari tidak ditemukan, maka akan menghasilkan output -1."
      ],
      "metadata": {
        "id": "rZ0VHdPm2aAc"
      }
    },
    {
      "cell_type": "code",
      "source": [
        "kota.find('Jakrta')"
      ],
      "metadata": {
        "colab": {
          "base_uri": "https://localhost:8080/"
        },
        "id": "ATw9gaF22bf9",
        "outputId": "f849b880-9172-4507-d6e9-42fbf8a80db9"
      },
      "execution_count": null,
      "outputs": [
        {
          "output_type": "execute_result",
          "data": {
            "text/plain": [
              "-1"
            ]
          },
          "metadata": {},
          "execution_count": 207
        }
      ]
    },
    {
      "cell_type": "markdown",
      "source": [
        "**Menghitung jumlah sub-string tertentu**\n",
        "\n",
        ".count() berfungsi untuk menghitung jumlah sub-string tertentu yang terdapat pada string."
      ],
      "metadata": {
        "id": "oeHYeGvy2hYl"
      }
    },
    {
      "cell_type": "code",
      "source": [
        "text = \"Monas adalah maskot DKI Jakarta.\"\n",
        "text.count(\"Jakarta\")"
      ],
      "metadata": {
        "colab": {
          "base_uri": "https://localhost:8080/"
        },
        "id": "OAaLImgP2k23",
        "outputId": "eb4d1637-7858-4285-9df7-8f2789e111af"
      },
      "execution_count": null,
      "outputs": [
        {
          "output_type": "execute_result",
          "data": {
            "text/plain": [
              "1"
            ]
          },
          "metadata": {},
          "execution_count": 208
        }
      ]
    },
    {
      "cell_type": "code",
      "source": [
        "jumlah_o = text.count('o')\n",
        "print(jumlah_o)"
      ],
      "metadata": {
        "colab": {
          "base_uri": "https://localhost:8080/"
        },
        "id": "SuJdhk9G2134",
        "outputId": "fb7cb1d7-00ea-431b-d952-30028b6d0d8a"
      },
      "execution_count": null,
      "outputs": [
        {
          "output_type": "stream",
          "name": "stdout",
          "text": [
            "2\n"
          ]
        }
      ]
    },
    {
      "cell_type": "code",
      "source": [
        "\"Bogor\".count('o')"
      ],
      "metadata": {
        "colab": {
          "base_uri": "https://localhost:8080/"
        },
        "id": "d9weiNGc26nz",
        "outputId": "9b2806d0-9c07-41c0-c33e-11ae10f27fdf"
      },
      "execution_count": null,
      "outputs": [
        {
          "output_type": "execute_result",
          "data": {
            "text/plain": [
              "2"
            ]
          },
          "metadata": {},
          "execution_count": 210
        }
      ]
    },
    {
      "cell_type": "markdown",
      "source": [
        "**Mengecek apakah string diakhiri dengan karakter tertentu**\n",
        "\n",
        ".endswith() berfungsi untuk mengecek apakah suatu string diakhiri karakter atau sub-string tertentu. .endswith() akan menghasilkan output berupa boolean yang bernilai True atau False"
      ],
      "metadata": {
        "id": "U8PkDhIp3DNa"
      }
    },
    {
      "cell_type": "code",
      "source": [
        "text = \"Monas adalah maskot DKI Jakarta.\"\n",
        "text.endswith(\".\")"
      ],
      "metadata": {
        "colab": {
          "base_uri": "https://localhost:8080/"
        },
        "id": "8mVVN5ZG3KNE",
        "outputId": "85c2bb44-1402-4482-dfca-b1d7c888570f"
      },
      "execution_count": null,
      "outputs": [
        {
          "output_type": "execute_result",
          "data": {
            "text/plain": [
              "True"
            ]
          },
          "metadata": {},
          "execution_count": 211
        }
      ]
    },
    {
      "cell_type": "code",
      "source": [
        "text.endswith(\"Jakarta\")"
      ],
      "metadata": {
        "colab": {
          "base_uri": "https://localhost:8080/"
        },
        "id": "0oS7o6mB3PA4",
        "outputId": "88a753a9-1469-4031-9fd3-3ad3923e19bb"
      },
      "execution_count": null,
      "outputs": [
        {
          "output_type": "execute_result",
          "data": {
            "text/plain": [
              "False"
            ]
          },
          "metadata": {},
          "execution_count": 212
        }
      ]
    },
    {
      "cell_type": "code",
      "source": [
        "text = \"Selamat ulang tahun\"\n",
        "text.endswith(\"tahun\")"
      ],
      "metadata": {
        "colab": {
          "base_uri": "https://localhost:8080/"
        },
        "id": "ZMBHWYy-3S2n",
        "outputId": "36b29cda-c629-47cb-dcc8-e5c06c300481"
      },
      "execution_count": null,
      "outputs": [
        {
          "output_type": "execute_result",
          "data": {
            "text/plain": [
              "True"
            ]
          },
          "metadata": {},
          "execution_count": 213
        }
      ]
    },
    {
      "cell_type": "markdown",
      "source": [
        "**Mengubah huruf pertama string menjadi huruf kapital**\n",
        "\n",
        ".capitalize() berfungsi untuk mengubah huruf pertama dalam sebuah string menjadi huruf capital"
      ],
      "metadata": {
        "id": "h2u57J6I3djH"
      }
    },
    {
      "cell_type": "code",
      "source": [
        "teks = \"selamat ulang tahun!\"\n",
        "teks.capitalize()"
      ],
      "metadata": {
        "colab": {
          "base_uri": "https://localhost:8080/",
          "height": 35
        },
        "id": "aL4k-bHG3hXp",
        "outputId": "a12bc1c3-1af7-490b-f6c3-fdffba85c095"
      },
      "execution_count": null,
      "outputs": [
        {
          "output_type": "execute_result",
          "data": {
            "text/plain": [
              "'Selamat ulang tahun!'"
            ],
            "application/vnd.google.colaboratory.intrinsic+json": {
              "type": "string"
            }
          },
          "metadata": {},
          "execution_count": 214
        }
      ]
    },
    {
      "cell_type": "code",
      "source": [
        "\"saya akan datang\".capitalize()"
      ],
      "metadata": {
        "colab": {
          "base_uri": "https://localhost:8080/",
          "height": 35
        },
        "id": "AD_BRAg_3JnW",
        "outputId": "e33e60bf-bb99-4be5-cc27-827f78951f75"
      },
      "execution_count": null,
      "outputs": [
        {
          "output_type": "execute_result",
          "data": {
            "text/plain": [
              "'Saya akan datang'"
            ],
            "application/vnd.google.colaboratory.intrinsic+json": {
              "type": "string"
            }
          },
          "metadata": {},
          "execution_count": 215
        }
      ]
    },
    {
      "cell_type": "markdown",
      "source": [
        "**Escape Sequence**\n",
        "\n",
        "Escape sequence adalah karakter yang tidak dapat ditulis secara langsung karena termasuk sulit untuk direpresentasikan. Mengimplementasikannya dengan menggunakan backslash \\ yang disertai representasi karakternya.\n",
        "\n",
        "**Newline**\n",
        "\n",
        "Untuk membuat newline atau baris baru dapat menggunakan \\n"
      ],
      "metadata": {
        "id": "BTu79OVr3tv7"
      }
    },
    {
      "cell_type": "code",
      "source": [
        "print('Hari ini makan nasi \\n dengan ayam goreng.')"
      ],
      "metadata": {
        "colab": {
          "base_uri": "https://localhost:8080/"
        },
        "id": "HzAqL2Ds31wl",
        "outputId": "af527aea-a7f9-492a-d500-5a8b84f9614e"
      },
      "execution_count": null,
      "outputs": [
        {
          "output_type": "stream",
          "name": "stdout",
          "text": [
            "Hari ini makan nasi \n",
            " dengan ayam goreng.\n"
          ]
        }
      ]
    },
    {
      "cell_type": "code",
      "source": [
        "print(\"Dia sangat pandai \\ndan disiplin.\")"
      ],
      "metadata": {
        "colab": {
          "base_uri": "https://localhost:8080/"
        },
        "id": "okjE5ffk38IX",
        "outputId": "f538a5ca-34e8-4fcc-8920-9bde1df7c046"
      },
      "execution_count": null,
      "outputs": [
        {
          "output_type": "stream",
          "name": "stdout",
          "text": [
            "Dia sangat pandai \n",
            "dan disiplin.\n"
          ]
        }
      ]
    },
    {
      "cell_type": "markdown",
      "source": [
        "**Tab**\n",
        "\n",
        "Untuk membuat tabdapat menggunakan \\t."
      ],
      "metadata": {
        "id": "pacGozES4KaF"
      }
    },
    {
      "cell_type": "code",
      "source": [
        "print('Hari ini makan nasi \\t dengan ayam goreng.')"
      ],
      "metadata": {
        "colab": {
          "base_uri": "https://localhost:8080/"
        },
        "id": "2N9nqI4o4Myq",
        "outputId": "95a241ce-e6f2-4da6-cbac-fece11b5bdb2"
      },
      "execution_count": null,
      "outputs": [
        {
          "output_type": "stream",
          "name": "stdout",
          "text": [
            "Hari ini makan nasi \t dengan ayam goreng.\n"
          ]
        }
      ]
    },
    {
      "cell_type": "code",
      "source": [
        "print('Dia sangat pandai \\tdan disiplin')"
      ],
      "metadata": {
        "colab": {
          "base_uri": "https://localhost:8080/"
        },
        "id": "21PbG5O94RHO",
        "outputId": "402dfcd0-d920-4832-fb31-f43049554aa0"
      },
      "execution_count": null,
      "outputs": [
        {
          "output_type": "stream",
          "name": "stdout",
          "text": [
            "Dia sangat pandai \tdan disiplin\n"
          ]
        }
      ]
    },
    {
      "cell_type": "markdown",
      "source": [
        "**Backslash**\n",
        "\n",
        "Menampilkan backslash tidak bisa dilakukan secara langsung tetapi menggunakan backslash di depannya sehingga akan ada double backslash \\\\."
      ],
      "metadata": {
        "id": "pjznBPjh4Yy1"
      }
    },
    {
      "cell_type": "code",
      "source": [
        "print('Hari ini makan nasi \\\\ dengan ayam goreng.')"
      ],
      "metadata": {
        "colab": {
          "base_uri": "https://localhost:8080/"
        },
        "id": "JFce7DKs4cae",
        "outputId": "9fdfdc3a-a8c1-4de9-bb6d-97af27d20840"
      },
      "execution_count": null,
      "outputs": [
        {
          "output_type": "stream",
          "name": "stdout",
          "text": [
            "Hari ini makan nasi \\ dengan ayam goreng.\n"
          ]
        }
      ]
    },
    {
      "cell_type": "code",
      "source": [
        "print('Dia sangat pandai \\\\dan disiplin')"
      ],
      "metadata": {
        "colab": {
          "base_uri": "https://localhost:8080/"
        },
        "id": "uoQx7rCe4cag",
        "outputId": "9b57cfc1-dc1f-401e-d7ff-f0638903c8ee"
      },
      "execution_count": null,
      "outputs": [
        {
          "output_type": "stream",
          "name": "stdout",
          "text": [
            "Dia sangat pandai \\dan disiplin\n"
          ]
        }
      ]
    },
    {
      "cell_type": "markdown",
      "metadata": {
        "id": "2ilxiiAfwuut"
      },
      "source": [
        "**List**"
      ]
    },
    {
      "cell_type": "markdown",
      "source": [
        "List mirip dengan array namun lebih fleksibel. List digunakan untuk menyimpan koleksi data dalam berbagai tipe data seperti string, integer, float, dan sebagainya. Selain itu, dapat menyimpan data berupa list di dalam sebuah list.\n",
        "\n",
        "Pada bahasa Python, List didefinisikan dengan menggunakan kurung siku [] dan setiap elemen di dalam list dipisahkan oleh koma."
      ],
      "metadata": {
        "id": "chlpReJOebSG"
      }
    },
    {
      "cell_type": "code",
      "execution_count": null,
      "metadata": {
        "colab": {
          "base_uri": "https://localhost:8080/"
        },
        "id": "h1W1yAWRwwqO",
        "outputId": "dc4c235e-3d1c-47c7-a145-edd99d5fa345"
      },
      "outputs": [
        {
          "output_type": "stream",
          "name": "stdout",
          "text": [
            "[1, 2, 3]\n"
          ]
        }
      ],
      "source": [
        "x = [1, 2, 3] \n",
        "print(x)"
      ]
    },
    {
      "cell_type": "code",
      "execution_count": null,
      "metadata": {
        "colab": {
          "base_uri": "https://localhost:8080/"
        },
        "id": "NuvyCXtTwzrY",
        "outputId": "c96ffdeb-fcde-4a6f-efca-a324b0338007"
      },
      "outputs": [
        {
          "output_type": "stream",
          "name": "stdout",
          "text": [
            "['carrot', 'cucumber', 'potato']\n"
          ]
        }
      ],
      "source": [
        "vegetables = ['carrot', 'cucumber', 'potato']\n",
        "print(vegetables)"
      ]
    },
    {
      "cell_type": "markdown",
      "source": [
        "List juga dapat berisi objek dengan berbagai tipe data."
      ],
      "metadata": {
        "id": "p4B7bVwmeh-l"
      }
    },
    {
      "cell_type": "code",
      "execution_count": null,
      "metadata": {
        "colab": {
          "base_uri": "https://localhost:8080/"
        },
        "id": "DMUfWHfVw2lL",
        "outputId": "85ca6cc6-a957-4fd3-d334-2cecfb13e3d4"
      },
      "outputs": [
        {
          "output_type": "stream",
          "name": "stdout",
          "text": [
            "['Doe', 21, False, 2.1]\n"
          ]
        }
      ],
      "source": [
        "y = ['Doe', 21, False, 2.1]\n",
        "print(y)"
      ]
    },
    {
      "cell_type": "markdown",
      "source": [
        "**Mengakses List**\n",
        "\n",
        "**Indexing**\n",
        "\n",
        "Indexing pada list sama dengan indexing pada string. Indexing dimulai dari angka 0 dan seterusnya, atau bisa juga menggunakan negative indexing seperti pada gambar berikut.\n",
        "\n",
        "![2.png](data:image/png;base64,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)\n",
        "\n",
        "Untuk mengakses isi list dapat menuliskan nama list disertai dengan kurung siku yang berisi nomor indeks."
      ],
      "metadata": {
        "id": "KYG2yoCNep39"
      }
    },
    {
      "cell_type": "code",
      "execution_count": null,
      "metadata": {
        "colab": {
          "base_uri": "https://localhost:8080/",
          "height": 35
        },
        "id": "tCTUKWyZw4wB",
        "outputId": "bcf4f786-1272-45fc-c0d5-82a322659205"
      },
      "outputs": [
        {
          "output_type": "execute_result",
          "data": {
            "text/plain": [
              "'cucumber'"
            ],
            "application/vnd.google.colaboratory.intrinsic+json": {
              "type": "string"
            }
          },
          "metadata": {},
          "execution_count": 225
        }
      ],
      "source": [
        "# Contoh lain\n",
        "\n",
        "vegetables = ['carrot', 'cucumber', 'potato'] \n",
        "vegetables[1]"
      ]
    },
    {
      "cell_type": "code",
      "execution_count": null,
      "metadata": {
        "colab": {
          "base_uri": "https://localhost:8080/",
          "height": 35
        },
        "id": "ESTWlPLLw-I2",
        "outputId": "49b54fd6-0371-4793-dac8-eaa36f8cffa6"
      },
      "outputs": [
        {
          "output_type": "execute_result",
          "data": {
            "text/plain": [
              "'potato'"
            ],
            "application/vnd.google.colaboratory.intrinsic+json": {
              "type": "string"
            }
          },
          "metadata": {},
          "execution_count": 226
        }
      ],
      "source": [
        "vegetables[-1]"
      ]
    },
    {
      "cell_type": "code",
      "execution_count": null,
      "metadata": {
        "colab": {
          "base_uri": "https://localhost:8080/"
        },
        "id": "6nnHSluYw_1P",
        "outputId": "95f50f43-3f5f-40d3-a64a-c7d50f63f19e"
      },
      "outputs": [
        {
          "output_type": "stream",
          "name": "stdout",
          "text": [
            "potato\n"
          ]
        }
      ],
      "source": [
        "print(vegetables[2])"
      ]
    },
    {
      "cell_type": "markdown",
      "source": [
        "**Slicing**\n",
        "\n",
        "Slicing atau memotong list untuk mengambil bagian tertentu."
      ],
      "metadata": {
        "id": "iRAeMWWvfH_M"
      }
    },
    {
      "cell_type": "code",
      "execution_count": null,
      "metadata": {
        "colab": {
          "base_uri": "https://localhost:8080/"
        },
        "id": "IGK-7SJFxDwx",
        "outputId": "e31b50c7-2dea-4e7b-c7ac-7309a2e8704e"
      },
      "outputs": [
        {
          "output_type": "execute_result",
          "data": {
            "text/plain": [
              "['carrot', 'cucumber', 'spinach']"
            ]
          },
          "metadata": {},
          "execution_count": 228
        }
      ],
      "source": [
        "vegetables = ['carrot', 'cucumber', 'spinach','cabbage','beans'] \n",
        "vegetables[0:3]"
      ]
    },
    {
      "cell_type": "code",
      "execution_count": null,
      "metadata": {
        "colab": {
          "base_uri": "https://localhost:8080/"
        },
        "id": "7tQ0S0ptxI6p",
        "outputId": "160943b9-1185-438e-da5e-0862fcb98bbb"
      },
      "outputs": [
        {
          "output_type": "execute_result",
          "data": {
            "text/plain": [
              "['carrot']"
            ]
          },
          "metadata": {},
          "execution_count": 229
        }
      ],
      "source": [
        "vegetables[0:1]"
      ]
    },
    {
      "cell_type": "code",
      "execution_count": null,
      "metadata": {
        "colab": {
          "base_uri": "https://localhost:8080/"
        },
        "id": "ebiMeRZFxOPy",
        "outputId": "9bf44f2c-ffda-4fd1-ee33-83ee3c8e57cf"
      },
      "outputs": [
        {
          "output_type": "stream",
          "name": "stdout",
          "text": [
            "['spinach', 'cabbage']\n"
          ]
        }
      ],
      "source": [
        "print(vegetables[2:4])"
      ]
    },
    {
      "cell_type": "markdown",
      "source": [
        "**Stride**"
      ],
      "metadata": {
        "id": "J4GqA1WcfMQi"
      }
    },
    {
      "cell_type": "code",
      "execution_count": null,
      "metadata": {
        "id": "Hgp2hLWtxU3J"
      },
      "outputs": [],
      "source": [
        "vegetables = ['carrot', 'cucumber', 'spinach','cabbage','beans'] "
      ]
    },
    {
      "cell_type": "code",
      "execution_count": null,
      "metadata": {
        "colab": {
          "base_uri": "https://localhost:8080/"
        },
        "id": "hBNr3kx2xWN9",
        "outputId": "faa25211-18b3-498d-b209-6b9645103cee"
      },
      "outputs": [
        {
          "output_type": "execute_result",
          "data": {
            "text/plain": [
              "['carrot', 'beans']"
            ]
          },
          "metadata": {},
          "execution_count": 232
        }
      ],
      "source": [
        "vegetables[::4]"
      ]
    },
    {
      "cell_type": "code",
      "execution_count": null,
      "metadata": {
        "colab": {
          "base_uri": "https://localhost:8080/"
        },
        "id": "OeJ1NT1MxXKR",
        "outputId": "8630fc09-e595-42fd-eeb1-0ca4280fbd78"
      },
      "outputs": [
        {
          "output_type": "execute_result",
          "data": {
            "text/plain": [
              "['carrot', 'cabbage']"
            ]
          },
          "metadata": {},
          "execution_count": 233
        }
      ],
      "source": [
        "vegetables[0::3]"
      ]
    },
    {
      "cell_type": "code",
      "execution_count": null,
      "metadata": {
        "colab": {
          "base_uri": "https://localhost:8080/"
        },
        "id": "M0FzHLqCxadt",
        "outputId": "72a8cfc0-2dce-4675-d141-aca2b380ba41"
      },
      "outputs": [
        {
          "output_type": "execute_result",
          "data": {
            "text/plain": [
              "['cucumber']"
            ]
          },
          "metadata": {},
          "execution_count": 234
        }
      ],
      "source": [
        "vegetables [1:2:2]"
      ]
    },
    {
      "cell_type": "markdown",
      "source": [
        "**Nested List**\n",
        "\n",
        "Sebuah list dapat berisi list disebut nested list atau list bersarang"
      ],
      "metadata": {
        "id": "K5wJr2O8fWJ7"
      }
    },
    {
      "cell_type": "code",
      "execution_count": null,
      "metadata": {
        "colab": {
          "base_uri": "https://localhost:8080/"
        },
        "id": "EcMxFjzxxcxD",
        "outputId": "aec5c226-6444-43ad-cac0-458898e5f3f1"
      },
      "outputs": [
        {
          "output_type": "execute_result",
          "data": {
            "text/plain": [
              "[[1, 2], [3, 4], [5, 6]]"
            ]
          },
          "metadata": {},
          "execution_count": 235
        }
      ],
      "source": [
        "a = [[1, 2], [3,4], [5,6]] \n",
        "a"
      ]
    },
    {
      "cell_type": "markdown",
      "source": [
        "List m mengandung tiga sub-list. Lihat ilustrasinya di bawah ini.\n",
        "\n",
        "![image.png](data:image/png;base64,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)"
      ],
      "metadata": {
        "id": "Wr2uhQn3ffRe"
      }
    },
    {
      "cell_type": "markdown",
      "source": [
        "List yang berisi list juga dapat digabung dengan tipe data lain."
      ],
      "metadata": {
        "id": "SJeRXQTTgn0Y"
      }
    },
    {
      "cell_type": "code",
      "execution_count": null,
      "metadata": {
        "colab": {
          "base_uri": "https://localhost:8080/"
        },
        "id": "fZ-XymUNxf2B",
        "outputId": "9a848ac2-bad1-44e5-83c7-5798ad3b6ea9"
      },
      "outputs": [
        {
          "output_type": "stream",
          "name": "stdout",
          "text": [
            "[1, 'carrot', ['x', 'y'], 10.5, [10, 30]]\n"
          ]
        }
      ],
      "source": [
        "b = [1, 'carrot', ['x', 'y'], 10.5, [10, 30]] \n",
        "print(b)"
      ]
    },
    {
      "cell_type": "markdown",
      "source": [
        "**Mengakses nested list**\n",
        "\n",
        "Untuk mengambil elemen list yang berada di dalam list, membutuhkan dua indeks. Indeks pertama dari list di dalam list n, indeks kedua adalah elemen yang ada di dalam list. Misalnya mengambil nilai a.\n",
        "\n",
        "![4.png](data:image/png;base64,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)"
      ],
      "metadata": {
        "id": "KKya4VMigxm0"
      }
    },
    {
      "cell_type": "code",
      "execution_count": null,
      "metadata": {
        "colab": {
          "base_uri": "https://localhost:8080/"
        },
        "id": "kc8HDmrjxh5C",
        "outputId": "b4ad542f-81af-4e10-d041-ce8e26cce4e1"
      },
      "outputs": [
        {
          "output_type": "execute_result",
          "data": {
            "text/plain": [
              "30"
            ]
          },
          "metadata": {},
          "execution_count": 237
        }
      ],
      "source": [
        "# Contoh lain\n",
        "\n",
        "b = [1, 'carrot', ['a', 'b'], 10.5, [10, 30]] \n",
        "b[4][1]"
      ]
    },
    {
      "cell_type": "code",
      "execution_count": null,
      "metadata": {
        "colab": {
          "base_uri": "https://localhost:8080/"
        },
        "id": "gbDxusTjxp4s",
        "outputId": "3a531b41-76f1-44fb-8dcb-fc4e2ec11e59"
      },
      "outputs": [
        {
          "output_type": "execute_result",
          "data": {
            "text/plain": [
              "10"
            ]
          },
          "metadata": {},
          "execution_count": 238
        }
      ],
      "source": [
        "b[4][0]"
      ]
    },
    {
      "cell_type": "code",
      "execution_count": null,
      "metadata": {
        "colab": {
          "base_uri": "https://localhost:8080/",
          "height": 35
        },
        "id": "mYVE9Bh8xrpX",
        "outputId": "8a5cefc9-d4cf-40b5-afc4-614862b0915f"
      },
      "outputs": [
        {
          "output_type": "execute_result",
          "data": {
            "text/plain": [
              "'b'"
            ],
            "application/vnd.google.colaboratory.intrinsic+json": {
              "type": "string"
            }
          },
          "metadata": {},
          "execution_count": 239
        }
      ],
      "source": [
        "b[2][1]"
      ]
    },
    {
      "cell_type": "code",
      "execution_count": null,
      "metadata": {
        "colab": {
          "base_uri": "https://localhost:8080/",
          "height": 35
        },
        "id": "itnNeGm0xuEw",
        "outputId": "47bfe3d2-c398-41c9-8f0e-93f5274d31b0"
      },
      "outputs": [
        {
          "output_type": "execute_result",
          "data": {
            "text/plain": [
              "'a'"
            ],
            "application/vnd.google.colaboratory.intrinsic+json": {
              "type": "string"
            }
          },
          "metadata": {},
          "execution_count": 240
        }
      ],
      "source": [
        "b[2][0]"
      ]
    },
    {
      "cell_type": "markdown",
      "source": [
        "**Manipulasi List**\n",
        "\n",
        "List dapat dimanipulasi seperti mengubah elemen list pada indeks tertentu, menambah elemen list, dan menghapus elemen list.\n",
        "\n",
        "**Mengubah elemen list**\n",
        "\n",
        "Contohnya kita akan mengubah nilai dari list vegetables."
      ],
      "metadata": {
        "id": "360oa79KhBXR"
      }
    },
    {
      "cell_type": "code",
      "execution_count": null,
      "metadata": {
        "colab": {
          "base_uri": "https://localhost:8080/"
        },
        "id": "G47edUn8xw2V",
        "outputId": "151e8e96-0962-4b0d-fd57-77d1ca34735a"
      },
      "outputs": [
        {
          "output_type": "execute_result",
          "data": {
            "text/plain": [
              "['carrot', 'cucumber', 'spinach', 'cabbage', 'beans']"
            ]
          },
          "metadata": {},
          "execution_count": 241
        }
      ],
      "source": [
        "vegetables = ['carrot', 'cucumber', 'spinach','cabbage','beans'] \n",
        "vegetables"
      ]
    },
    {
      "cell_type": "markdown",
      "source": [
        "Misalnya, mengubah nilai cabbage menjadi brocoli."
      ],
      "metadata": {
        "id": "PrVlyLmShNay"
      }
    },
    {
      "cell_type": "code",
      "execution_count": null,
      "metadata": {
        "colab": {
          "base_uri": "https://localhost:8080/"
        },
        "id": "Dck_hvGKx14k",
        "outputId": "455f2c46-4d5c-4516-d3cd-829f5c69aa63"
      },
      "outputs": [
        {
          "output_type": "execute_result",
          "data": {
            "text/plain": [
              "['carrot', 'cucumber', 'spinach', 'brocoli', 'beans']"
            ]
          },
          "metadata": {},
          "execution_count": 243
        }
      ],
      "source": [
        "vegetables[3] = 'brocoli' # Mengubah isi indeks 3 menjadi 'brocoli' \n",
        "vegetables "
      ]
    },
    {
      "cell_type": "markdown",
      "source": [
        "**Menambah/menggabungkan list**\n",
        "Menambah elemen baru pada list dapat menggunakan operator + atau dengan fungsi bawaan Python.\n",
        "\n",
        "**Operator +**\n",
        "\n",
        "Operator + digunakan untuk menambahkan elemen baru di awal maupun akhir list."
      ],
      "metadata": {
        "id": "fPFGvz3NhYO5"
      }
    },
    {
      "cell_type": "code",
      "execution_count": null,
      "metadata": {
        "colab": {
          "base_uri": "https://localhost:8080/"
        },
        "id": "ZdiwidsgyKWk",
        "outputId": "98b43cbf-8614-4a18-996b-0e9f8251a466"
      },
      "outputs": [
        {
          "output_type": "execute_result",
          "data": {
            "text/plain": [
              "['carrot', 'asparagus', 'spinach', 'brocoli', 'beans', 1, 2]"
            ]
          },
          "metadata": {},
          "execution_count": 244
        }
      ],
      "source": [
        "# Menambahkan nilai 1 dan 2 pada akhir list vegetables \n",
        "vegetables = ['carrot', 'asparagus', 'spinach','brocoli','beans']\n",
        "vegetables = vegetables + [1, 2] \n",
        "vegetables"
      ]
    },
    {
      "cell_type": "code",
      "execution_count": null,
      "metadata": {
        "colab": {
          "base_uri": "https://localhost:8080/"
        },
        "id": "XV2mya4ryMl0",
        "outputId": "78a98c57-a0e0-4104-c892-96775e8885c4"
      },
      "outputs": [
        {
          "output_type": "stream",
          "name": "stdout",
          "text": [
            "['cabbage', 'carrot', 'asparagus', 'spinach', 'brocoli', 'beans', 1, 2]\n"
          ]
        }
      ],
      "source": [
        "# Menambahkan 'cabbage' pada awal list vegetables \n",
        "vegetables = ['cabbage'] + vegetables \n",
        "print(vegetables )"
      ]
    },
    {
      "cell_type": "markdown",
      "source": [
        "**Menggunakan method**\n",
        "Ada 3 method untuk menambahkan item baru pada list, yaitu append(), extend(), insert().\n",
        "\n",
        "**append()**\n",
        "\n",
        "append() digunakan untuk manipulasi list yang digunakan untuk menambahkan elemen baru di akhir list."
      ],
      "metadata": {
        "id": "2SckQcjthle8"
      }
    },
    {
      "cell_type": "code",
      "execution_count": null,
      "metadata": {
        "colab": {
          "base_uri": "https://localhost:8080/"
        },
        "id": "ca7fhMpoyT2Y",
        "outputId": "54ff3f51-5135-48cd-a237-0db1fcbfd7e2"
      },
      "outputs": [
        {
          "output_type": "execute_result",
          "data": {
            "text/plain": [
              "['carrot', 'asparagus', 'spinach', 'brocoli', 'beans', 'cabbage']"
            ]
          },
          "metadata": {},
          "execution_count": 246
        }
      ],
      "source": [
        "vegetables = ['carrot', 'asparagus', 'spinach','brocoli','beans']\n",
        "vegetables.append('cabbage')\n",
        "vegetables"
      ]
    },
    {
      "cell_type": "markdown",
      "source": [
        "Fungsi append(), hanya memodifikasi list di list itu sendiri dan tidak bisa menghasilkan list baru."
      ],
      "metadata": {
        "id": "-ksHK43yhwlH"
      }
    },
    {
      "cell_type": "code",
      "execution_count": null,
      "metadata": {
        "id": "j5psUrM2yayt"
      },
      "outputs": [],
      "source": [
        "vegetables = ['carrot', 'asparagus', 'spinach','brocoli','beans']\n",
        "a = vegetables.append('cabbage')\n",
        "a"
      ]
    },
    {
      "cell_type": "markdown",
      "source": [
        "vegetables.append('cabbage') dimasukkan ke dalam list baru yaitu a. Saat menampilkan isi dari list a, tidak akan keluar hasil apapun."
      ],
      "metadata": {
        "id": "7k1cHPWBiZ_t"
      }
    },
    {
      "cell_type": "markdown",
      "source": [
        "**extend(< iterable >)**\n",
        "\n",
        "Method extend() berfungsi untuk menambahkan elemen baru pada list secara individual. Jadi, elemen yang di letakkan di dalam tanda kurung akan dipisahkan per karakter."
      ],
      "metadata": {
        "id": "CkChfwoIjCx3"
      }
    },
    {
      "cell_type": "code",
      "execution_count": null,
      "metadata": {
        "colab": {
          "base_uri": "https://localhost:8080/"
        },
        "id": "x3YCIMLjzDX2",
        "outputId": "a86ec52c-d69d-4ef8-86d0-5654a27244de"
      },
      "outputs": [
        {
          "output_type": "stream",
          "name": "stdout",
          "text": [
            "['carrot', 'asparagus', 'spinach', 'brocoli', 'beans', 'c', 'a', 'b', 'b', 'a', 'g', 'e']\n"
          ]
        }
      ],
      "source": [
        "vegetables = ['carrot', 'asparagus', 'spinach','brocoli','beans']\n",
        "vegetables.extend('cabbage')\n",
        "print(vegetables)"
      ]
    },
    {
      "cell_type": "markdown",
      "source": [
        "Dengan membatasi string tersebut dengan tanda kurung siku [] akan menampilkan isi list yang tidak terpisah secara individual."
      ],
      "metadata": {
        "id": "CAn55H60jIqo"
      }
    },
    {
      "cell_type": "code",
      "execution_count": null,
      "metadata": {
        "colab": {
          "base_uri": "https://localhost:8080/"
        },
        "id": "JSC8xlExzFUw",
        "outputId": "5afa8be4-e953-4543-e085-c6ac23e41057"
      },
      "outputs": [
        {
          "output_type": "stream",
          "name": "stdout",
          "text": [
            "['carrot', 'asparagus', 'spinach', 'brocoli', 'beans', 'cabbage']\n"
          ]
        }
      ],
      "source": [
        "vegetables = ['carrot', 'asparagus', 'spinach','brocoli','beans']\n",
        "vegetables.extend(['cabbage'])\n",
        "print(vegetables)"
      ]
    },
    {
      "cell_type": "markdown",
      "source": [
        "**insert(< index >, < object >)**\n",
        "\n",
        "Method insert() digunakan untuk menyisipkan elemen baru di list pada indeks tertentu. Misalnya menambahkan nilai cabbage pada indeks ke 1."
      ],
      "metadata": {
        "id": "cnpooSX0jMe8"
      }
    },
    {
      "cell_type": "code",
      "execution_count": null,
      "metadata": {
        "colab": {
          "base_uri": "https://localhost:8080/"
        },
        "id": "LCOGgvzwzNhg",
        "outputId": "97de5494-03a3-4255-d203-d3506b4bad76"
      },
      "outputs": [
        {
          "output_type": "stream",
          "name": "stdout",
          "text": [
            "['carrot', 'cabbage', 'asparagus', 'spinach', 'brocoli', 'beans']\n"
          ]
        }
      ],
      "source": [
        "vegetables = ['carrot', 'asparagus', 'spinach','brocoli','beans']\n",
        "vegetables.insert(1, 'cabbage')\n",
        "print(vegetables)"
      ]
    },
    {
      "cell_type": "markdown",
      "source": [
        "**Menghapus elemen list**\n",
        "\n",
        "Command del digunakan untuk menghapus elemen atau item di list.\n",
        "\n",
        "**Menggunakan perintah (del)**\n",
        "\n",
        "Perintah del digunakan untuk menghapus list berdasarkan indeks . Misalnya, menghapus item pada indeks ke 2."
      ],
      "metadata": {
        "id": "RHKzU2t1jcV1"
      }
    },
    {
      "cell_type": "code",
      "execution_count": null,
      "metadata": {
        "colab": {
          "base_uri": "https://localhost:8080/"
        },
        "id": "2n5Qkj7azPaz",
        "outputId": "607d1895-b1f0-46e1-ac38-d31f6885487f"
      },
      "outputs": [
        {
          "output_type": "execute_result",
          "data": {
            "text/plain": [
              "['carrot', 'asparagus', 'brocoli', 'beans']"
            ]
          },
          "metadata": {},
          "execution_count": 251
        }
      ],
      "source": [
        "vegetables = ['carrot', 'asparagus', 'spinach','brocoli','beans']\n",
        "del vegetables[2]\n",
        "vegetables"
      ]
    },
    {
      "cell_type": "markdown",
      "source": [
        "**Menggunakan method**\n",
        "\n",
        "Ada 2 method yang digunakan untuk menghapus elemen list, yaitu remove() dan pop().\n",
        "\n",
        "**remove(< object >)**\n",
        "\n",
        "Method remove() untuk menghapus item di dalam sebuah list berdasarkan nama item atau elemen tersebut."
      ],
      "metadata": {
        "id": "EJLnxTX0jiGV"
      }
    },
    {
      "cell_type": "code",
      "execution_count": null,
      "metadata": {
        "colab": {
          "base_uri": "https://localhost:8080/"
        },
        "id": "sn7J6-H3zSRp",
        "outputId": "ce8cb0bc-23aa-4ec5-8454-36cf7302634d"
      },
      "outputs": [
        {
          "output_type": "execute_result",
          "data": {
            "text/plain": [
              "['carrot', 'asparagus', 'spinach', 'beans']"
            ]
          },
          "metadata": {},
          "execution_count": 252
        }
      ],
      "source": [
        "vegetables = ['carrot', 'asparagus', 'spinach','brocoli','beans']\n",
        "vegetables.remove('brocoli')\n",
        "vegetables"
      ]
    },
    {
      "cell_type": "markdown",
      "source": [
        "**pop(< index >)**\n",
        "\n",
        "Method pop() untuk menghapus elemen list berdasarkan indeks"
      ],
      "metadata": {
        "id": "_J6Xyxazj31f"
      }
    },
    {
      "cell_type": "code",
      "execution_count": null,
      "metadata": {
        "colab": {
          "base_uri": "https://localhost:8080/"
        },
        "id": "BnyZinm_zWIH",
        "outputId": "e4b29a11-8342-466c-a2ea-91c148e98bc9"
      },
      "outputs": [
        {
          "output_type": "execute_result",
          "data": {
            "text/plain": [
              "['carrot', 'asparagus', 'brocoli', 'beans']"
            ]
          },
          "metadata": {},
          "execution_count": 253
        }
      ],
      "source": [
        "vegetables = ['carrot', 'asparagus', 'spinach','brocoli','beans']\n",
        "vegetables.pop(2)\n",
        "vegetables"
      ]
    },
    {
      "cell_type": "markdown",
      "source": [
        "**pop()**\n",
        "\n",
        "Method pop() untuk menghapus objek atau elemen paling akhir yang ada di dalam list."
      ],
      "metadata": {
        "id": "QpNPI9WAj91Z"
      }
    },
    {
      "cell_type": "code",
      "execution_count": null,
      "metadata": {
        "colab": {
          "base_uri": "https://localhost:8080/"
        },
        "id": "5ikHvWh5zYEj",
        "outputId": "e9354753-eac2-4e35-93a1-ba1e6db8eccf"
      },
      "outputs": [
        {
          "output_type": "execute_result",
          "data": {
            "text/plain": [
              "['carrot', 'asparagus', 'spinach', 'brocoli']"
            ]
          },
          "metadata": {},
          "execution_count": 254
        }
      ],
      "source": [
        "vegetables = ['carrot', 'asparagus', 'spinach','brocoli','beans']\n",
        "vegetables.pop()\n",
        "vegetables"
      ]
    },
    {
      "cell_type": "markdown",
      "source": [
        "**Tuple**\n",
        "\n",
        "Tuple adalah sekumpulan objek yang terurut. Objek-objek pada tuple bisa berupa berbagai tipe data seperti string, integer, float, ataupun tuple itu sendiri.\n",
        "\n",
        "Tuple hampir sama dengan list, tuple bersifat immutable dan tidak dapat diubah isinya. Jadi, tidak dapat menambahkan elemen baru pada tuple, maupun menghapus dan mengubah nilai elemen di dalam tuple.\n",
        "\n",
        "Tuple didefinisikan menggunakan tanda kurung ()."
      ],
      "metadata": {
        "id": "szUP37DC70GX"
      }
    },
    {
      "cell_type": "code",
      "source": [
        "nama = ('Ahmad', 'Budi', 'Cahyo', 'Dwi', 'Eka')\n",
        "nama"
      ],
      "metadata": {
        "colab": {
          "base_uri": "https://localhost:8080/"
        },
        "id": "-wfDccMF-cou",
        "outputId": "12c59163-536f-4905-aa05-4a544a1babcb"
      },
      "execution_count": null,
      "outputs": [
        {
          "output_type": "execute_result",
          "data": {
            "text/plain": [
              "('Ahmad', 'Budi', 'Cahyo', 'Dwi', 'Eka')"
            ]
          },
          "metadata": {},
          "execution_count": 255
        }
      ]
    },
    {
      "cell_type": "code",
      "source": [
        "buat_tuple = ('Ahmad', 20, 60000, 3.5)\n",
        "buat_tuple"
      ],
      "metadata": {
        "colab": {
          "base_uri": "https://localhost:8080/"
        },
        "id": "v4Tl0dfb_lyP",
        "outputId": "6600e905-92cb-4e77-a06a-5b12d5d77daa"
      },
      "execution_count": null,
      "outputs": [
        {
          "output_type": "execute_result",
          "data": {
            "text/plain": [
              "('Ahmad', 20, 60000, 3.5)"
            ]
          },
          "metadata": {},
          "execution_count": 256
        }
      ]
    },
    {
      "cell_type": "markdown",
      "source": [
        "**Mengakses tuple**\n",
        "\n",
        "**Indexing**"
      ],
      "metadata": {
        "id": "zxNsOCIu_wKQ"
      }
    },
    {
      "cell_type": "code",
      "source": [
        "buat_tuple = ('Ahmad', 20, 60000, 3.5)\n",
        "buat_tuple[1]"
      ],
      "metadata": {
        "colab": {
          "base_uri": "https://localhost:8080/"
        },
        "id": "ldMDT_Ah_0Lx",
        "outputId": "2aeb5723-a778-441b-ab46-0b9d4b3a57b7"
      },
      "execution_count": null,
      "outputs": [
        {
          "output_type": "execute_result",
          "data": {
            "text/plain": [
              "20"
            ]
          },
          "metadata": {},
          "execution_count": 257
        }
      ]
    },
    {
      "cell_type": "code",
      "source": [
        "print(buat_tuple[0])\n",
        "print(buat_tuple[1])\n",
        "print(buat_tuple[2])\n",
        "print(buat_tuple[3])"
      ],
      "metadata": {
        "colab": {
          "base_uri": "https://localhost:8080/"
        },
        "id": "kKzQ2j55_2rJ",
        "outputId": "c861d968-d009-4a69-fd97-2253e352c677"
      },
      "execution_count": null,
      "outputs": [
        {
          "output_type": "stream",
          "name": "stdout",
          "text": [
            "Ahmad\n",
            "20\n",
            "60000\n",
            "3.5\n"
          ]
        }
      ]
    },
    {
      "cell_type": "markdown",
      "source": [
        "Akses tuple menggunakan negative indexing dalam mengakses elemen tuple yang dimulai dari -2 untuk elemen paling belakang."
      ],
      "metadata": {
        "id": "6rfsQPNj_7wL"
      }
    },
    {
      "cell_type": "code",
      "source": [
        "buat_tuple[-2]"
      ],
      "metadata": {
        "id": "DzG6pv0HBkB2",
        "colab": {
          "base_uri": "https://localhost:8080/"
        },
        "outputId": "e0dea7fc-faa1-4b5d-d799-3d7cbbf682f8"
      },
      "execution_count": null,
      "outputs": [
        {
          "output_type": "execute_result",
          "data": {
            "text/plain": [
              "60000"
            ]
          },
          "metadata": {},
          "execution_count": 259
        }
      ]
    },
    {
      "cell_type": "code",
      "source": [
        "print(buat_tuple[-1])\n",
        "print(buat_tuple[-2])\n",
        "print(buat_tuple[-3])\n",
        "print(buat_tuple[-4])\n"
      ],
      "metadata": {
        "id": "xjs9-FivBm7a",
        "colab": {
          "base_uri": "https://localhost:8080/"
        },
        "outputId": "eff17d4d-263d-4047-df27-692fec822d91"
      },
      "execution_count": null,
      "outputs": [
        {
          "output_type": "stream",
          "name": "stdout",
          "text": [
            "3.5\n",
            "60000\n",
            "20\n",
            "Ahmad\n"
          ]
        }
      ]
    },
    {
      "cell_type": "markdown",
      "source": [
        "**Slicing**\n",
        "\n",
        "Slicing tuple untuk mendapatkan elemen dengan range indeks tertentu"
      ],
      "metadata": {
        "id": "tpeSZNm2CcF9"
      }
    },
    {
      "cell_type": "code",
      "source": [
        "buat_tuple = ('Ahmad', 20, 60000, 3.5)\n",
        "buat_tuple[0:2]"
      ],
      "metadata": {
        "colab": {
          "base_uri": "https://localhost:8080/"
        },
        "id": "FzVWzcW8Cgvo",
        "outputId": "4a8584be-7a24-4e5f-87a2-fd8024a2d393"
      },
      "execution_count": null,
      "outputs": [
        {
          "output_type": "execute_result",
          "data": {
            "text/plain": [
              "('Ahmad', 20)"
            ]
          },
          "metadata": {},
          "execution_count": 261
        }
      ]
    },
    {
      "cell_type": "markdown",
      "source": [
        "Mengambil dua elemen terakhir pada tuple buat_tuple"
      ],
      "metadata": {
        "id": "czyd88akDJxk"
      }
    },
    {
      "cell_type": "code",
      "source": [
        "buat_tuple[1:4]"
      ],
      "metadata": {
        "colab": {
          "base_uri": "https://localhost:8080/"
        },
        "id": "x6tw8seXFjMp",
        "outputId": "f1973a25-dd5f-47a8-9e41-7ad9d4a2a282"
      },
      "execution_count": null,
      "outputs": [
        {
          "output_type": "execute_result",
          "data": {
            "text/plain": [
              "(20, 60000, 3.5)"
            ]
          },
          "metadata": {},
          "execution_count": 263
        }
      ]
    },
    {
      "cell_type": "markdown",
      "source": [
        "atau bisa tidak memasukkan angka setelah tanda titik dua :."
      ],
      "metadata": {
        "id": "8Hei_tQuFnvg"
      }
    },
    {
      "cell_type": "code",
      "source": [
        "buat_tuple[2:]"
      ],
      "metadata": {
        "colab": {
          "base_uri": "https://localhost:8080/"
        },
        "id": "L0U0UoqgFqCr",
        "outputId": "7510bcc3-2a0e-49dd-ed9d-804b247ab146"
      },
      "execution_count": null,
      "outputs": [
        {
          "output_type": "execute_result",
          "data": {
            "text/plain": [
              "(60000, 3.5)"
            ]
          },
          "metadata": {},
          "execution_count": 264
        }
      ]
    },
    {
      "cell_type": "markdown",
      "source": [
        "Mengakses elemen mulai dari indeks 0 sampai indeks tertentu dengan tidak menuliskan angka pertama sebelum titik dua :."
      ],
      "metadata": {
        "id": "rkFl9ShiFs_x"
      }
    },
    {
      "cell_type": "code",
      "source": [
        "buat_tuple[:2]"
      ],
      "metadata": {
        "colab": {
          "base_uri": "https://localhost:8080/"
        },
        "id": "Tfa2AIi3FvD1",
        "outputId": "d9ba3356-988e-47dc-d841-9d4f16147403"
      },
      "execution_count": null,
      "outputs": [
        {
          "output_type": "execute_result",
          "data": {
            "text/plain": [
              "('Ahmad', 20)"
            ]
          },
          "metadata": {},
          "execution_count": 265
        }
      ]
    },
    {
      "cell_type": "markdown",
      "source": [
        "**Nested Tuple**\n",
        "\n",
        "Nested tuple atau tuple bersarang berisi tuple lain di dalam tuple."
      ],
      "metadata": {
        "id": "dENkVfESF3nA"
      }
    },
    {
      "cell_type": "code",
      "source": [
        "nested_tuple = ('Ahmad', 'Budi', (1, 2, 3), ('Cahyo', (4, 'Dwi')), 5)\n",
        "nested_tuple"
      ],
      "metadata": {
        "colab": {
          "base_uri": "https://localhost:8080/"
        },
        "id": "A443u_oZF6bf",
        "outputId": "9cf388cd-8837-4e89-eb1c-6d4e057c8542"
      },
      "execution_count": null,
      "outputs": [
        {
          "output_type": "execute_result",
          "data": {
            "text/plain": [
              "('Ahmad', 'Budi', (1, 2, 3), ('Cahyo', (4, 'Dwi')), 5)"
            ]
          },
          "metadata": {},
          "execution_count": 266
        }
      ]
    },
    {
      "cell_type": "code",
      "source": [
        "# print elemen dari masing-masing indeks\n",
        "print('elemen 0: ', nested_tuple[0])\n",
        "print('elemen 1: ', nested_tuple[1])\n",
        "print('elemen 2: ', nested_tuple[2])\n",
        "print('elemen 3: ', nested_tuple[3])\n",
        "print('elemen 4: ', nested_tuple[4])"
      ],
      "metadata": {
        "colab": {
          "base_uri": "https://localhost:8080/"
        },
        "id": "ZedJyYvRGHv5",
        "outputId": "fe18fe57-6038-4e54-d532-10dc7c3c321f"
      },
      "execution_count": null,
      "outputs": [
        {
          "output_type": "stream",
          "name": "stdout",
          "text": [
            "elemen 0:  Ahmad\n",
            "elemen 1:  Budi\n",
            "elemen 2:  (1, 2, 3)\n",
            "elemen 3:  ('Cahyo', (4, 'Dwi'))\n",
            "elemen 4:  5\n"
          ]
        }
      ]
    },
    {
      "cell_type": "markdown",
      "source": [
        "**Mengakses nested tuple**\n",
        "\n",
        "Cara mengakses elemen yang berada di dalam nested tuple"
      ],
      "metadata": {
        "id": "JzQDpb1RGK-g"
      }
    },
    {
      "cell_type": "code",
      "source": [
        "nested_tuple[2][1] # Mengakses elemen kedua pada nested tuple (1, 2, 3)"
      ],
      "metadata": {
        "colab": {
          "base_uri": "https://localhost:8080/"
        },
        "id": "cV0BPwPcGNW6",
        "outputId": "4d16c638-eee8-455b-a6f1-8cc844198df8"
      },
      "execution_count": null,
      "outputs": [
        {
          "output_type": "execute_result",
          "data": {
            "text/plain": [
              "2"
            ]
          },
          "metadata": {},
          "execution_count": 268
        }
      ]
    },
    {
      "cell_type": "code",
      "source": [
        "nested_tuple[3][1][1]"
      ],
      "metadata": {
        "id": "ukLs7ePmGUyG",
        "colab": {
          "base_uri": "https://localhost:8080/",
          "height": 35
        },
        "outputId": "2b647cbc-e9d7-458e-9fcb-6f7e182705af"
      },
      "execution_count": null,
      "outputs": [
        {
          "output_type": "execute_result",
          "data": {
            "text/plain": [
              "'Dwi'"
            ],
            "application/vnd.google.colaboratory.intrinsic+json": {
              "type": "string"
            }
          },
          "metadata": {},
          "execution_count": 269
        }
      ]
    },
    {
      "cell_type": "code",
      "source": [
        "print('elemen 3, 1, 0 adalah', nested_tuple[3][1][0])\n",
        "print('elemen 3, 1, 1 adalah', nested_tuple[3][1][1])"
      ],
      "metadata": {
        "id": "ep-mARLMGYOe",
        "colab": {
          "base_uri": "https://localhost:8080/"
        },
        "outputId": "630d2985-3209-4495-fd8f-c47cb7fa6dc0"
      },
      "execution_count": null,
      "outputs": [
        {
          "output_type": "stream",
          "name": "stdout",
          "text": [
            "elemen 3, 1, 0 adalah 4\n",
            "elemen 3, 1, 1 adalah Dwi\n"
          ]
        }
      ]
    },
    {
      "cell_type": "markdown",
      "source": [
        "**Operasi tuple**\n",
        "\n",
        "**Sorting tuple**\n",
        "\n",
        "Fungsi sorted() untuk mengurutkan elemen di tuple."
      ],
      "metadata": {
        "id": "EeCgisr2Gd-i"
      }
    },
    {
      "cell_type": "code",
      "source": [
        "bilangan = (4, 1, 5, 2, 7, 8)"
      ],
      "metadata": {
        "id": "aNEspu9kGjwM"
      },
      "execution_count": null,
      "outputs": []
    },
    {
      "cell_type": "markdown",
      "source": [
        "Selain itu, dapat dimasukkan ke dalam variabel baru."
      ],
      "metadata": {
        "id": "jVK1UI8YGwgi"
      }
    },
    {
      "cell_type": "code",
      "source": [
        "bilangan_sorted = sorted(bilangan)\n",
        "bilangan_sorted"
      ],
      "metadata": {
        "colab": {
          "base_uri": "https://localhost:8080/"
        },
        "id": "wWjml23LGyBR",
        "outputId": "fa2c3a73-c7cb-4ea6-c566-cc718a30f082"
      },
      "execution_count": null,
      "outputs": [
        {
          "output_type": "execute_result",
          "data": {
            "text/plain": [
              "[1, 2, 4, 5, 7, 8]"
            ]
          },
          "metadata": {},
          "execution_count": 272
        }
      ]
    },
    {
      "cell_type": "markdown",
      "source": [
        "Selain integer, bisa juga untuk mengurutkan string secara ascending."
      ],
      "metadata": {
        "id": "LnTr5x59G0m_"
      }
    },
    {
      "cell_type": "code",
      "source": [
        "sayur = ('cabe', 'tomat', 'wortel', 'sawi', 'bayam')\n",
        "sayur_sorted = sorted(sayur)\n",
        "sayur_sorted"
      ],
      "metadata": {
        "colab": {
          "base_uri": "https://localhost:8080/"
        },
        "id": "1W62WQWOG2Wy",
        "outputId": "1794c74e-8f32-44c8-b507-b34f11e6dc4b"
      },
      "execution_count": null,
      "outputs": [
        {
          "output_type": "execute_result",
          "data": {
            "text/plain": [
              "['bayam', 'cabe', 'sawi', 'tomat', 'wortel']"
            ]
          },
          "metadata": {},
          "execution_count": 273
        }
      ]
    },
    {
      "cell_type": "markdown",
      "source": [
        "**Menghitung panjang tuple**\n",
        "\n",
        "Fungsi len() akan menghasilkan sebuah bilangan integer yang merepresentasikan jumlah elemen pada tuple yang digunakan untuk menghitung panjang tuple"
      ],
      "metadata": {
        "id": "GuqiA2SzHAim"
      }
    },
    {
      "cell_type": "code",
      "source": [
        "bilangan = (4, 1, 5, 2, 7, 8)\n",
        "len(bilangan)"
      ],
      "metadata": {
        "colab": {
          "base_uri": "https://localhost:8080/"
        },
        "id": "GNiwDeXeHEsB",
        "outputId": "7bff4137-158a-4458-a6d4-129470c39b6a"
      },
      "execution_count": null,
      "outputs": [
        {
          "output_type": "execute_result",
          "data": {
            "text/plain": [
              "6"
            ]
          },
          "metadata": {},
          "execution_count": 274
        }
      ]
    },
    {
      "cell_type": "code",
      "source": [
        "sayur = ('cabe', 'tomat', 'wortel', 'sawi', 'bayam')\n",
        "len(sayur)"
      ],
      "metadata": {
        "colab": {
          "base_uri": "https://localhost:8080/"
        },
        "id": "mPMs5fJdHGsI",
        "outputId": "9b3b7a58-ad38-4bcb-812b-155c9577b8e4"
      },
      "execution_count": null,
      "outputs": [
        {
          "output_type": "execute_result",
          "data": {
            "text/plain": [
              "5"
            ]
          },
          "metadata": {},
          "execution_count": 275
        }
      ]
    },
    {
      "cell_type": "markdown",
      "source": [
        "**Menggabungkan tuple**\n",
        "\n",
        "Gunakan operator + untuk menggabungkan tuple."
      ],
      "metadata": {
        "id": "7pQQ90qsHK43"
      }
    },
    {
      "cell_type": "code",
      "source": [
        "bilangan2 = bilangan + (11, 'Selamat')\n",
        "bilangan2"
      ],
      "metadata": {
        "colab": {
          "base_uri": "https://localhost:8080/"
        },
        "id": "8RJejNubHPtP",
        "outputId": "0fef0480-d008-4ec4-a95e-955eea302eee"
      },
      "execution_count": null,
      "outputs": [
        {
          "output_type": "execute_result",
          "data": {
            "text/plain": [
              "(4, 1, 5, 2, 7, 8, 11, 'Selamat')"
            ]
          },
          "metadata": {},
          "execution_count": 276
        }
      ]
    },
    {
      "cell_type": "code",
      "source": [
        "gabung_tuple = bilangan2 + sayur\n",
        "print(gabung_tuple)"
      ],
      "metadata": {
        "colab": {
          "base_uri": "https://localhost:8080/"
        },
        "id": "DmUO7BiuHZK2",
        "outputId": "662012d9-9ed8-42a3-e181-38467575d794"
      },
      "execution_count": null,
      "outputs": [
        {
          "output_type": "stream",
          "name": "stdout",
          "text": [
            "(4, 1, 5, 2, 7, 8, 11, 'Selamat', 'cabe', 'tomat', 'wortel', 'sawi', 'bayam')\n"
          ]
        }
      ]
    },
    {
      "cell_type": "markdown",
      "source": [
        "**Mengubah tuple menjadi list dan sebaliknya**\n",
        "\n",
        "Mengubah isi tuple dengan mengubah menjadi list yang bersifat mutable (dapat diubah). Sebelum diubah menjadi list, mari coba untuk mengubah elemen tuple tanpa konversi dan akan menghasilkan error."
      ],
      "metadata": {
        "id": "Zp3VC6JOHkr5"
      }
    },
    {
      "cell_type": "code",
      "source": [
        "sayur = ('cabe', 'tomat', 'wortel', 'sawi', 'bayam')\n",
        "\n",
        "# Mengganti tuple sayur untuk indeks 1\n",
        "sayur[1] = 'seledri' \n",
        "sayur"
      ],
      "metadata": {
        "colab": {
          "base_uri": "https://localhost:8080/",
          "height": 218
        },
        "id": "kU_tVek6HuVn",
        "outputId": "56e91ca1-de4e-4730-df09-937267072907"
      },
      "execution_count": null,
      "outputs": [
        {
          "output_type": "error",
          "ename": "TypeError",
          "evalue": "ignored",
          "traceback": [
            "\u001b[0;31m---------------------------------------------------------------------------\u001b[0m",
            "\u001b[0;31mTypeError\u001b[0m                                 Traceback (most recent call last)",
            "\u001b[0;32m<ipython-input-278-1e548255339f>\u001b[0m in \u001b[0;36m<module>\u001b[0;34m()\u001b[0m\n\u001b[1;32m      2\u001b[0m \u001b[0;34m\u001b[0m\u001b[0m\n\u001b[1;32m      3\u001b[0m \u001b[0;31m# Mengganti tuple sayur untuk indeks 1\u001b[0m\u001b[0;34m\u001b[0m\u001b[0;34m\u001b[0m\u001b[0;34m\u001b[0m\u001b[0m\n\u001b[0;32m----> 4\u001b[0;31m \u001b[0msayur\u001b[0m\u001b[0;34m[\u001b[0m\u001b[0;36m1\u001b[0m\u001b[0;34m]\u001b[0m \u001b[0;34m=\u001b[0m \u001b[0;34m'seledri'\u001b[0m\u001b[0;34m\u001b[0m\u001b[0;34m\u001b[0m\u001b[0m\n\u001b[0m\u001b[1;32m      5\u001b[0m \u001b[0msayur\u001b[0m\u001b[0;34m\u001b[0m\u001b[0;34m\u001b[0m\u001b[0m\n",
            "\u001b[0;31mTypeError\u001b[0m: 'tuple' object does not support item assignment"
          ]
        }
      ]
    },
    {
      "cell_type": "markdown",
      "source": [
        "Saatnya untuk mengubah tuple sayur menjadi list."
      ],
      "metadata": {
        "id": "xZBlyo7EH4Ds"
      }
    },
    {
      "cell_type": "code",
      "source": [
        "list_sayur = list(sayur)\n",
        "list_sayur"
      ],
      "metadata": {
        "colab": {
          "base_uri": "https://localhost:8080/"
        },
        "id": "buKIvosQH6Yl",
        "outputId": "c0deab4b-e9da-41b4-b7f3-841142159a64"
      },
      "execution_count": null,
      "outputs": [
        {
          "output_type": "execute_result",
          "data": {
            "text/plain": [
              "['cabe', 'tomat', 'wortel', 'sawi', 'bayam']"
            ]
          },
          "metadata": {},
          "execution_count": 279
        }
      ]
    },
    {
      "cell_type": "markdown",
      "source": [
        "Setelah menjadi sebuah list, list_buah sudah bisa diubah, ditambahkan, atau dihapus isinya."
      ],
      "metadata": {
        "id": "7PmRp9OVIGjz"
      }
    },
    {
      "cell_type": "code",
      "source": [
        "list_sayur[1] = 'seledri' \n",
        "list_sayur"
      ],
      "metadata": {
        "colab": {
          "base_uri": "https://localhost:8080/"
        },
        "id": "PjQbwSG8IPbk",
        "outputId": "84037875-f474-4960-ca24-1fe744536e51"
      },
      "execution_count": null,
      "outputs": [
        {
          "output_type": "execute_result",
          "data": {
            "text/plain": [
              "['cabe', 'seledri', 'wortel', 'sawi', 'bayam']"
            ]
          },
          "metadata": {},
          "execution_count": 280
        }
      ]
    },
    {
      "cell_type": "markdown",
      "source": [
        "Sekarang ubah kembali list tersebut menjadi tuple."
      ],
      "metadata": {
        "id": "T2ep9AmQIRZs"
      }
    },
    {
      "cell_type": "code",
      "source": [
        "sayur = tuple(list_sayur)\n",
        "sayur"
      ],
      "metadata": {
        "colab": {
          "base_uri": "https://localhost:8080/"
        },
        "id": "UeAPAiZpIT0a",
        "outputId": "1de77b91-4846-4f05-e5d4-c21f9273d0a9"
      },
      "execution_count": null,
      "outputs": [
        {
          "output_type": "execute_result",
          "data": {
            "text/plain": [
              "('cabe', 'seledri', 'wortel', 'sawi', 'bayam')"
            ]
          },
          "metadata": {},
          "execution_count": 281
        }
      ]
    },
    {
      "cell_type": "markdown",
      "source": [
        "**Mengecek tipe data tuple**\n",
        "\n",
        "Fungsi type() untuk mengecek tipe data tuple"
      ],
      "metadata": {
        "id": "OsqrForoIWmA"
      }
    },
    {
      "cell_type": "code",
      "source": [
        "type(sayur)"
      ],
      "metadata": {
        "colab": {
          "base_uri": "https://localhost:8080/"
        },
        "id": "bpCgiwBZIZcs",
        "outputId": "394085dc-03e1-4fe3-8edf-b486d559b575"
      },
      "execution_count": null,
      "outputs": [
        {
          "output_type": "execute_result",
          "data": {
            "text/plain": [
              "tuple"
            ]
          },
          "metadata": {},
          "execution_count": 282
        }
      ]
    },
    {
      "cell_type": "markdown",
      "source": [
        "Selain itu, dapat mengecek tipe data dari elemen di dalam tuple."
      ],
      "metadata": {
        "id": "0_I2ZdH4Ibxe"
      }
    },
    {
      "cell_type": "code",
      "source": [
        "type(sayur[1])"
      ],
      "metadata": {
        "colab": {
          "base_uri": "https://localhost:8080/"
        },
        "id": "ewOUF-QuIdKt",
        "outputId": "d77c46f6-7ed7-4221-a671-2df301a6dba1"
      },
      "execution_count": null,
      "outputs": [
        {
          "output_type": "execute_result",
          "data": {
            "text/plain": [
              "str"
            ]
          },
          "metadata": {},
          "execution_count": 283
        }
      ]
    },
    {
      "cell_type": "code",
      "source": [
        "buat_tuple = ('Ahmad', 20, 60000, 3.5)\n",
        "print(buat_tuple[0])\n",
        "print(buat_tuple[1])\n",
        "print(buat_tuple[2])\n",
        "print(buat_tuple[3])"
      ],
      "metadata": {
        "colab": {
          "base_uri": "https://localhost:8080/"
        },
        "id": "ydtxiwMwIpfh",
        "outputId": "ac58dc62-2790-47fd-e2d8-74a4367e977e"
      },
      "execution_count": null,
      "outputs": [
        {
          "output_type": "stream",
          "name": "stdout",
          "text": [
            "Ahmad\n",
            "20\n",
            "60000\n",
            "3.5\n"
          ]
        }
      ]
    },
    {
      "cell_type": "markdown",
      "metadata": {
        "id": "hSkZFmdJzanv"
      },
      "source": [
        "**Dictionary**"
      ]
    },
    {
      "cell_type": "markdown",
      "source": [
        "Dictionary adalah tipe data yang berfungsi untuk menyimpan koleksi data dan didefinisikan di dalam kurung kurawal {}. Dictionary bersifat tidak terurut. Setiap item dalam dictionary terdiri dari pasangan key-value yang dipisahkan oleh titik dua :.\n",
        "\n",
        "Key bisa berupa teks, bilangan, atau tuple, namun value bisa berupa tipe data apapun\n",
        "\n",
        "![5.png](data:image/png;base64,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)"
      ],
      "metadata": {
        "id": "b380U43i4FCH"
      }
    },
    {
      "cell_type": "code",
      "execution_count": null,
      "metadata": {
        "colab": {
          "base_uri": "https://localhost:8080/"
        },
        "id": "fP79j5gJzdjp",
        "outputId": "32c4951d-b24d-480f-94b2-675de9673b3a"
      },
      "outputs": [
        {
          "output_type": "execute_result",
          "data": {
            "text/plain": [
              "{(3, 4): 'c', 1: 'a', 2: 'b'}"
            ]
          },
          "metadata": {},
          "execution_count": 285
        }
      ],
      "source": [
        "a = {1: 'a', 2: 'b', (3,4): 'c'}\n",
        "a"
      ]
    },
    {
      "cell_type": "markdown",
      "source": [
        "1, 2, 3, dan (4, 5) adalah key, sedangkan a, b, c, dan d adalah value untuk masing-masing key-nya."
      ],
      "metadata": {
        "id": "ORngnn124Puf"
      }
    },
    {
      "cell_type": "code",
      "execution_count": null,
      "metadata": {
        "colab": {
          "base_uri": "https://localhost:8080/"
        },
        "id": "ehOvhjmUzgaB",
        "outputId": "2ddf4ee5-29e1-4a1c-8aec-5753753f0cfa"
      },
      "outputs": [
        {
          "output_type": "execute_result",
          "data": {
            "text/plain": [
              "{'kota': 'Bogor', 'nama': 'Ira', 'umur': 20}"
            ]
          },
          "metadata": {},
          "execution_count": 286
        }
      ],
      "source": [
        "data_siswa = {\n",
        "    'nama': 'Ira',\n",
        "    'kota': 'Bogor',\n",
        "    'umur': 20\n",
        "    }\n",
        "data_siswa"
      ]
    },
    {
      "cell_type": "markdown",
      "source": [
        "Pada contoh di atas, nama merupakan key dan Ira merupakan value-nya, kota adalah key value-nya adalah Bogor, dan key umur memiliki value 20."
      ],
      "metadata": {
        "id": "TM-2XOxt4U6x"
      }
    },
    {
      "cell_type": "markdown",
      "source": [
        "**Mengakses dictionary**\n",
        "\n",
        "**Mengakses value**\n",
        "\n",
        "Dengan cara menggunakan key yang ditempatkan di dalam kurung siku [] setelah nama dictionary-nya."
      ],
      "metadata": {
        "id": "rQyr3Df74div"
      }
    },
    {
      "cell_type": "code",
      "execution_count": null,
      "metadata": {
        "colab": {
          "base_uri": "https://localhost:8080/",
          "height": 35
        },
        "id": "KirGHZE9zjt8",
        "outputId": "6668d041-16e8-497e-d01d-4502908da8f1"
      },
      "outputs": [
        {
          "output_type": "execute_result",
          "data": {
            "text/plain": [
              "'Ira'"
            ],
            "application/vnd.google.colaboratory.intrinsic+json": {
              "type": "string"
            }
          },
          "metadata": {},
          "execution_count": 287
        }
      ],
      "source": [
        "data_siswa = {\n",
        "    'nama': 'Ira',\n",
        "    'kota': 'Bogor',\n",
        "    'umur': 20\n",
        "    }\n",
        "data_siswa['nama'] # Mengakses value dengan key 'nama'"
      ]
    },
    {
      "cell_type": "code",
      "execution_count": null,
      "metadata": {
        "colab": {
          "base_uri": "https://localhost:8080/",
          "height": 35
        },
        "id": "O1KgF2E1zsF7",
        "outputId": "b48a8555-a003-4525-b75e-3a8f45bde31e"
      },
      "outputs": [
        {
          "output_type": "execute_result",
          "data": {
            "text/plain": [
              "'Bogor'"
            ],
            "application/vnd.google.colaboratory.intrinsic+json": {
              "type": "string"
            }
          },
          "metadata": {},
          "execution_count": 288
        }
      ],
      "source": [
        "data_siswa['kota']"
      ]
    },
    {
      "cell_type": "markdown",
      "source": [
        "Method get() untuk mengeluarkan hasil yang sama."
      ],
      "metadata": {
        "id": "Nx59KG734ism"
      }
    },
    {
      "cell_type": "code",
      "execution_count": null,
      "metadata": {
        "colab": {
          "base_uri": "https://localhost:8080/",
          "height": 35
        },
        "id": "4AIEjHWgztsK",
        "outputId": "b0a0f5e9-0f56-4fd1-dfa8-c37eefaf0b4f"
      },
      "outputs": [
        {
          "output_type": "execute_result",
          "data": {
            "text/plain": [
              "'Ira'"
            ],
            "application/vnd.google.colaboratory.intrinsic+json": {
              "type": "string"
            }
          },
          "metadata": {},
          "execution_count": 289
        }
      ],
      "source": [
        "data_siswa.get('nama')"
      ]
    },
    {
      "cell_type": "code",
      "execution_count": null,
      "metadata": {
        "colab": {
          "base_uri": "https://localhost:8080/",
          "height": 35
        },
        "id": "ztckB9_fzutX",
        "outputId": "4f21a432-5091-4ac7-b622-fbb7e3596c51"
      },
      "outputs": [
        {
          "output_type": "execute_result",
          "data": {
            "text/plain": [
              "'Bogor'"
            ],
            "application/vnd.google.colaboratory.intrinsic+json": {
              "type": "string"
            }
          },
          "metadata": {},
          "execution_count": 290
        }
      ],
      "source": [
        "data_siswa.get('kota')"
      ]
    },
    {
      "cell_type": "markdown",
      "source": [
        "Method values() untuk memperoleh value dari sebuah dictionary"
      ],
      "metadata": {
        "id": "IZy4YTyM4khr"
      }
    },
    {
      "cell_type": "code",
      "execution_count": null,
      "metadata": {
        "colab": {
          "base_uri": "https://localhost:8080/"
        },
        "id": "cKq_ZHLlz1Ta",
        "outputId": "8c25af76-eef5-4a37-effe-d642bbd4629b"
      },
      "outputs": [
        {
          "output_type": "execute_result",
          "data": {
            "text/plain": [
              "dict_values(['Ira', 'Bogor', 20])"
            ]
          },
          "metadata": {},
          "execution_count": 291
        }
      ],
      "source": [
        "data_siswa.values()"
      ]
    },
    {
      "cell_type": "markdown",
      "source": [
        "**Memperoleh daftar key**\n",
        "\n",
        "Method keys() untuk memperoleh kumpulan key pada dictionary"
      ],
      "metadata": {
        "id": "3S2mRSv84niq"
      }
    },
    {
      "cell_type": "code",
      "execution_count": null,
      "metadata": {
        "colab": {
          "base_uri": "https://localhost:8080/"
        },
        "id": "Xa1L8jIiz10F",
        "outputId": "2d03a3db-f9a6-4736-f40f-3814ea50c71d"
      },
      "outputs": [
        {
          "output_type": "execute_result",
          "data": {
            "text/plain": [
              "dict_keys(['nama', 'kota', 'umur'])"
            ]
          },
          "metadata": {},
          "execution_count": 292
        }
      ],
      "source": [
        "data_siswa.keys()"
      ]
    },
    {
      "cell_type": "markdown",
      "source": [
        "Atau bisa juga menggunakan operator *"
      ],
      "metadata": {
        "id": "ApHOq_Qa4rKj"
      }
    },
    {
      "cell_type": "code",
      "execution_count": null,
      "metadata": {
        "colab": {
          "base_uri": "https://localhost:8080/"
        },
        "id": "dJB26oWnz4e0",
        "outputId": "1de60315-f8fd-4dad-cedb-b3e75e0cb8d0"
      },
      "outputs": [
        {
          "output_type": "execute_result",
          "data": {
            "text/plain": [
              "['nama', 'kota', 'umur']"
            ]
          },
          "metadata": {},
          "execution_count": 293
        }
      ],
      "source": [
        "[*data_siswa]"
      ]
    },
    {
      "cell_type": "markdown",
      "source": [
        "**Nested Dictionary**\n",
        "\n",
        "Nested dictionary atau dictionary yang berada di dalam dictionary."
      ],
      "metadata": {
        "id": "HDdAcTj34tuY"
      }
    },
    {
      "cell_type": "code",
      "execution_count": null,
      "metadata": {
        "colab": {
          "base_uri": "https://localhost:8080/"
        },
        "id": "18cnDqMDz7Jm",
        "outputId": "7ab5387a-aeac-439b-9574-66d4705184cc"
      },
      "outputs": [
        {
          "output_type": "execute_result",
          "data": {
            "text/plain": [
              "{'student1': {'age': 30, 'name': 'Doe'},\n",
              " 'student2': {'age': 31, 'name': 'Robert'},\n",
              " 'student3': {'age': 33, 'name': 'Andy'}}"
            ]
          },
          "metadata": {},
          "execution_count": 294
        }
      ],
      "source": [
        "students = {'student1': {'name': 'Doe', 'age': 30},\n",
        "            'student2': {'name': 'Robert', 'age': 31},\n",
        "            'student3': {'name': 'Andy', 'age': 33}\n",
        "            }\n",
        "students "
      ]
    },
    {
      "cell_type": "markdown",
      "source": [
        "Selain itu, bisa membuat dictionary untuk masing-masing employee, lalu buat dictionary induk untuk menampung dictionary-dictionary tersebut."
      ],
      "metadata": {
        "id": "WjOKvniR44Kh"
      }
    },
    {
      "cell_type": "code",
      "execution_count": null,
      "metadata": {
        "colab": {
          "base_uri": "https://localhost:8080/"
        },
        "id": "88OFuWYv0ZCU",
        "outputId": "4305dc21-e37e-49d5-883e-f5e75b5559d9"
      },
      "outputs": [
        {
          "output_type": "execute_result",
          "data": {
            "text/plain": [
              "{'student1': {'age': 30, 'name': 'Doe'},\n",
              " 'student2': {'age': 31, 'name': 'Robert'},\n",
              " 'student3': {'age': 33, 'name': 'Andy'}}"
            ]
          },
          "metadata": {},
          "execution_count": 295
        }
      ],
      "source": [
        "student1 = {'name': 'Doe', 'age': 30}\n",
        "student2 = {'name': 'Robert', 'age': 31}\n",
        "student3 = {'name': 'Andy', 'age': 33}\n",
        "\n",
        "students= {\n",
        " 'student1': student1,\n",
        " 'student2': student2,\n",
        " 'student3': student3\n",
        "}\n",
        "students"
      ]
    },
    {
      "cell_type": "markdown",
      "source": [
        "**Operasi pada dictionary**\n",
        "\n",
        "**Mengubah nilai dictionary**"
      ],
      "metadata": {
        "id": "6BJkFDlK465u"
      }
    },
    {
      "cell_type": "code",
      "execution_count": null,
      "metadata": {
        "colab": {
          "base_uri": "https://localhost:8080/"
        },
        "id": "mdXaeUsG025r",
        "outputId": "07ce1c3d-576b-49e8-c5d2-13368a6d8360"
      },
      "outputs": [
        {
          "output_type": "execute_result",
          "data": {
            "text/plain": [
              "{'kota': 'Bandung', 'nama': 'Ira', 'umur': 20}"
            ]
          },
          "metadata": {},
          "execution_count": 296
        }
      ],
      "source": [
        "data_siswa = {\n",
        "    'nama': 'Ira',\n",
        "    'kota': 'Bogor', \n",
        "    'umur': 20\n",
        "}\n",
        "data_siswa['kota'] = 'Bandung' # Mengubah data kota\n",
        "data_siswa"
      ]
    },
    {
      "cell_type": "code",
      "execution_count": null,
      "metadata": {
        "colab": {
          "base_uri": "https://localhost:8080/"
        },
        "id": "nzYSdkIg1AU7",
        "outputId": "0a4bdab5-f3b6-4bf8-a086-ff71e2096703"
      },
      "outputs": [
        {
          "output_type": "execute_result",
          "data": {
            "text/plain": [
              "{'kota': 'Bandung', 'nama': 'Ira', 'umur': 21}"
            ]
          },
          "metadata": {},
          "execution_count": 297
        }
      ],
      "source": [
        "data_siswa['umur'] = 21 # Mengubah data umur\n",
        "data_siswa "
      ]
    },
    {
      "cell_type": "markdown",
      "source": [
        "Ubah nested dictionary dengan cara berikut."
      ],
      "metadata": {
        "id": "5nNBRDHy4_bR"
      }
    },
    {
      "cell_type": "code",
      "execution_count": null,
      "metadata": {
        "colab": {
          "base_uri": "https://localhost:8080/"
        },
        "id": "0q9PsHQk1Eez",
        "outputId": "a6838c94-594b-45b0-ba78-78fead7372ba"
      },
      "outputs": [
        {
          "output_type": "execute_result",
          "data": {
            "text/plain": [
              "{'student1': {'age': 30, 'name': 'Doe'},\n",
              " 'student2': {'age': 31, 'name': 'Robert'},\n",
              " 'student3': {'age': 34, 'name': 'Andi'}}"
            ]
          },
          "metadata": {},
          "execution_count": 298
        }
      ],
      "source": [
        "students = {\n",
        "    'student1' : {'name': 'Doe', 'age': 30},\n",
        "    'student2' : {'name': 'Robert', 'age': 31},\n",
        "    'student3' : {'name': 'Andi', 'age': 32}\n",
        "    }\n",
        "    \n",
        "students['student3']['age'] = 34 # Mengubah nilai age\n",
        "students"
      ]
    },
    {
      "cell_type": "markdown",
      "source": [
        "**Menambah item baru pada dictionary**\n",
        "\n",
        "Menuliskan nama key baru yang akan digunakan disertai dengan nilainya untuk menambah item baru pada dictionary."
      ],
      "metadata": {
        "id": "yV07e7kg5CC8"
      }
    },
    {
      "cell_type": "code",
      "execution_count": null,
      "metadata": {
        "colab": {
          "base_uri": "https://localhost:8080/"
        },
        "id": "MACyy78e1U-2",
        "outputId": "ae170a83-a3c9-4b32-caa9-a90a63fce08e"
      },
      "outputs": [
        {
          "output_type": "execute_result",
          "data": {
            "text/plain": [
              "{'jurusan': 'Teknik Informatika', 'kota': 'Bogor', 'nama': 'Ira', 'umur': 20}"
            ]
          },
          "metadata": {},
          "execution_count": 299
        }
      ],
      "source": [
        "data_siswa = {\n",
        "    'nama': 'Ira',\n",
        "    'kota': 'Bogor',\n",
        "    'umur': 20\n",
        "}\n",
        "data_siswa ['jurusan'] = 'Teknik Informatika' # Menambahkan key 'jurusan' yang diberikan nilai 'Teknik Informatika'\n",
        "data_siswa"
      ]
    },
    {
      "cell_type": "markdown",
      "source": [
        "**Menghapus item pada dictionary**\n",
        "\n",
        "Method pop(), popitem(), dan del yang digunakan untuk menghapus item pada dictionary.\n",
        "\n",
        "Fungsi pop() untuk menghapus item berdasarkan nama key."
      ],
      "metadata": {
        "id": "-zHYfM6C5H64"
      }
    },
    {
      "cell_type": "code",
      "execution_count": null,
      "metadata": {
        "colab": {
          "base_uri": "https://localhost:8080/"
        },
        "id": "RtvYKdmx1aqR",
        "outputId": "be772a8f-add8-4871-b435-57a768b94e7b"
      },
      "outputs": [
        {
          "output_type": "stream",
          "name": "stdout",
          "text": [
            "{'nama': 'Ira', 'umur': 20, 'jurusan': 'Teknik Informatika'}\n"
          ]
        }
      ],
      "source": [
        "data_siswa = {\n",
        "    'nama': 'Ira',\n",
        "    'kota': 'Bogor',\n",
        "    'umur': 20,\n",
        "    'jurusan':'Teknik Informatika'\n",
        "}\n",
        "data_siswa.pop('kota') # Menghapus kota\n",
        "print(data_siswa)"
      ]
    },
    {
      "cell_type": "markdown",
      "source": [
        "Method popitem() akan menghapus item terakhir."
      ],
      "metadata": {
        "id": "s4cWRelQ5NsF"
      }
    },
    {
      "cell_type": "code",
      "execution_count": null,
      "metadata": {
        "colab": {
          "base_uri": "https://localhost:8080/"
        },
        "id": "ZcKfNgEz1g6w",
        "outputId": "b9c40313-0396-4afe-b129-703d48db714b"
      },
      "outputs": [
        {
          "output_type": "stream",
          "name": "stdout",
          "text": [
            "{'nama': 'Ira', 'kota': 'Bogor', 'umur': 20}\n"
          ]
        }
      ],
      "source": [
        "data_siswa = {\n",
        "    'nama': 'Ira',\n",
        "    'kota': 'Bogor',\n",
        "    'umur': 20,\n",
        "    'jurusan':'Teknik Informatika'\n",
        "}\n",
        "\n",
        "data_siswa.popitem() # Method popitem() akan menghapus nilai akhir\n",
        "print(data_siswa)"
      ]
    },
    {
      "cell_type": "markdown",
      "source": [
        "del digunakan untuk menghapus item berdasarkan nama key."
      ],
      "metadata": {
        "id": "CseB6oyI5QXE"
      }
    },
    {
      "cell_type": "code",
      "execution_count": null,
      "metadata": {
        "colab": {
          "base_uri": "https://localhost:8080/"
        },
        "id": "hgAAa_d51lqK",
        "outputId": "b99196b0-ea83-48d9-94fd-e59230339fdd"
      },
      "outputs": [
        {
          "output_type": "stream",
          "name": "stdout",
          "text": [
            "{'nama': 'Ira', 'kota': 'Bogor', 'jurusan': 'Teknik Informatika'}\n"
          ]
        }
      ],
      "source": [
        "data_siswa = {\n",
        "    'nama': 'Ira',\n",
        "    'kota': 'Bogor',\n",
        "    'umur': 20,\n",
        "    'jurusan':'Teknik Informatika'\n",
        "}\n",
        "del data_siswa['umur'] # Menghapus umurmenggunakan del\n",
        "print(data_siswa)"
      ]
    },
    {
      "cell_type": "markdown",
      "source": [
        "Selain itu, del dapat digunakan untuk menghapus keseluruhan dictionary."
      ],
      "metadata": {
        "id": "3bxz4BOW5Skk"
      }
    },
    {
      "cell_type": "code",
      "execution_count": null,
      "metadata": {
        "colab": {
          "base_uri": "https://localhost:8080/",
          "height": 201
        },
        "id": "bjK4f8oI1rFu",
        "outputId": "cc8ffcde-f40d-4540-a6c0-a130bcf25958"
      },
      "outputs": [
        {
          "output_type": "error",
          "ename": "NameError",
          "evalue": "ignored",
          "traceback": [
            "\u001b[0;31m---------------------------------------------------------------------------\u001b[0m",
            "\u001b[0;31mNameError\u001b[0m                                 Traceback (most recent call last)",
            "\u001b[0;32m<ipython-input-303-37b668eddc76>\u001b[0m in \u001b[0;36m<module>\u001b[0;34m()\u001b[0m\n\u001b[1;32m      6\u001b[0m }\n\u001b[1;32m      7\u001b[0m \u001b[0;32mdel\u001b[0m \u001b[0mdata_siswa\u001b[0m \u001b[0;31m# Menghapus dictionary data_siswa\u001b[0m\u001b[0;34m\u001b[0m\u001b[0;34m\u001b[0m\u001b[0m\n\u001b[0;32m----> 8\u001b[0;31m \u001b[0mprint\u001b[0m\u001b[0;34m(\u001b[0m\u001b[0mdata_siswa\u001b[0m\u001b[0;34m)\u001b[0m\u001b[0;34m\u001b[0m\u001b[0;34m\u001b[0m\u001b[0m\n\u001b[0m",
            "\u001b[0;31mNameError\u001b[0m: name 'data_siswa' is not defined"
          ]
        }
      ],
      "source": [
        "data_siswa = {\n",
        "    'nama': 'Ira',\n",
        "    'kota': 'Bogor',\n",
        "    'umur': 20,\n",
        "    'jurusan':'Teknik Informatika'\n",
        "}\n",
        "del data_siswa # Menghapus dictionary data_siswa\n",
        "print(data_siswa)"
      ]
    },
    {
      "cell_type": "markdown",
      "source": [
        "Jika telah menjalankan kode di atas, akan tampil pesan error yang menyatakan name 'data_mhs' is not defined. Hal itu karena data_mhs telah terhapus sebelum mengeksekusi print().\n",
        "\n",
        "Namun apabila yang dimaksud adalah mengosongkan dictionary tanpa menghapusnya, gunakan method clear()."
      ],
      "metadata": {
        "id": "qNRewMY55Vl3"
      }
    },
    {
      "cell_type": "code",
      "execution_count": null,
      "metadata": {
        "colab": {
          "base_uri": "https://localhost:8080/"
        },
        "id": "udTc5ye91zQ3",
        "outputId": "5ef9c4ab-b7ee-4b07-a46e-8e43a97a7a70"
      },
      "outputs": [
        {
          "output_type": "stream",
          "name": "stdout",
          "text": [
            "{}\n"
          ]
        }
      ],
      "source": [
        "data_siswa = {\n",
        "    'nama': 'Ira',\n",
        "    'kota': 'Bogor',\n",
        "    'umur': 20,\n",
        "    'jurusan':'Teknik Informatika'\n",
        "}\n",
        "data_siswa.clear() # Mengosongkan isi dictionary dengan clear()\n",
        "print(data_siswa)"
      ]
    },
    {
      "cell_type": "markdown",
      "source": [
        "Setelah dijalankan, akan menghasilkan dictionary kosong."
      ],
      "metadata": {
        "id": "1sSOqPNp5dm5"
      }
    },
    {
      "cell_type": "markdown",
      "source": [
        "**Duplikasi dictionary**\n",
        "\n",
        "Method copy() untuk menduplikasi dictionary."
      ],
      "metadata": {
        "id": "rC6SGAGY5g_T"
      }
    },
    {
      "cell_type": "code",
      "execution_count": null,
      "metadata": {
        "colab": {
          "base_uri": "https://localhost:8080/"
        },
        "id": "2H6CRN5P12oZ",
        "outputId": "c6600ef5-a235-463e-cf0d-634d2da5d7a8"
      },
      "outputs": [
        {
          "output_type": "stream",
          "name": "stdout",
          "text": [
            "{'nama': 'Ira', 'kota': 'Bogor', 'umur': 20, 'jurusan': 'Teknik Informatika'}\n"
          ]
        }
      ],
      "source": [
        "data_siswa = {\n",
        "    'nama': 'Ira',\n",
        "    'kota': 'Bogor',\n",
        "    'umur': 20,\n",
        "    'jurusan':'Teknik Informatika'\n",
        "}\n",
        "# Menduplikasi 'data_siswa' ke dalam dictionary baru ke dalam 'siswa'\n",
        "siswa = data_siswa.copy() \n",
        "print(siswa)"
      ]
    },
    {
      "cell_type": "markdown",
      "source": [
        "**Mengetahui panjang dictionary**\n",
        "\n",
        "Fungsi len() untuk memperoleh panjang dictionary, atau jumlah item pada dictionary."
      ],
      "metadata": {
        "id": "UPuTSdXu5lGm"
      }
    },
    {
      "cell_type": "code",
      "execution_count": null,
      "metadata": {
        "colab": {
          "base_uri": "https://localhost:8080/"
        },
        "id": "2AW44khr1_hT",
        "outputId": "62711d99-5be7-4f00-fd9d-5570d0b356d8"
      },
      "outputs": [
        {
          "output_type": "execute_result",
          "data": {
            "text/plain": [
              "4"
            ]
          },
          "metadata": {},
          "execution_count": 306
        }
      ],
      "source": [
        "data_siswa = {\n",
        "    'nama': 'Ira',\n",
        "    'kota': 'Bogor',\n",
        "    'umur': 20,\n",
        "    'jurusan':'Teknik Informatika'\n",
        "}\n",
        "\n",
        "len(data_siswa) # Menghitung panjang dictionary (jumlah item)"
      ]
    },
    {
      "cell_type": "markdown",
      "source": [
        "**Mengecek keberadaan key pada dictionary**\n",
        "\n",
        "Gunakan in untuk mengecek keberadaan sebuah key di dalam dictionary. Outputnya adalah Boolean."
      ],
      "metadata": {
        "id": "Wb2uszAN5tYa"
      }
    },
    {
      "cell_type": "code",
      "execution_count": null,
      "metadata": {
        "colab": {
          "base_uri": "https://localhost:8080/"
        },
        "id": "8S1sHbob2DTu",
        "outputId": "61f41d77-e3a8-4eee-bab8-3d3911685c97"
      },
      "outputs": [
        {
          "output_type": "execute_result",
          "data": {
            "text/plain": [
              "True"
            ]
          },
          "metadata": {},
          "execution_count": 307
        }
      ],
      "source": [
        "data_siswa = {\n",
        "    'nama': 'Ira',\n",
        "    'kota': 'Bogor',\n",
        "    'umur': 20,\n",
        "    'jurusan':'Teknik Informatika'\n",
        "}\n",
        "\n",
        "'nama' in data_siswa # Mengecek apakah 'nama' ada sebagai key di data_siswa "
      ]
    },
    {
      "cell_type": "code",
      "execution_count": null,
      "metadata": {
        "colab": {
          "base_uri": "https://localhost:8080/"
        },
        "id": "3yZyR-0h2KAG",
        "outputId": "52abe53c-f288-4da4-954b-fef5e0789397"
      },
      "outputs": [
        {
          "output_type": "execute_result",
          "data": {
            "text/plain": [
              "False"
            ]
          },
          "metadata": {},
          "execution_count": 308
        }
      ],
      "source": [
        "'hobi' in data_siswa"
      ]
    },
    {
      "cell_type": "markdown",
      "source": [
        "**Set**"
      ],
      "metadata": {
        "id": "bVQIB-uVNS4A"
      }
    },
    {
      "cell_type": "markdown",
      "source": [
        "Set adalah tipe data untuk menampung sekumpulan objek unik yang didefinisikan dengan tanda kurung kurawal {}. Jika ada elemen yang sama, maka akan otomatis menghapusnya"
      ],
      "metadata": {
        "id": "9PT9hugPNULl"
      }
    },
    {
      "cell_type": "code",
      "source": [
        "cth_set = {1, 2, 2, 3, 3, 4, 2, 5}\n",
        "cth_set"
      ],
      "metadata": {
        "colab": {
          "base_uri": "https://localhost:8080/"
        },
        "id": "57ZA9vBHNZU1",
        "outputId": "ac66fb97-75ba-4324-f13e-96fad557dc22"
      },
      "execution_count": null,
      "outputs": [
        {
          "output_type": "execute_result",
          "data": {
            "text/plain": [
              "{1, 2, 3, 4, 5}"
            ]
          },
          "metadata": {},
          "execution_count": 309
        }
      ]
    },
    {
      "cell_type": "markdown",
      "source": [
        "Dari output di atas, angka 3 dan 5 terhapus karena terdapat elemen yang sama.\n",
        "\n",
        "Set dapat berisi elemen dengan berbagai tipe data, namun hanya tipe data yang bersifat immutable. Set juga bersifat tidak terurut dengan nilai yang telah didefinisikan."
      ],
      "metadata": {
        "id": "_HBzoke8NYuk"
      }
    },
    {
      "cell_type": "code",
      "source": [
        "cth_set2 = {'Hai', 10, (1, 2), True, 10.1}\n",
        "cth_set2"
      ],
      "metadata": {
        "colab": {
          "base_uri": "https://localhost:8080/"
        },
        "id": "qHBSLT1vNqQh",
        "outputId": "1907927a-213d-480f-f63f-a3a7bdf27a4b"
      },
      "execution_count": null,
      "outputs": [
        {
          "output_type": "execute_result",
          "data": {
            "text/plain": [
              "{(1, 2), 10, 10.1, 'Hai', True}"
            ]
          },
          "metadata": {},
          "execution_count": 310
        }
      ]
    },
    {
      "cell_type": "markdown",
      "source": [
        "Memasukkan list ke dalam set akan menyebabkan error."
      ],
      "metadata": {
        "id": "lSwsRKSQN0xh"
      }
    },
    {
      "cell_type": "code",
      "source": [
        "# Contoh set yang mengandung list\n",
        "\n",
        "cth_set3 = {'Hai', 10, [1, 2]}\n",
        "cth_set3"
      ],
      "metadata": {
        "colab": {
          "base_uri": "https://localhost:8080/",
          "height": 218
        },
        "id": "T9qpXak3N28l",
        "outputId": "9331c953-f759-41b7-800a-2adf9b563257"
      },
      "execution_count": null,
      "outputs": [
        {
          "output_type": "error",
          "ename": "TypeError",
          "evalue": "ignored",
          "traceback": [
            "\u001b[0;31m---------------------------------------------------------------------------\u001b[0m",
            "\u001b[0;31mTypeError\u001b[0m                                 Traceback (most recent call last)",
            "\u001b[0;32m<ipython-input-311-a2486338995d>\u001b[0m in \u001b[0;36m<module>\u001b[0;34m()\u001b[0m\n\u001b[1;32m      1\u001b[0m \u001b[0;31m# Contoh set yang mengandung list\u001b[0m\u001b[0;34m\u001b[0m\u001b[0;34m\u001b[0m\u001b[0;34m\u001b[0m\u001b[0m\n\u001b[1;32m      2\u001b[0m \u001b[0;34m\u001b[0m\u001b[0m\n\u001b[0;32m----> 3\u001b[0;31m \u001b[0mcth_set3\u001b[0m \u001b[0;34m=\u001b[0m \u001b[0;34m{\u001b[0m\u001b[0;34m'Hai'\u001b[0m\u001b[0;34m,\u001b[0m \u001b[0;36m10\u001b[0m\u001b[0;34m,\u001b[0m \u001b[0;34m[\u001b[0m\u001b[0;36m1\u001b[0m\u001b[0;34m,\u001b[0m \u001b[0;36m2\u001b[0m\u001b[0;34m]\u001b[0m\u001b[0;34m}\u001b[0m\u001b[0;34m\u001b[0m\u001b[0;34m\u001b[0m\u001b[0m\n\u001b[0m\u001b[1;32m      4\u001b[0m \u001b[0mcth_set3\u001b[0m\u001b[0;34m\u001b[0m\u001b[0;34m\u001b[0m\u001b[0m\n",
            "\u001b[0;31mTypeError\u001b[0m: unhashable type: 'list'"
          ]
        }
      ]
    },
    {
      "cell_type": "markdown",
      "source": [
        "Set tidak dapat melakukan indexing apabila dicoba akan muncul pesan error."
      ],
      "metadata": {
        "id": "OMK0nWF8N9mX"
      }
    },
    {
      "cell_type": "code",
      "source": [
        "# Set tidak mendukung indexing\n",
        "cth_set3[0]"
      ],
      "metadata": {
        "colab": {
          "base_uri": "https://localhost:8080/",
          "height": 184
        },
        "id": "7D1LQOo3N_Vw",
        "outputId": "28772f93-35b9-46e8-83fc-8bb44b4f5018"
      },
      "execution_count": null,
      "outputs": [
        {
          "output_type": "error",
          "ename": "NameError",
          "evalue": "ignored",
          "traceback": [
            "\u001b[0;31m---------------------------------------------------------------------------\u001b[0m",
            "\u001b[0;31mNameError\u001b[0m                                 Traceback (most recent call last)",
            "\u001b[0;32m<ipython-input-312-2e63bd784277>\u001b[0m in \u001b[0;36m<module>\u001b[0;34m()\u001b[0m\n\u001b[1;32m      1\u001b[0m \u001b[0;31m# Set tidak mendukung indexing\u001b[0m\u001b[0;34m\u001b[0m\u001b[0;34m\u001b[0m\u001b[0;34m\u001b[0m\u001b[0m\n\u001b[0;32m----> 2\u001b[0;31m \u001b[0mcth_set3\u001b[0m\u001b[0;34m[\u001b[0m\u001b[0;36m0\u001b[0m\u001b[0;34m]\u001b[0m\u001b[0;34m\u001b[0m\u001b[0;34m\u001b[0m\u001b[0m\n\u001b[0m",
            "\u001b[0;31mNameError\u001b[0m: name 'cth_set3' is not defined"
          ]
        }
      ]
    },
    {
      "cell_type": "markdown",
      "source": [
        "**Konversi list menjadi set**\n",
        "\n",
        "set() untuk mengubah list menjadi set dan akan otomatis membuat duplikat elemen pada list terhapus."
      ],
      "metadata": {
        "id": "5_SAn4QeSSBR"
      }
    },
    {
      "cell_type": "code",
      "source": [
        "name_list = ['Ahmad', 'Budi', 'Cahyo', 'Dava', 'Erik', 'Febri', \\\n",
        " 'Galih', 'Harry', 'Intan']\n",
        "name_set = set(name_list)\n",
        "name_set"
      ],
      "metadata": {
        "colab": {
          "base_uri": "https://localhost:8080/"
        },
        "id": "Q4cR-piVSWR7",
        "outputId": "b5f41530-4c22-42bd-a2a9-7fe0866c8032"
      },
      "execution_count": null,
      "outputs": [
        {
          "output_type": "execute_result",
          "data": {
            "text/plain": [
              "{'Ahmad', 'Budi', 'Cahyo', 'Dava', 'Erik', 'Febri', 'Galih', 'Harry', 'Intan'}"
            ]
          },
          "metadata": {},
          "execution_count": 313
        }
      ]
    },
    {
      "cell_type": "markdown",
      "source": [
        "**Operasi pada Set**\n",
        "\n",
        "**Menambah elemen baru pada set**\n",
        "\n",
        "Method add() untuk menambah elemen baru pada set."
      ],
      "metadata": {
        "id": "BePHIDd6SrbB"
      }
    },
    {
      "cell_type": "code",
      "source": [
        "cth_set1 = {1, 2, 3}\n",
        "cth_set1.add(4)\n",
        "print(cth_set1)"
      ],
      "metadata": {
        "colab": {
          "base_uri": "https://localhost:8080/"
        },
        "id": "OdQ2wecoSwbJ",
        "outputId": "06c0910a-0bd9-4756-efb6-3d3bf375edac"
      },
      "execution_count": null,
      "outputs": [
        {
          "output_type": "stream",
          "name": "stdout",
          "text": [
            "{1, 2, 3, 4}\n"
          ]
        }
      ]
    },
    {
      "cell_type": "markdown",
      "source": [
        "Method update() untuk menambah beberapa elemen baru pada set."
      ],
      "metadata": {
        "id": "Fl0a-NF4S5oC"
      }
    },
    {
      "cell_type": "code",
      "source": [
        "cth_set1 = {1, 2, 3}\n",
        "cth_set1.update(['Ahmad', 'Mangga'])\n",
        "print(cth_set1)"
      ],
      "metadata": {
        "colab": {
          "base_uri": "https://localhost:8080/"
        },
        "id": "lIqiu3e2S8kB",
        "outputId": "8f29744b-6479-4ca1-c86c-bed9656f66b5"
      },
      "execution_count": null,
      "outputs": [
        {
          "output_type": "stream",
          "name": "stdout",
          "text": [
            "{1, 2, 3, 'Mangga', 'Ahmad'}\n"
          ]
        }
      ]
    },
    {
      "cell_type": "markdown",
      "source": [
        "**Menghapus elemen pada set**\n",
        "\n",
        "Method remove() atau discard() untuk menghapus elemen tertentu pada set."
      ],
      "metadata": {
        "id": "5OmWYA-gTFtv"
      }
    },
    {
      "cell_type": "code",
      "source": [
        "# Contoh penggunaan remove()\n",
        "\n",
        "setSayur = {'cabe', 'seledri', 'wortel', 'sawi', 'bayam'}\n",
        "print('Sebelum menghapus wortel:', setSayur)\n",
        "\n",
        "setSayur.remove('wortel')\n",
        "print('Setelah menghapus wortel:', setSayur)"
      ],
      "metadata": {
        "colab": {
          "base_uri": "https://localhost:8080/"
        },
        "id": "GQ4Z_ZLbTI9n",
        "outputId": "9e77e90c-fe7f-4362-bc97-4fd0e41ec614"
      },
      "execution_count": null,
      "outputs": [
        {
          "output_type": "stream",
          "name": "stdout",
          "text": [
            "Sebelum menghapus wortel: {'sawi', 'cabe', 'seledri', 'wortel', 'bayam'}\n",
            "Setelah menghapus wortel: {'sawi', 'cabe', 'seledri', 'bayam'}\n"
          ]
        }
      ]
    },
    {
      "cell_type": "code",
      "source": [
        "# Contoh penggunaan discard()\n",
        "\n",
        "setSayur = {'cabe', 'seledri', 'wortel', 'sawi', 'bayam'}\n",
        "print('Sebelum menghapus cabe:', setSayur)\n",
        "\n",
        "setSayur.discard('cabe')\n",
        "print('Setelah menghapus cabe:', setSayur)"
      ],
      "metadata": {
        "colab": {
          "base_uri": "https://localhost:8080/"
        },
        "id": "s8KfYobhTdOK",
        "outputId": "5b066a3d-1808-4fe6-b750-68ec4c9e0823"
      },
      "execution_count": null,
      "outputs": [
        {
          "output_type": "stream",
          "name": "stdout",
          "text": [
            "Sebelum menghapus cabe: {'sawi', 'cabe', 'seledri', 'wortel', 'bayam'}\n",
            "Setelah menghapus cabe: {'sawi', 'seledri', 'wortel', 'bayam'}\n"
          ]
        }
      ]
    },
    {
      "cell_type": "markdown",
      "source": [
        "Apabila elemen yang dimaksud tidak ada di dalam set, remove() akan menghasilkan error, sedangkan discard() tidak menghasilkan error."
      ],
      "metadata": {
        "id": "6_TmuIDRTjP-"
      }
    },
    {
      "cell_type": "code",
      "source": [
        "# Contoh penggunaan remove() jika elemen yang ingin dihapus tidak ada di dalam set\n",
        "\n",
        "setSayur = {'cabe', 'seledri', 'wortel', 'sawi', 'bayam'}\n",
        "setSayur.remove('jambu')\n",
        "print(setSayur)"
      ],
      "metadata": {
        "id": "UFousKtcT0Ks",
        "colab": {
          "base_uri": "https://localhost:8080/",
          "height": 218
        },
        "outputId": "def7cf2f-cae6-4b03-f870-a00487a4bc43"
      },
      "execution_count": 1,
      "outputs": [
        {
          "output_type": "error",
          "ename": "KeyError",
          "evalue": "ignored",
          "traceback": [
            "\u001b[0;31m---------------------------------------------------------------------------\u001b[0m",
            "\u001b[0;31mKeyError\u001b[0m                                  Traceback (most recent call last)",
            "\u001b[0;32m<ipython-input-1-27dfba8d1986>\u001b[0m in \u001b[0;36m<module>\u001b[0;34m()\u001b[0m\n\u001b[1;32m      2\u001b[0m \u001b[0;34m\u001b[0m\u001b[0m\n\u001b[1;32m      3\u001b[0m \u001b[0msetSayur\u001b[0m \u001b[0;34m=\u001b[0m \u001b[0;34m{\u001b[0m\u001b[0;34m'cabe'\u001b[0m\u001b[0;34m,\u001b[0m \u001b[0;34m'seledri'\u001b[0m\u001b[0;34m,\u001b[0m \u001b[0;34m'wortel'\u001b[0m\u001b[0;34m,\u001b[0m \u001b[0;34m'sawi'\u001b[0m\u001b[0;34m,\u001b[0m \u001b[0;34m'bayam'\u001b[0m\u001b[0;34m}\u001b[0m\u001b[0;34m\u001b[0m\u001b[0;34m\u001b[0m\u001b[0m\n\u001b[0;32m----> 4\u001b[0;31m \u001b[0msetSayur\u001b[0m\u001b[0;34m.\u001b[0m\u001b[0mremove\u001b[0m\u001b[0;34m(\u001b[0m\u001b[0;34m'jambu'\u001b[0m\u001b[0;34m)\u001b[0m\u001b[0;34m\u001b[0m\u001b[0;34m\u001b[0m\u001b[0m\n\u001b[0m\u001b[1;32m      5\u001b[0m \u001b[0mprint\u001b[0m\u001b[0;34m(\u001b[0m\u001b[0msetSayur\u001b[0m\u001b[0;34m)\u001b[0m\u001b[0;34m\u001b[0m\u001b[0;34m\u001b[0m\u001b[0m\n",
            "\u001b[0;31mKeyError\u001b[0m: 'jambu'"
          ]
        }
      ]
    },
    {
      "cell_type": "code",
      "source": [
        "# Contoh penggunaan discard() jika elemen yang ingin dihapus tidak ada di dalam set\n",
        "\n",
        "setSayur = {'cabe', 'seledri', 'wortel', 'sawi', 'bayam'}\n",
        "setSayur.discard('jambu')\n",
        "print(setSayur)"
      ],
      "metadata": {
        "id": "Qj0kUOkEUHc0",
        "colab": {
          "base_uri": "https://localhost:8080/"
        },
        "outputId": "532903d5-d7dc-4a4c-bedf-164230c1154c"
      },
      "execution_count": null,
      "outputs": [
        {
          "output_type": "stream",
          "name": "stdout",
          "text": [
            "{'sawi', 'cabe', 'seledri', 'wortel', 'bayam'}\n"
          ]
        }
      ]
    },
    {
      "cell_type": "markdown",
      "source": [
        "Method pop() untuk menghapus elemen terakhir pada set. Namun, set bersifat tidak terurut sehingga elemen terakhir yang dihapus tidak diketahui."
      ],
      "metadata": {
        "id": "e-88XLgAUMaj"
      }
    },
    {
      "cell_type": "code",
      "source": [
        "# Contoh penggunaan pop() jika elemen yang ingin dihapus tidak ada di dalam set\n",
        "\n",
        "setSayur = {'cabe', 'seledri', 'wortel', 'sawi', 'bayam'}\n",
        "print('Sebelum menghapus elemen terakhir:', setSayur)\n",
        "setSayur.pop()"
      ],
      "metadata": {
        "colab": {
          "base_uri": "https://localhost:8080/",
          "height": 53
        },
        "id": "1UcGUd2SUQui",
        "outputId": "ac505d92-f04c-4d33-a7a7-3030a764479e"
      },
      "execution_count": null,
      "outputs": [
        {
          "output_type": "stream",
          "name": "stdout",
          "text": [
            "Sebelum menghapus elemen terakhir: {'sawi', 'cabe', 'seledri', 'wortel', 'bayam'}\n"
          ]
        },
        {
          "output_type": "execute_result",
          "data": {
            "text/plain": [
              "'sawi'"
            ],
            "application/vnd.google.colaboratory.intrinsic+json": {
              "type": "string"
            }
          },
          "metadata": {},
          "execution_count": 321
        }
      ]
    },
    {
      "cell_type": "markdown",
      "source": [
        "print setSayur.pop() akan menampilkan elemen yang terhapus."
      ],
      "metadata": {
        "id": "MGZf_7bUUgD3"
      }
    },
    {
      "cell_type": "code",
      "source": [
        "setSayur = {'cabe', 'seledri', 'wortel', 'sawi', 'bayam'}\n",
        "print('Sebelum menghapus elemen terakhir:', setSayur)\n",
        "print('Elemen yang terhapus: ', setSayur.pop())"
      ],
      "metadata": {
        "colab": {
          "base_uri": "https://localhost:8080/"
        },
        "id": "sFm2ukXTUiky",
        "outputId": "d0da45c9-1d0c-44b9-ad4c-83821bf2c3e7"
      },
      "execution_count": null,
      "outputs": [
        {
          "output_type": "stream",
          "name": "stdout",
          "text": [
            "Sebelum menghapus elemen terakhir: {'sawi', 'cabe', 'seledri', 'wortel', 'bayam'}\n",
            "Elemen yang terhapus:  sawi\n"
          ]
        }
      ]
    },
    {
      "cell_type": "markdown",
      "source": [
        "Del untuk menghapus set secara keseluruhan."
      ],
      "metadata": {
        "id": "0MZ3wybkUrNf"
      }
    },
    {
      "cell_type": "code",
      "source": [
        "# Menggunakan del untuk menghapus set keseluruhan\n",
        "\n",
        "setSayur = {'cabe', 'seledri', 'wortel', 'sawi', 'bayam'}\n",
        "del setSayur\n",
        "print(setSayur)"
      ],
      "metadata": {
        "colab": {
          "base_uri": "https://localhost:8080/",
          "height": 201
        },
        "id": "MkBigcigUtv1",
        "outputId": "e1394861-2e08-41c4-8c99-2d693dede1b7"
      },
      "execution_count": null,
      "outputs": [
        {
          "output_type": "error",
          "ename": "NameError",
          "evalue": "ignored",
          "traceback": [
            "\u001b[0;31m---------------------------------------------------------------------------\u001b[0m",
            "\u001b[0;31mNameError\u001b[0m                                 Traceback (most recent call last)",
            "\u001b[0;32m<ipython-input-323-7a7883fad2c7>\u001b[0m in \u001b[0;36m<module>\u001b[0;34m()\u001b[0m\n\u001b[1;32m      3\u001b[0m \u001b[0msetSayur\u001b[0m \u001b[0;34m=\u001b[0m \u001b[0;34m{\u001b[0m\u001b[0;34m'cabe'\u001b[0m\u001b[0;34m,\u001b[0m \u001b[0;34m'seledri'\u001b[0m\u001b[0;34m,\u001b[0m \u001b[0;34m'wortel'\u001b[0m\u001b[0;34m,\u001b[0m \u001b[0;34m'sawi'\u001b[0m\u001b[0;34m,\u001b[0m \u001b[0;34m'bayam'\u001b[0m\u001b[0;34m}\u001b[0m\u001b[0;34m\u001b[0m\u001b[0;34m\u001b[0m\u001b[0m\n\u001b[1;32m      4\u001b[0m \u001b[0;32mdel\u001b[0m \u001b[0msetSayur\u001b[0m\u001b[0;34m\u001b[0m\u001b[0;34m\u001b[0m\u001b[0m\n\u001b[0;32m----> 5\u001b[0;31m \u001b[0mprint\u001b[0m\u001b[0;34m(\u001b[0m\u001b[0msetSayur\u001b[0m\u001b[0;34m)\u001b[0m\u001b[0;34m\u001b[0m\u001b[0;34m\u001b[0m\u001b[0m\n\u001b[0m",
            "\u001b[0;31mNameError\u001b[0m: name 'setSayur' is not defined"
          ]
        }
      ]
    },
    {
      "cell_type": "markdown",
      "source": [
        "Output di atas menghasilkan error karena setSayur sudah dihapus sebelum fungsi print() dieksekusi. Jika hanya ingin mengosongkan set, maka dapat menggunakan method clear()."
      ],
      "metadata": {
        "id": "_8g6LxLCU3jz"
      }
    },
    {
      "cell_type": "code",
      "source": [
        "setSayur = {'cabe', 'seledri', 'wortel', 'sawi', 'bayam'}\n",
        "setSayur.clear() # Mengosongkan set dengan clear()\n",
        "print(setSayur)"
      ],
      "metadata": {
        "colab": {
          "base_uri": "https://localhost:8080/"
        },
        "id": "kL6GjykwU5lW",
        "outputId": "6f62bd73-6198-4353-ccdc-c74866c02783"
      },
      "execution_count": null,
      "outputs": [
        {
          "output_type": "stream",
          "name": "stdout",
          "text": [
            "set()\n"
          ]
        }
      ]
    },
    {
      "cell_type": "markdown",
      "source": [
        "**Duplikasi set**\n",
        "\n",
        "Method copy() untuk menduplikasi set."
      ],
      "metadata": {
        "id": "UcoTxlfnVKq7"
      }
    },
    {
      "cell_type": "code",
      "source": [
        "copySayur = setSayur.copy()\n",
        "print('Ini adalah setSayur: ', setSayur)\n",
        "print('Ini adalah copySayur: ', copySayur)"
      ],
      "metadata": {
        "colab": {
          "base_uri": "https://localhost:8080/"
        },
        "id": "-eC8eaYUVOPg",
        "outputId": "82da2d65-19f1-4ddd-fa38-0c05629e0f7a"
      },
      "execution_count": null,
      "outputs": [
        {
          "output_type": "stream",
          "name": "stdout",
          "text": [
            "Ini adalah setSayur:  set()\n",
            "Ini adalah copySayur:  set()\n"
          ]
        }
      ]
    },
    {
      "cell_type": "markdown",
      "source": [
        "**Menjumlahkan seluruh elemen pada set**\n",
        "\n",
        "Function sum() untuk menjumlahkan seluruh elemen pada set."
      ],
      "metadata": {
        "id": "P-LHBYaiVTz0"
      }
    },
    {
      "cell_type": "code",
      "source": [
        "bil_set ={10, 26, 19, 3, 5, 30}\n",
        "print('Jumlah bilangan di dalam set = ', sum(bil_set))"
      ],
      "metadata": {
        "colab": {
          "base_uri": "https://localhost:8080/"
        },
        "id": "AsygQJa5VWP1",
        "outputId": "d24f8066-40d3-4375-c6f2-60674aa8732d"
      },
      "execution_count": null,
      "outputs": [
        {
          "output_type": "stream",
          "name": "stdout",
          "text": [
            "Jumlah bilangan di dalam set =  93\n"
          ]
        }
      ]
    },
    {
      "cell_type": "markdown",
      "source": [
        "**Mengambil nilai maksimum dan minimum pada set**\n",
        "\n",
        "Fungsi max() untuk mengambil nilai maksimum, sedangkan fungsi min() untuk nilai minimum."
      ],
      "metadata": {
        "id": "FnbHPpWMVfWP"
      }
    },
    {
      "cell_type": "code",
      "source": [
        "bil_set ={10, 26, 19, 3, 5, 30}\n",
        "\n",
        "print('Nilai maksimum: ', max(bil_set))\n",
        "print('Nilai minimum: ', min(bil_set))"
      ],
      "metadata": {
        "colab": {
          "base_uri": "https://localhost:8080/"
        },
        "id": "84MDPnaeVif9",
        "outputId": "12a02f5b-3951-49f6-a30c-ae8da71cff46"
      },
      "execution_count": null,
      "outputs": [
        {
          "output_type": "stream",
          "name": "stdout",
          "text": [
            "Nilai maksimum:  30\n",
            "Nilai minimum:  3\n"
          ]
        }
      ]
    },
    {
      "cell_type": "markdown",
      "source": [
        "**Menghitung panjang set (jumlah elemen)**\n",
        "\n",
        "Fungsi len() untuk menghitung panjang set atau jumlah elemen pada set."
      ],
      "metadata": {
        "id": "3tckl0ZkVn1s"
      }
    },
    {
      "cell_type": "code",
      "source": [
        "bil_set ={10, 26, 19, 3, 5, 30}\n",
        "print(len(bil_set))"
      ],
      "metadata": {
        "colab": {
          "base_uri": "https://localhost:8080/"
        },
        "id": "ARdnWCiIVrci",
        "outputId": "c5f81c5e-3628-415f-da5b-229062c0cf49"
      },
      "execution_count": null,
      "outputs": [
        {
          "output_type": "stream",
          "name": "stdout",
          "text": [
            "6\n"
          ]
        }
      ]
    },
    {
      "cell_type": "markdown",
      "source": [
        "**Operasi himpunan pada Set**\n",
        "\n",
        "**Union**\n",
        "\n",
        "Union atau operasi gabungan adalah menggabungkan semua nilai dari set A dan set B dengan mengeliminasi nilai yang sama dengan menggunakan method union() atau operator |."
      ],
      "metadata": {
        "id": "I7iHJXXZVu07"
      }
    },
    {
      "cell_type": "code",
      "source": [
        "A = {1, 2, 3}\n",
        "B = {4, 5, 6}\n",
        "\n",
        "# Contoh penggunaan union()\n",
        "A.union(B) "
      ],
      "metadata": {
        "colab": {
          "base_uri": "https://localhost:8080/"
        },
        "id": "GQuvC6stVy7M",
        "outputId": "91168ace-332d-46f1-db30-438718322f68"
      },
      "execution_count": null,
      "outputs": [
        {
          "output_type": "execute_result",
          "data": {
            "text/plain": [
              "{1, 2, 3, 4, 5, 6}"
            ]
          },
          "metadata": {},
          "execution_count": 330
        }
      ]
    },
    {
      "cell_type": "code",
      "source": [
        "A = {1, 2, 3}\n",
        "B = {4, 5, 6}\n",
        "\n",
        "# Contoh penggunaan | untuk menggabungkan set\n",
        "print(A | B) "
      ],
      "metadata": {
        "colab": {
          "base_uri": "https://localhost:8080/"
        },
        "id": "AovhP1FyV5N4",
        "outputId": "0267233c-2374-47f4-f37c-b5a25a3e91d8"
      },
      "execution_count": null,
      "outputs": [
        {
          "output_type": "stream",
          "name": "stdout",
          "text": [
            "{1, 2, 3, 4, 5, 6}\n"
          ]
        }
      ]
    },
    {
      "cell_type": "markdown",
      "source": [
        "Method update() dapat digunakan untuk operasi ini."
      ],
      "metadata": {
        "id": "tx4DjdSCV9Om"
      }
    },
    {
      "cell_type": "code",
      "source": [
        "A = {1, 2, 3}\n",
        "B = {4, 5, 6}\n",
        "\n",
        "A.update(B) # Menggunakan update() untuk menggabungkan set B ke A\n",
        "print(A)"
      ],
      "metadata": {
        "colab": {
          "base_uri": "https://localhost:8080/"
        },
        "id": "H4bU40mlWA6H",
        "outputId": "d9f1db78-4b8b-4d6d-9533-dba47bbf56e6"
      },
      "execution_count": null,
      "outputs": [
        {
          "output_type": "stream",
          "name": "stdout",
          "text": [
            "{1, 2, 3, 4, 5, 6}\n"
          ]
        }
      ]
    },
    {
      "cell_type": "markdown",
      "source": [
        "**Intersection**\n",
        "\n",
        "Intersection atau irisan adalah mengambil nilai yang sama dari kedua set dengan menggunakan method intersection() atau operator &."
      ],
      "metadata": {
        "id": "xmHUkW8kWFGO"
      }
    },
    {
      "cell_type": "code",
      "source": [
        "A = {1, 2, 3, 4}\n",
        "B = {3, 4, 5, 6}\n",
        "\n",
        "print(A.intersection(B)) # Contoh penggunaan intersection()"
      ],
      "metadata": {
        "colab": {
          "base_uri": "https://localhost:8080/"
        },
        "id": "K-GQZhUXWJaP",
        "outputId": "10cb1608-da4e-497f-88d0-d7707d36830f"
      },
      "execution_count": null,
      "outputs": [
        {
          "output_type": "stream",
          "name": "stdout",
          "text": [
            "{3, 4}\n"
          ]
        }
      ]
    },
    {
      "cell_type": "code",
      "source": [
        "A = {1, 2, 3, 4}\n",
        "B = {3, 4, 5, 6}\n",
        "\n",
        "A & B # Mengambil nilai yang sama dari dua set menggunakan &"
      ],
      "metadata": {
        "colab": {
          "base_uri": "https://localhost:8080/"
        },
        "id": "VdeMeLE9WPRv",
        "outputId": "e0602c76-62b8-47be-bc79-06b884ef93a0"
      },
      "execution_count": null,
      "outputs": [
        {
          "output_type": "execute_result",
          "data": {
            "text/plain": [
              "{3, 4}"
            ]
          },
          "metadata": {},
          "execution_count": 334
        }
      ]
    },
    {
      "cell_type": "markdown",
      "source": [
        "**Difference**\n",
        "\n",
        "Difference atau selisih A dari B (A - B) adalah kumpulan elemen yang ada di A tapi tidak ada di B. Begitu pun sebaliknya, B - A adalah kumpulan elemen yang ada di B tapi tidak ada di A dengan method difference() ataupun dengan operator – untuk memperoleh difference"
      ],
      "metadata": {
        "id": "3gx5xyQpWSti"
      }
    },
    {
      "cell_type": "code",
      "source": [
        "A = {1, 2, 3, 4}\n",
        "B = {3, 4, 5, 6}\n",
        "\n",
        "A.difference(B) # Contoh penggunaan difference()"
      ],
      "metadata": {
        "colab": {
          "base_uri": "https://localhost:8080/"
        },
        "id": "8cc7NLgsWXg8",
        "outputId": "5111ff2f-674a-477d-8aaf-1488d3887fda"
      },
      "execution_count": null,
      "outputs": [
        {
          "output_type": "execute_result",
          "data": {
            "text/plain": [
              "{1, 2}"
            ]
          },
          "metadata": {},
          "execution_count": 335
        }
      ]
    },
    {
      "cell_type": "markdown",
      "source": [
        "**Symmetric Difference**\n",
        "\n",
        "Symmetric difference adalah kumpulan elemen yang ada di A dan B namun tidak mengikutsertakan elemen yang ada pada keduanya alias mengeliminasi intersection dengan method symmetric_difference() atau dengan operator ^ untuk memperoleh symmetric difference."
      ],
      "metadata": {
        "id": "CVeAx6LRWcbC"
      }
    },
    {
      "cell_type": "code",
      "source": [
        "A = {1, 2, 3, 4}\n",
        "B = {3, 4, 5, 6}\n",
        "\n",
        "A.symmetric_difference(B) # Contoh penggunaan symmetric_difference()"
      ],
      "metadata": {
        "colab": {
          "base_uri": "https://localhost:8080/"
        },
        "id": "LBv9oL4jWgW9",
        "outputId": "e9a65d60-c5f8-4ced-e533-a72b90c17f2a"
      },
      "execution_count": null,
      "outputs": [
        {
          "output_type": "execute_result",
          "data": {
            "text/plain": [
              "{1, 2, 5, 6}"
            ]
          },
          "metadata": {},
          "execution_count": 336
        }
      ]
    },
    {
      "cell_type": "code",
      "source": [
        "A = {1, 2, 3, 4}\n",
        "B = {3, 4, 5, 6}\n",
        "\n",
        "A ^ B # Contoh penggunaan operator ^"
      ],
      "metadata": {
        "colab": {
          "base_uri": "https://localhost:8080/"
        },
        "id": "HtTlgni4WlYJ",
        "outputId": "582b2a4c-0f2a-40ab-c9e2-04d16d1e5e73"
      },
      "execution_count": null,
      "outputs": [
        {
          "output_type": "execute_result",
          "data": {
            "text/plain": [
              "{1, 2, 5, 6}"
            ]
          },
          "metadata": {},
          "execution_count": 337
        }
      ]
    },
    {
      "cell_type": "markdown",
      "source": [
        "**Operasi cek keanggotaan pada Set**\n",
        "\n",
        "**Apakah ada elemen tertentu pada set?**\n",
        "\n",
        "Operator in atau not in untuk mengecek keberadaan elemen tertentu pada set. \n",
        "Operator in digunakan untuk mengecek apakah suatu elemen ada di dalam set, sedangkan not in digunakan untuk mengecek apakah suatu elemen tidak ada di dalam set."
      ],
      "metadata": {
        "id": "d2fyZeCWWs2v"
      }
    },
    {
      "cell_type": "code",
      "source": [
        "setSayur = {'cabe', 'seledri', 'wortel', 'sawi', 'bayam'}\n",
        "'sawi' in setSayur"
      ],
      "metadata": {
        "colab": {
          "base_uri": "https://localhost:8080/"
        },
        "id": "wjCwjJCmWxAq",
        "outputId": "fb1c8c55-a0dd-4483-fdb9-211a3ddcb1a9"
      },
      "execution_count": null,
      "outputs": [
        {
          "output_type": "execute_result",
          "data": {
            "text/plain": [
              "True"
            ]
          },
          "metadata": {},
          "execution_count": 338
        }
      ]
    },
    {
      "cell_type": "code",
      "source": [
        "setSayur = {'cabe', 'seledri', 'wortel', 'sawi', 'bayam'}\n",
        "'tauge' in setSayur"
      ],
      "metadata": {
        "colab": {
          "base_uri": "https://localhost:8080/"
        },
        "id": "ZsAP0yEOW6xF",
        "outputId": "20492995-5395-4fc0-a3d0-bee6617fbebe"
      },
      "execution_count": null,
      "outputs": [
        {
          "output_type": "execute_result",
          "data": {
            "text/plain": [
              "False"
            ]
          },
          "metadata": {},
          "execution_count": 339
        }
      ]
    },
    {
      "cell_type": "markdown",
      "source": [
        "**Apakah dua set disjoint?**\n",
        "\n",
        "Method isdisjoint() untuk mengetahui apakah dua set disjoint atau tidak memiliki irisan"
      ],
      "metadata": {
        "id": "2U6bCOwUW90N"
      }
    },
    {
      "cell_type": "code",
      "source": [
        "A = {1, 2, 3, 4}\n",
        "B = {3, 4, 5, 6}\n",
        "\n",
        "A.isdisjoint(B)"
      ],
      "metadata": {
        "colab": {
          "base_uri": "https://localhost:8080/"
        },
        "id": "-bwx38uBXDL7",
        "outputId": "102d24e2-e69d-45f8-8d84-68d8c4461433"
      },
      "execution_count": null,
      "outputs": [
        {
          "output_type": "execute_result",
          "data": {
            "text/plain": [
              "False"
            ]
          },
          "metadata": {},
          "execution_count": 340
        }
      ]
    },
    {
      "cell_type": "code",
      "source": [
        "C = {'a', 'c', 'e'}\n",
        "D = {'b', 'd', 'f'}\n",
        "\n",
        "C.isdisjoint(D)"
      ],
      "metadata": {
        "colab": {
          "base_uri": "https://localhost:8080/"
        },
        "id": "fiI4UTCoXF7a",
        "outputId": "5835b79b-0564-46a8-bf89-2a63dd9a2582"
      },
      "execution_count": null,
      "outputs": [
        {
          "output_type": "execute_result",
          "data": {
            "text/plain": [
              "True"
            ]
          },
          "metadata": {},
          "execution_count": 341
        }
      ]
    },
    {
      "cell_type": "markdown",
      "source": [
        "**Apakah sebuah set merupakan subset dari set lain?**\n",
        "\n",
        "Method issubset() atau operator <= untuk mencari tahu apakah sebuah set merupakan subset dari set lain atau tidak."
      ],
      "metadata": {
        "id": "nnWZfWRhXUqX"
      }
    },
    {
      "cell_type": "code",
      "source": [
        "A = {1, 2, 3, 4}\n",
        "B = {3, 4, 5, 6}\n",
        "\n",
        "A.issubset(B)"
      ],
      "metadata": {
        "colab": {
          "base_uri": "https://localhost:8080/"
        },
        "id": "6BbthpEXXYtw",
        "outputId": "400bf3df-78d4-40d0-da94-7e79be03fdbc"
      },
      "execution_count": null,
      "outputs": [
        {
          "output_type": "execute_result",
          "data": {
            "text/plain": [
              "False"
            ]
          },
          "metadata": {},
          "execution_count": 342
        }
      ]
    },
    {
      "cell_type": "code",
      "source": [
        "A = {1, 2, 3}\n",
        "B = {1, 2, 3, 4, 5, 6}\n",
        "\n",
        "A <= B # Contoh penggunaan operator <="
      ],
      "metadata": {
        "colab": {
          "base_uri": "https://localhost:8080/"
        },
        "id": "Rop-35aHXhO0",
        "outputId": "f6e225ec-4ae4-4727-8939-536cc4e53d97"
      },
      "execution_count": null,
      "outputs": [
        {
          "output_type": "execute_result",
          "data": {
            "text/plain": [
              "True"
            ]
          },
          "metadata": {},
          "execution_count": 343
        }
      ]
    },
    {
      "cell_type": "markdown",
      "source": [
        "**Apakah sebuah set mengandung set lain?**\n",
        "\n",
        "Method issuperset() atau operator >= untuk mengecek apakah sebuah set mengandung set lain atau tidak."
      ],
      "metadata": {
        "id": "FTydWCvfXtRM"
      }
    },
    {
      "cell_type": "code",
      "source": [
        "A = {1, 2, 3, 4}\n",
        "B = {3, 4, 5, 6}\n",
        "\n",
        "A.issuperset(B)"
      ],
      "metadata": {
        "colab": {
          "base_uri": "https://localhost:8080/"
        },
        "id": "cEO_qjfLXxwz",
        "outputId": "19d75ddf-ba6e-4fba-bf85-8f795787ef39"
      },
      "execution_count": null,
      "outputs": [
        {
          "output_type": "execute_result",
          "data": {
            "text/plain": [
              "False"
            ]
          },
          "metadata": {},
          "execution_count": 344
        }
      ]
    },
    {
      "cell_type": "code",
      "source": [
        "A = {1, 2, 3, 4}\n",
        "B = {1, 2, 3, 4, 5, 6}\n",
        "\n",
        "B >= A # Contoh penggunaan operator >="
      ],
      "metadata": {
        "colab": {
          "base_uri": "https://localhost:8080/"
        },
        "id": "uDD8cY3jX2o-",
        "outputId": "e19e5c1c-ee92-4f55-ebb6-6f1eb99f5c77"
      },
      "execution_count": null,
      "outputs": [
        {
          "output_type": "execute_result",
          "data": {
            "text/plain": [
              "True"
            ]
          },
          "metadata": {},
          "execution_count": 345
        }
      ]
    },
    {
      "cell_type": "markdown",
      "source": [
        "**Frozenset**\n",
        "\n",
        "Untuk membuat set yang bersifat immutable bisa dengan menggunakan frozenset.  Function frozenset() untuk membuat frozenset. "
      ],
      "metadata": {
        "id": "dNl9C5ujYIHo"
      }
    },
    {
      "cell_type": "code",
      "source": [
        "cth1 = frozenset([1, 2, 3, 4])\n",
        "cth2 = frozenset([3, 4, 5, 6])\n",
        "\n",
        "print(cth1)\n",
        "print(cth2)"
      ],
      "metadata": {
        "colab": {
          "base_uri": "https://localhost:8080/"
        },
        "id": "HjWhrKz4YL5K",
        "outputId": "8633f950-5f6b-477a-bac0-2ae8fb7faf9f"
      },
      "execution_count": null,
      "outputs": [
        {
          "output_type": "stream",
          "name": "stdout",
          "text": [
            "frozenset({1, 2, 3, 4})\n",
            "frozenset({3, 4, 5, 6})\n"
          ]
        }
      ]
    },
    {
      "cell_type": "markdown",
      "source": [
        "Lakukan beberapa operasi himpunan."
      ],
      "metadata": {
        "id": "PyGKvXGjYZyC"
      }
    },
    {
      "cell_type": "code",
      "source": [
        "cth1 = frozenset([1, 2, 3, 4])\n",
        "cth2 = frozenset([3, 4, 5, 6])\n",
        "\n",
        "cth1.union(cth2)"
      ],
      "metadata": {
        "colab": {
          "base_uri": "https://localhost:8080/"
        },
        "id": "dt3ipxIiYdQR",
        "outputId": "860f708f-06d1-4b38-f108-96e16229f5a1"
      },
      "execution_count": null,
      "outputs": [
        {
          "output_type": "execute_result",
          "data": {
            "text/plain": [
              "frozenset({1, 2, 3, 4, 5, 6})"
            ]
          },
          "metadata": {},
          "execution_count": 347
        }
      ]
    },
    {
      "cell_type": "code",
      "source": [
        "cth1.issuperset(cth2)"
      ],
      "metadata": {
        "colab": {
          "base_uri": "https://localhost:8080/"
        },
        "id": "aYq5idnFYiDt",
        "outputId": "f70a6028-9614-4b4d-ae17-67de807efde0"
      },
      "execution_count": null,
      "outputs": [
        {
          "output_type": "execute_result",
          "data": {
            "text/plain": [
              "False"
            ]
          },
          "metadata": {},
          "execution_count": 348
        }
      ]
    },
    {
      "cell_type": "code",
      "source": [
        "3 in cth1 & cth2"
      ],
      "metadata": {
        "colab": {
          "base_uri": "https://localhost:8080/"
        },
        "id": "sxJIUvfpYlbN",
        "outputId": "4500f2a8-629c-42c5-d27c-394dffed651c"
      },
      "execution_count": null,
      "outputs": [
        {
          "output_type": "execute_result",
          "data": {
            "text/plain": [
              "True"
            ]
          },
          "metadata": {},
          "execution_count": 349
        }
      ]
    },
    {
      "cell_type": "markdown",
      "metadata": {
        "id": "srHvFMJW2MPs"
      },
      "source": [
        "**Seleksi Kondisi**\n",
        "\n",
        "Seleksi kondisi adalah proses untuk menentukan langkah atau perintah selanjutnya berdasarkan keadaan sebelumnya. Proses yang penting dalam pemrograman untuk memutuskan aksi apa selanjutnya sesuai dengan kondisinya.\n",
        "\n",
        "**Operator Perbandingan**\n",
        "\n",
        "Operator perbandingan digunakan dalam seleksi kondisi untuk membandingan dua nilai atau operand. Output yang dihasilkan dari operasi perbandingan yaitu berupa Boolean. Ada enam operator perbandingan yang dapat digunakan, diantaranya:\n",
        "\n",
        "• sama dengan: == \n",
        "\n",
        "• tidak sama dengan: != \n",
        "\n",
        "• lebih besar dari: > \n",
        "\n",
        "• lebih kecil dari: < \n",
        "\n",
        "• lebih besar sama dengan: >= \n",
        "\n",
        "• lebih kecil sama dengan: <=\n",
        "\n",
        "Operator diatas digunakan untuk membandingan nilai secara langsung maupun yang berada dalam variabel. Misalnya, variabel a yang berisi nilai 2. Kemudian bandingkan nilai a dengan 4\n"
      ]
    },
    {
      "cell_type": "code",
      "execution_count": null,
      "metadata": {
        "colab": {
          "base_uri": "https://localhost:8080/"
        },
        "id": "ASygm3RH2Pwd",
        "outputId": "92413529-8344-4204-d62b-e1cb0419d3d3"
      },
      "outputs": [
        {
          "output_type": "execute_result",
          "data": {
            "text/plain": [
              "False"
            ]
          },
          "metadata": {},
          "execution_count": 350
        }
      ],
      "source": [
        "a = 2 \n",
        "a == 4 # Contoh penggunaan operator =="
      ]
    },
    {
      "cell_type": "markdown",
      "source": [
        "Hasilnya adalah False karena nilai 2 tidak sama dengan 4.\n",
        "\n",
        "Sekarang coba menggunakan operator tidak sama dengan"
      ],
      "metadata": {
        "id": "ZsyYXRM47pJz"
      }
    },
    {
      "cell_type": "code",
      "execution_count": null,
      "metadata": {
        "colab": {
          "base_uri": "https://localhost:8080/"
        },
        "id": "i9O9v95C2RkR",
        "outputId": "e2f953a7-efc5-4ea0-8396-8302e69b50df"
      },
      "outputs": [
        {
          "output_type": "execute_result",
          "data": {
            "text/plain": [
              "True"
            ]
          },
          "metadata": {},
          "execution_count": 351
        }
      ],
      "source": [
        "a = 2\n",
        "a != 4 # Contoh penggunaan operator !="
      ]
    },
    {
      "cell_type": "markdown",
      "source": [
        "Hasilnya adalah True.\n",
        "\n",
        "Sekarang menggunakan operator > dan <."
      ],
      "metadata": {
        "id": "cgVbMwyE7xRi"
      }
    },
    {
      "cell_type": "code",
      "execution_count": null,
      "metadata": {
        "colab": {
          "base_uri": "https://localhost:8080/"
        },
        "id": "4UYJzT-92UK5",
        "outputId": "c4a6dd34-7f04-4e89-b24a-d6390fd32149"
      },
      "outputs": [
        {
          "output_type": "execute_result",
          "data": {
            "text/plain": [
              "False"
            ]
          },
          "metadata": {},
          "execution_count": 352
        }
      ],
      "source": [
        "a = 2\n",
        "a > 4 # Contoh penggunaan operator >"
      ]
    },
    {
      "cell_type": "markdown",
      "source": [
        "2 lebih besar dari 4 adalah False."
      ],
      "metadata": {
        "id": "scB_HrH473aX"
      }
    },
    {
      "cell_type": "code",
      "execution_count": null,
      "metadata": {
        "colab": {
          "base_uri": "https://localhost:8080/"
        },
        "id": "m3yRjEZP2V1x",
        "outputId": "19975fe8-e7b5-4ae4-fd5a-a3d353ae43c2"
      },
      "outputs": [
        {
          "output_type": "execute_result",
          "data": {
            "text/plain": [
              "True"
            ]
          },
          "metadata": {},
          "execution_count": 353
        }
      ],
      "source": [
        "a = 2\n",
        "a < 4 # Contoh penggunaan operator <"
      ]
    },
    {
      "cell_type": "markdown",
      "source": [
        "2 lebih kecil dari 4 adalah True.\n",
        "\n",
        "Penempatan angka pada penggunaan operator > dan < sangat berpengaruh. Sekarang coba  untuk menukar posisi operand-nya."
      ],
      "metadata": {
        "id": "Cm6ivg-m75CX"
      }
    },
    {
      "cell_type": "code",
      "execution_count": null,
      "metadata": {
        "colab": {
          "base_uri": "https://localhost:8080/"
        },
        "id": "MmUA3OtF2XYq",
        "outputId": "96ab66d1-a77e-4456-bbd6-df58f82f7f93"
      },
      "outputs": [
        {
          "output_type": "execute_result",
          "data": {
            "text/plain": [
              "True"
            ]
          },
          "metadata": {},
          "execution_count": 354
        }
      ],
      "source": [
        "a = 2\n",
        "4 > a"
      ]
    },
    {
      "cell_type": "code",
      "execution_count": null,
      "metadata": {
        "colab": {
          "base_uri": "https://localhost:8080/"
        },
        "id": "B-Bj82z_2X4T",
        "outputId": "61771b00-3cca-462c-8acc-19a35953973f"
      },
      "outputs": [
        {
          "output_type": "execute_result",
          "data": {
            "text/plain": [
              "False"
            ]
          },
          "metadata": {},
          "execution_count": 355
        }
      ],
      "source": [
        "a = 2\n",
        "4 < a"
      ]
    },
    {
      "cell_type": "markdown",
      "source": [
        "Pada contoh di atas, 4 > a berarti 4 lebih besar dari a atau 2, maka hasilnya adalah True. Sementara itu 4 < a menghasilkan False.\n",
        "\n",
        "Sekarang menggunakan operator >= dan <="
      ],
      "metadata": {
        "id": "RAR_BXNF8AVS"
      }
    },
    {
      "cell_type": "code",
      "execution_count": null,
      "metadata": {
        "colab": {
          "base_uri": "https://localhost:8080/"
        },
        "id": "oIMErD0b2bDG",
        "outputId": "e341dc37-885b-42d3-81ec-bf0c65e3cd9c"
      },
      "outputs": [
        {
          "output_type": "execute_result",
          "data": {
            "text/plain": [
              "False"
            ]
          },
          "metadata": {},
          "execution_count": 356
        }
      ],
      "source": [
        "a = 2\n",
        "a >= 4 # Contoh penggunaan operator >="
      ]
    },
    {
      "cell_type": "code",
      "execution_count": null,
      "metadata": {
        "colab": {
          "base_uri": "https://localhost:8080/"
        },
        "id": "pqDbJQrD2-c6",
        "outputId": "4e1d78b0-def6-4059-9c06-4388b8fa3f61"
      },
      "outputs": [
        {
          "output_type": "execute_result",
          "data": {
            "text/plain": [
              "True"
            ]
          },
          "metadata": {},
          "execution_count": 357
        }
      ],
      "source": [
        "a = 2\n",
        "a <= 4 # Contoh penggunaan operator <="
      ]
    },
    {
      "cell_type": "markdown",
      "source": [
        "Mencoba membandingkan string dengan operator perbandingan"
      ],
      "metadata": {
        "id": "gXYr-0Y28IBj"
      }
    },
    {
      "cell_type": "code",
      "execution_count": null,
      "metadata": {
        "colab": {
          "base_uri": "https://localhost:8080/"
        },
        "id": "yfhmp0Uo3AbO",
        "outputId": "b15863c1-268e-43f9-9c95-9b451ed83d71"
      },
      "outputs": [
        {
          "output_type": "execute_result",
          "data": {
            "text/plain": [
              "False"
            ]
          },
          "metadata": {},
          "execution_count": 358
        }
      ],
      "source": [
        "'HAI' == 'Hai' # Operator perbandingan untuk membandingkan string"
      ]
    },
    {
      "cell_type": "markdown",
      "source": [
        "Hasilnya adalah False karena string 'HAI' berbeda dengan 'Hai'. Sekarang menggunakan operator tidak sama dengan !=."
      ],
      "metadata": {
        "id": "wG_Kw9oN8K3I"
      }
    },
    {
      "cell_type": "code",
      "execution_count": null,
      "metadata": {
        "colab": {
          "base_uri": "https://localhost:8080/"
        },
        "id": "tcP9ajCJ3DyI",
        "outputId": "4ff296eb-98b3-4b59-b3e0-d06b7f2a064a"
      },
      "outputs": [
        {
          "output_type": "execute_result",
          "data": {
            "text/plain": [
              "True"
            ]
          },
          "metadata": {},
          "execution_count": 359
        }
      ],
      "source": [
        "'HAI' != 'Hai'"
      ]
    },
    {
      "cell_type": "markdown",
      "source": [
        "Hasilnya adalah True.\n",
        "\n",
        "Operator perbandingan dapat digunakan untuk membandingkan huruf/simbol berdasarkan kode ASCII-nya."
      ],
      "metadata": {
        "id": "OSVk0jjY8P__"
      }
    },
    {
      "cell_type": "code",
      "execution_count": null,
      "metadata": {
        "colab": {
          "base_uri": "https://localhost:8080/"
        },
        "id": "B2ULt0ba3Hhf",
        "outputId": "cfb772cd-e10e-49d3-9476-d7964219d4f0"
      },
      "outputs": [
        {
          "output_type": "execute_result",
          "data": {
            "text/plain": [
              "False"
            ]
          },
          "metadata": {},
          "execution_count": 360
        }
      ],
      "source": [
        "'B' > 'C'"
      ]
    },
    {
      "cell_type": "code",
      "execution_count": null,
      "metadata": {
        "colab": {
          "base_uri": "https://localhost:8080/"
        },
        "id": "RrQaRvX93I8U",
        "outputId": "ba5b78f0-6d28-4108-a5b9-faefc4696795"
      },
      "outputs": [
        {
          "output_type": "execute_result",
          "data": {
            "text/plain": [
              "True"
            ]
          },
          "metadata": {},
          "execution_count": 361
        }
      ],
      "source": [
        "'C' > 'B'"
      ]
    },
    {
      "cell_type": "markdown",
      "source": [
        "Hasil perbandingan 'C' > 'B' menghasilkan True karena kode ASCII C lebih besar dari B.\n",
        "\n",
        "**Pernyataan Kondisi**\n",
        "\n",
        "Secara sederhana, sebuah kondisi dalam bahasa pemrograman dinyatakan dengan if lalu diikuti dengan perintah yang akan dijalankan jika kondisi tersebut terpenuhi. "
      ],
      "metadata": {
        "id": "dqV16zBE8S3o"
      }
    },
    {
      "cell_type": "code",
      "execution_count": null,
      "metadata": {
        "colab": {
          "base_uri": "https://localhost:8080/"
        },
        "id": "zxXMqOrY3eFz",
        "outputId": "bbdcf5fd-4d0f-4ef2-a3e0-8b04fc73d88c"
      },
      "outputs": [
        {
          "output_type": "stream",
          "name": "stdout",
          "text": [
            "berhasil\n"
          ]
        }
      ],
      "source": [
        "voucher = 'Yes'\n",
        "# Penyataan kondisi\n",
        "if voucher == 'Yes':\n",
        "  \n",
        "  # Perintah di dalam indentasi (ditulis menjorok ke dalam) yang dieksekusi jika kondisi terpenuhi\n",
        "  print('berhasil')\n"
      ]
    },
    {
      "cell_type": "markdown",
      "source": [
        "Pada contoh kondisi di atas, jika memiliki tiket, maka print berhasil. Sebelumnya, voucher='Yes' yang berarti kondisi terpenuhi, maka akan menjalankan kode yang ada di dalam if.\n",
        "\n",
        "Di akhir bagian penyataan if harus diberi tanda titik dua (:) serta penulisan kode yang dieksekusi saat kondisi terpenuhi harus ditulis menjorok ke dalam.\n",
        "\n",
        "Namun, bagaimana jika kondisinya tidak terpenuhi?"
      ],
      "metadata": {
        "id": "ihugvWsQ8aOP"
      }
    },
    {
      "cell_type": "code",
      "execution_count": null,
      "metadata": {
        "id": "vyXIANVq6_ei"
      },
      "outputs": [],
      "source": [
        "voucher = 'No'\n",
        "# Penyataan kondisi\n",
        "if voucher == 'Yes':\n",
        "  \n",
        "  # Perintah yang dieksekusi jika kondisi terpenuh\n",
        "  print('berhasil')"
      ]
    },
    {
      "cell_type": "markdown",
      "source": [
        "Setelah menjalankan kode program di atas, maka tidak akan ada hasil yang muncul karena kondisi tidak terpenuhi sehingga perintah di dalam if tidak dieksekusi.\n",
        "\n",
        "Lalu bagaimana membuat opsi lain jika kondisi tidak terpenuhi?"
      ],
      "metadata": {
        "id": "QGPjh0Bs8nJm"
      }
    },
    {
      "cell_type": "markdown",
      "source": [
        "**Conditional Branching**\n",
        "\n",
        "Branching (percabangan) adalah suatu kondisi dimana ada dua atau lebih perintah atau pernyataan untuk input yang berbeda. Conditional branching memungkinkan program melompat ke instruksi selanjutnya tergantung pada nilai input yang diberikan. \n",
        "\n",
        "**If**"
      ],
      "metadata": {
        "id": "1UCG7ogi8rWG"
      }
    },
    {
      "cell_type": "code",
      "execution_count": null,
      "metadata": {
        "colab": {
          "base_uri": "https://localhost:8080/"
        },
        "id": "4muILl7A8P7C",
        "outputId": "3a4e302e-74e1-474a-805d-41946d35ae9e"
      },
      "outputs": [
        {
          "output_type": "stream",
          "name": "stdout",
          "text": [
            "Selamat!\n"
          ]
        }
      ],
      "source": [
        "voucher = 'No'\n",
        "# Penyataan kondisi\n",
        "if voucher == 'Yes':\n",
        "  \n",
        "  # Perintah yang dieksekusi jika kondisi terpenuhi\n",
        "  print('berhasil')\n",
        "  \n",
        "# Perintah yang dieksekusi baik saat kondisi terpenuhi maupun tidak\n",
        "print('Selamat!')"
      ]
    },
    {
      "cell_type": "markdown",
      "source": [
        "Pada contoh di atas, kondisi if tidak terpenuhi sehingga perintah di dalam if tidak dieksekusi. Namun, blok kode di atas tetap menghasilkan output Selamat datang! karena perintah tersebut ditulis sejajar dengan penyataan if\n",
        "\n",
        "Jika kondisi terpenuhi, maka kedua perintah tersebut dieksekusi."
      ],
      "metadata": {
        "id": "f9_uzENbCvHc"
      }
    },
    {
      "cell_type": "code",
      "execution_count": null,
      "metadata": {
        "colab": {
          "base_uri": "https://localhost:8080/"
        },
        "id": "zh8IW-848hvw",
        "outputId": "e0706071-5dc1-4a2b-c036-478ad2dea042"
      },
      "outputs": [
        {
          "output_type": "stream",
          "name": "stdout",
          "text": [
            "berhasil\n",
            "Selamat !\n"
          ]
        }
      ],
      "source": [
        "voucher = 'Yes'\n",
        "# Penyataan kondisi\n",
        "if voucher == 'Yes':\n",
        "  \n",
        "  # Perintah yang dieksekusi jika kondisi terpenuhi\n",
        "  print('berhasil')\n",
        "  \n",
        "# Perintah yang dieksekusi baik saat kondisi terpenuhi maupun tidak\n",
        "print('Selamat !')"
      ]
    },
    {
      "cell_type": "markdown",
      "source": [
        "**if...else**\n",
        "\n",
        "Jika kondisi tidak terpenuhi, gunakan if...else. Namun jika kondisi terpenuhi, maka opsi tersebut tidak dijalankan\n",
        "\n",
        "![6.png](data:image/png;base64,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)"
      ],
      "metadata": {
        "id": "i1t3Bq-E8xWc"
      }
    },
    {
      "cell_type": "code",
      "execution_count": null,
      "metadata": {
        "colab": {
          "base_uri": "https://localhost:8080/"
        },
        "id": "-27LXv9f8qEr",
        "outputId": "fc460753-ef75-494c-f4ba-c3964fef8c7e"
      },
      "outputs": [
        {
          "output_type": "stream",
          "name": "stdout",
          "text": [
            "berhasil\n",
            "Selamat!\n"
          ]
        }
      ],
      "source": [
        "voucher = 'Yes'\n",
        "# Penyataan kondisi\n",
        "if voucher == 'Yes':\n",
        "  \n",
        "  # Perintah yang dieksekusi jika kondisi terpenuhi\n",
        "  print('berhasil')\n",
        "\n",
        "else:\n",
        "\t\n",
        "  # perintah yang dieksekusi jika kondisi tidak terpenuhi\n",
        "\tprint('beli voucher dahulu')\n",
        "\n",
        "print('Selamat!')"
      ]
    },
    {
      "cell_type": "code",
      "execution_count": null,
      "metadata": {
        "colab": {
          "base_uri": "https://localhost:8080/"
        },
        "id": "j8_w8CfJ8wrn",
        "outputId": "e3156d9d-0a54-4ecd-96b5-4f58a9175b5d"
      },
      "outputs": [
        {
          "output_type": "stream",
          "name": "stdout",
          "text": [
            "beli voucher dahulu\n",
            "Selamat!\n"
          ]
        }
      ],
      "source": [
        "voucher = 'No'\n",
        "# Penyataan kondisi\n",
        "if voucher == 'Yes':\n",
        "\n",
        "  # Perintah yang dieksekusi jika kondisi terpenuhi\n",
        "  print('berhasil')\n",
        "else:\n",
        "\n",
        "\t# perintah yang dieksekusi jika kondisi tidak terpenuhi\n",
        "\tprint('beli voucher dahulu')\n",
        " \n",
        "print('Selamat!')"
      ]
    },
    {
      "cell_type": "markdown",
      "source": [
        "contoh lain"
      ],
      "metadata": {
        "id": "Aib1Jub59CAj"
      }
    },
    {
      "cell_type": "code",
      "execution_count": null,
      "metadata": {
        "colab": {
          "base_uri": "https://localhost:8080/"
        },
        "id": "Ll4EIRPZ81cm",
        "outputId": "5c9476e5-4c8a-4263-813f-43181dcffde5"
      },
      "outputs": [
        {
          "output_type": "stream",
          "name": "stdout",
          "text": [
            "2 adalah bilangan genap\n"
          ]
        }
      ],
      "source": [
        "x = 2\n",
        "if (x % 2 == 1):\n",
        "  print(x, 'adalah bilangan ganjil')\n",
        "else:\n",
        "  print(x, 'adalah bilangan genap')"
      ]
    },
    {
      "cell_type": "markdown",
      "source": [
        "**if...elif**\n",
        "\n",
        "Kondisi if...elif digunakan jika ada dua atau lebih kondisi.\n",
        "\n",
        "![7.png](data:image/png;base64,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)"
      ],
      "metadata": {
        "id": "Fck_MoRo9Jl1"
      }
    },
    {
      "cell_type": "code",
      "execution_count": null,
      "metadata": {
        "colab": {
          "base_uri": "https://localhost:8080/"
        },
        "id": "dJpiZzIc85hk",
        "outputId": "4b7290a3-9b7f-4523-8924-0aff3ba09372"
      },
      "outputs": [
        {
          "output_type": "stream",
          "name": "stdout",
          "text": [
            "Silahkan masuk ke ruang B\n"
          ]
        }
      ],
      "source": [
        "usia = 20\n",
        "if (usia > 20):\n",
        "  print('Silahkan masuk ke ruang A')\n",
        "elif (usia == 20):\n",
        "  print('Silahkan masuk ke ruang B')\n",
        "else:\n",
        "  print('Anda tidak boleh masuk')"
      ]
    },
    {
      "cell_type": "markdown",
      "source": [
        "Pada kondisi pertama tidak terpenuhi karena usia sama dengan 20. Sehingga sistem mengecek ke kondisi usia == 20. Hasilnya terpenuhi sehingga yang akan dieksekusi adalah Silahkan masuk ke ruang B.\n",
        "\n",
        "Contoh lainnya"
      ],
      "metadata": {
        "id": "Z7nP-Xb39SUE"
      }
    },
    {
      "cell_type": "code",
      "execution_count": null,
      "metadata": {
        "colab": {
          "base_uri": "https://localhost:8080/"
        },
        "id": "EEiuV6cr8-Bd",
        "outputId": "fb233d56-8d2d-46c2-fa35-38dd71cbb05c"
      },
      "outputs": [
        {
          "output_type": "stream",
          "name": "stdout",
          "text": [
            "diskon 15%\n",
            "Total yang harus dibayar adalah Rp. 25500\n",
            "\n",
            "Terima kasih!\n"
          ]
        }
      ],
      "source": [
        "biaya = 30000\n",
        "\n",
        "if (biaya > 10000):\n",
        "    biaya = biaya - (biaya * 0.15)\n",
        "    print('diskon 15%')\n",
        "  \n",
        "elif(biaya == 20000):\n",
        "    biaya = biaya - (biaya * 0.1)\n",
        "    print('diskon 10%')\n",
        " \n",
        "else:\n",
        "\t  biaya = biaya\n",
        "\n",
        "print('Total yang harus dibayar adalah Rp. {:.0f}'.format(biaya))\n",
        "print('\\nTerima kasih!')"
      ]
    },
    {
      "cell_type": "markdown",
      "source": [
        "Harga sama dengan 30000 sehingga kondisi pertama terpenuhi karena harga > 10000. Kemudian menjalankan kode perintah yang terdapat pada kondisi pertama.\n",
        "\n",
        "**Operator Logika**\n",
        "\n",
        "Operator logika untuk mengecek kondisi dari dua penyataan. Operator logika adalah simbol atau kata yang digunakan untuk menghubungkan dua atau lebih ekspresi untuk membuat kesimpulan yang logis dan menghasilkan nilai True atau False.\n",
        "\n",
        "Ada tiga operator logika yang dapat digunakan, diantaranya:\n",
        "• and \n",
        "\n",
        "• or \n",
        "\n",
        "• not\n",
        "\n",
        "**and**\n",
        "\n",
        "and bernilai True jika semua pernyataan bernilai True. Jika hanya salah satu bernilai True atau semuanya False akan bernilai False.\n",
        "\n",
        "![8.png](data:image/png;base64,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)"
      ],
      "metadata": {
        "id": "r0ZhnFhf9YgS"
      }
    },
    {
      "cell_type": "code",
      "execution_count": null,
      "metadata": {
        "colab": {
          "base_uri": "https://localhost:8080/"
        },
        "id": "DuJesxJ6-HtK",
        "outputId": "7990c32a-3005-4216-ae59-50484337126c"
      },
      "outputs": [
        {
          "output_type": "stream",
          "name": "stdout",
          "text": [
            "Nilai akhir adalah  A\n"
          ]
        }
      ],
      "source": [
        "# Contoh penggunaan operator logika 'and'\n",
        "angka = 90\n",
        "if (angka>= 80):\n",
        "\t nilai = 'A'\n",
        "elif (angka>= 70 and angka< 80):\n",
        " \tnilai = 'B'\n",
        "elif (angka>= 60 and angka< 70):\n",
        " \tnilai = 'C'\n",
        "elif (angka>= 50 and angka< 60):\n",
        " \tnilai = 'D'\n",
        "elif (angka< 50):\n",
        " \tnilai = 'E'\n",
        " \n",
        "print('Nilai akhir adalah ', nilai) "
      ]
    },
    {
      "cell_type": "markdown",
      "source": [
        "**or**\n",
        "\n",
        "or bernilai True jika semuanya atau salah satu pernyataan bernilai True, jika semuanya bernilai False maka akan bernilai False\n",
        "\n",
        "![9.png](data:image/png;base64,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)"
      ],
      "metadata": {
        "id": "Z_cmJuwk9wS2"
      }
    },
    {
      "cell_type": "code",
      "execution_count": null,
      "metadata": {
        "colab": {
          "base_uri": "https://localhost:8080/"
        },
        "id": "kdqyelC1-KBo",
        "outputId": "dbd90759-bd79-4d07-b481-60371eb4a907"
      },
      "outputs": [
        {
          "output_type": "stream",
          "name": "stdout",
          "text": [
            "Berhasil!\n"
          ]
        }
      ],
      "source": [
        "# Contoh penggunaan operator logika 'or'\n",
        "nilai = 'B'\n",
        "if (nilai == 'A' or nilai == 'B' or nilai == 'C'):\n",
        " \tprint('Berhasil!')\n",
        "else:\n",
        " \tprint('Gagal')"
      ]
    },
    {
      "cell_type": "markdown",
      "source": [
        "**not**\n",
        "\n",
        "not memeriksa apakah pernyataannya salah atau False\n",
        "\n",
        "![10.png](data:image/png;base64,iVBORw0KGgoAAAANSUhEUgAAAKwAAABrCAIAAAESuc4VAAAAAXNSR0IArs4c6QAAAARnQU1BAACxjwv8YQUAAAAJcEhZcwAADsMAAA7DAcdvqGQAABSPSURBVHhe7V0JXFTVHv7jMIPDzLDvAgOyKoIsIovIJsi+qSCKyioVloVplguKK6ilkmVavxLL0lJfloqZuZc+jcVKfb5cMjURnmsgKsh5585cYLgDzMKdcaT7/b7fcM7/LPfcj+8uc+fecwH1Gm1dBOqjl8cg0CKzioC+UfxbWXR0IYnc3Fwy1Q0oFRRYEXt9bnDaG/WPyGw7yC7KapK7I8qHnthlF8YAs1a7tWclG2QNBzYAcDoiXXdBYUftLtmhBaVAgpQeKcRNqV08nATAhZuJXXSRmWqIPw1NON5Rdu1B3JTsYpw9dEfPCKse2NFFb6ABXbS119FHlvZkWhHQsXxyW1McZHv5sePD+WSqDdT2UyNs09ecIDMScPSZk+XrsmdlWqy32Ywv/kNGxe3bjdUl203ZBSntl+8OdA02C3Nj2QTbtgfFVZsmwxQLCHbvsX2X7NSAQnL9KdHOpHQnSWr7ECvQ1gI7XeBpd91e196YbcJrz5LtKVsehZQtT5Jty+8FnnX73qPzCPDhdkEAEgCy0kXAIYMqhqZp8Cwg3wjuVreSKdkQjnzdkM8Fa28nPYhjs8ho3REyIQVN0qB9C1eU7XsNaZaMoEY6UYSeRoB3rvgzZUOkiw7EBrEEfO3VlYmSFcSk9Iv3u/jTEJ8J6RJ734bJsNYJmvM61SEpgsR/gVIsNykDkp/ixfY0Agwywe0ISpPSL6bQmu2Z1nGi2B3Fi+1pBC1ToTUXfh8P1WMI4oj4k0JKv/JTvFiJETwjMCPQvBEMcUL1LcjMHJ3YjNxDyKCK0XkEV++gYxdRA0JNCD16SgZVDMYH7SOoq6sjvzkoiJ9//plMKYjm5mbxoskRlJSUiBOKIj09nUwpCLzO4oQcI6g9c5dMdYGeR/DgUQvx5/pPD0RZSSgwAn1w0rUPIjNSoIzgeuWXjx7jxdU2ooZLDeh2IzECPngI3FPEFdqhwAg+Of2gOIFPZqRAGcEfJz/B2zFOEMdV4pNouOdcQ0GILlEsAUX+Cz2CTh9QDp1yMt2BerCWk+oYwc10akSSco2A5+M8Mc2CM9QGpwv3x7Ghi5MR6REY8YhPjPtpcCIMfJ0hiA8XpnSqgynvCF5/awBOlJ5KLtw7etGP8WurqXW6G8GdTLieBGgq8NmwOII43ZKsg6mRPqDUkJPeUYRISvB5GIGABcDqFOmS0iMISrQc4G1GCUpTrhHMCIFoC6jPh4aJkOYOWlrAlRpTlxqM2xjh7Yo3nCicXrJpiLOfqWSpmLJHcGYs8Ym/IDTlw4NMuJQBDZlwVmoTp+2/8PaqVZSLT3LS0IJLuTQlJ6kjeIZgRsCMQCOguASOw5Do7LPPoHsJAvWJL5ELAojvkaKTTjTBA/0HtzD6x0iwbT160IRObEM37qHGerRmDfrtBhH/aSfa9IWoRh8Bsy9gJJCWgDhNUi+U/s6pNNpPi8RgJKBJgo2vRi1+M3XG19fJvCLoWYKbv/645eC5BXNmbT5xFmf/vvn7rFmzTlyqRff+8DTRevm1oiZxPYQWpQ6fmRWx8mAtme8e9Etw53jZQM/IvLw8fYDah+SlOfnRswR1v1U4+sxB6ImTCRed/9Qk9FUcnDHa+Mh9FMdm1TeQi6uvmOsWFI/HwAdoFIe6B7MhyJJgxaoVo2JGqJN25oaJwT7qpGwXUL7YqppKX/tRmjRIkBJF3NAmxgqpUkUpU4KmyeSywKojeD1J6h4euUmPC5bvDuT5OOPE9ELLlA2ROOEgusI5ehircN9oHoc1abG3h6vuG8eoDaUpvwQ/jIeHOfBVBHFJ634aIcE8C5jqBTezYZUQXvWF8hEQ6kJtLk16JCjdH+wy0hUnZixwzNxCXKIq+sTbzsN0SoH1tP2xJT+EOvsZ2oVbyeMRmRI8yoTRQjK93R/ibcHfDOrGQbY7vOIK/hawV3SNa5EnEd8QTdbsgbIlWHYoRp1MsYO6yeqlTAkomqmaSl+AVJqqkgCDEpGT8kgwbsaguGkivulLKVKCNEggYMHdPGjNh/PhYMABP2siCFx4nA0+OmApgMf58JkfUbRD4ubi7iinCzJTDcdtjMAJWw7YDDGcsHEkz8G4rCZBT4+zqirR0pg90MvQOorYQ8skbRLgRJoZfB4H4XpQiyXQgcZMqBwDvjpwbRLwOHB8DJGVbNgl5Zdg9MpQnHA1E/+4lmTAZxkNELDZ2surEx2c++ubc00c5eqK2RfIkuAfCEYCRgJGAgxGAkYCRgIMRgJFJajZhDYcItN9Bd1JUIsMLJG1EZo8H927iMxNkLER+vAEchcgvgE6fJWs1SfQvQTCROKvmT9anIC+vYHu/YkM7NG/16LSPaIKfQdySPD1IjRxE6r8HHnkERIUfCCq0HfQnQSN6ONviL8btxGfW79A6zeiZoRaW4lf2W+1/4TTF6Dg7rAvgpGAkYCRAIMqwenTp8nnN/ooqquryVVtA1WC48ePkym1oLFR5k/hNCMnJ4dMtYGRgJGALgkWz3l1atGnZEYR9EKCu8u2iE7e2lD48ouz1sg+eVeNBE11A1zTDPq1PbauCGRK8HFx8ek9H85atEic/WLdvHkL1j9GaPN7c/VdRmw9cF4cR39fdAt7Qd/Yhsx2D5VIcLr8pZLvL7w00mXzCYVvt5IpQbgQjtc3li8dn/FRTYEb+4PDv5yuWKrrnYtQlUfmSrISQrsWxX1+4Xaco/n3F26ToW6gEglsjfWm5OXlpEeYRr5JhuSGTAniBsPveHW3zcUSmGr3u3y36dHtqzr8MBwbmEpaA4PVj5+Tlzch3t85o4wMdQP6JXh0o5pv5YITT5sfAwC2qEKQKcEIc0KCk5tmYgmuVm41YmmxTeyOXqrHReYCndjCTTjx8L/7TYaE40Rj3aV+Orye73lT1e5QafRid6gkGAnkkGBYoAflpjiVMnR0AOWOOFXTwcqEXNU2UCV4bdNIyu+wKuWqk/GUH5pVzRwX6iozEjy3Eiz1httSQXlIjwTEfUUiuOb4U4oUpTwSTLMmF/dIYqKeEQK4J1FHftLmAjcLWIYTpyJ5procjlbuGjfLVM+ymmiwtCyrSRjkrAv92YV7EyitpCmnBIdFT5/XjYN+WqDDgmtZEG1MSBCmS0jzIB/+FQD9AFIGd2rYJemWoCZB21wPZ0u/93crCCiricUS5Ey18s52nzTfzczDXrJJl5TfBSYmRPqXJJjnCOsSSQmAA7tiAOUCTxfKQ2FYf7iW06mtNGmXIJFtIZLgQKBRkGvZqTgsQd4068A3/VdXJq6pSpJs0iUVcsHRIHghBL7zhS1jyA2hdSrMtoJ9E4DPgzu5xJRWOCLZVpq0SRAWZjifSMQ7hFrj7NqqhGHBpoHZQ+08hFiXsQW2dh6G0cXBkk26pDwSrBoCVZlE4kkmhFjAEl/4LAXy7eBmJnHHbawbPM2HP1IhyAKCnYjnzCXbSpM2CeiiPBLQS9kSvPCuP+UeYZVy4b5I6g3CKuZER1kSHJfjflEa2Zij/IxpytE/WUiuahsYCRgJ6JJgixcsluNZCGnKI8HyXUHkbejTBi050cUUkAqRBglqY4kTFYz80I7gt17wUVJHVn7KI8HiLd6eERbAZg+NsCo6LvuMs2fSI0GyJ5HAR2M3Q+KO+73j4XQQIcEuXyL7biw0TAE3Dgy2hSeyTlTk3hBiwcBgbU3ywi2ebF5/B1/TmCC9/B3xhXPt/GYFTS8eaOlsYGrGKjoi2yP0SGDKh1EDiPSa4cDXBkc7qBxJSDDPBbjacCoDrICYWrl/P3hXljUUlaB0b4hxqheOjI8wyvsqbt5qZywBB8B5uKmzn2nu9pjOrbogPRIkiVyAMsDeFA5GgoMNsSGsT4DfxsDJcIh3h9dtoGAk8TACPmmVbCtNBSTQ4q2pSV6y008swVulA3X4HKGD7tApvjPWufDMdAwsufnfqkWCJ1lwOYNMX0yFS+lwNg3uTYKbWfDrOKhOhWZR0blUqB4LjV3OQytBuSWgjTRIQC81UYLwAVqUCaRUyhQ7GW8zoJ3mdnrkqraBKsE/EIwEjASMBBiMBIwEjAQYjASMBIwEDDAYEzBgTMBAcRM0oPK30ZcHUfVetG4pWlmOLje0ldxCOz9GS5eiFW+jAzXoYTP6swrNjkfARVGZaPVGdLmH1z0weJZQ1AS1xMTAfCH66BhquIKSBiO7UHT6Gtq5EPEBZa4lXjlTvR/Z8pFJMnqIiGcawYh4srNvzRncx6CUCYSJxATRGAsCiCdZj11ESxKJmaK/Ed2Efu9PlO6ODBzQBcYEzwdoMcElVH8evZyMDEwQj48EfOQaib7HFkDo8a9IaIi0OcjZHx29RkQYaB6YE0MGjAkYMCZggMGYgAFjAgYyTVBWVlZQULCk76KoqMjHx4fM9FGEhobW1xPP9HYHGSYoKSlR8yOrakZjY6P6X0uhZuTk5FDm+aWAMQFjAsYEjAk0yQQtZ7cvcDYRGBsL+um47vqTjKoaz8IEfxV46jikLWp/yVNnPD79Qa6Znp6+Ps/YbvShm2S0N3huTHDvyskJ3vxRc7dfOrTex5rtmVx0/o46fm/opQnO7lvppcMysHL1GuY5yNXJ2Jivb+u4qYqYAfPsgXVxQ60H2Nk6uTrZWJqaewQvP3IG1VZPnxjEA2ALTJycA2avP9z2IyyJv37eHuHMy95w8uz2ebZGvLD8ddcanpJlyuI5MUHzrZKxTgC69kO8/P29hQY80DbPWrP/0dNWsoLK0EsT1P1WETcYnEYsvELknlRtm+tkws34qAbdqvBis6yS5t168AQXNN2+9FqkhQ5/+D7ilXZVcWxWQMF7dx9Krd2T6wW+2CECVx9ff39PSy4H2MK3vqJOxKcongcTtN7fszDdgGeWt/qQeLNofnAmaQC2hM83VyjbCf3opQlu/bo3dhA4+sz5nchJmKDp/AQHDuhavrHz6J3mOwe3zrY1BL3QefeJaleyBmrremb/UvegpeVpa7sTWuu35Idp8Zzmb6skjINQ/YVvw8xwH9E/3enVxvAcmODRvZsHd5V/sX3XVZFCGK1Pn54//q/y8vI9Jy4pOjWWouilCf6u+71iW/nO3VWisTf/de6nLz/97Oh/xXOqPblzqWrvlk/ximzd9+PNux2zJDfd+ePA19vKy7ccOHWxqe2g11h3sWJH+fbdB2r/JiMtjxsqD+4o3/zZoTM3xLZQDs/RieGzwbM4MVQ3GBPIAGMCDNkmUPM0JmrmqpPx6n+FqZqZ40J9USIFjAkYEzAmYEygNhMs2R068/MQCud9F7dGqqaaSYsJnubB1fFwOkWCafC0q6lK/kyCAAEMt4PrUkWqo6aYYFlF0Owvw6a/O9TBGLiDhK98GYazRftjS4/EFO+PKjkWu3Bv5IL9MStOxBXviVx0OE7UKnH5/tEL9kW/XUlMi7e2KrHkh6iFeyIXVIxeeix+bbXsufLkIS0maJpMzLlnxIWvxsCZsQQPpUNzLtyeDJcnELN5XJkA93OIWW5uJEGQgHgT9r18aMmD2xlwJZ2ocH0ytIi6wsH6DLiMgxPhbnanpShNzTocLN8d6GYBPB9n0XyImLFTs81Y/ViOYQ4vvBdYuG3Uol2+tgDOecNFpdFhbiywtCzcH1u8ydNJqD3AW5i1OiC3aKCNBbjl+a+oJrvtDWk0gYEu7E6He1lwPxuap8LDLKhMhIPxBKdbAUcAO8YS70KPNiZN8LIBOJjC55FEhZ/HE/2ciwQbNkQOhIpY+NQXbLhQGAJNsiY/kkkNN0Hy7GIbjqWe+N30mKXf+zsA2GZ4i7NJkdqECXaFJ6cYaZHzZpFwDHeR57X1MkmjCfg6UBwC2yPgmzi4lU0El7uDmwC4LNGIdYn5OCVNcGMsLB0MBtqg1x8i3eDuJJhiIarZBnY/SB0qe7ZSmdREE3CFdqJpQTHjC16y0DbvMMGqIxH+rgBaXI9YYUCspaWBFnBNXtgbU1oR4OPDYRtxXaKtA8YIMWNmBLQ7qTek83DAI2dhFfPwCBAABNlBniuMMgRgwXuJcD2JmJfVzwH+yoeP3YmiPGcI1wd9PTibA/Wp4K4LAgGMdRYVucJ7o6BBYkHKUbNMoIGkxQQaTsYEMsiYAEOGCVaWliTYQq5Ln2WmM5gJef7Jwj5Mi4GC3u4J1Dy5n5rZmAPeUQMou4c+RuwDxgQ9kTEBhmaZ4PYk+GUc3MqixlVHxgQY6jDB/5IgxBx8TdtoDkujqHXE/NYLQAfeT6DGVUe6TFD0/mDbgTp6Jjrc/lqgpdVfn6Nn0l/PXTj7cDylpvqpESaojQUBC0IcYGMo8bqWj8NgXzq1jpiECbhKTpyuHOnbEySU1SSW1cRmphqCgcG4jRFrRfFlO/yjJjqkvhs0psDBN1E4Zn3w5ELnEdmDZu7D5kicv9ErONU+/f1R7xCV4xds9Y+It/GNtwmdOazoB9rco0EmSPKEuxKzXl+Ig1I/gnOGgD0bAocQV0UqR5ImOB8D3hyIdiAqvDMCajLgSQ5sGAImLMgeQgRjDcHKEs5JXJxRjnQfDqgmWLLTz9UM9IY7FpO7hKjxEUZGg82mV+B0QuFcOz09jt+soJIfw70sgDfYZu53sdgNL75m3p+nP/GzKImelaemmiAHyt1AVxcy3GClD/jpgZM9/C8fDg6X2BPkwNFomOsMAm0Y5w3n48AYwMoCygJJbgqFXye3dagsVW2CZbsCh9iAeIp6EWOyUk209QQJS8NXn0qYNVeobyAywQ+h7rbAtTfO3Bq5iqxJGzXVBLlQEQADdYgr5E76IOSD0BAuiA8HQLxK5Hg4WGsTaeCAixV8lULMo38lFWY4gbGoFfTDUsOBtqn3lSbdJkh4s8wz5kX3aTuixSZYeWjU5Nddx5SFStSJm758aMyLrkkzh83eHDh2hlvW++Gif3zC4l0jU99yxUUxrwxOKR1R/GNvX3YipkaYQJNJtwk0kYwJZJAxAYYME7S0tDxm8PyjteMZly4gwwQM/glgTMCAMQEDxgQMMBgTMGBMwIAxAQMMxgT/eCD0fwnTWjvPJ4UxAAAAAElFTkSuQmCC)"
      ],
      "metadata": {
        "id": "FWKC5sA396gY"
      }
    },
    {
      "cell_type": "code",
      "execution_count": null,
      "metadata": {
        "colab": {
          "base_uri": "https://localhost:8080/"
        },
        "id": "YZ-wk93g-ORp",
        "outputId": "b7f0c266-4bcc-4c51-ca0c-9f9e885ce2ee"
      },
      "outputs": [
        {
          "output_type": "stream",
          "name": "stdout",
          "text": [
            "Gagal!\n"
          ]
        }
      ],
      "source": [
        "# Contoh penggunaan operator logika 'not'\n",
        "nilai = 80\n",
        "if not nilai == 85:\n",
        "\tprint('Gagal!')\n",
        "else:\n",
        "\tprint('Berhasil!')"
      ]
    },
    {
      "cell_type": "markdown",
      "source": [
        "**Perulangan / Loop**\n",
        "\n",
        "Ada dua metode perulangan yaitu for dan while yang berfungsi ingin mengulang proses atau operasi tertentu beberapa kali.\n",
        "\n",
        "**Perulangan dengan for**\n",
        "\n",
        "for digunakan untuk melakukan proses perulangan dengan mengetahui iterasi yang akan dieksekusi, misalnya 10 kali, 100 kali, dsb.\n",
        "\n",
        "**Iterasi dengan range()**\n",
        "\n",
        "range() adalah built-in function untuk menghasilkan angka yang berurutan.\n",
        "Misalnya, range(10) akan menghasilkan angka 0, 1, 2, 3, 4, 5, 6, 7, 8, 9"
      ],
      "metadata": {
        "id": "5gcHbm6Skrmj"
      }
    },
    {
      "cell_type": "code",
      "source": [
        "# Contoh penggunaan for dengan range()\n",
        "\n",
        "for index in range(5):\n",
        "    print(index)"
      ],
      "metadata": {
        "colab": {
          "base_uri": "https://localhost:8080/"
        },
        "id": "sPY0gISSld3V",
        "outputId": "d38a0feb-87ae-4f8a-a7a3-b8d767a6323c"
      },
      "execution_count": null,
      "outputs": [
        {
          "output_type": "stream",
          "name": "stdout",
          "text": [
            "0\n",
            "1\n",
            "2\n",
            "3\n",
            "4\n"
          ]
        }
      ]
    },
    {
      "cell_type": "markdown",
      "source": [
        "![23.png](data:image/png;base64,iVBORw0KGgoAAAANSUhEUgAAAUQAAAEQCAIAAAEwkKrmAAAAAXNSR0IArs4c6QAAAARnQU1BAACxjwv8YQUAAAAJcEhZcwAADsMAAA7DAcdvqGQAADaaSURBVHhe7Z0HfBNXtv+z7+17/7e72ZJsCptserJJSEhIQmgh9BoCxoDpNfRiUwwYY9MCpmMwvZkWjKmhGzDdgOkGG9xNc+9FtmzZlvz7z4wu1kgayZYsGSGd72c+9rkjzVzd+eloZu7ce85LeH7YTt0//BvzlmDXMpQr+OKA7sJaIDWVGRbFZtqtYv8Z5ze5M0sgNBs7duxo06IxK6sp1Tok8qiDERERF8LTgu+kVC78C7v80Wc+Bk0T3sXQ1O1jOdgeq0Kr3S6+kcyqFWym7lrGaN0VFcywDtp1x4XjRiSCgnA3lC+W6XzxLYxpx5zzMWYZhvMxZlWFVt2LPT2ZJeCpLipLhRKeyvm6Vy+Zoy6q+f3WU2YJhKcUm1l3LUN11z4G6n7ykP+bWywUBIrSmWE5bKbduzb4MUtg+/4gZgmkFvM+tu+3zaws4OentcnOoFBr+ZgVf1t08N7ziFnWwVjd1j6l2sx3rZahumsf7bqbfIJdWzC9O9ZeYGvUVPuy1yRs9Zg7Ne7ALAH1fYm8qJCVBR4cWcIsAd+ZIxzyusWkn0I7qrv62EjFC7wwbijmCdcFQ4dq/nLkWPhMakuH2rV7L2YJNOnuwd2UKEuyWVlg+e5AZgkcObKV/1eWIZQg7mhIzZGj13x89VfMcMbTSMi41/neB03FrJOgxrDdVYWm4oPXM0dujGUF62NLGtcONlJxUBCCLyNDhhyh51C9RsewENVqMbvHtygSFT+rhnXi3E4s1q/4hL/WKdmMTyZRcb68nFnWRKLi2um3q5bG1sAWKk7VOfEJX67KrjqFhYW3pUO99+AhZglEpin0vSUv6T6zBHQ6EapDtVpcSz8gtQNVXGtQxbWGqOLcEjyJRfQJdYH/E8auk3EgCDtmM9tC2NKh1rmTmLRuD/fLdfPgQnUxU7ga8woMEUqMPu2/Ff6b8OTJLr5c3KVLQbUvmyxZcXSynFnV4Lkd6ucItVlMVjwWemH+IrhOxLI5WP4bSuXYepK9evnZ3bSrKzMq8V7BDFvFkjrrXKBV5xFPdah+d6k03I+qTIY+n7OikTa7jp7ALAGnjp2YxVMhbl55cfqiPVc4o3LlvTz+r7rN06doDVeZO340swQ8t5xnloDOUVsfyA8EMKfN27yEf6IRBEt/YYaRNp++m8Msu8Ngm2vnjvm5YEl/flGgNov543+jTh2068b/rfsvnIlGURGyi/iXuDV/+7PwJqCZEzP8/ZmRoPXYygYhnQ2jc9OxZ67mp5+jx8R13F/1maYkOz5UeKqhPlf17/kTX3jG9OWLmSVQlqvVtTNx4nBmcShzcu7u5v7X9Pysh0Sbw2wP9sksRLV07rMykjt1FZbURkdzLVDd77Y9na7pN8wxMNDmbm8hPAMvvYRS4H9fQRvh51SlFF4TmLqLGRkl/N/Dm9iIGkUW/9e2kWhzqu3BPpmFqO53W+f87OQyllkCTr+M4P6qz8+7l48Xn585ooRbSzWbrsSJf/2DV2vtJ2CFB7MEVsyfzP2tjfOz3WNOm8f7x3GnrgGrolj5RcNMnV/o0zV9tx0DarNjYG6bL65lhj5pwiwSG4Z0FpGZrnXFl52t1d2dkS08mn6GvJTvPa/skRdK7DosO1NrqlC5QusBos51pU4xM5cf/2nT12E6TyFs5dmNHjb93bZSz4zttjk6WW6lqz36DXMMqM2OAbW5kvrfwHcPgsIwbyeuReKmcDnZswH/V1nCT7b5Z13exrMLlfQ0pAvXHl2cEG3CsKXngoE2L1qMnafhOh8VKszdjAdP+JWVw2XCTzPj4XV4aE36R14SM2wY+m4DCQkJzBLQuZwMDw9nVs3YuXMnswR0arEYdf6G4iI+DkgFd6GvGZMp3eabgXPWj3LmDPWnURQJj9pFbWZBLaTYw/m/iO0B+5jFo9h98Bj3r7LN+24mcn/Vtaxx756QJzwhENh+5alSpfmg4plo4mVe4D3h9QKUF+OdTigvw+tfojgWnetj3UW4d8I3b+MP/4Wl6lG7PAZ0VhbvPMN3a6o/TdzVw1uDbnKGus0Nm7ZJzS/jDDU6KpUV5zNLYNI4rS7rCd5ruL+SOp/Z6pUk0xxMnd2awCdtESvs543vhbJAjuZo6rY5NzeXTbazGdgnsxz0G/YM7oaGWyqsHAXoeSHdZo9dD1/oXnvjUJsdA2qzY2BWm7WDcrxwGGiz12ZcTsCtxwgIQFIBEoVLTl9hVEnUUX68Z4uRvL1nPv+Xw98focLItaxooWzTGGhzbAq4y8D7SSiTIyUfCr5vXTOl/dIpZtw+hwjtabuWnvZuDcif7exe0gDSbb6xe/amMT04w1CbRSPFEBcXxyyBa4+1ukqmThNHOC3y8OJnh1S2OSSOH2KkruWsv1dOqebBxYrj98X3khbEoM6PhQFO6k+jcy/pPcPTyL2kslSrP2zhsj3MElh/7Ab3V1LnnJhL4kc1Oru1ILptVigUbPywzcA+meWo1m+Ylb5jz4uq28zdUapvLVn5xadaOnMNvhFfwAovPtRmx4Da7BhQmw3xSHhGV/isw73Oq8wo0hoxxdNzADNsGANtjjzNT8bwm4h6n+H4Rrz1H37lS38TXgNOCfH9OJKuMqOy572PGzNsGPpuA+Xl5cKsDxuCfTLLodvmyvuq+8l834jOzY36vurCQX5GaCU6MbtSH2iFKNB51c9vPfdXfV/18Popv617OUNdS7kiXXxfdSfoALMsjXSbq7x/FhMSohWDp6xIa2RoZoz41bxrgTO5f5X3kuqgNepatnuPv5yQyZcFJk8cW9v3z2qq02YzsK1+EkfAzDaXK1/gO2pz2vyi306b0+YBq6KozS8Y9BvmGFCbHQOrtHlKZ61UErYG6ewYUJsdA3PbPG0lM/S5butDSqTafHIhvALQoRVCk/DVpxg8EmVAYSo6v48NF9l7XJozw6kdMyq7AX9szQxbhb7bjoFumyv7huSl/JgRyb6h/Ow0dVGNTtdkqVxrnL7Oq6mp/LbqvqESWV5qBh+fSF1LhapU3BFRlKuVQ8eCSLfZpD5AnfcotPsA753cxCyevINLBnP/KvvDsov5Zqr38OB0YHaJZphKx95DqA/QYpA/2xLJopkylsVG25yYVWK9nkbb1ZlrsKp2fsNsB0dss/VwxDY7ICSzQ0AyOwQmyhxdVadPrDCMjCNGK5K4gBz//Bd0QiY9rCo16ZMw9BnHbMJcTJS5/jeY+zNKZfxoOW75/GuUFeBPf8LHznDri2WH0Ji/NeYZIAQy0aF3K4RqhU+D3yhmqJk/i7upxK/PpqlxdOiErATEWutew0GgH22HoGqZ09LSPA0zcuRIZkkxefJkZpmI8d2OGzeOWSYyfvx4ZklhvFIjcM1kB8tWqVpm7e5A+S8jxwyb+Rsr6fXbvfNVU2YJiDsLx4wa3L6F1quVqMr4jMrjfDV5YXV2u8e7uzqAuRpxKMlWTevrvFnMau+Jnp6a8E/iTseoM3u5Dd9v2J6VtSsN2b/U03P0w6Jnia616dtrYKeefVmhZiEpg+/wSdxFKHDxMuJSsdIHycXYvBQ7lqOgDA9u8I+InhTi4Hb8fh6l2RixDNnRcGvHZ4If+gPkCrzSiJ+ifeHZ5ZEI02S+vX8+dwm1ZgwfgkiNziHWCT0vlrksP3VBgNZQXx2GtP+IWdq7Hdmz+dHf9y4XUqCp0YkYqsh+cpEPV6RP4f6IlLhLm1iUJL2+5Vk9mosymGlV+nPTtkXZSdO2PxuMr01CdMTdY6squ91rIvPdhOz7j8XTHArgHYATy7BlNx826au/8ut6zcMrX8BvKyry0Gow1i9A9iPM3YfSPHRvgCMhcOuEfYfQZhJybmMnP6NVB1O9WRcdmXUwu+vf+G7NDgyrI7MOxis1gsUDzFocugRzCEyT+cD1TBffyDGbq7rZJWwM02RWx5iy0qMjwnqQzA6BaTLHJMvDHsm4hZWJFwS6BHMISGaHgGR2CEyU+eIDZkiiyEK8MEW7IBU+q4RVYnLxnhD5QUygJgi2NONH2n7KbNvHRJm9AlD/fdzYjjYdMXM12rrhzEa0bYNdNzH5F5w7i+PCY+ZHl+H1LHiHBjnerKP7vPlnTb8pT/36/LKQD3DAyIommWsO/Wg7BFXL/PDhQ0/DtGzZkllSjBgxglkmYny3zs7OzDIR4xsar9QII0cKQXttmKplFj+6UJakrdp12KnvJFbW7u6XZTx5r96PrCAgfnSxbMOOCT2bi8OeVqIsLQ4JCek8ch4r6z1F8Pmlk6EHke3attQJ/yJm/DDXkBDNUybxo4vsJ9Hchg3baZ4niivdNHN4SMihK0LYHT2UzmN/nTKqR2ViAXt4dCGW+d7RZSUVWD7CiZX19DDyILLg0fXDt56yghTTnd5jlvZu+3Rs4DFl4qCJq1lZ/0FkzpPzEs9YORS7bifFXd5cqZXOE6oh34uyg2hX+l2DbtzfwUsMxpNOu7iuchi5vcmsj47MOtCDSBuBLsEcAkvK3N+Pj7xTZJ20pkRNsKTM6odX9hSy2G4gmR0CS8occDmDWxKzaei8zUGXYA4ByewQkMwOAcnsEJgic7e3sGQ0hk3DrXNY5I/LB+G9EGtnYGMAnj7A+qPwVndKlyIpHU2HCLaAqytbXvo/rbzQ3BqZJnwQSoogk/FLJdfOQyXHujOsSJiLKTKvmgRlESZMx4mtfF7+c7v5h8eebpizAJf2YvMuTJrOv61CBdehiNaeGqQqxFy9gQbcTrjFCO5u/BtO3GFFwlzoR9shqFpmenRRJfb2hCry1JoiFXwGaQIqiw9NxOkjo50MPojkuL57TjEzJWj0o/SjX6B81Pwdhp43d+rShVlS+B7XGrymJ3PZtC3PYpFqVzqw1Tf8hMq7UhEWldk7rybm3fC3yIzI2sE0mRVZ0TtOXe8+WDgHC4gPjTwvY2D7TslZmiCWIpkrGjZoFBcXpygXTzVlKGSPuJfaOBmSmU8UY0jmw0FXDm+YUTm1VYfhE1YvGKG5GNSRucWgucwSEFfavzX/aXeESj/H5l4aK4qIYicy+ximRYsWzJLC1dWVWSZifLc9e/ZklokY39B4pUbgmskOlq1Cl2AOQS3JXFFR4bYt3sU3ctCaaDvLHfxCUHverE73wy2sTNQiJLNDQOdmh4BkdgheJJlvnglmFmEiL5LM2+ZpArkRJkE/2g4ByewQkMwOAcnsEJDMDgHJ7BBUW+aTC5GQgIEzUabAlat8IJHYcKTF4NoNKMtx+SYuHIB6jvocN6y9gBnOOLQRF589qy7NR0gIv4zqyudKqCQnGRu3M9sQrYfi3FpmE2ZRbZmDlyG3BG+8guC1ePllIA4JMvzSAd/9gOhTeOddzOrHp4flqPsyXv47Hl3Ay29Cph12fHZPnNNOiuL2A7+3Hl6sKMm/X8faQGYTZkE/2g5B1TLTkL8qsbexYMm3DmSUYlKPJqysfWgubl4w4CdjQ/4ub/M0MuSvSWMXZukd8S79p5o35G/CKq2h/PoyD/LUrBFX2r9FI+7v+kva6ZQYBWtPxyQGL7Pb2CO58RdvpRS6dOnNynp6GAkxM2mwU6nUeD+OshI+e7Vza03AF/Fuk588jAq/tfemJjyNWObHKXnxob8liyZviJm65vzBeWMra9WRuWH7EcwSEFfa7Bs+s/ysPbfVRX0WDR9ob5GE4gwzatQoZklx7NgxZpmI8d0uWbKEWSZifEPjlRrh+PHj7GDZKnQJ5hCQzCZTmUT8BQqmQzKbTHSyXC2zldKIWwOS2WRIZodArlBGJRdxS0XlpbbNQzI7BCSzQ0AyOwQks0NAMjsEJLNDQDI7BCSzQ2CKzPI8GO/FzU6B+plfRRmScgRLxApX7DrJbIYSeXJmGmJoL0SnMpswF1NkvnMAZ8/i/fooyuWjsilzsHEZru/H8JFQlWKYK0L2QT326/IpTAwQLIFNC1ikt7//GZfi2UqO6ZNwXPRAt1yB1FR+KXuW3+ZJKNLK0fEbViTMxUSZY7LRaw661cNLL+HMNQRFYp4bbyMH/3gDmzygdk6VUktmNSV5eLsesytZcJAZHBkx8PTkl7Q8tibxOp4Uoe2XrEiYiykyJ95FehFme0CRyYfbzElBZBpuHcOa7VAV8PKEHmEhORcJETp1ck5NdoNOX/9U4W1PNAGmJPCZgUxKHlhTTJGZeGEhmR2CqmUeN26cp1mMHz+eWVKMHDmSWSbi7u7OLCmM79b4tkYwvlsj2QtthKpl3rJlC7NMJDDQ2FQJ7ugwy0Sio7XnbWhjfLeRkWbGMTK+24AAvetNa5N0Heee8DGt5UICGUUJioq5q1xM2CS8rItpMh9e9avrqH6GxlpfC5wbHMkPxVUjlrk4JdzDc/LRsDRW1j5wW1dNH9KlUbGhe3Kl4r/++BGzdWTOiBg0dsq6gxpn0tJDkTlyvNupO5q4myKZVTM45x7ZJzxFqjWq0j69R3do7saK2rtNjzrjOW3y5XhNx4DZMufISnQHlAWsgd96RIVg3XrusOH6HawXppz5+PALJyT3twxw+o5f6X8CLfrw89l+HAYvZ/4256+v8uv1ME3mHlP8UVHktSeMlbVRlKUYkllN3+m/MUvPP+JPrc4plkwHi4Ujf3H51qDMXkvWJ+ZpQu6Ldzv1pxb+/v45Ih11vHlQmxbM0qaitKjbuF87t9Wk6xXv1r0nPwHg3dZj1UWOSpll8rLgOykmLcduJM7bfVe9OU/b91GuwrXTGNwaymxM3orh3+DGTjyRwXkqXv8LtmxGo5H4+C/s/ZzM2TFYcAA3tyMW+OAVtl4b02TuMGoVVIUrzzxmZV3Sjcjs1r9FqUhHHZkVBek7rkr0dinzns7b9Huzj+oUKNmgev0f7X7t6jNLe7djmzfm/rZx0szD05ZZvvJkDDO1kaXeOReTPr1/88px/OLdqspLwsLu/jBoISvXwJvLlardFx+WiWcpcDJz/P2fcG7Iy+y1B2Mb4LQfFvsgLh2tP8aho1h7BA3e4t928iS+bI78HHz4I9oLkxlefSa/NqbJfH7f+unTJrKCHrM8J49wdWcFbZkTQ7a5Tpk213cjK2sfuFUzpnpOGFFc2fmlx9S+PzNLW+bsmKvcfs7FJLGy9m5zk8Knero/ytBkuRPLfGzNpDLR4RWjLCvhzgUe3itZWXu34We3T/ecJM7ZYfVz8/L+CAnD//yVFTkCZiBb6iTXoCcztKFLsGphfLfP4RLMRKqWmcWMJgzz4IFWDH4bpGqZCTvANJm5i4X7iYYSDhC2iwkyl5ar+gvBkiOTSOkXjOrKXK6s6CckW1cvsalVDQcgbAnTfrTVGh+7LZW2h7BhSGaHgGR2CEhmh8A0mcMeybglI1/c00e8AJgmM/GCQjI7BCSzQ0AyOwQks0NAMjsEtSZzBeRGwrIS1sUUmY9sYIYh1j8bA7TZDw8ymF1Jl5YI04zm4Xlyh0VaN0ToObRqxmyiBpgi84BPMbYN3q2LpRNQvw32LcKXP6DdZ2jZBcc3o/kINGkuvK8C5eV4talgC9Spw5aX/sDm0qnh1ojHz149Bn9/fhHTtRMziBpgoswJV3EjBX/4Mzp2xBZvlACffoHXXkfoCXz8FT6py97ZvCkUesPpvMdidyiz1aTdRpJI5nmDUb8+v4ghmS2BKTLfu8RPPD9zHilxCApCciw/5zH0PJ/VJP0h7kfjojAsXlXOv8otWpTiqt7obom3afMwnH9DbDIrEuZSa5dgxPOEZHYIqpbZycnJ0yx69OjBLClatmzJLBMZPXo0s6QwvttRo0Yxy0SM73bv3r3sYNkqVctMw/E5jO/WHobji2Ve5Dbu2G6/FGGupT4rPVwMzaGSJ965GBK8eO8tVtY+cAG7Nwf6uuYVS891KS/OfuVvBqfKrd97+m6c9OSagqc3dhwKepSuCXohkrkiJCTkyJZ5CbkSU1QqygrnbjjUq7EzK2vv9s7vK0LOB686ofnG2JvM/b259shnBN5hZV2MTZUDysYs16T+EB+4MnnuvgXjCw1MaZrQf5TBGZHZMSPdpgbd1VyKi3c7rkUjrnhPNNxYx5s7t2jPLB2UpY1a/9R98HJW1N7tnIGc/BV1mg5jZfuTueOQJRXlBf6hmmnK2hiTuVUbUYeJ9oFTs/qsdh+ZQFlW3FBXz8/e/Efqs4l0+j/a/dtLz4ic3KEh97ddF80aLZlVmXvvSTckN+FMWgm2e3SpnLun92krWo/TpK20N5mzn9ye47OEFfSYxR0M0eEQy5x45zj3kqEZkZf3bxIX9QlYvZRZ2jKX5jzhNhRHItLeT4nObsUyh/xurO+W23DnMc20Y/F+ws9u9579KysI2JvMJkGXYLZD1TKHEVWRk6MXudLGqFpmwg6wpMwPaLKkrWIxmc9F5Lr4Ri49ksjKhC1hGZnPChqrl4WHNKlZCRvBYt48dF2MWmZWJmwJktkhIJkdApLZIbCYzAeuZwZczuAWViZsCYvJTNgyJLNDQDI7BCSzQ0AyOwQks0NAMjsEJLNDYIrMOUazuykVKBamsZYWI04vS8LjIAyczOxKUjOZYYhFHtgczGyiBpgi88J9eO0VPM7lM/4pyrAtEBERvF2ugrcrZEmIF4Z13r6F+b1Rmdfi4TX+PdzyQ11MWc9Wclzcj0WawZE8Mhm/KERBx5LzMcmJ2UQNMEnmI6j/GU758rk/e0yB0wzcO8Xbh8LwYR0k3MTFh+yd+2YiVm/M/p//l58oK+anXsxQo87Bc/4aK3KM744MGpFiAUyR+XgYdvgiKY9P0bvnJlYdQPZDuM7E7Sf8mpzHiBY6tMPOY9JkVGhn/ZwzFgXqpL/PWDyG32r3RVaUIJulAyZqDF2COQQks0NQtcypRFUUF9t6kKSqZaZZFxz2P+tCLHNR1kO/9ZtZQR955tNszfdaR2Y/Pz+Z6CJMfOAyYy5xr7KCFKtWb2eWjszyLG7DvWc1MzR19PBf53c1KoUVtGSuWMVt6eeXmq99YfiMAD+/Yxc1FWnvVqHzae1N5p8GLagoy19+6tmNkzZnbl0yngq026g1zNL3j4Kw5DzpI349YHF3w6lArz3WuuMS73bDRCedqbQ63rx+YjfJfIVlsvSDD3LGdRCyLgqId+vVj5/3/HXfOeoih73J3NWds+Wz9oezsi7GJr7ePbE8PksjpPjAKXKTD/uviEqVukUuL1l+6K7B+c0C7du0ZZb2bkc0/pb723GkJtWjjsyDZ+5gljbK0rwxs31bdR3Mytq7zYq75unpVbejJlemvck8tnfvO+d25xoIjh8fF7ot6AYraMtc8ujyioMXE55IhxVY67s17vqJ+6kGO1MNyZwScSUuLm7oZM1PqHi3l7Z7R8TdXbBP098ilvn+ofl5JdIT5+U58bvOh88Zqsk/Kt6tLDvl/r3g26JPa28ymwRdgtkOVcvs7OzMMl6aSO/evZklRYsWLZhlIhMnTmSWFMZ3O2HCBGaZiPHd2oPMhB1AMjsEtSfz44zi8/dzWYGoXWpJ5qRshXrqzTlS+nlQGzKn5jKN1cuFB6R0bVN7P9pqjcMeGR1pRFgHktkhIJkdApLZIag9mYnnCMnsEJDMDgHJ7BC8QDLLH2WKc5URJkDe7BC8QDLnXI619XjGNgt5s0NAMjsEL5DMKXuua0ZcEyZB3uwQkMwOAcnsEJDMDgHJ7BCQzA4ByewQkMwOAcnsENSmzCq8/RoUEmmxq+DwAWYQ5lJtmev/jA7vICEVYTeRW4IbEYhJxtUQFBYj/h4fxvH3K/zbMuNR91NUqNCuL+p8KGwpEBLCLxeC8X91IBb65CHIjAp/azdKStF1OisSZmGKzAM+Rf5j1P8R//MK/vgaVKXo0x+dpuHzL3AhGr3ns3e2rg+VEotPounbbE0lWY/wH+0E6LnxiJExmyPkAIv1V0lpEb76FO91ZUXCLKotc5Oe2DMPcwLx7ht4tT3+/ikUOXj5NTh744M62HUegxfzb3tyGy+/DO9A1HsPEzWRRgRK8MmXzKyEezO3GCHqJP7zmW4USMJE6BLMISCZHQKS2SGoWmYKMcNh/yFmxDIry0pS09JZQR9lmaJME4JJR+bU1FSlKD6T+MCVFRdwr7KCFKlpmjj6WjIry7gNs/I187J09MhIS5XJNfGtRDJX8ME2U1NLy6VjRmWlpuYWaCIWau9WxW3ITAF7k7lbr6lKeebOW9IjLKctWmA8yl8XI1H+ih8kcbfjUmTcO/KzWVH+ji4dpnNLruPNZzdNkqxSkZ96MxcLBn/Hytq7XfJLT+5vc1FUOXuTuc+M3wD5jEBNjExtjEX5k6VcPReXzQraBy4v/vLInr1kJdL9JOMXHzAY5U+llMlkjX/WhFYX73ZE48+4V3vP0migI3OHQdpfNQ3lLr26O03ewErau70ftN7Pz++tH0ewsv3J3L1T78KUezG5kpEuOQzLXJjqHXCJ2QLiAxcaeh+FaaejNV+CSlTlpXFxcR3rvqtQsXD7YpnzU/ncKT//NFxd5BDvNnB2nzIoBvvsY2VtmXPv7UkqkI5XmJ98LTqndPtU58oI/+LdcpSVpG29/IgV7E9mk6BLMNuhapl9fHw4fzKDFStWMEuKUaNGMctETp06xSwpjO82KCiIWSZifLf2IDNhB5DMDgHJbA47L6Ux6wWBZDaZ6QEPXXwjlx5JZOUXAZLZNNQaq5eVxzVR4G0cktlkKmVm5RcBktlkSGaHgGR2CEhmhyAquUi9sPKLAMnsEJDMDgHJTBB2AjkzQdgJ5MwEYSeQMxOEnUDOTBB2AjkzQdgJ9ujM4cfQuSW2BKFUep4jQdglVnPmOwdQ/xvEZGPfQvhqZqmZwP4l6DkVlZOLy0rgOwlvv4KJ1ZjCUiaH11C8+TH2hMGgRxdhdC+cesBKZlCejb6d4TYPXsPQbRLK2GqCeC5Y2Zmv3kK3L/BNJxw6h5k90bQ7vN3xyheICcfn76DDIOw9jY1+mL0AA51Rry+SzuLVtzBtEmZuxVYPNB4McWYxlRIDGkg7s6oUp/fDz0+z+EzD63/Dhy0QLhn/QIYd/ujeFAsOshU6RJ/GB6+xOFbc8u8P8EBv3H3CJXR1QhZQmILuzRGez9YTxPPA+mfmpf1Qrw12n8Tc3rwz87H7NiI/Hp9/jaBIyJ6i1VcYMpp35o+dEXcU/Segfzs0647l7lrOzJ2ZN81D/bfRtBd+vwxDE+h58jCuHd74ENdi2Ap9ksKxzAedv0f7fvBdixRRgEE1GTGYPwuenmz5dT7S8thLGmQY5oSuQ/gP/JOZs7QJwlJQBxhB2AnkzARhJ5AzE4SdYAFnTkhIMDtcmNkBwQIDA8PDw1nBRMyutCbhy3bs2MEKJmJ2pTt37rRS6DMjmL1hRESE7YfasgAqJTLT+DwhVaNCdhpEQWarhJzZBMzekJy5ShzDmcuxYhi+7C/YcvjN5J+YtOgDdffr4+to+jleegmvfYDfw/g1u71Rty0yqjup2orOnHbvWHeXSUnFqnJZ6jinJnvvSTy5MaT9lR1LXb08XNr3FAd3FWPImSuUZSWl5RWoOL/J3WnsOk0IbBGSlVZUVJQo+F9BZUFYoyYukmGejXxTsyJPOfV27fj1R6ESAWUNO3NGRKcuXXSCQ+tgqNJTq8eNXXS0RGXwMXqVzhyyY3r/yZuLKgPOipCstLQgbVCrJqFZXI2q+QO+3xgiEUrdwKctXDHSZfnRCO4oxx2b33rc2meBdTU8F2dWVVQ8SpNtOxMXGpVRJh1KvQBt38crb2PQZBzZjR+bYeRY1P0YzYZDmY2v/oo3PsKQvnj9H1h0CE9v4vN/o88w1H0bnzZEbD48u+KThhgxDJ+8C78TyIhDvdew5DjbN4d7J+bMBY/Q6EPME0ZknPPDH/4bsZy/P8Brf8UGrSDGRrCiM9/YPbu/t1oe+aYxPSSjbhtxDyDdtXsvU51ZjTzrbr/mHY5KP2E2WGle/GXupSFdnadvOVxUKvHsy9CG4UGrRs/eIS/KcfnWRGcuVyQ9eRgXFxf826LW/d3zpC6pDFSaN6LxZ+5bjnHbbpnZe8TSw2y1COPOHBe8ul2fSelF0r8FBipVxl082O3ndj81q9drxo78Uol454Y2vLZnidNw93379m5d4vpm02FKPW+WdGbOwdJyi1Oy5VZd4lIKdp1P2HIqNrdQwSrWIDiz+mt89wg+qYNOTmj4Cd7pxJzZaw//0tgG6DUPj0Px7t/wyQf44BNsvYLCcPz9z2jUFj178ovHRiRH4uO/YN1FfhM1lc6cG48G78J1Lb/yyFz84SPwT0Kf4q1/YOkJfmU1sKIzZ0ae7tZ54P2s4uKMmIFOPe5mStwnGHIPAbOcuThnwcS+Y1cfKZbyRjWSlZaX5kdF8THXUZw7oN23RyI0yTQqkdxQVVoUcTs0JCTk/OnjLf/z1rpjYUV6Z0tDzlyUk56ezZ+WE+8e6dq+7yOpDAyGDtG26c4zt4WWo/Tkysl9vXbqO5YRZ5bFHG3YYtCjPINJ2yQrzUsMafxt58cyXsc93n08tofq/xIYFZQ7yNkbJg/zPRFZYRtnZs57r0VnFBq7gy3CRBdsDubN/CS4D0Tzlpg0Ed2nQJmPwe2x6Sz/0vLhmLUdV3fiH6+hSTN8+zXeb4LUMsRex8jeaNYMI8Yi/AlKc+DSEL1m8ZsURKJVC/4lbuk0EAlZSInGpLFo1gKDPBErpBW5we3wHdxM5u1qQPfMJmD2hnTPXCX2cM8cdQEu7fHxx2jYCNtPcRfxbL2YrAQ0b4rzmnwZhpHD5XusPGF4PLIulnHmNWvWyMzC3d2dWSaybdu2a9eusYKJmF2p2Rvevn1748aNrGAiZle6adOmmzdvsoKJ1P4h4tR0gA4w62IBZyYIwhYgZyYIO8GKzlxarjp4PbOfX9TYzXEPEjXpVwmCsAZWceYywY37r4qqjBjPLaM2xUYnyyv0+zEJgrAElnfmohJlSFTe+ft5YzfHip15xfEkbuW9J4UqyV4+giBqhhUvsz12afKsccux21LDKQiCsBDkzARhJ5AzE4SdQM5MEHaCFZ2ZIIjahJyZIOwEcmaCsBPImQnCTiBnJgg7gZyZIOwEcmaCsBPsz5mLMf4H/PszhAoxgAjCYbCaMw/4FF4BeHgNTerilnRgPWOUpONXHzxIYUXORee4YshIfP0+3uuAXHE6OSlkT9GtKT5qj/sSobwYsVewLhAmhCXW48wu/DobLVshgSZ4Es8fqzrzb7h5GJ+/jd+v4dYB/Omf8PZB8+/Q71f4e+M/rRAahcRHWLEOs7zw4XsIvI0xbdC5DzyX4PFNfFIXx++zvalJj0G9N7DsuER0JYUMcXGaJfI2+rTEK3Vx1EBK14IshP6O9l2RJBmNF9joxYIqqpcte9l6HbKi0bUTOTNhC1j5zJwRjZafomknXLnDG42FWIRLT2CnN9q6oQQ4twnvvosf2+C9D7DrBrwGolljfPweTpzWcuZyOca2w0t/ZXsIz2XrJSjDVje8/iY2n4B0JGSB6U5oVB+v/hMNm2KREC1Vh7h7CAnRLPFP2HoxAT5o9B1efQUNmmDzKbaSIJ4T1AFGEHYCOTNB2AnkzARhJ1jAmSkIfpVQEPwqcYzEcdbFus5cIksPCQ4KOn32aY50p7Ex7RUFoddvZMmknx0ZceYH108HBQVduBZmKOuIoUoLUqK4DTmS8qS3NP5NzU28H3TyYq7U5zXozApZaMhZdaVXIx6yldoYqbQo++l5vq2nY5IkegQNOHNFetw9dY0856/myk1IG6Qsy7ssbHc7Mlky/Y/hT1v2KOwat+GlsFi2Qhty5ppjRWeOv7i1S7/ZeeVQKXK8+7Zad1EiZY4h7W8e2Or/e+CwLmYmjuMI/W2m06g11c8CqaHwXqOmvZNNywKpjDq5aYD7im6mJo6rQRbI37z7zAm4YTChVtVnZmXgr4PGLz8u+bslWWlpQdqAlg1O859WMc25wc4b1U3HBVXu3EHdt1zkf60yQ9Z9P2hhNRPHESZhRWe+sXt292nbBFO+aUwPrz1CylltjPqV+VkgE+/u69ymV1iK9ONfQ5UWptz39/dfNn3SgBkLUvL0EwIa+qaWn9ri4b31QpkZWSCfkXj76I9tuz6W+rwGPm3eiMb1lp2O4KwLWyb8PGGD/lM44858badnd1ffAlMuXlTK4jObFg8cM3HuuB5tB3rGZUl8XEPHlmtg7/79PT1nLPAa/VHrseTM1sCKzixPudOrfZezcTl5CSHtOg1KkzpLGtJewCxnzo75qU0r/8vxrCiFZKWKwscBAUKyv5zYZs2aXXtsQjZpNWY4c1r07TtR/PC4u8cWd3bx4JN46mGo0mPLh4+afbAERZvG93Ndd5qtFWHEmZMvrmvkPDlbblqizMKM8DZf1w8VhtmsHNl2+ckY9Xoxxg9RiSx+TGeX4HghxaE25Mw1hzrATMDsDakDrErImWuOZZx59OjR+8yiW7duzDKRCRMmLF26lBVMxOxKzd5wxYoV48aNYwUTMbvS8ePH+/r6soKJ1P4hWrZsGTlzDbGAMxMEYQuQMxOEnWCLzqyqqDgbkTNgVdTyo4kFxeVsLUEQRrE5Zw4Oz+mzUhM6n1sWHnpaWGLkeSpBEDw25MyZBaWbzqauPZ3c108rF+zc/Y/XnU65GiPxrIggiEps8TJ76LoYsTPfiC9gLxAEYRhyZoKwE8iZCcJOIGcmCDvBFp2ZIAgzIGcmCDuBnJkg7ARyZoKwE8iZCcJOIGcmCDuBnJkg7ARyZoKwE+zLmVWF8OiHMTOQYSzeJUHYJdZx5m5vYeERJN/HLE8kmj5+qyAKXzdFaGWuthL4zcAn7+Fvr2PwQmPp4NRcPYA3/4HhfigwPBf67DoMmcVnrjObxUPQaQTWrMZ3jXBQIvAoQdQy1nPm/Vg3Ff96DVMX4+IxvP0WvOeh8VeYsQdrJuLVDzHdF8FHMckLXh74+BMcu4t+jeE8ED//gsfX8NZ/IIRZZtzdg5de4pdff4dSz5mT7sHHR2vp+B1e+hNm74RkKNlbpzBtFH7sigwD3tyvHqtOvXgsZet1UWDVaLR2QTpdCBDPH2uemWMvoO6/MWsVLh3GW5wzC2525j7WToTTDD7L+dap+LIx78wffIR91+A5Dotm4Z//jYMntJy5NAdzpmDxSvT+Ea83QJaR/OgViArEy/8HtwWQStTAOLgecyei7jfwWY5L2img1WxfCFdXzXLkLFuvQYa+zfFeA8xbDD8/3E5gqwni+UEdYARhJ5AzE4SdQM5MEHaCBZw5ISGhb9++fmbRrl07ZpnI4MGDPTw8WMFEzK7U7A1nzJjRv39/VjARsysdMGCAp6cnK5hI7R8iTk0Kgl9DLOPMlJ7GOJSepkooPU3NsaIzlxc+njJgyP6rD6JDD3Xo0DtextaLMaR9ZsId94EtPqjXwtTEcfLEOzuOXUlOfTx/aGv3dWclHzRLVqosLd5/9FBqauqtw0t+cHbNKpLY1Mg3tawwxb1n27dfNzmla4dOHY7fSODqzco3LWdlxv0Tffu4XYqIS01Nk8klevgNOHNFiSyPq47j3skNrbsMf1oo8dxeslKVIt9nhPOG4AepqfcHN2odFC+RFNrApy0/v8Gz29R1qUmPl012nr7jWoVuEkhyZgtgRWe+sXv2kNl7BFO+aUyPGYF3BFsLI+5Rk5SuQPEGtz5Tt1yQHF9iqNLirEdBQUE+o/qOXbS/WKn3dTO8oSwpbOSACVHpaSandM17NNV1mJu7h+uYoWuDpJtjoFLZ6GbfjJ37K/fqmFFDgiMy2GoRxs/MxSnX2rbqcuep9JAe6UpV5eEn1jdu9F3nzm0HTv2tUGr0joENC5aNcpkTeJ2zUkK3vNZoCKV0tQZWdObIU2s69Z8rU6KiNM9nSJfddyS+5obcQ8BMZ356/WDzLt2vxEh8v9UYrZRnutNH6y5UNzV8Wc7jCUO6jpnk6TFl4mdv/mPQxNWpZboh+6u8zC7OSujTpsHlFFYUY+DTls3o1mRr6FPOij63rn2P2frDVow5s+JJj2+anYiRPrYckpXmxJ/65vte2cLz+72zew1dEqSfmqCqY6uKP7akq8dOPV8mZ7YA1r1nLkiP2+vvv3P3vjTpS0iD2idHhu7wZ5y6KZEH2IAzV2TGXd++lW3428ETOdW/WlaV3w85od4wLlMi0zqH8W+qqkxx/vB+yUFlhpy5TJZ+eN9OrsbA/RcNDSIzXGnpjVP7uG2PXZc4PhxGnDniyvErsQZ/7DgMVSpLihCOkP+ZawmSSUYMbfgoLJjbatvOXQ+zpY8tOXPNoQ4wEzB7Q+oAqxJy5ppjAWdWqVQygqgxZWWGR+AS1cACzkwQhC1gt85cUFxeLtUjTRD2ih0685PMkknb4118IwetiT5/P1f/KQhB2CX248wVFRWpuYrx/nHi1DbcMnB1FOfSKv1hCgRhX9jhmXnAKq30zmGPDDwWIwj7gpyZIOwEcmaCsBPImQnCTrBDZx63JXbEBs0S8ZSi7REOgR06M0E4JuTMBGEnkDMThJ1AzmwNUqZ07rDnutTsZIKwGuTMBGEnkDMThJ1AzmwNcrbNm3M5NoeVCKJWIGcmCDuBnNkayG+eCX6UKWclgqgVyJkJwk4gZyYIO4GcmSDsBHJmgrATyJkJwk4gZyYIO4GcmSDsBHJmgrATyJkJwk6wV2cuxcm9OHgCUlkgCcIusbQzX/FHbzcUKHDvEmLNmtC7ajKmbUZlCrEyOU7vQpu22HuLL2bEY6Az6tfH7NUoKhXeYYgy/OaHN/6JubsglWaVEXsBA91QkzBhmTHo0ght2qBhQxy7z1YSRK1jaWc+uRD1f8bRzXjz/+HN97BwN1a7o249fPE5fpqM8lj85XU0bQSvDRjdA9/WxwfvwcsfkSfxn3dR7ztsDYFnd/Ser3FmjsJUtK6PtRegUqLrR/A5DmSh4VvYfJm9oZKcMN7PxcsH/8JL/4Xv+0IyROeVANT7HB9/iRgZW6PDb/PQsaNmmefH1ouJOolGTXD+IkZ1xjud2UqCqHWs48y5JRj0OSasRUocWn+Fn4fCxweLfFEQiz++g3gZMsPw+ceYMAWdmqPTNMRdxp596NwAvedgmrOWM5eX4tE9/PAFFhxEfhHc2qPnJDwIxtvv4XQse48kilT07oiPvsCNh2yNPvlZiA5Fh+a4HIecArZSzNJfUKeOZvllClsvprQYqam4dxk/f4OZu9lKgqh1qAOMIOwEcmaCsBPImQnCTrCAMycnJw8dOtTTLPr27cssExk+fLibmxsrmIjZlZq94YQJE4YNG8YKJmJ2pVyNXL2sYCK1f4g4NYODg9lXijALCzhzQkLCli1bWMFEOBWZZSKBgYHh4eGsYCJmV2r2htHR0Tt27GAFEzG70p07d0ZGRrKCidT+IYqIiAgICGAFwiys6MwVqoJdC2ZM9Jw9z2ts/4lrZCq2Xowh7ZVlilMbJr9dr0lwZBZbpY0hZ5Yn3pk4xX2F3xLnNk12X3kimWFdslJlafHmNXP8/PymDWk/9NcdRaUSmxr5plaUy7dO6fo///tRaDZbI8agM2dEtP7x+0mzl3L17j17h63UxuAhKkxcMHn89Lk+fn7rr0ZJPNI34MwVD6+fWsXV5+e3yHPUpz90fpCuYK+IkKy0Qllywn/W8HGz/fxm/dRkeFReMXtBhIFPW/H05u89+o3y813i0tvlxL00/dT35Mw1x4rOfGP3bJfp6m+wfNOYHjMCJb6sRtwDSHft3stUZ64keJ3bAO9A8ePqSoxWivv7fZr2mpWnULKyCIN+JU/3GjDo+P2HLt+a7szNvhs9ZfbiFWviMyWcisNApSUT2jZfvHWjj4/Pyo3bM6QGvVRxZi552vPHFsfD01hRG+lKy4p3zOnfrOeYrVuXdmg/OUUuMWjHwIYZ7j1+3hrymDPlMYf+3XykUqXrzeTMNceKznzn4IKOI1by7qQqXD3aee2FRPV6MUb9ykxnVmQ/6te10drjd5RS1wIcRitFuaJw/E/vb7yYzMoiJDcsz3k4oHPDqYs2bVq/qsG7r89YdTinXLfiKi+zFTlP+7f/+vwTVhRj4NPKx7dstPce/yHjL29p28VTf1CMUWeWubdvvPHSI8krFw7JSvMTr7Zq2OFeWmGpvGDxyNbj1p3XP8CGjm2FsjwnKz01Ne3h2XXNfllKzmwNrHnPrCoNO7t3mttkL6/pQXckfIPDkPZxVw/P8pw6sE/f8ZOmbg26ydaKMODMFYmhu7t2c5k01YPb81zfjan5EudmyUqVitzfls7lXvKcPG7b2chSPYfkMPRp1ZSXyHzGD42SGntiyJnzH4fN9eI/6vRpC8NSpM7phistyn60ytt9mudU7xUBGfkSV7xGnPmU/6ylB24oDbmygUpV5aW3j6waNWEa9+oC34CsEolx74Y+bfjZ7dxLnl4e+85GSQ6XJ2euOdQBZgJmb0gdYFVCzlxzLODMBQUF/gRRY7izAvtKEWZhAWcmCMIWIGcmCDuBnJmoDZKySzx2PezlG7nkyNMiqcd+RM0hZyasS2JWiefuhy6+keLF91iSrJiCwFgYcmbCijzNKgmNLdh/LVPHma/G5HPrcwolB/UQZkLOTFid6GS5jjOr9AaNEDWHnJmwOuTMtQM5M2F1yJlrB3JmwuqQM9cO5MwEYSeQMxOEnUDOTBB2AfD/ASlS4kPfyxCoAAAAAElFTkSuQmCC)"
      ],
      "metadata": {
        "id": "Mn5QhP36lpZe"
      }
    },
    {
      "cell_type": "markdown",
      "source": [
        "Selain itu, dapat menentukan awal dan akhir angka yang diinginkan."
      ],
      "metadata": {
        "id": "zwBnp2A1l0kl"
      }
    },
    {
      "cell_type": "code",
      "source": [
        "for i in range(1, 4):\n",
        "    print(i)"
      ],
      "metadata": {
        "colab": {
          "base_uri": "https://localhost:8080/"
        },
        "id": "79kePnDDoJx2",
        "outputId": "a6739c3d-fe84-498c-eea1-e5327fa7be64"
      },
      "execution_count": null,
      "outputs": [
        {
          "output_type": "stream",
          "name": "stdout",
          "text": [
            "1\n",
            "2\n",
            "3\n"
          ]
        }
      ]
    },
    {
      "cell_type": "markdown",
      "source": [
        "Contoh lain penggunaan range()."
      ],
      "metadata": {
        "id": "4OpQF-bhl4Mg"
      }
    },
    {
      "cell_type": "code",
      "source": [
        "a = 10\n",
        "for i in range(5):\n",
        "    a = a + i\n",
        "    print(a)"
      ],
      "metadata": {
        "colab": {
          "base_uri": "https://localhost:8080/"
        },
        "id": "nPxJPCXmnBZh",
        "outputId": "ab63a22b-67cc-4f92-a7ad-13538decbe4f"
      },
      "execution_count": null,
      "outputs": [
        {
          "output_type": "stream",
          "name": "stdout",
          "text": [
            "10\n",
            "11\n",
            "13\n",
            "16\n",
            "20\n"
          ]
        }
      ]
    },
    {
      "cell_type": "markdown",
      "source": [
        "**Iterasi pada list**\n",
        "\n",
        "Melakukan iterasi pada list."
      ],
      "metadata": {
        "id": "5FCnj-8-p_zq"
      }
    },
    {
      "cell_type": "code",
      "source": [
        "nama = ['Ahmad', 'Budi', 'Caca', 'Dwi']\n",
        "for i in nama:\n",
        "    print(i)"
      ],
      "metadata": {
        "colab": {
          "base_uri": "https://localhost:8080/"
        },
        "id": "H179rWs6qDeU",
        "outputId": "1ff8adf1-4f12-4bf4-ade4-d0221e5fa88c"
      },
      "execution_count": null,
      "outputs": [
        {
          "output_type": "stream",
          "name": "stdout",
          "text": [
            "Ahmad\n",
            "Budi\n",
            "Caca\n",
            "Dwi\n"
          ]
        }
      ]
    },
    {
      "cell_type": "markdown",
      "source": [
        "**Mengambil index dan value dari list dengan enumerate()**\n",
        "\n",
        "Built-in function enumerate() untuk mengambil index dan value dari sebuah list. "
      ],
      "metadata": {
        "id": "qZA5qFgQrSxX"
      }
    },
    {
      "cell_type": "code",
      "source": [
        "nama = ['Ahmad', 'Budi', 'Caca', 'Dwi']\n",
        "\n",
        "for index, value in enumerate(nama):\n",
        "    print(index, value)"
      ],
      "metadata": {
        "colab": {
          "base_uri": "https://localhost:8080/"
        },
        "id": "Yc0mnANdrWHB",
        "outputId": "743fb1c4-09ea-4277-bd35-142a62a73ff5"
      },
      "execution_count": null,
      "outputs": [
        {
          "output_type": "stream",
          "name": "stdout",
          "text": [
            "0 Ahmad\n",
            "1 Budi\n",
            "2 Caca\n",
            "3 Dwi\n"
          ]
        }
      ]
    },
    {
      "cell_type": "markdown",
      "source": [
        "**Perulangan dengan while**\n",
        "\n",
        "Perulangan while digunakan apabila tidak mengetahui jumlah iterasi yang harus dilakukan. Penggunaan perulangan while didefinisikan pada sebuah kondisi apa looping harus berhenti."
      ],
      "metadata": {
        "id": "80UPOLRmr84J"
      }
    },
    {
      "cell_type": "code",
      "source": [
        "num = [10, 20, 30, 40, 50]\n",
        "\n",
        "i = 0\n",
        "bil = 0\n",
        "\n",
        "while (bil < 30):\n",
        "    bil = num[i]\n",
        "    i = i + 1\n",
        "    print(bil)"
      ],
      "metadata": {
        "colab": {
          "base_uri": "https://localhost:8080/"
        },
        "id": "N5COEjI3seHV",
        "outputId": "01f26dc5-35a6-488f-c840-f195179c35e3"
      },
      "execution_count": null,
      "outputs": [
        {
          "output_type": "stream",
          "name": "stdout",
          "text": [
            "10\n",
            "20\n",
            "30\n"
          ]
        }
      ]
    },
    {
      "cell_type": "markdown",
      "source": [
        "Pada contoh di atas looping harus berhenti jika kondisi bil < 30.\n",
        "\n",
        "![24.png](data:image/png;base64,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)"
      ],
      "metadata": {
        "id": "jsXOclFhssGU"
      }
    },
    {
      "cell_type": "code",
      "source": [
        "hari = ['senin', 'selasa', 'rabu', 'kamis', 'jumat', 'sabtu', 'minggu']\n",
        "\n",
        "i = 0\n",
        "hari_masuk = hari[i]\n",
        "\n",
        "while (hari_masuk != 'minggu'):\n",
        "    print(hari_masuk)\n",
        "    i = i + 1\n",
        "    hari_masuk = hari[i]\n"
      ],
      "metadata": {
        "colab": {
          "base_uri": "https://localhost:8080/"
        },
        "id": "g080usHntH-u",
        "outputId": "bb3ccee4-c700-4334-8a08-5393156c8922"
      },
      "execution_count": null,
      "outputs": [
        {
          "output_type": "stream",
          "name": "stdout",
          "text": [
            "senin\n",
            "selasa\n",
            "rabu\n",
            "kamis\n",
            "jumat\n",
            "sabtu\n"
          ]
        }
      ]
    },
    {
      "cell_type": "markdown",
      "source": [
        "**Menghentikan proses looping dengan break**\n",
        "\n",
        "Penggunaan break untuk menghentikan proses iterasi secara paksa. Break digunakan pada for ataupun while."
      ],
      "metadata": {
        "id": "Oue6y-tAxEs2"
      }
    },
    {
      "cell_type": "code",
      "source": [
        "# Contoh penggunaan break pada for\n",
        "hari = ['senin', 'selasa', 'rabu', 'kamis', 'jumat', 'sabtu', 'minggu']\n",
        "\n",
        "for i in hari:\n",
        "    print(i)\n",
        "    if (i == 'kamis'):\n",
        "        break;"
      ],
      "metadata": {
        "colab": {
          "base_uri": "https://localhost:8080/"
        },
        "id": "hznycseLxqVI",
        "outputId": "3d2abf8f-74b3-4b0c-e60b-f5d479607331"
      },
      "execution_count": null,
      "outputs": [
        {
          "output_type": "stream",
          "name": "stdout",
          "text": [
            "senin\n",
            "selasa\n",
            "rabu\n",
            "kamis\n"
          ]
        }
      ]
    },
    {
      "cell_type": "markdown",
      "source": [
        "Contoh break pada while."
      ],
      "metadata": {
        "id": "nXHayYv5ySYy"
      }
    },
    {
      "cell_type": "code",
      "source": [
        "# Contoh penggunaan break pada while\n",
        "\n",
        "hari = ['senin', 'selasa', 'rabu', 'kamis', 'jumat', 'sabtu', 'minggu']\n",
        "i = 0\n",
        "hari_kerja = hari[i]\n",
        "\n",
        "while (hari_kerja != 'jumat'):\n",
        "    print(hari_kerja)\n",
        "    i = i + 1\n",
        "    hari_kerja = hari[i]\n",
        "    if (hari_kerja == 'kamis'):\n",
        "        break;"
      ],
      "metadata": {
        "colab": {
          "base_uri": "https://localhost:8080/"
        },
        "id": "fhe89fjhyUPE",
        "outputId": "65c972ec-be15-4243-ccbd-d47dfff6bd2c"
      },
      "execution_count": null,
      "outputs": [
        {
          "output_type": "stream",
          "name": "stdout",
          "text": [
            "senin\n",
            "selasa\n",
            "rabu\n"
          ]
        }
      ]
    },
    {
      "cell_type": "markdown",
      "source": [
        "**Nested Loop**\n",
        "\n",
        "Nested loop adalah looping di dalam looping atau perulangan bersarang. "
      ],
      "metadata": {
        "id": "TXt46b0yzcIM"
      }
    },
    {
      "cell_type": "code",
      "source": [
        "# Contoh nested loop\n",
        "\n",
        "a = ['baju', 'celana', 'kemeja']\n",
        "b = ['putih', 'biru', 'hitam']\n",
        "\n",
        "for i in a:\n",
        "    for j in b:\n",
        "        print(i, j)"
      ],
      "metadata": {
        "colab": {
          "base_uri": "https://localhost:8080/"
        },
        "id": "TAcQSxOezf-2",
        "outputId": "5baa2175-6f54-41e6-bb9a-389adac452fe"
      },
      "execution_count": null,
      "outputs": [
        {
          "output_type": "stream",
          "name": "stdout",
          "text": [
            "baju putih\n",
            "baju biru\n",
            "baju hitam\n",
            "celana putih\n",
            "celana biru\n",
            "celana hitam\n",
            "kemeja putih\n",
            "kemeja biru\n",
            "kemeja hitam\n"
          ]
        }
      ]
    },
    {
      "cell_type": "markdown",
      "source": [
        "Contoh nested loop untuk mencetak bintang segitiga."
      ],
      "metadata": {
        "id": "a6CQPCmjzyJQ"
      }
    },
    {
      "cell_type": "code",
      "source": [
        "# Contoh nested loop\n",
        "\n",
        "for i in range(1, 6):\n",
        "    for j in range(i):\n",
        "        print('*', end=' ')\n",
        "    print('')"
      ],
      "metadata": {
        "colab": {
          "base_uri": "https://localhost:8080/"
        },
        "id": "prbdilJLz0ZT",
        "outputId": "3e522826-9c30-46e2-b546-ec74bfb51b7f"
      },
      "execution_count": null,
      "outputs": [
        {
          "output_type": "stream",
          "name": "stdout",
          "text": [
            "* \n",
            "* * \n",
            "* * * \n",
            "* * * * \n",
            "* * * * * \n"
          ]
        }
      ]
    },
    {
      "cell_type": "markdown",
      "source": [
        "Contoh nested loop bintang segitiga dengan break."
      ],
      "metadata": {
        "id": "qiCfTEaez31G"
      }
    },
    {
      "cell_type": "code",
      "source": [
        "# Contoh nested loop dengan break\n",
        "for i in range(1, 6):\n",
        "    for j in range(i):\n",
        "        if (i > 3):\n",
        "            break;\n",
        "        print('*', end=' ')\n",
        "    print('')"
      ],
      "metadata": {
        "colab": {
          "base_uri": "https://localhost:8080/"
        },
        "id": "nJm6-yPQz5Yw",
        "outputId": "9daebd18-da71-489a-a111-b639454da0e6"
      },
      "execution_count": null,
      "outputs": [
        {
          "output_type": "stream",
          "name": "stdout",
          "text": [
            "* \n",
            "* * \n",
            "* * * \n",
            "\n",
            "\n"
          ]
        }
      ]
    },
    {
      "cell_type": "markdown",
      "metadata": {
        "id": "bBow2los-QKj"
      },
      "source": [
        "**Fungsi / Function**\n",
        "\n",
        "Function atau fungsi adalah sebuah blok kode program yang digunakan berulang kali dengan cara memanggilnya.\n",
        "\n",
        "Pre-defined function atau built-in function dan juga User defined function atau fungsi yang dibuat manual. Nah, kali ini akan membahas tentang User defined function.\n",
        "\n",
        "Untuk membuat sebuah fungsi, terdapat aturan seperti berikut.\n",
        "\n",
        "• Sebuah fungsi diawali dengan def yang diikuti nama fungsi dan tanda kurung (). \n",
        "• Di dalam tanda kurung bisa terdapat argument atau parameter.\n",
        "\n",
        "• Sebuah fungsi ditandai dengan tanda titik dua (:) yang diletakkan setelah tanda kurung. \n",
        "\n",
        "• Anda juga dapat menuliskan dokumentasi atau komentar pada fungsi. \n",
        "\n",
        "• Penggunaan pernyataan return untuk mengembalikan nilai yang digunakan di kode program. Biasanya return digunakan untuk menutup fungsi. \n",
        "\n",
        "Perhatikan contoh berikut."
      ]
    },
    {
      "cell_type": "code",
      "execution_count": null,
      "metadata": {
        "id": "I_qBr6U2-RGl"
      },
      "outputs": [],
      "source": [
        "# Contoh fungsi untuk menambah nilai dengan angka 2\n",
        "def tambah_dua(a):\n",
        "\tb = a + 2\n",
        "\treturn b"
      ]
    },
    {
      "cell_type": "markdown",
      "source": [
        "Contoh di atas terdapat fungsi dengan nama tambah_dua dan a sebagai parameter yang nantinya menampung nilai yang diberikan untuk kemudian diproses di dalam fungsi. Akhir dari fungsi akan mengembalikan nilai b.\n",
        "\n",
        "Untuk memanggilnya dapat menulis langsung nama fungsi tersebut dan diikuti nilai yang akan diberikan untuk diproses pada fungsi di dalam tanda kurung seperti di bawah ini"
      ],
      "metadata": {
        "id": "N9XfwcDDDzIW"
      }
    },
    {
      "cell_type": "code",
      "source": [
        "# Memanggil fungsi tambah_dua\n",
        "tambah_dua(1)"
      ],
      "metadata": {
        "colab": {
          "base_uri": "https://localhost:8080/"
        },
        "id": "h3wdHWRyFQLI",
        "outputId": "83868788-e079-4a33-a21d-2dd9391e80f5"
      },
      "execution_count": null,
      "outputs": [
        {
          "output_type": "execute_result",
          "data": {
            "text/plain": [
              "3"
            ]
          },
          "metadata": {},
          "execution_count": 387
        }
      ]
    },
    {
      "cell_type": "markdown",
      "source": [
        "![11.png](data:image/png;base64,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)\n",
        "\n",
        "Berikut contoh fungsi dengan dua parameter."
      ],
      "metadata": {
        "id": "u46WXQTYEHuH"
      }
    },
    {
      "cell_type": "code",
      "execution_count": null,
      "metadata": {
        "colab": {
          "base_uri": "https://localhost:8080/"
        },
        "id": "7kyuy6sS-Wka",
        "outputId": "f0dff1d4-5712-40ed-8b4c-59f0d874e0dc"
      },
      "outputs": [
        {
          "output_type": "stream",
          "name": "stdout",
          "text": [
            "2 dikali 3 sama dengan  6\n"
          ]
        }
      ],
      "source": [
        "# Contoh fungsi perkalian dua bilangan\n",
        "def perkalian(x, y):\n",
        "\tz = x * y\n",
        "\treturn print(x, 'dikali', y, 'sama dengan ', z)\n",
        "# Memanggil fungsi perkalian\n",
        "perkalian(2,3)"
      ]
    },
    {
      "cell_type": "markdown",
      "source": [
        "**Menyederhanakan kode program dengan fungsi**\n",
        "\n",
        "Misalnya terdapat dua blok kode yang mirip dan dibedakan nama variabel dan juga nilainya seperti di bawah ini.\n",
        "\n",
        "Blok 1"
      ],
      "metadata": {
        "id": "9lUdr1ojEVWE"
      }
    },
    {
      "cell_type": "code",
      "execution_count": null,
      "metadata": {
        "id": "jcAD2xhZ-Zbx"
      },
      "outputs": [],
      "source": [
        "a1 = 2\n",
        "b1 = 3\n",
        "c1 = a1 * 3 + b1 * 4\n",
        "\n",
        "if (c1 > 25):\n",
        "  c1 = c1\n",
        "else:\n",
        "  c1 = 0"
      ]
    },
    {
      "cell_type": "markdown",
      "source": [
        "Blok 2"
      ],
      "metadata": {
        "id": "bGgqXdbkEY2R"
      }
    },
    {
      "cell_type": "code",
      "execution_count": null,
      "metadata": {
        "id": "lTjPbm7y-hS5"
      },
      "outputs": [],
      "source": [
        "a2 = 5\n",
        "b2 = 6\n",
        "c2 = a2 * 3 + b2 * 4\n",
        "\n",
        "if (c2 > 25):\n",
        "  c2 = c2\n",
        "else:\n",
        "  c2 = 0"
      ]
    },
    {
      "cell_type": "markdown",
      "source": [
        "Contoh diatas akan sangat boros karena mengulang proses yang sama dan hanya mengubah variabel. Dengan adanya fungsi dapat menyederhanakan proses di atas sehingga nantinya tinggal memanggil fungsi tersebut dengan memberikan nilai yang berbeda-beda. Lihat kode di bawah ini"
      ],
      "metadata": {
        "id": "-DmHP7O8EcAN"
      }
    },
    {
      "cell_type": "code",
      "execution_count": null,
      "metadata": {
        "id": "usSx_2Uo_BLB"
      },
      "outputs": [],
      "source": [
        "# Fungsi untuk menghitung a dan b\n",
        "def hitung_ab(a, b):\n",
        "  c = a * 3 + b * 4\n",
        "  \n",
        "  if (c > 25):\n",
        "   c = c\n",
        "   \n",
        "  else:\n",
        "   c = 0\n",
        "  \n",
        "  return c"
      ]
    },
    {
      "cell_type": "markdown",
      "source": [
        "Memanggil fungsi dengan nilai berbeda"
      ],
      "metadata": {
        "id": "koAxY7XFEdQ4"
      }
    },
    {
      "cell_type": "code",
      "execution_count": null,
      "metadata": {
        "colab": {
          "base_uri": "https://localhost:8080/"
        },
        "id": "iwh75N7n_Z1V",
        "outputId": "cd4b90e3-3062-4e4b-80d1-309e14156bff"
      },
      "outputs": [
        {
          "output_type": "execute_result",
          "data": {
            "text/plain": [
              "0"
            ]
          },
          "metadata": {},
          "execution_count": 392
        }
      ],
      "source": [
        "a1 = 2\n",
        "b1 = 3\n",
        "c1 = hitung_ab(a1, b1)\n",
        "c1"
      ]
    },
    {
      "cell_type": "code",
      "execution_count": null,
      "metadata": {
        "colab": {
          "base_uri": "https://localhost:8080/"
        },
        "id": "rUOCEdln_brd",
        "outputId": "05417be2-4c43-4958-a80f-84d576e9f3a8"
      },
      "outputs": [
        {
          "output_type": "execute_result",
          "data": {
            "text/plain": [
              "31"
            ]
          },
          "metadata": {},
          "execution_count": 393
        }
      ],
      "source": [
        "a2 = 5\n",
        "b2 = 4\n",
        "c2 = hitung_ab(a2, b2)\n",
        "c2"
      ]
    },
    {
      "cell_type": "markdown",
      "source": [
        "**Variabel global dan variabel lokal**\n",
        "\n",
        "Variabel global adalah variabel yang ada di luar fungsi dan biasanya berada di kode program utama. Sementara itu, variabel lokal adalah variabel yang terdapat di dalam fungsi.\n",
        "\n",
        "Pada contoh di bawah ini, kota_asal merupakan variabel global karena berada di luar fungsi, sedangkan kota_indo merupakan variabel lokal karena berada di dalam fungsi.\n",
        "\n",
        "Variabel global dapat digunakan baik di luar fungsi maupun di dalam fungsi, sedangkan variabel lokal hanya dapat digunakan di dalam fungsi\n"
      ],
      "metadata": {
        "id": "HjQkPvv_EfC5"
      }
    },
    {
      "cell_type": "code",
      "execution_count": null,
      "metadata": {
        "colab": {
          "base_uri": "https://localhost:8080/"
        },
        "id": "iDsHk20V_ay_",
        "outputId": "1a50d541-01ff-48d6-fe8e-7ab9affe8283"
      },
      "outputs": [
        {
          "output_type": "stream",
          "name": "stdout",
          "text": [
            "Bogor adalah salah satu kota di Indonesia\n"
          ]
        }
      ],
      "source": [
        "# Contoh penggunaan variabel global dan local\n",
        "kota_asal = 'Bogor'\n",
        "\n",
        "def kota(kota_asal):\n",
        "  kota_indo = kota_asal\n",
        "  print(kota_indo, 'adalah salah satu kota di Indonesia')\n",
        "kota(kota_asal)"
      ]
    },
    {
      "cell_type": "markdown",
      "source": [
        "Jika variabel lokal digunakan di luar fungsi, maka akan terjadi error name 'kota_indo' is not defined. Untuk mengatasinya, deklarasikan variabel lokal sebagai global seperti di bawah ini."
      ],
      "metadata": {
        "id": "n_FZy7o0EnJS"
      }
    },
    {
      "cell_type": "code",
      "execution_count": null,
      "metadata": {
        "colab": {
          "base_uri": "https://localhost:8080/"
        },
        "id": "vb-IR2Hz_wxj",
        "outputId": "ebf0fa52-2ff9-44ce-9246-90002af305bb"
      },
      "outputs": [
        {
          "output_type": "stream",
          "name": "stdout",
          "text": [
            "Bogor adalah salah satu kota di Indonesia\n",
            "Jakarta Timur adalah salah satu kota di Indonesia\n"
          ]
        }
      ],
      "source": [
        "kota_asal = 'Bogor'\n",
        "def kota(kota_asal):\n",
        "  global kota_indo\n",
        "  kota_indo = 'Jakarta Timur'\n",
        "  print(kota_asal, 'adalah salah satu kota di Indonesia')\n",
        "  \n",
        "kota(kota_asal)\n",
        "kota(kota_indo)"
      ]
    },
    {
      "cell_type": "markdown",
      "source": [
        "**Menggunakan if...else dan loop di dalam fungsi**\n",
        "\n",
        "Di dalam fungsi juga dapat menggunakan seleksi kondisi if...else dan juga looping seperti for dan while. Kemudian menggunakan return untuk mengembalikan nilai sesuai dengan kondisi."
      ],
      "metadata": {
        "id": "9c0G-rfiEo0T"
      }
    },
    {
      "cell_type": "code",
      "execution_count": null,
      "metadata": {
        "colab": {
          "base_uri": "https://localhost:8080/"
        },
        "id": "_gCsd5zDAJv-",
        "outputId": "0e246188-be9f-4909-98e2-fd14d4caa349"
      },
      "outputs": [
        {
          "output_type": "stream",
          "name": "stdout",
          "text": [
            "Agus Kalkulus 85\n",
            "Selamat Anda Lulus!\n"
          ]
        }
      ],
      "source": [
        "# Contoh fungsi dengan if...else\n",
        "def bio(nama, pelajaran, nilai):\n",
        "  print(nama, pelajaran, nilai)\n",
        "  \n",
        "  if (nilai > 75):\n",
        "    return 'Selamat Anda Lulus!'\n",
        "  else:\n",
        "    return 'Mohon Maaf, Anda Tidak Lulus!'\n",
        "\n",
        "# Panggil fungsi dan definisikan ke variabel x\n",
        "x = bio('Agus', 'Kalkulus', 85)\n",
        "print(x)"
      ]
    },
    {
      "cell_type": "markdown",
      "source": [
        "Berikutnya contoh perulangan for berada pada sebuah fungsi.Berikutnya contoh perulangan for berada pada sebuah fungsi."
      ],
      "metadata": {
        "id": "ra4EbOu-ErGy"
      }
    },
    {
      "cell_type": "code",
      "execution_count": null,
      "metadata": {
        "colab": {
          "base_uri": "https://localhost:8080/"
        },
        "id": "Zj48Sh1kAajB",
        "outputId": "d3766ee9-1585-4729-fe5e-89ac718efaff"
      },
      "outputs": [
        {
          "output_type": "stream",
          "name": "stdout",
          "text": [
            "The Avengers\n",
            "Amazing Spiderman\n",
            "Dr. Strange\n"
          ]
        }
      ],
      "source": [
        "# Contoh fungsi dengan perulangan for\n",
        "def list_film(film):\n",
        "\t for item in film:\n",
        "\t\t print(item)\n",
        "   \n",
        "# Panggil fungsi\n",
        "list_film(['The Avengers', 'Amazing Spiderman', 'Dr. Strange'])"
      ]
    },
    {
      "cell_type": "markdown",
      "source": [
        "**Memberikan argumen default pada fungsi**\n",
        "\n",
        "Berikan argumen default pada sebuah fungsi nilai = 50 pada fungsi nilai_akhir. Dengan memberikan argumen default, tidak akan terjadi error pada saat memanggil fungsi tersebut."
      ],
      "metadata": {
        "id": "MRQDwIvMEs1U"
      }
    },
    {
      "cell_type": "code",
      "execution_count": null,
      "metadata": {
        "colab": {
          "base_uri": "https://localhost:8080/"
        },
        "id": "Y8RDrgw0Acn7",
        "outputId": "8cbc8840-6b85-4758-a43b-e18063ce86ea"
      },
      "outputs": [
        {
          "output_type": "stream",
          "name": "stdout",
          "text": [
            "Nilai =  80\n",
            "Anda Lulus!\n"
          ]
        }
      ],
      "source": [
        "# Contoh fungsi dengan argumen default\n",
        "def nilai_akhir(nilai = 50):\n",
        "  if (nilai < 60):\n",
        "    print('Nilai = ', nilai)\n",
        "    print('Remedial!')\n",
        "  else:\n",
        "    print('Nilai = ', nilai)\n",
        "    print('Anda Lulus!')\n",
        "    \n",
        "# Memanggil fungsi dengan argument\n",
        "nilai_akhir(80)"
      ]
    },
    {
      "cell_type": "markdown",
      "source": [
        "Pada contoh di atas, ketika memberikan argumen 80 saat pemanggilan fungsi, program akan berjalan dengan baik. Sekarang coba memanggil fungsi tanpa argumen seperti di bawah ini."
      ],
      "metadata": {
        "id": "0tGBIFkpEvcn"
      }
    },
    {
      "cell_type": "code",
      "execution_count": null,
      "metadata": {
        "colab": {
          "base_uri": "https://localhost:8080/"
        },
        "id": "ouz4M98FAkIP",
        "outputId": "57d90295-a649-4550-aede-66fc05334639"
      },
      "outputs": [
        {
          "output_type": "stream",
          "name": "stdout",
          "text": [
            "Nilai =  50\n",
            "Remedial!\n"
          ]
        }
      ],
      "source": [
        "# Memanggil fungsi tanpa argument\n",
        "nilai_akhir()"
      ]
    },
    {
      "cell_type": "markdown",
      "source": [
        "Fungsi langsung memproses nilai 50 sebagai argumen yang diberikan dan mencetak ‘Remedial’ karena nilai kurang dari 60."
      ],
      "metadata": {
        "id": "XY5Vm1vCGuVX"
      }
    },
    {
      "cell_type": "markdown",
      "source": [
        "**Built-in Function di Python**\n",
        "\n",
        "Built-in function adalah fungsi-fungsi bawaan Python yang digunakan tanpa mendefinisikannya lagi seperti di atas. \n",
        "\n",
        "print() merupakan built-in function yang digunakan untuk menampilkan output."
      ],
      "metadata": {
        "id": "aL8IOnoFEyK2"
      }
    },
    {
      "cell_type": "code",
      "execution_count": null,
      "metadata": {
        "colab": {
          "base_uri": "https://localhost:8080/"
        },
        "id": "dk9QlO99An2l",
        "outputId": "37acb1d5-dbc1-499a-b736-ebc8dc080c85"
      },
      "outputs": [
        {
          "output_type": "stream",
          "name": "stdout",
          "text": [
            "[10, 21, 34, 29, 56]\n"
          ]
        }
      ],
      "source": [
        "# contoh penggunaan print\n",
        "list = [10, 21, 34, 29, 56]\n",
        "print(list)"
      ]
    },
    {
      "cell_type": "markdown",
      "source": [
        "len() digunakan untuk menghitung panjang suatu objek."
      ],
      "metadata": {
        "id": "xJcw1qeZE1bX"
      }
    },
    {
      "cell_type": "code",
      "execution_count": null,
      "metadata": {
        "colab": {
          "base_uri": "https://localhost:8080/"
        },
        "id": "qGChEMS0Aqa9",
        "outputId": "18b53f54-26c6-41b8-b3da-0b3c137eaacc"
      },
      "outputs": [
        {
          "output_type": "execute_result",
          "data": {
            "text/plain": [
              "5"
            ]
          },
          "metadata": {},
          "execution_count": 401
        }
      ],
      "source": [
        "# contoh penggunaan len\n",
        "list = [10, 21, 34, 29, 56]\n",
        "len(list )"
      ]
    },
    {
      "cell_type": "markdown",
      "source": [
        "sum() digunakan untuk menjumlahkan elemen pada list."
      ],
      "metadata": {
        "id": "uFW6EuNbE2Zc"
      }
    },
    {
      "cell_type": "code",
      "execution_count": null,
      "metadata": {
        "colab": {
          "base_uri": "https://localhost:8080/"
        },
        "id": "-h3swvcjAsiV",
        "outputId": "00cd2706-bb99-44de-8976-096bea45f2e8"
      },
      "outputs": [
        {
          "output_type": "execute_result",
          "data": {
            "text/plain": [
              "150"
            ]
          },
          "metadata": {},
          "execution_count": 402
        }
      ],
      "source": [
        "# contoh penggunaan sum\n",
        "list = [10, 21, 34, 29, 56]\n",
        "sum(list)"
      ]
    },
    {
      "cell_type": "markdown",
      "source": [
        "min() digunakan untuk mendapatkan nilai minimum/terkecil dari sebuah list."
      ],
      "metadata": {
        "id": "IK4KB7n0E3Lv"
      }
    },
    {
      "cell_type": "code",
      "execution_count": null,
      "metadata": {
        "colab": {
          "base_uri": "https://localhost:8080/"
        },
        "id": "J8bP3LDTAuQg",
        "outputId": "ed25220e-2683-409a-fb21-c8af7a6d9a36"
      },
      "outputs": [
        {
          "output_type": "execute_result",
          "data": {
            "text/plain": [
              "10"
            ]
          },
          "metadata": {},
          "execution_count": 403
        }
      ],
      "source": [
        "# contoh penggunaan min\n",
        "list = [10, 21, 34, 29, 56]\n",
        "min(list)"
      ]
    },
    {
      "cell_type": "markdown",
      "source": [
        "max() digunakan untuk mendapatkan nilai maksimum/terbesar dari sebuah list."
      ],
      "metadata": {
        "id": "9W5So0UHE4-P"
      }
    },
    {
      "cell_type": "code",
      "execution_count": null,
      "metadata": {
        "colab": {
          "base_uri": "https://localhost:8080/"
        },
        "id": "y6tMzlxmAv_9",
        "outputId": "06077754-a557-4812-8aa9-616a44e86d07"
      },
      "outputs": [
        {
          "output_type": "execute_result",
          "data": {
            "text/plain": [
              "56"
            ]
          },
          "metadata": {},
          "execution_count": 404
        }
      ],
      "source": [
        "# contoh penggunaan max\n",
        "list = [10, 21, 34, 29, 56]\n",
        "max(list)"
      ]
    },
    {
      "cell_type": "markdown",
      "source": [
        "sorted() digunakan untuk mengurutkan list dari nilai terkecil ke terbesar."
      ],
      "metadata": {
        "id": "0aLyxKOPE6aQ"
      }
    },
    {
      "cell_type": "code",
      "execution_count": null,
      "metadata": {
        "colab": {
          "base_uri": "https://localhost:8080/"
        },
        "id": "COyPcyyKAxhB",
        "outputId": "71b6af81-ebcc-418d-d7a7-3992f3743aa1"
      },
      "outputs": [
        {
          "output_type": "execute_result",
          "data": {
            "text/plain": [
              "[10, 21, 29, 34, 56]"
            ]
          },
          "metadata": {},
          "execution_count": 405
        }
      ],
      "source": [
        "# contoh penggunaan sorted\n",
        "list = [10, 21, 34, 29, 56]\n",
        "sorted(list)"
      ]
    },
    {
      "cell_type": "markdown",
      "source": [
        "type() digunakan mengetahui tipe data dari sebuah objek."
      ],
      "metadata": {
        "id": "fAQCsaQJE7bd"
      }
    },
    {
      "cell_type": "code",
      "execution_count": null,
      "metadata": {
        "colab": {
          "base_uri": "https://localhost:8080/"
        },
        "id": "j76A9g6eAzZO",
        "outputId": "8931e987-1e11-40a9-acd5-1fdc3500aa12"
      },
      "outputs": [
        {
          "output_type": "execute_result",
          "data": {
            "text/plain": [
              "list"
            ]
          },
          "metadata": {},
          "execution_count": 406
        }
      ],
      "source": [
        "#  contoh penggunaan type\n",
        "list = [10, 21, 34, 29, 56]\n",
        "type(list)"
      ]
    },
    {
      "cell_type": "markdown",
      "source": [
        "round() digunakan untuk membulatkan bilangan desimal. Jika angka desimal 0.5 ke bawah, maka akan dibulatkan ke bawah. Jika di atas 0.5, maka akan dibulatkan ke atas."
      ],
      "metadata": {
        "id": "KALVW_40E8qM"
      }
    },
    {
      "cell_type": "code",
      "execution_count": null,
      "metadata": {
        "colab": {
          "base_uri": "https://localhost:8080/"
        },
        "id": "JkON_0krA040",
        "outputId": "0da6a112-acc6-4fce-f734-ad14c081778f"
      },
      "outputs": [
        {
          "output_type": "execute_result",
          "data": {
            "text/plain": [
              "9"
            ]
          },
          "metadata": {},
          "execution_count": 407
        }
      ],
      "source": [
        "# contoh penggunaan round\n",
        "round(8.5666)"
      ]
    },
    {
      "cell_type": "code",
      "execution_count": null,
      "metadata": {
        "colab": {
          "base_uri": "https://localhost:8080/"
        },
        "id": "z65Fz5SRA34m",
        "outputId": "4ddda007-17e5-4c8f-d7c4-c88ee1897d65"
      },
      "outputs": [
        {
          "output_type": "execute_result",
          "data": {
            "text/plain": [
              "7"
            ]
          },
          "metadata": {},
          "execution_count": 408
        }
      ],
      "source": [
        "# contoh penggunaan round\n",
        "round(7.4)"
      ]
    },
    {
      "cell_type": "markdown",
      "source": [
        "abs() digunakan untuk mendapatkan nilai absolut dari suatu bilangan."
      ],
      "metadata": {
        "id": "_pfMV1bZE-Cz"
      }
    },
    {
      "cell_type": "code",
      "execution_count": null,
      "metadata": {
        "colab": {
          "base_uri": "https://localhost:8080/"
        },
        "id": "tNitybkNA7Ie",
        "outputId": "75d79aea-9501-48a6-b763-483d6d8e35eb"
      },
      "outputs": [
        {
          "output_type": "execute_result",
          "data": {
            "text/plain": [
              "4.0"
            ]
          },
          "metadata": {},
          "execution_count": 409
        }
      ],
      "source": [
        "# contoh penggunaan abs\n",
        "abs(-20/5)"
      ]
    },
    {
      "cell_type": "markdown",
      "source": [
        "**Numpy 1 Dimensi**"
      ],
      "metadata": {
        "id": "gthnP4BZ1zmi"
      }
    },
    {
      "cell_type": "markdown",
      "source": [
        "Numpy adalah library Python yang digunakan untuk komputasi ilmiah. Numpy menyediakan objek array multidimensi seperti vektor dan matrik serta berbagai operasi matematika yang dapat dilakukan, misalnya trigonometri, logaritma, eksponensial, dan sebagainya.\n",
        "\n",
        "Numpy memiliki ukuran yang tetap. Jika mengubah dimensi array, maka akan terbentuk array baru dan menghapus array sebelumnya. Tipe data pada array harus sama, tidak dapat bervariasi."
      ],
      "metadata": {
        "id": "7H5xCoQE11dE"
      }
    },
    {
      "cell_type": "markdown",
      "source": [
        "**Membuat array Numpy**\n",
        "\n",
        "Import library numpy sebelum menggunakannya."
      ],
      "metadata": {
        "id": "Ex06qeoB172X"
      }
    },
    {
      "cell_type": "code",
      "source": [
        "# import library numpy\n",
        "\n",
        "import numpy as np"
      ],
      "metadata": {
        "id": "BrrySGXR2BDA"
      },
      "execution_count": null,
      "outputs": []
    },
    {
      "cell_type": "markdown",
      "source": [
        "Inisialisasi numpy menjadi np untuk mempermudah penggunaannya. Penyingkatan ini sering dilakukan oleh para pengguna Numpy.\n",
        "\n",
        "Setelah itu, dapat membuat array seperti di bawah ini."
      ],
      "metadata": {
        "id": "LHJdXoET2Dqg"
      }
    },
    {
      "cell_type": "code",
      "source": [
        "cth_array = np.array([1, 2, 3]) # Membuat array numpy berupa integer\n",
        "cth_array"
      ],
      "metadata": {
        "colab": {
          "base_uri": "https://localhost:8080/"
        },
        "id": "WA9ggq6s2GNP",
        "outputId": "e0cfe1c9-bc63-4789-d0dc-7cb9e138dc28"
      },
      "execution_count": null,
      "outputs": [
        {
          "output_type": "execute_result",
          "data": {
            "text/plain": [
              "array([1, 2, 3])"
            ]
          },
          "metadata": {},
          "execution_count": 411
        }
      ]
    },
    {
      "cell_type": "markdown",
      "source": [
        "Indeks elemen pada array dimulai dari 0. Cara mengaksesnya dengan menuliskan variabel yang diikuti nomor indeks di dalam kurung siku []."
      ],
      "metadata": {
        "id": "vDimoMIR2Idu"
      }
    },
    {
      "cell_type": "code",
      "source": [
        "print('Indeks-0 : ', cth_array[0])\n",
        "print('Indeks-1 : ', cth_array[1])\n",
        "print('Indeks-2 : ', cth_array[2])"
      ],
      "metadata": {
        "id": "A6NqEq4I2Ku-",
        "colab": {
          "base_uri": "https://localhost:8080/"
        },
        "outputId": "bb3d6fae-061b-4b77-aff6-18ba6f6aca9f"
      },
      "execution_count": null,
      "outputs": [
        {
          "output_type": "stream",
          "name": "stdout",
          "text": [
            "Indeks-0 :  1\n",
            "Indeks-1 :  2\n",
            "Indeks-2 :  3\n"
          ]
        }
      ]
    },
    {
      "cell_type": "markdown",
      "source": [
        "**Mengubah nilai array**\n",
        "\n",
        "Nilai sebuah elemen array juga dapat diubah. Misalnya seperti di bawah ini."
      ],
      "metadata": {
        "id": "PeebHYbD2S33"
      }
    },
    {
      "cell_type": "code",
      "source": [
        "cth_array2 = np.array([1, 2, 3, 4])\n",
        "cth_array2"
      ],
      "metadata": {
        "colab": {
          "base_uri": "https://localhost:8080/"
        },
        "id": "1nf5v1-52Vzv",
        "outputId": "1720d3ca-9347-4cb6-9e3c-3038d7818083"
      },
      "execution_count": null,
      "outputs": [
        {
          "output_type": "execute_result",
          "data": {
            "text/plain": [
              "array([1, 2, 3, 4])"
            ]
          },
          "metadata": {},
          "execution_count": 413
        }
      ]
    },
    {
      "cell_type": "markdown",
      "source": [
        "Lalu ubah elemen pada indeks ke-0 menjadi 10."
      ],
      "metadata": {
        "id": "1AwThycc2jza"
      }
    },
    {
      "cell_type": "code",
      "source": [
        "cth_array2[0] = 10\n",
        "cth_array2"
      ],
      "metadata": {
        "colab": {
          "base_uri": "https://localhost:8080/"
        },
        "id": "QzYMT5NM2l3S",
        "outputId": "3238b521-8425-4d29-a96b-20ed0e6969c3"
      },
      "execution_count": null,
      "outputs": [
        {
          "output_type": "execute_result",
          "data": {
            "text/plain": [
              "array([10,  2,  3,  4])"
            ]
          },
          "metadata": {},
          "execution_count": 414
        }
      ]
    },
    {
      "cell_type": "markdown",
      "source": [
        "Nilai elemen berubah dari 1 menjadi 10."
      ],
      "metadata": {
        "id": "Nesn_4ME2sww"
      }
    },
    {
      "cell_type": "markdown",
      "source": [
        "**Mengakses dan mengubah nilai array dengan list**\n",
        "\n",
        "Mengakses atau mengubah sejumlah elemen array tertentu bisa dengan menggunakan indeks elemen yang ingin diakses atau diubah lalu dimasukkan ke dalam list."
      ],
      "metadata": {
        "id": "q5_u0cTi21lF"
      }
    },
    {
      "cell_type": "code",
      "source": [
        "list_indeks = [0, 1] # Membuat list indeks elemen yang akan diakses"
      ],
      "metadata": {
        "id": "PgiFY9hn24dW"
      },
      "execution_count": null,
      "outputs": []
    },
    {
      "cell_type": "markdown",
      "source": [
        "Selain itu, bisa juga menggunakan list tersebut sebagai argumen di dalam tanda kurung siku seperti di bawah ini."
      ],
      "metadata": {
        "id": "ckuHj3bK3A93"
      }
    },
    {
      "cell_type": "code",
      "source": [
        "array_baru = cth_array2[list_indeks]\n",
        "array_baru"
      ],
      "metadata": {
        "colab": {
          "base_uri": "https://localhost:8080/"
        },
        "id": "UlbxC59U3DoT",
        "outputId": "5257feee-69d7-41b6-e4eb-1ed68d2dc40b"
      },
      "execution_count": null,
      "outputs": [
        {
          "output_type": "execute_result",
          "data": {
            "text/plain": [
              "array([10,  2])"
            ]
          },
          "metadata": {},
          "execution_count": 416
        }
      ]
    },
    {
      "cell_type": "markdown",
      "source": [
        "Output dari kode di atas adalah elemen-elemen pada array c dengan indeks 1 dan 2.\n",
        "\n",
        "Selain itu, bisa juga mengubah nilai array dengan list. Perhatikan contoh berikut."
      ],
      "metadata": {
        "id": "gSe0kLSZ3ZH5"
      }
    },
    {
      "cell_type": "code",
      "source": [
        "cth_array2[list_indeks] = 120\n",
        "cth_array2"
      ],
      "metadata": {
        "colab": {
          "base_uri": "https://localhost:8080/"
        },
        "id": "IAaM39Y43epa",
        "outputId": "5608ab5d-0d17-4931-bcc1-e1079922d58e"
      },
      "execution_count": null,
      "outputs": [
        {
          "output_type": "execute_result",
          "data": {
            "text/plain": [
              "array([120, 120,   3,   4])"
            ]
          },
          "metadata": {},
          "execution_count": 417
        }
      ]
    },
    {
      "cell_type": "markdown",
      "source": [
        "Seperti yang dapat kita lihat pada output di atas, elemen pada indeks ke 1 dan 2 berubah menjadi 120.\n",
        "\n",
        "**Slicing**\n",
        "\n",
        "Elemen pada array Numpy dapat diakses dengan cara slicing yaitu dengan memotong berdasarkan indeks tertentu. Contohnya seperti di bawah ini"
      ],
      "metadata": {
        "id": "2Eig_oG83oBO"
      }
    },
    {
      "cell_type": "code",
      "source": [
        "cth_array2 = np.array([1, 2, 3, 4, 5])\n",
        "cth_array2[1:3]"
      ],
      "metadata": {
        "id": "yjTgNbVS34qg",
        "colab": {
          "base_uri": "https://localhost:8080/"
        },
        "outputId": "711c5a1a-8b79-4d1f-a0f4-8fd4bcf9d1ea"
      },
      "execution_count": null,
      "outputs": [
        {
          "output_type": "execute_result",
          "data": {
            "text/plain": [
              "array([2, 3])"
            ]
          },
          "metadata": {},
          "execution_count": 418
        }
      ]
    },
    {
      "cell_type": "markdown",
      "source": [
        "Indeks yang menjadi batas akhir slicing tidak akan terbawa, maka dari itu perlu menambahkan satu angka. Jika ingin memotong dari elemen tertentu sampai elemen terakhir atau dari elemen awal sampai elemen tertentu, lakukan seperti di bawah ini."
      ],
      "metadata": {
        "id": "OfAI3Bjz4Dt3"
      }
    },
    {
      "cell_type": "code",
      "source": [
        "cth_array2[2:] # slicing dari indeks ke-2 sampai terakhir"
      ],
      "metadata": {
        "colab": {
          "base_uri": "https://localhost:8080/"
        },
        "id": "g9Is1WqQ4Gv0",
        "outputId": "2c5cbda7-91d5-4caf-a489-03ec577dd625"
      },
      "execution_count": null,
      "outputs": [
        {
          "output_type": "execute_result",
          "data": {
            "text/plain": [
              "array([3, 4, 5])"
            ]
          },
          "metadata": {},
          "execution_count": 419
        }
      ]
    },
    {
      "cell_type": "markdown",
      "source": [
        "**Atribut pada array Numpy**\n",
        "\n",
        "Ada beberapa atribut Numpy yang dapat digunakan untuk analisis data. Contohnya seperti di bawah ini."
      ],
      "metadata": {
        "id": "mx_Qt6S44NLJ"
      }
    },
    {
      "cell_type": "code",
      "source": [
        "a = np.array([1, 2, 3, 4, 5])\n",
        "a"
      ],
      "metadata": {
        "colab": {
          "base_uri": "https://localhost:8080/"
        },
        "id": "_bHMQdbP4Qba",
        "outputId": "abfe43c5-2e9f-4aba-db01-19458ce34b16"
      },
      "execution_count": null,
      "outputs": [
        {
          "output_type": "execute_result",
          "data": {
            "text/plain": [
              "array([1, 2, 3, 4, 5])"
            ]
          },
          "metadata": {},
          "execution_count": 420
        }
      ]
    },
    {
      "cell_type": "markdown",
      "source": [
        "size digunakan untuk mendapatkan ukuran array atau ada berapa jumlah elemen pada array."
      ],
      "metadata": {
        "id": "V4AWh0kg4VEW"
      }
    },
    {
      "cell_type": "code",
      "source": [
        "a.size"
      ],
      "metadata": {
        "colab": {
          "base_uri": "https://localhost:8080/"
        },
        "id": "_Q6j0Fzn4XDe",
        "outputId": "48c32e94-0cc0-463a-ebbb-f2844f9a8446"
      },
      "execution_count": null,
      "outputs": [
        {
          "output_type": "execute_result",
          "data": {
            "text/plain": [
              "5"
            ]
          },
          "metadata": {},
          "execution_count": 421
        }
      ]
    },
    {
      "cell_type": "markdown",
      "source": [
        "ndim digunakan untuk mendapatkan informasi terkait dimensi array."
      ],
      "metadata": {
        "id": "49r5y0dj4ZYa"
      }
    },
    {
      "cell_type": "code",
      "source": [
        "a.ndim"
      ],
      "metadata": {
        "colab": {
          "base_uri": "https://localhost:8080/"
        },
        "id": "nUgM_7PD4ake",
        "outputId": "e63df0bd-24d8-479a-ecdb-8aedb2b061a5"
      },
      "execution_count": null,
      "outputs": [
        {
          "output_type": "execute_result",
          "data": {
            "text/plain": [
              "1"
            ]
          },
          "metadata": {},
          "execution_count": 422
        }
      ]
    },
    {
      "cell_type": "markdown",
      "source": [
        "shape digunakan untuk mendapatkan informasi berupa tuple yang mengindikasikan ukuran dimensi array."
      ],
      "metadata": {
        "id": "PrcxC0fe4cHu"
      }
    },
    {
      "cell_type": "code",
      "source": [
        "a.shape"
      ],
      "metadata": {
        "colab": {
          "base_uri": "https://localhost:8080/"
        },
        "id": "uthiq_n94dir",
        "outputId": "bed1d23e-ad89-4c97-a855-7374a4568292"
      },
      "execution_count": null,
      "outputs": [
        {
          "output_type": "execute_result",
          "data": {
            "text/plain": [
              "(5,)"
            ]
          },
          "metadata": {},
          "execution_count": 423
        }
      ]
    },
    {
      "cell_type": "markdown",
      "source": [
        "mean digunakan untuk mendapatkan nilai rata-rata dari array."
      ],
      "metadata": {
        "id": "1TwbbYe64cA6"
      }
    },
    {
      "cell_type": "code",
      "source": [
        "a.mean()"
      ],
      "metadata": {
        "colab": {
          "base_uri": "https://localhost:8080/"
        },
        "id": "Lw9ese2F4iq3",
        "outputId": "21f34df6-f9bd-4e58-fee1-61b93a8e98f3"
      },
      "execution_count": null,
      "outputs": [
        {
          "output_type": "execute_result",
          "data": {
            "text/plain": [
              "3.0"
            ]
          },
          "metadata": {},
          "execution_count": 424
        }
      ]
    },
    {
      "cell_type": "markdown",
      "source": [
        "std digunakan untuk mendapatkan nilai standar deviasi dari array."
      ],
      "metadata": {
        "id": "KLRRtg9K4kxL"
      }
    },
    {
      "cell_type": "code",
      "source": [
        "a.std()"
      ],
      "metadata": {
        "colab": {
          "base_uri": "https://localhost:8080/"
        },
        "id": "tY5uSqIy4moJ",
        "outputId": "9122cb4e-7f61-4e95-ea8a-4f64a86f3a30"
      },
      "execution_count": null,
      "outputs": [
        {
          "output_type": "execute_result",
          "data": {
            "text/plain": [
              "1.4142135623730951"
            ]
          },
          "metadata": {},
          "execution_count": 425
        }
      ]
    },
    {
      "cell_type": "markdown",
      "source": [
        "min digunakan untuk mendapatkan nilai minimum atau terkecil pada array."
      ],
      "metadata": {
        "id": "dFs6ULrr4psM"
      }
    },
    {
      "cell_type": "code",
      "source": [
        "a.min()"
      ],
      "metadata": {
        "colab": {
          "base_uri": "https://localhost:8080/"
        },
        "id": "BuoGll6F4rpo",
        "outputId": "c439581c-8ca2-4b97-ce1c-301553e6c3c3"
      },
      "execution_count": null,
      "outputs": [
        {
          "output_type": "execute_result",
          "data": {
            "text/plain": [
              "1"
            ]
          },
          "metadata": {},
          "execution_count": 426
        }
      ]
    },
    {
      "cell_type": "markdown",
      "source": [
        "max digunakan untuk mendapatkan nilai maksimum atau terbesar pada array."
      ],
      "metadata": {
        "id": "JBN3IZKC4uBz"
      }
    },
    {
      "cell_type": "code",
      "source": [
        "a.max()"
      ],
      "metadata": {
        "colab": {
          "base_uri": "https://localhost:8080/"
        },
        "id": "DCDVSYfv4uuZ",
        "outputId": "30387ebb-cf86-42c1-a35a-643c26e2c696"
      },
      "execution_count": null,
      "outputs": [
        {
          "output_type": "execute_result",
          "data": {
            "text/plain": [
              "5"
            ]
          },
          "metadata": {},
          "execution_count": 427
        }
      ]
    },
    {
      "cell_type": "markdown",
      "source": [
        "**Operasi pada array Numpy**\n",
        "\n",
        "**Penjumlahan array dengan konstanta**\n",
        "\n",
        "contohnya seperti di bawah ini."
      ],
      "metadata": {
        "id": "34Fq5Evg426g"
      }
    },
    {
      "cell_type": "code",
      "source": [
        "x = np.array([2, 3, 4])\n",
        "x"
      ],
      "metadata": {
        "colab": {
          "base_uri": "https://localhost:8080/"
        },
        "id": "dwo6OO754_LM",
        "outputId": "5da9d645-e705-42c2-ebf0-1d5ee741d32e"
      },
      "execution_count": null,
      "outputs": [
        {
          "output_type": "execute_result",
          "data": {
            "text/plain": [
              "array([2, 3, 4])"
            ]
          },
          "metadata": {},
          "execution_count": 428
        }
      ]
    },
    {
      "cell_type": "markdown",
      "source": [
        "Setelah itu menjumlahkan masing-masing elemen pada array tersebut dengan angka 10. "
      ],
      "metadata": {
        "id": "Zod8y1Ex5Bnc"
      }
    },
    {
      "cell_type": "code",
      "source": [
        "x + 10 # Menjumlahkan array dengan konstanta 10"
      ],
      "metadata": {
        "colab": {
          "base_uri": "https://localhost:8080/"
        },
        "id": "owCdtHwc5EL2",
        "outputId": "24279df8-7ee0-4684-f2fa-0833ebdefccb"
      },
      "execution_count": null,
      "outputs": [
        {
          "output_type": "execute_result",
          "data": {
            "text/plain": [
              "array([12, 13, 14])"
            ]
          },
          "metadata": {},
          "execution_count": 429
        }
      ]
    },
    {
      "cell_type": "markdown",
      "source": [
        "**Penjumlahan 2 array**"
      ],
      "metadata": {
        "id": "XiBwQXq55ICP"
      }
    },
    {
      "cell_type": "code",
      "source": [
        "x = np.array([3, 4]) # Membuat array x\n",
        "x"
      ],
      "metadata": {
        "colab": {
          "base_uri": "https://localhost:8080/"
        },
        "id": "-TxPcpll5J6A",
        "outputId": "20e0c834-7c1a-4770-e8a0-d1bafd438669"
      },
      "execution_count": null,
      "outputs": [
        {
          "output_type": "execute_result",
          "data": {
            "text/plain": [
              "array([3, 4])"
            ]
          },
          "metadata": {},
          "execution_count": 430
        }
      ]
    },
    {
      "cell_type": "code",
      "source": [
        "y = np.array([1, 2]) # Membuat array y\n",
        "y"
      ],
      "metadata": {
        "colab": {
          "base_uri": "https://localhost:8080/"
        },
        "id": "r8kAVCi15SRp",
        "outputId": "ad778c84-5724-4ef2-eb8f-97e111cbe7d7"
      },
      "execution_count": null,
      "outputs": [
        {
          "output_type": "execute_result",
          "data": {
            "text/plain": [
              "array([1, 2])"
            ]
          },
          "metadata": {},
          "execution_count": 431
        }
      ]
    },
    {
      "cell_type": "markdown",
      "source": [
        "Untuk menjumlahkan dua array tersebut, lakukan seperti di bawah ini."
      ],
      "metadata": {
        "id": "phOFalIj5WZK"
      }
    },
    {
      "cell_type": "code",
      "source": [
        "# Menjumlahkan array x dan y\n",
        "\n",
        "x + y"
      ],
      "metadata": {
        "colab": {
          "base_uri": "https://localhost:8080/"
        },
        "id": "hkyEn8uE5X2q",
        "outputId": "9443421a-9487-4b02-c9fa-af8c8a5bf4f4"
      },
      "execution_count": null,
      "outputs": [
        {
          "output_type": "execute_result",
          "data": {
            "text/plain": [
              "array([4, 6])"
            ]
          },
          "metadata": {},
          "execution_count": 432
        }
      ]
    },
    {
      "cell_type": "markdown",
      "source": [
        "Pada output di atas, Penjumlahan dua array harus melibatkan dua array dengan dimensi yang sama dan tidak mengubah dimensi array tersebut, jika tidak, maka akan terjadi error."
      ],
      "metadata": {
        "id": "QF_yan3I5eJN"
      }
    },
    {
      "cell_type": "markdown",
      "source": [
        "**Perkalian array dengan konstanta**\n",
        "\n",
        "Masih menggunakan array a."
      ],
      "metadata": {
        "id": "TOrJD4dl5gn1"
      }
    },
    {
      "cell_type": "code",
      "source": [
        "a = np.array([1, 2, 3])\n",
        "a"
      ],
      "metadata": {
        "colab": {
          "base_uri": "https://localhost:8080/"
        },
        "id": "QopLNn2t5kNU",
        "outputId": "0f937ee5-5fb5-42ce-cf88-418421017750"
      },
      "execution_count": null,
      "outputs": [
        {
          "output_type": "execute_result",
          "data": {
            "text/plain": [
              "array([1, 2, 3])"
            ]
          },
          "metadata": {},
          "execution_count": 433
        }
      ]
    },
    {
      "cell_type": "markdown",
      "source": [
        "Lalu kalikan dengan 3"
      ],
      "metadata": {
        "id": "9inWQgGn5odr"
      }
    },
    {
      "cell_type": "code",
      "source": [
        "a * 3 # Mengalikan x dengan konstanta 3"
      ],
      "metadata": {
        "colab": {
          "base_uri": "https://localhost:8080/"
        },
        "id": "1U1m4mS65p7s",
        "outputId": "1f7fa8f8-dd05-4ca8-f47f-d848ddddf6d3"
      },
      "execution_count": null,
      "outputs": [
        {
          "output_type": "execute_result",
          "data": {
            "text/plain": [
              "array([3, 6, 9])"
            ]
          },
          "metadata": {},
          "execution_count": 434
        }
      ]
    },
    {
      "cell_type": "markdown",
      "source": [
        "Perkalian dengan konstanta akan menghasilkan array dengan masing-masing elemen yang telah dikalikan 3."
      ],
      "metadata": {
        "id": "-HKmtXyh5sqN"
      }
    },
    {
      "cell_type": "markdown",
      "source": [
        "**Perkalian 2 array**"
      ],
      "metadata": {
        "id": "ItpR1k6F53lw"
      }
    },
    {
      "cell_type": "code",
      "source": [
        "x = np.array([3, 4]) # Membuat array x\n",
        "y = np.array([1, 2]) # Membuat array y\n",
        "\n",
        "x * y"
      ],
      "metadata": {
        "colab": {
          "base_uri": "https://localhost:8080/"
        },
        "id": "dixh15at59J3",
        "outputId": "25465f08-678e-414e-8c08-07b9152e8949"
      },
      "execution_count": null,
      "outputs": [
        {
          "output_type": "execute_result",
          "data": {
            "text/plain": [
              "array([3, 8])"
            ]
          },
          "metadata": {},
          "execution_count": 435
        }
      ]
    },
    {
      "cell_type": "markdown",
      "source": [
        "Perkalian dua array otomatis mengalikan elemen dengan indeks yang sama."
      ],
      "metadata": {
        "id": "Zsvn-hke6DwC"
      }
    },
    {
      "cell_type": "markdown",
      "source": [
        "**Dot product**\n",
        "\n",
        "Dot product adalah bentuk perkalian vektor yang menghasilkan skalar. Di Numpy, atribut dot digunakan untuk mendapatkan hasil dot product. Perhatikan contoh berikut."
      ],
      "metadata": {
        "id": "BkRPxXyZ6F30"
      }
    },
    {
      "cell_type": "code",
      "source": [
        "x = np.array([3, 4]) # Membuat array x\n",
        "y = np.array([1, 2]) # Membuat array y\n",
        "\n",
        "np.dot(x, y)"
      ],
      "metadata": {
        "colab": {
          "base_uri": "https://localhost:8080/"
        },
        "id": "H26I2hZp6KQY",
        "outputId": "2ea9b212-a5fa-4314-e08a-d7698d89c306"
      },
      "execution_count": null,
      "outputs": [
        {
          "output_type": "execute_result",
          "data": {
            "text/plain": [
              "11"
            ]
          },
          "metadata": {},
          "execution_count": 436
        }
      ]
    },
    {
      "cell_type": "markdown",
      "source": [
        "**Fungsi matematika pada Numpy**\n",
        "\n",
        "Numpy digunakan untuk memudahkan komputasi perhitungan bilangan. Banyak fungsi-fungsi yang dapat digunakan untuk proses matematis.\n",
        "\n",
        "Sebelum lanjut pada fungsi matematika, dengan numpy juga bisa mendapatkan nilai pi dengan menggunakan atribut pi seperti di bawah ini."
      ],
      "metadata": {
        "id": "e4V3Mwvm6PXj"
      }
    },
    {
      "cell_type": "code",
      "source": [
        "np.pi # Mendapatkan nilai pi"
      ],
      "metadata": {
        "colab": {
          "base_uri": "https://localhost:8080/"
        },
        "id": "t0brNWfv6WI2",
        "outputId": "62bfaeab-9ca4-466c-c090-3175d32770a6"
      },
      "execution_count": null,
      "outputs": [
        {
          "output_type": "execute_result",
          "data": {
            "text/plain": [
              "3.141592653589793"
            ]
          },
          "metadata": {},
          "execution_count": 437
        }
      ]
    },
    {
      "cell_type": "markdown",
      "source": [
        "**Trigonometri**\n",
        "\n",
        "Jalankan kode seperti dibawah ini untuk melakukan operasi trigonometri untuk menghasilkan nilai sin, cos, dan tan"
      ],
      "metadata": {
        "id": "hq3UR4nz6Yoq"
      }
    },
    {
      "cell_type": "markdown",
      "source": [
        "**sin**"
      ],
      "metadata": {
        "id": "9E_LZ3UJ6c4u"
      }
    },
    {
      "cell_type": "code",
      "source": [
        "a = np.array([0., 30., 45., 60., 90.])\n",
        "np.sin(a * np.pi / 180.)"
      ],
      "metadata": {
        "colab": {
          "base_uri": "https://localhost:8080/"
        },
        "id": "OL5GSL-56ds_",
        "outputId": "f5a6b30a-ccf6-4ecc-df79-51733854174b"
      },
      "execution_count": null,
      "outputs": [
        {
          "output_type": "execute_result",
          "data": {
            "text/plain": [
              "array([0.        , 0.5       , 0.70710678, 0.8660254 , 1.        ])"
            ]
          },
          "metadata": {},
          "execution_count": 438
        }
      ]
    },
    {
      "cell_type": "code",
      "source": [
        "np.sin(np.pi/2.0)"
      ],
      "metadata": {
        "colab": {
          "base_uri": "https://localhost:8080/"
        },
        "id": "BPl0DZHZ6mAl",
        "outputId": "d94fa4c9-08ab-4537-f1de-b3cd51456c4e"
      },
      "execution_count": null,
      "outputs": [
        {
          "output_type": "execute_result",
          "data": {
            "text/plain": [
              "1.0"
            ]
          },
          "metadata": {},
          "execution_count": 439
        }
      ]
    },
    {
      "cell_type": "markdown",
      "source": [
        "**cos**"
      ],
      "metadata": {
        "id": "Qm9WG9jx6nW3"
      }
    },
    {
      "cell_type": "code",
      "source": [
        "a = np.array([0., 30., 45., 60., 90.])\n",
        "\n",
        "np.cos(a)"
      ],
      "metadata": {
        "colab": {
          "base_uri": "https://localhost:8080/"
        },
        "id": "iXXfLrDy6pvF",
        "outputId": "c6972f3e-f0b4-4b43-c0fb-4f01c4b2c22e"
      },
      "execution_count": null,
      "outputs": [
        {
          "output_type": "execute_result",
          "data": {
            "text/plain": [
              "array([ 1.        ,  0.15425145,  0.52532199, -0.95241298, -0.44807362])"
            ]
          },
          "metadata": {},
          "execution_count": 440
        }
      ]
    },
    {
      "cell_type": "code",
      "source": [
        "np.cos(np.pi)"
      ],
      "metadata": {
        "colab": {
          "base_uri": "https://localhost:8080/"
        },
        "id": "bl0mxPhh6wBg",
        "outputId": "da0e9050-3d93-426c-e9fa-7136c49d7519"
      },
      "execution_count": null,
      "outputs": [
        {
          "output_type": "execute_result",
          "data": {
            "text/plain": [
              "-1.0"
            ]
          },
          "metadata": {},
          "execution_count": 441
        }
      ]
    },
    {
      "cell_type": "markdown",
      "source": [
        "**tan**"
      ],
      "metadata": {
        "id": "x1G5VYTo6yP8"
      }
    },
    {
      "cell_type": "code",
      "source": [
        "a = np.array([0., 30., 45., 60., 90.])\n",
        "\n",
        "np.tan(a)"
      ],
      "metadata": {
        "colab": {
          "base_uri": "https://localhost:8080/"
        },
        "id": "9hlawOYR67C0",
        "outputId": "01f5400d-c730-4c36-eb67-4e3b83c64a88"
      },
      "execution_count": null,
      "outputs": [
        {
          "output_type": "execute_result",
          "data": {
            "text/plain": [
              "array([ 0.        , -6.4053312 ,  1.61977519,  0.32004039, -1.99520041])"
            ]
          },
          "metadata": {},
          "execution_count": 442
        }
      ]
    },
    {
      "cell_type": "code",
      "source": [
        "np.tan(np.pi/2.0)"
      ],
      "metadata": {
        "colab": {
          "base_uri": "https://localhost:8080/"
        },
        "id": "sbmLMeZo69so",
        "outputId": "abfcd20b-365c-45be-9848-bfa9a43c5dca"
      },
      "execution_count": null,
      "outputs": [
        {
          "output_type": "execute_result",
          "data": {
            "text/plain": [
              "1.633123935319537e+16"
            ]
          },
          "metadata": {},
          "execution_count": 443
        }
      ]
    },
    {
      "cell_type": "markdown",
      "source": [
        "**Eksponen dan Logaritma**\n",
        "\n",
        "**exp**\n",
        "\n",
        "exp digunakan untuk menghitung exponen."
      ],
      "metadata": {
        "id": "NhywLiRB7BI2"
      }
    },
    {
      "cell_type": "code",
      "source": [
        "np.exp(10) # Contoh penggunaan fungsi exp"
      ],
      "metadata": {
        "colab": {
          "base_uri": "https://localhost:8080/"
        },
        "id": "8OqypDLd7IvI",
        "outputId": "7e6e2bf5-2969-4b9b-8cb7-43520c707805"
      },
      "execution_count": null,
      "outputs": [
        {
          "output_type": "execute_result",
          "data": {
            "text/plain": [
              "22026.465794806718"
            ]
          },
          "metadata": {},
          "execution_count": 444
        }
      ]
    },
    {
      "cell_type": "code",
      "source": [
        "y = np.array([np.pi, np.pi*2, np.pi*3])\n",
        "np.exp(y)"
      ],
      "metadata": {
        "colab": {
          "base_uri": "https://localhost:8080/"
        },
        "id": "7H38Qf-x7N8o",
        "outputId": "0f54a20e-8d8d-4d4f-e2a0-c7e4e003256f"
      },
      "execution_count": null,
      "outputs": [
        {
          "output_type": "execute_result",
          "data": {
            "text/plain": [
              "array([   23.14069263,   535.49165552, 12391.64780792])"
            ]
          },
          "metadata": {},
          "execution_count": 445
        }
      ]
    },
    {
      "cell_type": "markdown",
      "source": [
        "**log**\n",
        "\n",
        "log digunakan untuk menghitung logaritma suatu bilangan. "
      ],
      "metadata": {
        "id": "BSQ4Uk2W7rv4"
      }
    },
    {
      "cell_type": "code",
      "source": [
        "np.log(1.2) # Contoh penggunaan fungsi log"
      ],
      "metadata": {
        "colab": {
          "base_uri": "https://localhost:8080/"
        },
        "id": "HLVvnQTt70KC",
        "outputId": "6055e838-6759-4f00-d7c0-7f986b7362e8"
      },
      "execution_count": null,
      "outputs": [
        {
          "output_type": "execute_result",
          "data": {
            "text/plain": [
              "0.1823215567939546"
            ]
          },
          "metadata": {},
          "execution_count": 446
        }
      ]
    },
    {
      "cell_type": "code",
      "source": [
        "y = np.array([np.pi, np.pi*2, np.pi*3])\n",
        "np.log(y)"
      ],
      "metadata": {
        "colab": {
          "base_uri": "https://localhost:8080/"
        },
        "id": "4nXVUw3r74YO",
        "outputId": "fa1dc345-172e-4579-f905-6a0dc317e432"
      },
      "execution_count": null,
      "outputs": [
        {
          "output_type": "execute_result",
          "data": {
            "text/plain": [
              "array([1.14472989, 1.83787707, 2.24334217])"
            ]
          },
          "metadata": {},
          "execution_count": 447
        }
      ]
    },
    {
      "cell_type": "markdown",
      "source": [
        "Untuk menghitung logaritma dengan basis 10, kita dapat menggunakan log10."
      ],
      "metadata": {
        "id": "vGagYlwS8EjV"
      }
    },
    {
      "cell_type": "code",
      "source": [
        "np.log10(0.3) # Contoh penggunaan log10"
      ],
      "metadata": {
        "colab": {
          "base_uri": "https://localhost:8080/"
        },
        "id": "NuAU2ztA8HAO",
        "outputId": "28f9ecda-7b06-46d3-b5fb-bbd62c757e72"
      },
      "execution_count": null,
      "outputs": [
        {
          "output_type": "execute_result",
          "data": {
            "text/plain": [
              "-0.5228787452803376"
            ]
          },
          "metadata": {},
          "execution_count": 448
        }
      ]
    },
    {
      "cell_type": "markdown",
      "source": [
        "Untuk menghitung logaritma dengan basis 2, data dapat menggunakan log2."
      ],
      "metadata": {
        "id": "7v2nsqPr8LHu"
      }
    },
    {
      "cell_type": "code",
      "source": [
        "np.log2(3) # Contoh penggunaan log2"
      ],
      "metadata": {
        "colab": {
          "base_uri": "https://localhost:8080/"
        },
        "id": "KWFRevbE8Ok4",
        "outputId": "162f609f-6fca-4a96-99df-801cfa6f6d01"
      },
      "execution_count": null,
      "outputs": [
        {
          "output_type": "execute_result",
          "data": {
            "text/plain": [
              "1.584962500721156"
            ]
          },
          "metadata": {},
          "execution_count": 449
        }
      ]
    },
    {
      "cell_type": "markdown",
      "source": [
        "**Pembulatan bilangan**\n",
        "\n",
        "Di Numpy terdapat fungsi round, ceil, dan floor untuk menghasilkan pembulatan bilangan desimal, baik itu pembulatan ke atas, maupun ke bawah.\n",
        "\n",
        "**round**\n",
        "\n",
        "round digunakan untuk menentukan ada berapa angka desimal yang kita inginkan. "
      ],
      "metadata": {
        "id": "p13l1EQC8TQq"
      }
    },
    {
      "cell_type": "code",
      "source": [
        "# Membulatkan angka desimal menjadi 2 angka di belakang koma/titik decimal\n",
        "np.round(2.87653297619012, 2)"
      ],
      "metadata": {
        "colab": {
          "base_uri": "https://localhost:8080/"
        },
        "id": "1DUqeb568Y59",
        "outputId": "a673c048-47f5-4358-bdea-9c40b0e4d50a"
      },
      "execution_count": null,
      "outputs": [
        {
          "output_type": "execute_result",
          "data": {
            "text/plain": [
              "2.88"
            ]
          },
          "metadata": {},
          "execution_count": 452
        }
      ]
    },
    {
      "cell_type": "code",
      "source": [
        "# Membulatkan angka desimal menjadi 2 angka di belakang koma/titik decimal\n",
        "np.round(3.16524398, 2)"
      ],
      "metadata": {
        "colab": {
          "base_uri": "https://localhost:8080/"
        },
        "id": "9K4htZqq8agF",
        "outputId": "9c6a0672-24bd-4196-81d2-9bd1a778b332"
      },
      "execution_count": null,
      "outputs": [
        {
          "output_type": "execute_result",
          "data": {
            "text/plain": [
              "3.17"
            ]
          },
          "metadata": {},
          "execution_count": 453
        }
      ]
    },
    {
      "cell_type": "markdown",
      "source": [
        "**ceil**\n",
        "\n",
        "ceil digunakan untuk membulatkan bilangan ke atas. "
      ],
      "metadata": {
        "id": "b8b1FTtZ8qP9"
      }
    },
    {
      "cell_type": "code",
      "source": [
        "np.ceil(4.6)"
      ],
      "metadata": {
        "colab": {
          "base_uri": "https://localhost:8080/"
        },
        "id": "gVATxuZJ8tH-",
        "outputId": "20baa4e1-d364-4b82-9eff-3947f5b3f5e0"
      },
      "execution_count": null,
      "outputs": [
        {
          "output_type": "execute_result",
          "data": {
            "text/plain": [
              "5.0"
            ]
          },
          "metadata": {},
          "execution_count": 454
        }
      ]
    },
    {
      "cell_type": "code",
      "source": [
        "# Membulatkan bilangan desimal pada array a ke atas\n",
        "\n",
        "a = np.array([np.pi, np.pi*2, np.pi*3, np.pi*4, np.pi*5])\n",
        "np.ceil(a)"
      ],
      "metadata": {
        "colab": {
          "base_uri": "https://localhost:8080/"
        },
        "id": "arRRZnJS8wdL",
        "outputId": "53a159e0-40be-42b4-a8c1-f41ea7e94022"
      },
      "execution_count": null,
      "outputs": [
        {
          "output_type": "execute_result",
          "data": {
            "text/plain": [
              "array([ 4.,  7., 10., 13., 16.])"
            ]
          },
          "metadata": {},
          "execution_count": 455
        }
      ]
    },
    {
      "cell_type": "markdown",
      "source": [
        "**floor**\n",
        "\n",
        "floor digunakan untuk membulatkan bilangan desimal ke bawah. "
      ],
      "metadata": {
        "id": "QbbBURSb83tJ"
      }
    },
    {
      "cell_type": "code",
      "source": [
        "np.floor(5.9)"
      ],
      "metadata": {
        "colab": {
          "base_uri": "https://localhost:8080/"
        },
        "id": "E_1TLazV867f",
        "outputId": "faf5f456-d149-410a-8a9b-314e0cfe3ba2"
      },
      "execution_count": null,
      "outputs": [
        {
          "output_type": "execute_result",
          "data": {
            "text/plain": [
              "5.0"
            ]
          },
          "metadata": {},
          "execution_count": 456
        }
      ]
    },
    {
      "cell_type": "code",
      "source": [
        "# Membulatkan bilangan desimal pada array x ke bawah\n",
        "\n",
        "x = np.array([np.pi, np.pi*2, np.pi*3, np.pi*4, np.pi*5])\n",
        "np.floor(a)"
      ],
      "metadata": {
        "colab": {
          "base_uri": "https://localhost:8080/"
        },
        "id": "WcoidZbs8-9e",
        "outputId": "bda14110-851c-4228-8236-803f2631087b"
      },
      "execution_count": null,
      "outputs": [
        {
          "output_type": "execute_result",
          "data": {
            "text/plain": [
              "array([ 3.,  6.,  9., 12., 15.])"
            ]
          },
          "metadata": {},
          "execution_count": 457
        }
      ]
    },
    {
      "cell_type": "markdown",
      "source": [
        "**Linspace**\n",
        "\n",
        "linspace digunakan untuk mendapatkan array dari interval bilangan tertentu. Fungsi ini juga digunakan untuk memplot fungsi matematika."
      ],
      "metadata": {
        "id": "McMlVmIk9G3_"
      }
    },
    {
      "cell_type": "code",
      "source": [
        "# Membuat array dalam interval [-4, 4]\n",
        "\n",
        "np.linspace(-4, 4, num=5)"
      ],
      "metadata": {
        "colab": {
          "base_uri": "https://localhost:8080/"
        },
        "id": "rYmao1Iz9KMU",
        "outputId": "88860ec2-2d2f-4cdf-c6ed-884bf9c27d58"
      },
      "execution_count": null,
      "outputs": [
        {
          "output_type": "execute_result",
          "data": {
            "text/plain": [
              "array([-4., -2.,  0.,  2.,  4.])"
            ]
          },
          "metadata": {},
          "execution_count": 458
        }
      ]
    },
    {
      "cell_type": "markdown",
      "source": [
        "Coba ganti parameter num menjadi 10 maka akan mendapatkan hasil array yang berbeda."
      ],
      "metadata": {
        "id": "rkcWwPVr9S4J"
      }
    },
    {
      "cell_type": "code",
      "source": [
        "# Membuat array dalam interval [-4, 4] sebanyak 10 elemen\n",
        "np.linspace(-4, 4, num=10)"
      ],
      "metadata": {
        "colab": {
          "base_uri": "https://localhost:8080/"
        },
        "id": "CTH37g829WRx",
        "outputId": "a9ed74ae-a807-453d-f933-ebc87534a792"
      },
      "execution_count": null,
      "outputs": [
        {
          "output_type": "execute_result",
          "data": {
            "text/plain": [
              "array([-4.        , -3.11111111, -2.22222222, -1.33333333, -0.44444444,\n",
              "        0.44444444,  1.33333333,  2.22222222,  3.11111111,  4.        ])"
            ]
          },
          "metadata": {},
          "execution_count": 459
        }
      ]
    },
    {
      "cell_type": "markdown",
      "source": [
        "Contoh penerapan linspace pada fungsi matematika."
      ],
      "metadata": {
        "id": "uYFD-OTF9bM7"
      }
    },
    {
      "cell_type": "code",
      "source": [
        "import matplotlib.pyplot as plt\n",
        "%matplotlib inline \n",
        "\n",
        "a = np.linspace(0, np.pi*3, num=100)\n",
        "y = np.cos(a)\n",
        "plt.plot(a,y)"
      ],
      "metadata": {
        "colab": {
          "base_uri": "https://localhost:8080/",
          "height": 282
        },
        "id": "eMkK_b--9c2U",
        "outputId": "c1eeb105-a5fb-4363-8dd1-5057a3db64ad"
      },
      "execution_count": null,
      "outputs": [
        {
          "output_type": "execute_result",
          "data": {
            "text/plain": [
              "[<matplotlib.lines.Line2D at 0x7f37ca874b90>]"
            ]
          },
          "metadata": {},
          "execution_count": 460
        },
        {
          "output_type": "display_data",
          "data": {
            "text/plain": [
              "<Figure size 432x288 with 1 Axes>"
            ],
            "image/png": "[encoded data removed]"
          },
          "metadata": {
            "needs_background": "light"
          }
        }
      ]
    },
    {
      "cell_type": "markdown",
      "metadata": {
        "id": "Atayhx9LAfBZ"
      },
      "source": [
        "**Numpy 2 Dimensi**\n",
        "\n",
        "Saatnya mencoba membuat array Numpy 2 dimensi dengan membuat matriks menggunakan Numpy.\n",
        "\n",
        "Import Numpy terlebih dahulu"
      ]
    },
    {
      "cell_type": "code",
      "execution_count": null,
      "metadata": {
        "id": "VtbDKtvCBB_7"
      },
      "outputs": [],
      "source": [
        "# Import numpy\n",
        "import numpy as np"
      ]
    },
    {
      "cell_type": "markdown",
      "source": [
        "**Membuat array Numpy 2 dimensi**\n",
        "\n",
        "Array 2 dimensi dibuat dari nested list atau list yang berada di dalam list. Perhatikan contoh di bawah ini."
      ],
      "metadata": {
        "id": "5XWQoYeQLAds"
      }
    },
    {
      "cell_type": "code",
      "execution_count": null,
      "metadata": {
        "colab": {
          "base_uri": "https://localhost:8080/"
        },
        "id": "dwyyv7GIBGaN",
        "outputId": "9aa372ad-3adc-4b49-db9a-ac99268692cc"
      },
      "outputs": [
        {
          "output_type": "execute_result",
          "data": {
            "text/plain": [
              "[[10, 20, 30], [11, 21, 31], [12, 22, 32]]"
            ]
          },
          "metadata": {},
          "execution_count": 462
        }
      ],
      "source": [
        "list_a = [[10, 20, 30], [11, 21, 31], [12, 22, 32]]\n",
        "list_a"
      ]
    },
    {
      "cell_type": "markdown",
      "source": [
        "Sekarang kita buat array numpy dari list tersebut."
      ],
      "metadata": {
        "id": "hkEne9OILF1E"
      }
    },
    {
      "cell_type": "code",
      "execution_count": null,
      "metadata": {
        "colab": {
          "base_uri": "https://localhost:8080/"
        },
        "id": "kXqpT9bfBJGJ",
        "outputId": "8e557388-9e73-4e62-e782-76171c1ee602"
      },
      "outputs": [
        {
          "output_type": "execute_result",
          "data": {
            "text/plain": [
              "array([[10, 20, 30],\n",
              "       [11, 21, 31],\n",
              "       [12, 22, 32]])"
            ]
          },
          "metadata": {},
          "execution_count": 463
        }
      ],
      "source": [
        "A = np.array(list_a)\n",
        "A"
      ]
    },
    {
      "cell_type": "markdown",
      "source": [
        "Gunakan atribut-atribut Numpy yang telah dibahas sebelumnya, seperti ndim, size, shape, dtype, dan sebagainya"
      ],
      "metadata": {
        "id": "uvKGtnpPWNZQ"
      }
    },
    {
      "cell_type": "code",
      "execution_count": null,
      "metadata": {
        "colab": {
          "base_uri": "https://localhost:8080/"
        },
        "id": "gGSQBYSSBLE8",
        "outputId": "a09c3d07-00c9-4d84-e4f9-07b018e7e0bc"
      },
      "outputs": [
        {
          "output_type": "execute_result",
          "data": {
            "text/plain": [
              "2"
            ]
          },
          "metadata": {},
          "execution_count": 464
        }
      ],
      "source": [
        "A.ndim # Mengetahui dimensi array dari array A"
      ]
    },
    {
      "cell_type": "code",
      "execution_count": null,
      "metadata": {
        "colab": {
          "base_uri": "https://localhost:8080/"
        },
        "id": "TK__GivABL3d",
        "outputId": "e569497c-5c77-4a3f-975f-27860d62e31b"
      },
      "outputs": [
        {
          "output_type": "execute_result",
          "data": {
            "text/plain": [
              "9"
            ]
          },
          "metadata": {},
          "execution_count": 465
        }
      ],
      "source": [
        "A.size # Mengecek jumlah elemen"
      ]
    },
    {
      "cell_type": "code",
      "execution_count": null,
      "metadata": {
        "colab": {
          "base_uri": "https://localhost:8080/"
        },
        "id": "6yBhgLIJBMzd",
        "outputId": "605fdc5d-1ad8-4c59-f753-f33d0bf9c489"
      },
      "outputs": [
        {
          "output_type": "execute_result",
          "data": {
            "text/plain": [
              "(3, 3)"
            ]
          },
          "metadata": {},
          "execution_count": 466
        }
      ],
      "source": [
        "A.shape # Mengecek ukuran array di tiap dimensi"
      ]
    },
    {
      "cell_type": "code",
      "execution_count": null,
      "metadata": {
        "colab": {
          "base_uri": "https://localhost:8080/"
        },
        "id": "fGCbSKTzBNrX",
        "outputId": "d23e624b-f131-40f6-9b06-3409bcad9c46"
      },
      "outputs": [
        {
          "output_type": "execute_result",
          "data": {
            "text/plain": [
              "dtype('int64')"
            ]
          },
          "metadata": {},
          "execution_count": 467
        }
      ],
      "source": [
        "A.dtype # Mengecek tipe data array"
      ]
    },
    {
      "cell_type": "markdown",
      "source": [
        "**Mengakses elemen pada array**\n",
        "\n",
        "Pada dasarnya, menggakses elemen array 2 dimensi dengan mengasumsikan sebagai baris dan kolom.\n",
        "\n",
        "![13.png](data:image/png;base64,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)\n",
        "\n",
        "Mengambil elemen pada array A yang berada pada baris ketiga (indeks 2) dan kolom pertama (indeks 0)"
      ],
      "metadata": {
        "id": "9NhRg4sGWOwF"
      }
    },
    {
      "cell_type": "code",
      "execution_count": null,
      "metadata": {
        "colab": {
          "base_uri": "https://localhost:8080/"
        },
        "id": "KtLqal9jBSAa",
        "outputId": "cb7117d2-da5c-4ad2-ac61-1576e05a8891"
      },
      "outputs": [
        {
          "output_type": "execute_result",
          "data": {
            "text/plain": [
              "12"
            ]
          },
          "metadata": {},
          "execution_count": 468
        }
      ],
      "source": [
        "A[2, 0] # Mengambil elemen pada baris 3 kolom 1"
      ]
    },
    {
      "cell_type": "markdown",
      "source": [
        "![14.png](data:image/png;base64,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)\n",
        "\n",
        "Dapat menggunakan cara lain untuk mengambil elemen pada array 2 dimensi, yaitu dengan memisahkan indeks baris dan kolom seperti di bawah ini."
      ],
      "metadata": {
        "id": "fbxVc6j6WY0K"
      }
    },
    {
      "cell_type": "code",
      "execution_count": null,
      "metadata": {
        "colab": {
          "base_uri": "https://localhost:8080/"
        },
        "id": "ljJHwJh3BeuV",
        "outputId": "fbaf3307-c28f-40d2-f673-16c55256b837"
      },
      "outputs": [
        {
          "output_type": "execute_result",
          "data": {
            "text/plain": [
              "10"
            ]
          },
          "metadata": {},
          "execution_count": 469
        }
      ],
      "source": [
        "A[0, 0] # Mengambil elemen pada baris 1 kolom 1"
      ]
    },
    {
      "cell_type": "markdown",
      "source": [
        "Contoh lainnya"
      ],
      "metadata": {
        "id": "lU4M6CqzWlnc"
      }
    },
    {
      "cell_type": "code",
      "execution_count": null,
      "metadata": {
        "colab": {
          "base_uri": "https://localhost:8080/"
        },
        "id": "t4NL15YXBSs-",
        "outputId": "bb283745-7a84-462c-ef62-4b144dae01d5"
      },
      "outputs": [
        {
          "output_type": "execute_result",
          "data": {
            "text/plain": [
              "30"
            ]
          },
          "metadata": {},
          "execution_count": 470
        }
      ],
      "source": [
        "A[0, 2] # Mengambil elemen pada baris 1 kolom 3"
      ]
    },
    {
      "cell_type": "markdown",
      "source": [
        "**Slicing**\n",
        "\n",
        "Untuk mengambil elemen pada array Numpy 2 dimensi dengan melakukan slicing. Misalnya ingin mengambil elemen 10 dan 20 pada array A"
      ],
      "metadata": {
        "id": "yr3XypG_WoOK"
      }
    },
    {
      "cell_type": "code",
      "execution_count": null,
      "metadata": {
        "colab": {
          "base_uri": "https://localhost:8080/"
        },
        "id": "xiul8wv6BWFl",
        "outputId": "aa470ebc-4c4f-4f45-f9c0-2d1d4741c0f4"
      },
      "outputs": [
        {
          "output_type": "execute_result",
          "data": {
            "text/plain": [
              "array([10, 20])"
            ]
          },
          "metadata": {},
          "execution_count": 471
        }
      ],
      "source": [
        "A[0][0:2] # Mengambil elemen pada baris 1 kolom 1&2"
      ]
    },
    {
      "cell_type": "markdown",
      "source": [
        "![15.png](data:image/png;base64,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)\n",
        "\n",
        "Contoh lain"
      ],
      "metadata": {
        "id": "NrIoEUOdWs0f"
      }
    },
    {
      "cell_type": "code",
      "execution_count": null,
      "metadata": {
        "colab": {
          "base_uri": "https://localhost:8080/"
        },
        "outputId": "72479168-ce61-417d-8557-1b042153fd91",
        "id": "ejk2nAcbZoZF"
      },
      "outputs": [
        {
          "output_type": "execute_result",
          "data": {
            "text/plain": [
              "array([10, 20])"
            ]
          },
          "metadata": {},
          "execution_count": 472
        }
      ],
      "source": [
        "A[0][:2] # Mengambil elemen pada baris 1 kolom 1&2"
      ]
    },
    {
      "cell_type": "code",
      "execution_count": null,
      "metadata": {
        "colab": {
          "base_uri": "https://localhost:8080/"
        },
        "outputId": "28b4191e-4a5d-426b-f996-e7a6904218dc",
        "id": "YVe-wTKoZom2"
      },
      "outputs": [
        {
          "output_type": "execute_result",
          "data": {
            "text/plain": [
              "array([10, 20])"
            ]
          },
          "metadata": {},
          "execution_count": 473
        }
      ],
      "source": [
        "A[0, 0:2] # Mengambil elemen pada baris 1 kolom 1&2"
      ]
    },
    {
      "cell_type": "code",
      "execution_count": null,
      "metadata": {
        "colab": {
          "base_uri": "https://localhost:8080/"
        },
        "outputId": "0d907c58-1821-483e-8bba-d1c5f078cca2",
        "id": "o-xwFDJ1Zo6M"
      },
      "outputs": [
        {
          "output_type": "execute_result",
          "data": {
            "text/plain": [
              "array([10, 20])"
            ]
          },
          "metadata": {},
          "execution_count": 474
        }
      ],
      "source": [
        "A[0, :2] # Mengambil elemen pada baris 1 kolom 1&2"
      ]
    },
    {
      "cell_type": "markdown",
      "source": [
        "Selanjutnya mengambil dua elemen terakhir pada kolom 3"
      ],
      "metadata": {
        "id": "eyo7_ophWyUW"
      }
    },
    {
      "cell_type": "code",
      "execution_count": null,
      "metadata": {
        "colab": {
          "base_uri": "https://localhost:8080/"
        },
        "outputId": "f07a3d38-13b4-4c9a-b63f-1b58a7983d12",
        "id": "lQdixZF1Z40T"
      },
      "outputs": [
        {
          "output_type": "execute_result",
          "data": {
            "text/plain": [
              "array([31, 32])"
            ]
          },
          "metadata": {},
          "execution_count": 475
        }
      ],
      "source": [
        "A[1:, 2] # Mengambil elemen pada baris 2&3 kolom 3"
      ]
    },
    {
      "cell_type": "markdown",
      "source": [
        "![16.png](data:image/png;base64,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)"
      ],
      "metadata": {
        "id": "jJ3y8dqbW1L2"
      }
    },
    {
      "cell_type": "markdown",
      "source": [
        "**Operasi pada array Numpy 2 dimensi**\n",
        "\n",
        "**Penjumlahan array dengan konstanta**\n",
        "\n",
        "Contohnya menjumlahkan array A dengan angka 5"
      ],
      "metadata": {
        "id": "ikB1brsuW3oC"
      }
    },
    {
      "cell_type": "code",
      "execution_count": null,
      "metadata": {
        "colab": {
          "base_uri": "https://localhost:8080/"
        },
        "id": "7cle_H8lB4Lv",
        "outputId": "97a49cc0-9c38-4f02-d12d-fe49a7bc6601"
      },
      "outputs": [
        {
          "output_type": "execute_result",
          "data": {
            "text/plain": [
              "array([[10, 20, 30],\n",
              "       [11, 21, 31],\n",
              "       [12, 22, 32]])"
            ]
          },
          "metadata": {},
          "execution_count": 476
        }
      ],
      "source": [
        "A # Menampilkan array A"
      ]
    },
    {
      "cell_type": "markdown",
      "source": [
        "Setelah menampilkan isi dari array A, jumlahkan dengan angka 5"
      ],
      "metadata": {
        "id": "EO5_PKYyW9WD"
      }
    },
    {
      "cell_type": "code",
      "execution_count": null,
      "metadata": {
        "colab": {
          "base_uri": "https://localhost:8080/"
        },
        "id": "kdMTqDkSB5rV",
        "outputId": "81a3ff71-284b-4905-fa9f-054f77b5fab9"
      },
      "outputs": [
        {
          "output_type": "execute_result",
          "data": {
            "text/plain": [
              "array([[15, 25, 35],\n",
              "       [16, 26, 36],\n",
              "       [17, 27, 37]])"
            ]
          },
          "metadata": {},
          "execution_count": 477
        }
      ],
      "source": [
        "A + 5 # Menjumlahkan array X dengan konstanta 5"
      ]
    },
    {
      "cell_type": "markdown",
      "source": [
        "Hasilnya seluruh elemen pada array A dijumlahkan dengan angka 5.\n",
        "\n",
        "**Penjumlahan 2 array**"
      ],
      "metadata": {
        "id": "IxMFwg0nW-fn"
      }
    },
    {
      "cell_type": "code",
      "execution_count": null,
      "metadata": {
        "colab": {
          "base_uri": "https://localhost:8080/"
        },
        "id": "Hl_AUTxhB6ZQ",
        "outputId": "d979261b-26e6-4c4f-893e-49447e4ce8ef"
      },
      "outputs": [
        {
          "output_type": "execute_result",
          "data": {
            "text/plain": [
              "array([[1, 2],\n",
              "       [3, 4]])"
            ]
          },
          "metadata": {},
          "execution_count": 478
        }
      ],
      "source": [
        "X = np.array([[1, 2], [3, 4]]) # Membuat array \n",
        "X"
      ]
    },
    {
      "cell_type": "code",
      "execution_count": null,
      "metadata": {
        "colab": {
          "base_uri": "https://localhost:8080/"
        },
        "id": "ZWV38O-EB-AK",
        "outputId": "f05fa2e8-68e2-46f9-9e54-d704a80d72f5"
      },
      "outputs": [
        {
          "output_type": "execute_result",
          "data": {
            "text/plain": [
              "array([[1, 3],\n",
              "       [1, 2]])"
            ]
          },
          "metadata": {},
          "execution_count": 479
        }
      ],
      "source": [
        "Y = np.array([[1, 3], [1, 2]]) # Membuat array Y\n",
        "Y"
      ]
    },
    {
      "cell_type": "markdown",
      "source": [
        "Contoh penjumlahkan 2 array seperti di bawah ini."
      ],
      "metadata": {
        "id": "PdeRq_t4XBW-"
      }
    },
    {
      "cell_type": "code",
      "execution_count": null,
      "metadata": {
        "colab": {
          "base_uri": "https://localhost:8080/"
        },
        "id": "Z-NYtYcdCAa3",
        "outputId": "b82be5f0-9cba-473a-95b8-2995c9611150"
      },
      "outputs": [
        {
          "output_type": "execute_result",
          "data": {
            "text/plain": [
              "array([[2, 5],\n",
              "       [4, 6]])"
            ]
          },
          "metadata": {},
          "execution_count": 480
        }
      ],
      "source": [
        "X + Y # Menjumlahkan array X dan Y"
      ]
    },
    {
      "cell_type": "markdown",
      "source": [
        "Hasil kode program di atas adalah hasil dari penjumlahan elemen-elemen pada indeks yang sama di array X dan Y.\n",
        "\n",
        "**Perkalian array dengan konstanta**\n",
        "\n",
        "Contohnya menggunakan array X lalu kalikan dengan 3."
      ],
      "metadata": {
        "id": "mbPv6FS6XCww"
      }
    },
    {
      "cell_type": "code",
      "execution_count": null,
      "metadata": {
        "colab": {
          "base_uri": "https://localhost:8080/"
        },
        "id": "E_CmasUQCBfZ",
        "outputId": "3aa5073c-4241-4cd5-beef-82abc3964aea"
      },
      "outputs": [
        {
          "output_type": "execute_result",
          "data": {
            "text/plain": [
              "array([[ 3,  6],\n",
              "       [ 9, 12]])"
            ]
          },
          "metadata": {},
          "execution_count": 481
        }
      ],
      "source": [
        "X # Menampilkan array X\n",
        "X * 3 # Mengalikan array X dengan 3"
      ]
    },
    {
      "cell_type": "markdown",
      "source": [
        "Hasilnya akan menampilkan output berupa array yang tiap elemennya  dikalikan dengan konstanta yang bernilai 3.\n",
        "\n",
        "**Perkalian 2 array**\n",
        "\n",
        "Gunakan array X dan Y yang telah dibuat sebelumnya."
      ],
      "metadata": {
        "id": "st_NBlOHXHEK"
      }
    },
    {
      "cell_type": "code",
      "execution_count": null,
      "metadata": {
        "colab": {
          "base_uri": "https://localhost:8080/"
        },
        "id": "1ow5aMNmCGJ_",
        "outputId": "5ef9f8dc-2cf2-4e20-dfe1-43df4dc66370"
      },
      "outputs": [
        {
          "output_type": "execute_result",
          "data": {
            "text/plain": [
              "array([[1, 6],\n",
              "       [3, 8]])"
            ]
          },
          "metadata": {},
          "execution_count": 482
        }
      ],
      "source": [
        "X # Menampilkan array X\n",
        "Y # Menampilkan array Y\n",
        "X * Y # Mengalikan array X dan Y"
      ]
    },
    {
      "cell_type": "markdown",
      "source": [
        "**Dot product**\n",
        "\n",
        "Dot product atau perkalian titik pada array 2 dimensi ini bisa disebut perkalian matriks."
      ],
      "metadata": {
        "id": "zKwiE2dDXObX"
      }
    },
    {
      "cell_type": "code",
      "execution_count": null,
      "metadata": {
        "colab": {
          "base_uri": "https://localhost:8080/"
        },
        "id": "tuWpp74aCJ6Z",
        "outputId": "a541bd2d-bfdb-49a0-b493-a18a3bf39bf7"
      },
      "outputs": [
        {
          "output_type": "execute_result",
          "data": {
            "text/plain": [
              "array([[ 3,  7],\n",
              "       [ 7, 17]])"
            ]
          },
          "metadata": {},
          "execution_count": 483
        }
      ],
      "source": [
        "X # Menampilkan array X\n",
        "Y # Menampilkan array Y\n",
        "np.dot(X, Y) # Dot product dari array X dan Y"
      ]
    },
    {
      "cell_type": "markdown",
      "source": [
        "Berikut adalah contoh perhitungan dot product.\n",
        "\n",
        "![17.png](data:image/png;base64,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)"
      ],
      "metadata": {
        "id": "l1skJM-5XQ6N"
      }
    }
  ],
  "metadata": {
    "colab": {
      "collapsed_sections": [],
      "name": "modul_python_R.ipynb",
      "provenance": [],
      "authorship_tag": "ABX9TyNNB6ssLUQg9fHw7TjtgiR0",
      "include_colab_link": true
    },
    "kernelspec": {
      "display_name": "Python 3",
      "name": "python3"
    },
    "language_info": {
      "name": "python"
    }
  },
  "nbformat": 4,
  "nbformat_minor": 0
}